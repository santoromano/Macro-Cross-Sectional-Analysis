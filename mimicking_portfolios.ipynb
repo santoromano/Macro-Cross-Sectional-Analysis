{
 "cells": [
  {
   "cell_type": "markdown",
   "id": "a650b56e-50de-41cb-a562-d7bcd0be26ae",
   "metadata": {},
   "source": [
    "Version Notes:\n",
    "\n",
    "Base assets don't improve predictability??? (ie. can't match R-squareds and test-stats/pvalues)\n",
    "\n",
    "Bootstrap correct??? (does author even do time-series bootstrap?)"
   ]
  },
  {
   "cell_type": "markdown",
   "id": "3a081367-cc3e-42ef-9627-b62c64894e3f",
   "metadata": {},
   "source": [
    "# Creation of GDP and CPI Mimicking portfolios\n",
    "Note: could use unexpected inflation from Chen, Roll and Ross, projected onto asset returns as a robustness test"
   ]
  },
  {
   "cell_type": "markdown",
   "id": "eabec195-8d98-4d2f-aa53-6e95c5a3a42d",
   "metadata": {},
   "source": [
    "## Data Prep"
   ]
  },
  {
   "cell_type": "code",
   "execution_count": 1,
   "id": "5e9f3596-3ad3-4fa6-92e0-0df69faa2e34",
   "metadata": {},
   "outputs": [],
   "source": [
    "import pandas as pd\n",
    "import numpy as np\n",
    "import statsmodels.api as sm"
   ]
  },
  {
   "cell_type": "code",
   "execution_count": 48,
   "id": "bba62b9d-c0c5-49f0-8193-37a481add016",
   "metadata": {},
   "outputs": [],
   "source": [
    "def get_data(date):\n",
    "    '''\n",
    "    Imports and cleans data at the monthly or quarterly frequency.\n",
    "    '''\n",
    "    if date == 'monthly': data = pd.read_csv('merged_data.csv', index_col=0)\n",
    "    else: data = pd.read_csv('merged_data_q.csv', index_col=0)\n",
    "    \n",
    "    data['def'] = np.log(data['corp_bond_return']/data['corp_bond_return'].shift(1)) - data['20y_return']\n",
    "    data['term'] = data['30y_return'] - data['rf']\n",
    "    \n",
    "    data['defy'] = (data['BAA'] - data['AAA'])/100\n",
    "    data['termy'] = (data['10 year'] - data['1 year'])/100\n",
    "    \n",
    "    # Predictors\n",
    "    predictors = data[['SL', 'SM', 'SH', 'BL', 'HM', 'BH',\n",
    "                                   'def', 'term', 'defy', 'termy', 'rf']].copy().dropna()\n",
    "    portfolios = ['SL', 'SM', 'SH', 'BL', 'HM', 'BH']\n",
    "    \n",
    "    for portfolio in portfolios:\n",
    "        predictors[portfolio] = predictors[portfolio]/100 - predictors['rf'] \n",
    "    \n",
    "    if date == 'monthly':\n",
    "        # GDP & CPI\n",
    "        gdp = data['BBKMGDP'].rename('gdp').to_frame().iloc[:-3]\n",
    "        cpi = data['CPIAUCSL'].rename('cpi').to_frame().iloc[:-3]\n",
    "\n",
    "        # Transformations \n",
    "        gdp['gdp_mom'] = gdp['gdp'] / 100\n",
    "        gdp['level'] = (1 + gdp['gdp_mom']).cumprod()\n",
    "        gdp['gdp_yoy'] = np.log(gdp['level'] / gdp['level'].shift(12)) # 4 quarter change = 12 month change\n",
    "\n",
    "        cpi['cpi_mom'] = np.log(cpi['cpi'] / cpi['cpi'].shift(1))\n",
    "        cpi['cpi_yoy'] = np.log(cpi['cpi'] / cpi['cpi'].shift(12))\n",
    "        cpi = cpi.shift(1)\n",
    "\n",
    "        # Data up to pre-COVID\n",
    "        predictors = predictors.loc[:'2020']\n",
    "        gdp = gdp.loc[:'2020']\n",
    "        cpi = cpi.loc[:'2020']\n",
    "    \n",
    "    else:\n",
    "        # GDP & CPI\n",
    "        gdp = data['GDPC1'].rename('gdp').to_frame().iloc[:-3]\n",
    "        cpi = data['CPIAUCSL'].rename('cpi').to_frame().iloc[:-3]\n",
    "\n",
    "        # Transformations \n",
    "        gdp['gdp_qoq'] = np.log(gdp['gdp'] / gdp['gdp'].shift(1))\n",
    "        gdp['gdp_4qoq'] = np.log(gdp['gdp'] / gdp['gdp'].shift(4))\n",
    "\n",
    "        cpi['cpi_qoq'] = np.log(cpi['cpi'] / cpi['cpi'].shift(1))\n",
    "        cpi['cpi_4qoq'] = np.log(cpi['cpi'] / cpi['cpi'].shift(4))\n",
    "        cpi = cpi.shift(1)\n",
    "\n",
    "    # Data up to pre-COVID\n",
    "    # predictors = predictors.loc[:'2020']\n",
    "    # gdp = gdp.loc[:'2020']\n",
    "    # cpi = cpi.loc[:'2020']\n",
    "    \n",
    "    return predictors, gdp, cpi"
   ]
  },
  {
   "cell_type": "code",
   "execution_count": 49,
   "id": "70d858b7-0909-43f9-8c42-8e9fee9221fd",
   "metadata": {},
   "outputs": [],
   "source": [
    "predictors_q, gdp_q, cpi_q = get_data('quarterly')"
   ]
  },
  {
   "cell_type": "code",
   "execution_count": 50,
   "id": "a24e8e4c-6806-4201-9e28-8c49a8a700ce",
   "metadata": {},
   "outputs": [],
   "source": [
    "predictors, gdp, cpi = get_data('monthly')"
   ]
  },
  {
   "cell_type": "markdown",
   "id": "f266857c-e9e0-4e1f-aa0b-e526cb3075c8",
   "metadata": {
    "tags": []
   },
   "source": [
    "## Can the base assets predict future GDP & CPI?\n",
    "Since this is an expectation of monthly GDP, instead of \"news related to future GDP growth\", this factor would be more related to innovations in expectations of future GDP growth. "
   ]
  },
  {
   "cell_type": "code",
   "execution_count": 61,
   "id": "4d0afd69-b30d-48a4-a958-20a16a67e8cc",
   "metadata": {},
   "outputs": [],
   "source": [
    "def pred(y, X, test):\n",
    "    '''\n",
    "    Function to run prediction and return the Wald Statistics based on coefficient restrictions ('test').\n",
    "    '''\n",
    "    \n",
    "    model = sm.OLS(y,X).fit(cov_type='HAC', cov_kwds={'maxlags':12})\n",
    "    wald = model.wald_test(','.join(test), scalar=True, use_f=False)\n",
    "    \n",
    "    return [wald.statistic, wald.pvalue]"
   ]
  },
  {
   "cell_type": "code",
   "execution_count": 113,
   "id": "664ca545-db4c-4a4e-a844-7f89e412074e",
   "metadata": {},
   "outputs": [],
   "source": [
    "def monthly_prediction():\n",
    "    '''\n",
    "    Function to run several prediction models at the monthly frequency\n",
    "    '''\n",
    "    \n",
    "    # Predictor Data\n",
    "    controls = sm.add_constant(predictors.iloc[:,-3:].shift(2).dropna())\n",
    "    constant = controls.iloc[:,0]\n",
    "    assets = predictors.iloc[1:,0:8].shift(1).dropna()\n",
    "    \n",
    "    # Outcome Variables\n",
    "    gdp_mom = gdp['gdp_mom'].loc['1973-04':].iloc[2:]\n",
    "    gdp_yoy = gdp['gdp_yoy'].loc['1973-04':].iloc[2:]\n",
    "    \n",
    "    cpi_mom = cpi['cpi_mom'].loc['1973-04':].iloc[2:]\n",
    "    cpi_yoy = cpi['cpi_yoy'].loc['1973-04':].iloc[2:]\n",
    "    \n",
    "    \n",
    "    wald_stats = {}\n",
    "    wald_stats['Legend'] = ['Wald Statistic', 'p-value']\n",
    "    # Control Models\n",
    "    coeffs_0 = [x + '=0' for x in controls.iloc[:,1:]]\n",
    "\n",
    "    wald_stats['gdp_mom_control'] = pred(gdp_mom,controls,coeffs_0)   \n",
    "    wald_stats['cpi_mom_control'] = pred(cpi_mom,controls,coeffs_0)\n",
    "\n",
    "    wald_stats['gdp_yoy_control'] = pred(gdp_yoy,controls,coeffs_0)   \n",
    "    wald_stats['cpi_yoy_control'] = pred(cpi_yoy,controls,coeffs_0)\n",
    "    \n",
    "    # Only Base Assets\n",
    "    coeffs_1 = [x + '=0' for x in assets]\n",
    "\n",
    "    wald_stats['gdp_mom_assets'] = pred(gdp_mom,assets,coeffs_1)\n",
    "    wald_stats['cpi_mom_assets'] = pred(cpi_mom,assets,coeffs_1)\n",
    "\n",
    "    wald_stats['gdp_yoy_assets'] = pred(gdp_yoy,assets,coeffs_1)\n",
    "    wald_stats['gdp_yoy_assets'] = pred(gdp_yoy,assets,coeffs_1)\n",
    "\n",
    "    # Base Assets + Controls    \n",
    "    wald_stats['gdp_mom_assets_controls'] = pred(gdp_mom,pd.concat([controls, assets], axis=1),coeffs_1)\n",
    "    wald_stats['cpi_mom_assets_controls'] = pred(cpi_mom,pd.concat([controls, assets], axis=1),coeffs_1)\n",
    "                                                 \n",
    "    wald_stats['gdp_yoy_assets_controls'] = pred(gdp_yoy,pd.concat([controls, assets], axis=1),coeffs_1)\n",
    "    wald_stats['cpi_yoy_assets_controls'] = pred(cpi_yoy,pd.concat([controls, assets], axis=1),coeffs_1)\n",
    "    \n",
    "    return wald_stats"
   ]
  },
  {
   "cell_type": "code",
   "execution_count": 116,
   "id": "94049b44-56bc-43b8-af12-2283c77c2fde",
   "metadata": {},
   "outputs": [
    {
     "data": {
      "text/html": [
       "<div>\n",
       "<style scoped>\n",
       "    .dataframe tbody tr th:only-of-type {\n",
       "        vertical-align: middle;\n",
       "    }\n",
       "\n",
       "    .dataframe tbody tr th {\n",
       "        vertical-align: top;\n",
       "    }\n",
       "\n",
       "    .dataframe thead th {\n",
       "        text-align: right;\n",
       "    }\n",
       "</style>\n",
       "<table border=\"1\" class=\"dataframe\">\n",
       "  <thead>\n",
       "    <tr style=\"text-align: right;\">\n",
       "      <th>Legend</th>\n",
       "      <th>Wald Statistic</th>\n",
       "      <th>p-value</th>\n",
       "    </tr>\n",
       "  </thead>\n",
       "  <tbody>\n",
       "    <tr>\n",
       "      <th>gdp_mom_control</th>\n",
       "      <td>14.336506</td>\n",
       "      <td>2.481118e-03</td>\n",
       "    </tr>\n",
       "    <tr>\n",
       "      <th>cpi_mom_control</th>\n",
       "      <td>48.055482</td>\n",
       "      <td>2.072368e-10</td>\n",
       "    </tr>\n",
       "    <tr>\n",
       "      <th>gdp_yoy_control</th>\n",
       "      <td>51.380630</td>\n",
       "      <td>4.058787e-11</td>\n",
       "    </tr>\n",
       "    <tr>\n",
       "      <th>cpi_yoy_control</th>\n",
       "      <td>67.292079</td>\n",
       "      <td>1.621618e-14</td>\n",
       "    </tr>\n",
       "    <tr>\n",
       "      <th>gdp_mom_assets</th>\n",
       "      <td>37.392282</td>\n",
       "      <td>9.745848e-06</td>\n",
       "    </tr>\n",
       "    <tr>\n",
       "      <th>cpi_mom_assets</th>\n",
       "      <td>20.046992</td>\n",
       "      <td>1.015972e-02</td>\n",
       "    </tr>\n",
       "    <tr>\n",
       "      <th>gdp_yoy_assets</th>\n",
       "      <td>27.567900</td>\n",
       "      <td>5.637835e-04</td>\n",
       "    </tr>\n",
       "    <tr>\n",
       "      <th>gdp_mom_assets_controls</th>\n",
       "      <td>10.051108</td>\n",
       "      <td>2.614571e-01</td>\n",
       "    </tr>\n",
       "    <tr>\n",
       "      <th>cpi_mom_assets_controls</th>\n",
       "      <td>48.758426</td>\n",
       "      <td>7.072884e-08</td>\n",
       "    </tr>\n",
       "    <tr>\n",
       "      <th>gdp_yoy_assets_controls</th>\n",
       "      <td>10.683367</td>\n",
       "      <td>2.202934e-01</td>\n",
       "    </tr>\n",
       "    <tr>\n",
       "      <th>cpi_yoy_assets_controls</th>\n",
       "      <td>25.250765</td>\n",
       "      <td>1.409485e-03</td>\n",
       "    </tr>\n",
       "  </tbody>\n",
       "</table>\n",
       "</div>"
      ],
      "text/plain": [
       "Legend                   Wald Statistic       p-value\n",
       "gdp_mom_control               14.336506  2.481118e-03\n",
       "cpi_mom_control               48.055482  2.072368e-10\n",
       "gdp_yoy_control               51.380630  4.058787e-11\n",
       "cpi_yoy_control               67.292079  1.621618e-14\n",
       "gdp_mom_assets                37.392282  9.745848e-06\n",
       "cpi_mom_assets                20.046992  1.015972e-02\n",
       "gdp_yoy_assets                27.567900  5.637835e-04\n",
       "gdp_mom_assets_controls       10.051108  2.614571e-01\n",
       "cpi_mom_assets_controls       48.758426  7.072884e-08\n",
       "gdp_yoy_assets_controls       10.683367  2.202934e-01\n",
       "cpi_yoy_assets_controls       25.250765  1.409485e-03"
      ]
     },
     "execution_count": 116,
     "metadata": {},
     "output_type": "execute_result"
    }
   ],
   "source": [
    "pd.DataFrame(monthly_prediction()).set_index('Legend').T"
   ]
  },
  {
   "cell_type": "code",
   "execution_count": 37,
   "id": "aa1e53e7-1911-4ada-9419-0328a602173c",
   "metadata": {},
   "outputs": [],
   "source": [
    "# Data\n",
    "controls = sm.add_constant(predictors.iloc[:,-3:].shift(2).dropna())\n",
    "constant = controls.iloc[:,0]\n",
    "assets = predictors.iloc[1:,0:8].shift(1).dropna()\n",
    "y = gdp['gdp_yoy'].loc['1973-04':].iloc[2:]"
   ]
  },
  {
   "cell_type": "markdown",
   "id": "5630e707-d4b4-4b56-88fa-f019f23822f6",
   "metadata": {
    "tags": []
   },
   "source": [
    "### GDP Control Model"
   ]
  },
  {
   "cell_type": "code",
   "execution_count": 38,
   "id": "406a2da3-affd-42cd-9157-7dcfd50f3ddb",
   "metadata": {},
   "outputs": [
    {
     "name": "stdout",
     "output_type": "stream",
     "text": [
      "<Wald test (chi2): statistic=37.73969606900389, p-value=3.208854422231309e-08, df_denom=3>\n"
     ]
    }
   ],
   "source": [
    "control_model = sm.OLS(y,controls).fit(cov_type='HAC', cov_kwds={'maxlags':12})\n",
    "coeffs_0 = [x + '=0' for x in controls.iloc[:,1:]]\n",
    "print(control_model.wald_test(','.join(coeffs_0), scalar=True, use_f=False))\n",
    "# control_model.summary()"
   ]
  },
  {
   "cell_type": "markdown",
   "id": "068547b6-8bed-42f3-8df5-5cc7ea96026a",
   "metadata": {
    "jp-MarkdownHeadingCollapsed": true,
    "tags": []
   },
   "source": [
    "### GDP Bootstrap\n",
    "Vassalou (2003) use a bootstrap procedure to see if the base assets are jointly significant in predicted GDP above and beyond the control variables.\n",
    "\n",
    "Specifically the bootstrap procedure is as follows:\n",
    "\n",
    "1) The regression is estimated: \n",
    "\n",
    "<font size=3>\n",
    "$\n",
    "\\%\\Delta GDP_{t,t+12} = a + cB_{t-1,t} + kZ_{t-2,t-1} + e_{t,t+12}\n",
    "$\n",
    "</font>\n",
    "\n",
    "Where B is a vector of returns on the 8 base assets, and Z is a vector of control variables. The Wald Statistic and p-value is stored.\n",
    "\n",
    "2) Draw a random sample (with replacement) of the explanatory variables and estimated residuals\n",
    "\n",
    "3) Compute a GDP growth rate forcast assuming c=0\n",
    "\n",
    "<font size=3>\n",
    "$\n",
    "\\%\\Delta \\hat{GDP}_{t,t+12} = \\hat{a} + \\hat{k}Z_{t-2,t-1} + \\hat{e}_{t,t+12}\n",
    "$\n",
    "</font>\n",
    "\n",
    "4) Regress the null GDP growth rate from (3) on the bootstrapped sample of explanatory variables; compute the Wald Statistic\n",
    "\n",
    "6) This is repeated 10,000 times. The actual Wald Statistic is compared against the bootstrapped distribution, and the emprical p-value is computed. "
   ]
  },
  {
   "cell_type": "markdown",
   "id": "a7dec955-84fe-4b0d-a850-a933802708cb",
   "metadata": {},
   "source": [
    "#### Only base assets"
   ]
  },
  {
   "cell_type": "code",
   "execution_count": 11,
   "id": "c61318c5-fae6-4f8a-b3b4-94881f0f4d91",
   "metadata": {},
   "outputs": [
    {
     "name": "stdout",
     "output_type": "stream",
     "text": [
      "P-value= 0.51426 Wald Stat=  7.209\n"
     ]
    }
   ],
   "source": [
    "# Initial Model\n",
    "model1 = sm.OLS(y, pd.concat([constant, assets], axis=1)).fit(cov_type='HAC', cov_kwds={'maxlags':12})\n",
    "\n",
    "coeffs1_0 = [x + '=0' for x in assets]\n",
    "wald_stat1 = model1.wald_test(','.join(coeffs1_0), scalar=True, use_f=False).statistic\n",
    "p1 = model1.wald_test(','.join(coeffs1_0), scalar=True, use_f=False).pvalue\n",
    "print('P-value=', f'{p1:0.5f}', 'Wald Stat= ', f'{wald_stat1:0.3f}')"
   ]
  },
  {
   "cell_type": "code",
   "execution_count": 12,
   "id": "0ae40160-717e-4fa7-be4d-e5558cc23d90",
   "metadata": {},
   "outputs": [],
   "source": [
    "# model1.summary()"
   ]
  },
  {
   "cell_type": "code",
   "execution_count": 13,
   "id": "4d8c6fb6-4b3f-4943-a66d-2dc5790a39d9",
   "metadata": {},
   "outputs": [],
   "source": [
    "sample_df1 = pd.concat([y, constant, assets], axis=1)\n",
    "n = len(sample_df1)"
   ]
  },
  {
   "cell_type": "code",
   "execution_count": 14,
   "id": "1eb19124-9c18-46d1-899d-e24f498cbf06",
   "metadata": {},
   "outputs": [],
   "source": [
    "# Bootstrap\n",
    "boot1_wald = []\n",
    "n_boots = 10000\n",
    "\n",
    "for _ in range(n_boots):\n",
    "    boot_df = sample_df1.sample(n=n, replace=True)\n",
    "    \n",
    "    boot_model = sm.OLS(boot_df['gdp_yoy'], boot_df.iloc[:,1:]).fit(cov_type='HAC', cov_kwds={'maxlags':12})\n",
    "    \n",
    "    coeffs_0 = [x + '=0' for x in boot_df.iloc[:,-8:]]\n",
    "    boot1_wald.append(boot_model.wald_test(','.join(coeffs_0), scalar=True, use_f=False).statistic)\n",
    "\n",
    "boot1_wald = np.array(boot1_wald)"
   ]
  },
  {
   "cell_type": "code",
   "execution_count": 15,
   "id": "72c35f9a-4d5d-4440-a096-4b3612a5051a",
   "metadata": {},
   "outputs": [
    {
     "name": "stdout",
     "output_type": "stream",
     "text": [
      " 0.07540\n"
     ]
    }
   ],
   "source": [
    "empirical_p1 = np.sum(boot1_wald <= wald_stat1)/len(boot1_wald)\n",
    "print(f'{empirical_p1: 0.5f}')"
   ]
  },
  {
   "cell_type": "code",
   "execution_count": 38,
   "id": "ef12c647-e3aa-4225-8b4a-c88d4355fb6a",
   "metadata": {},
   "outputs": [
    {
     "data": {
      "text/plain": [
       "<matplotlib.lines.Line2D at 0x13538863430>"
      ]
     },
     "execution_count": 38,
     "metadata": {},
     "output_type": "execute_result"
    },
    {
     "data": {
      "image/png": "[encoded data removed]",
      "text/plain": [
       "<Figure size 432x288 with 1 Axes>"
      ]
     },
     "metadata": {
      "needs_background": "light"
     },
     "output_type": "display_data"
    }
   ],
   "source": [
    "pd.DataFrame(boot1_wald).plot.hist(bins=50).axvline(wald_stat1, color='red')"
   ]
  },
  {
   "cell_type": "markdown",
   "id": "0a25d306-4af1-4a6f-9b24-c59066681d46",
   "metadata": {
    "tags": []
   },
   "source": [
    "#### Base assets + Controls"
   ]
  },
  {
   "cell_type": "code",
   "execution_count": 39,
   "id": "f902e3ff-9753-4e59-af59-6791c61f54be",
   "metadata": {},
   "outputs": [
    {
     "name": "stdout",
     "output_type": "stream",
     "text": [
      "P-value= 0.22029 Wald Stat=  10.683\n"
     ]
    }
   ],
   "source": [
    "# Initial Model\n",
    "model2 = sm.OLS(y, pd.concat([controls, assets], axis=1)).fit(cov_type='HAC', cov_kwds={'maxlags':12})\n",
    "\n",
    "coeffs2_0 = [x + '=0' for x in assets]\n",
    "wald_stat2 = model2.wald_test(','.join(coeffs2_0), scalar=True, use_f=False).statistic\n",
    "p2 = model2.wald_test(','.join(coeffs2_0), scalar=True, use_f=False).pvalue\n",
    "print('P-value=', f'{p2:0.5f}', 'Wald Stat= ', f'{wald_stat2:0.3f}')"
   ]
  },
  {
   "cell_type": "code",
   "execution_count": 18,
   "id": "0caa6009-ddab-49bc-bb86-75b11cab0c90",
   "metadata": {},
   "outputs": [],
   "source": [
    "# model2.summary()"
   ]
  },
  {
   "cell_type": "code",
   "execution_count": 19,
   "id": "dcdd81e4-e64d-4c63-a194-92754b58c691",
   "metadata": {},
   "outputs": [],
   "source": [
    "sample_df2 = pd.concat([y, controls, assets], axis=1)\n",
    "n = len(sample_df2)"
   ]
  },
  {
   "cell_type": "code",
   "execution_count": 20,
   "id": "afcef376-cb05-401c-87a5-b43dad61283b",
   "metadata": {},
   "outputs": [],
   "source": [
    "# Bootstrap\n",
    "boot2_wald = []\n",
    "n_boots = 10000\n",
    "\n",
    "for _ in range(n_boots):\n",
    "    boot_df = sample_df2.sample(n=n, replace=True)\n",
    "    \n",
    "    boot_model = sm.OLS(boot_df['gdp_yoy'], boot_df.iloc[:,1:]).fit(cov_type='HAC', cov_kwds={'maxlags':12})\n",
    "    \n",
    "    coeffs_0 = [x + '=0' for x in boot_df.iloc[:,-8:]]\n",
    "    boot2_wald.append(boot_model.wald_test(','.join(coeffs_0), scalar=True, use_f=False).statistic)\n",
    "\n",
    "boot2_wald = np.array(boot2_wald)"
   ]
  },
  {
   "cell_type": "code",
   "execution_count": 21,
   "id": "8c9a4ad6-e01f-4bf0-9f3e-5a6781367c0d",
   "metadata": {},
   "outputs": [
    {
     "name": "stdout",
     "output_type": "stream",
     "text": [
      " 0.10150\n"
     ]
    }
   ],
   "source": [
    "empirical_p2 = np.sum(boot2_wald <= wald_stat2)/len(boot2_wald)\n",
    "print(f'{empirical_p2: 0.5f}')"
   ]
  },
  {
   "cell_type": "code",
   "execution_count": 40,
   "id": "d0806914-c783-480a-8549-f61439fc9340",
   "metadata": {},
   "outputs": [
    {
     "data": {
      "text/plain": [
       "<matplotlib.lines.Line2D at 0x13538863250>"
      ]
     },
     "execution_count": 40,
     "metadata": {},
     "output_type": "execute_result"
    },
    {
     "data": {
      "image/png": "[encoded data removed]",
      "text/plain": [
       "<Figure size 432x288 with 1 Axes>"
      ]
     },
     "metadata": {
      "needs_background": "light"
     },
     "output_type": "display_data"
    }
   ],
   "source": [
    "pd.DataFrame(boot2_wald).plot.hist(bins=50).axvline(wald_stat2, color='red')"
   ]
  },
  {
   "cell_type": "markdown",
   "id": "15f6f956-1cd5-4e5f-8ab5-15db08534e3a",
   "metadata": {},
   "source": [
    "### CPI"
   ]
  },
  {
   "cell_type": "code",
   "execution_count": 22,
   "id": "e3bfda24-939d-46f8-9bba-313f5a0723af",
   "metadata": {},
   "outputs": [],
   "source": [
    "y_cpi = cpi['cpi_yoy'].loc['1973-04':].iloc[2:]"
   ]
  },
  {
   "cell_type": "code",
   "execution_count": 23,
   "id": "485caea8-1629-4f54-b56a-f0198033f288",
   "metadata": {},
   "outputs": [
    {
     "name": "stdout",
     "output_type": "stream",
     "text": [
      "P-value= 0.00000 Wald Stat=  112.373\n",
      "P-value= 0.00141 Wald Stat=  25.251\n"
     ]
    }
   ],
   "source": [
    "# Initial Model\n",
    "cpi_model = sm.OLS(y_cpi, pd.concat([controls, assets], axis=1)).fit(cov_type='HAC', cov_kwds={'maxlags':12})\n",
    "\n",
    "# Wald Test for controls vs mean\n",
    "cpi_coeffs_0 = [x + '=0' for x in pd.concat([controls.iloc[:,1:], assets], axis=1)]\n",
    "wald_stat_cpi = cpi_model.wald_test(','.join(cpi_coeffs_0), scalar=True, use_f=False).statistic\n",
    "p_cpi = cpi_model.wald_test(','.join(cpi_coeffs_0), scalar=True, use_f=False).pvalue\n",
    "print('P-value=', f'{p_cpi:0.5f}', 'Wald Stat= ', f'{wald_stat_cpi:0.3f}')\n",
    "\n",
    "# Wald Test for base assets vs mean + controls\n",
    "cpi_coeffs_0 = [x + '=0' for x in assets]\n",
    "wald_stat_cpi = cpi_model.wald_test(','.join(cpi_coeffs_0), scalar=True, use_f=False).statistic\n",
    "p_cpi = cpi_model.wald_test(','.join(cpi_coeffs_0), scalar=True, use_f=False).pvalue\n",
    "print('P-value=', f'{p_cpi:0.5f}', 'Wald Stat= ', f'{wald_stat_cpi:0.3f}')"
   ]
  },
  {
   "cell_type": "markdown",
   "id": "43507543-53a9-43ea-9b6d-f2180e1035b5",
   "metadata": {},
   "source": [
    "Base assets do appear to have predictive power (asymptotically)"
   ]
  },
  {
   "cell_type": "markdown",
   "id": "d529c2b7-4936-4ee7-963d-e562a0a14e13",
   "metadata": {
    "tags": []
   },
   "source": [
    "#### CPI Bootstrap"
   ]
  },
  {
   "cell_type": "code",
   "execution_count": 24,
   "id": "a87b665c-7ab3-4ad2-8cb2-f8caa743b494",
   "metadata": {},
   "outputs": [],
   "source": [
    "sample_df_cpi = pd.concat([y_cpi, controls, assets], axis=1)\n",
    "n = len(sample_df_cpi)"
   ]
  },
  {
   "cell_type": "code",
   "execution_count": 25,
   "id": "86a5f5fd-aa4e-4fad-b97f-daa31e8a5bae",
   "metadata": {},
   "outputs": [],
   "source": [
    "boot_cpi_wald = []\n",
    "n_boots = 10000\n",
    "\n",
    "for _ in range(n_boots):\n",
    "    boot_df = sample_df_cpi.sample(n=n, replace=True)\n",
    "    \n",
    "    boot_model = sm.OLS(boot_df['cpi_yoy'], boot_df.iloc[:,1:]).fit(cov_type='HAC', cov_kwds={'maxlags':12})\n",
    "    \n",
    "    coeffs_0 = [x + '=0' for x in boot_df.iloc[:,-8:]]\n",
    "    boot_cpi_wald.append(boot_model.wald_test(','.join(coeffs_0), scalar=True, use_f=False).statistic)\n",
    "\n",
    "boot_cpi_wald = np.array(boot_cpi_wald)"
   ]
  },
  {
   "cell_type": "code",
   "execution_count": 26,
   "id": "efdca130-bde6-444b-ac08-2747455d9bcc",
   "metadata": {},
   "outputs": [
    {
     "name": "stdout",
     "output_type": "stream",
     "text": [
      " 0.08030\n"
     ]
    }
   ],
   "source": [
    "empirical_p_cpi = np.sum(boot_cpi_wald <= wald_stat_cpi)/len(boot_cpi_wald)\n",
    "print(f'{empirical_p_cpi: 0.5f}')"
   ]
  },
  {
   "cell_type": "code",
   "execution_count": 41,
   "id": "b2d342bd-1a10-40a6-aeec-a6df72b55ac2",
   "metadata": {},
   "outputs": [
    {
     "data": {
      "text/plain": [
       "<matplotlib.lines.Line2D at 0x13538b7b610>"
      ]
     },
     "execution_count": 41,
     "metadata": {},
     "output_type": "execute_result"
    },
    {
     "data": {
      "image/png": "[encoded data removed]",
      "text/plain": [
       "<Figure size 432x288 with 1 Axes>"
      ]
     },
     "metadata": {
      "needs_background": "light"
     },
     "output_type": "display_data"
    }
   ],
   "source": [
    "pd.DataFrame(boot_cpi_wald).plot.hist(bins=50).axvline(wald_stat_cpi, color='red')"
   ]
  },
  {
   "cell_type": "markdown",
   "id": "846a4b08-a160-43e4-9b91-bf24bc132eb4",
   "metadata": {
    "tags": []
   },
   "source": [
    "#### Non-Moving Block Bootstrap\n",
    "1) Partition the sample into b blocks of length l (retains time series order)\n",
    "2) Randomly sample (with replacement) blocks of the data\n",
    "3) Perform the operation of the bootstrap"
   ]
  },
  {
   "cell_type": "code",
   "execution_count": 122,
   "id": "ed0d883a-929c-4d98-9710-7c9ba6e0b87d",
   "metadata": {},
   "outputs": [],
   "source": [
    "import random"
   ]
  },
  {
   "cell_type": "code",
   "execution_count": 123,
   "id": "604a75aa-386d-4e25-8962-0868eba1edc6",
   "metadata": {},
   "outputs": [],
   "source": [
    "index = np.linspace(0,len(assets),10,0).round().astype('int')\n",
    "\n",
    "boot_sample = []\n",
    "for i in range(len(index)-1):\n",
    "    boot_sample.append(sample_df_cpi.iloc[index[i]:index[i+1]])"
   ]
  },
  {
   "cell_type": "code",
   "execution_count": 125,
   "id": "f735e86d-9f42-4f06-b259-cda94bf5947f",
   "metadata": {},
   "outputs": [],
   "source": [
    "# CPI Block Bootstrap\n",
    "block_boot_cpi_wald = []\n",
    "n_boots = 10000\n",
    "\n",
    "for _ in range(n_boots):\n",
    "    boot_df = pd.concat([random.choice(boot_sample) for i in range(10)]).sort_index()\n",
    "    \n",
    "    boot_model = sm.OLS(boot_df['cpi_yoy'], boot_df.iloc[:,1:]).fit(cov_type='HAC', cov_kwds={'maxlags':12})\n",
    "    \n",
    "    coeffs_0 = [x + '=0' for x in boot_df.iloc[:,-8:]]\n",
    "    block_boot_cpi_wald.append(boot_model.wald_test(','.join(coeffs_0), scalar=True, use_f=False).statistic)\n",
    "\n",
    "block_boot_cpi_wald = np.array(block_boot_cpi_wald)"
   ]
  },
  {
   "cell_type": "code",
   "execution_count": 126,
   "id": "011d1178-f860-47cc-a6ec-de456ba6d2aa",
   "metadata": {},
   "outputs": [
    {
     "data": {
      "text/plain": [
       "<matplotlib.lines.Line2D at 0x1353f579d90>"
      ]
     },
     "execution_count": 126,
     "metadata": {},
     "output_type": "execute_result"
    },
    {
     "data": {
      "image/png": "[encoded data removed]",
      "text/plain": [
       "<Figure size 432x288 with 1 Axes>"
      ]
     },
     "metadata": {
      "needs_background": "light"
     },
     "output_type": "display_data"
    }
   ],
   "source": [
    "pd.DataFrame(block_boot_cpi_wald).plot.hist(bins=50).axvline(wald_stat_cpi, color='red')"
   ]
  },
  {
   "cell_type": "code",
   "execution_count": 127,
   "id": "b8f4d223-2f4e-4b12-b73d-9afc7824d731",
   "metadata": {},
   "outputs": [
    {
     "name": "stdout",
     "output_type": "stream",
     "text": [
      " 0.61960\n"
     ]
    }
   ],
   "source": [
    "empirical_p_cpi_block = np.mean(block_boot_cpi_wald <= wald_stat_cpi)\n",
    "print(f'{empirical_p_cpi_block: 0.5f}')"
   ]
  },
  {
   "cell_type": "markdown",
   "id": "80b6c0b1-6710-4848-9862-1ee6ec43bef1",
   "metadata": {
    "tags": []
   },
   "source": [
    "#### Moving Block Bootstrap\n",
    "1) Decide on block of length l, and then create b blocks of length l, where the data overlaps\n",
    "2) Randomly sample (with replacement) blocks of the data\n",
    "3) Perform the operation of the bootstrap"
   ]
  },
  {
   "cell_type": "code",
   "execution_count": 153,
   "id": "8c5f8f44-6c79-48b6-b0bd-9e8d852e9c3d",
   "metadata": {},
   "outputs": [],
   "source": [
    "index = range(len(assets))\n",
    "\n",
    "boot_sample = []\n",
    "for i in range(len(index)-100):\n",
    "    boot_sample.append(sample_df_cpi.iloc[index[i]:index[i+100]])"
   ]
  },
  {
   "cell_type": "code",
   "execution_count": 154,
   "id": "f6b07df2-3ca1-465c-942d-375d67b94fa3",
   "metadata": {},
   "outputs": [],
   "source": [
    "# CPI Moving Block Bootstrap\n",
    "block_boot_cpi_wald = []\n",
    "n_boots = 10000\n",
    "\n",
    "for _ in range(n_boots):\n",
    "    boot_df = pd.concat([random.choice(boot_sample) for i in range(6)]).sort_index()\n",
    "    \n",
    "    boot_model = sm.OLS(boot_df['cpi_yoy'], boot_df.iloc[:,1:]).fit(cov_type='HAC', cov_kwds={'maxlags':12})\n",
    "    \n",
    "    coeffs_0 = [x + '=0' for x in boot_df.iloc[:,-8:]]\n",
    "    block_boot_cpi_wald.append(boot_model.wald_test(','.join(coeffs_0), scalar=True, use_f=False).statistic)\n",
    "\n",
    "block_boot_cpi_wald = np.array(block_boot_cpi_wald)"
   ]
  },
  {
   "cell_type": "code",
   "execution_count": 155,
   "id": "b2f81365-e2ea-4177-b095-be388c96bc8e",
   "metadata": {},
   "outputs": [
    {
     "data": {
      "text/plain": [
       "<matplotlib.lines.Line2D at 0x1353f69df40>"
      ]
     },
     "execution_count": 155,
     "metadata": {},
     "output_type": "execute_result"
    },
    {
     "data": {
      "image/png": "[encoded data removed]",
      "text/plain": [
       "<Figure size 432x288 with 1 Axes>"
      ]
     },
     "metadata": {
      "needs_background": "light"
     },
     "output_type": "display_data"
    }
   ],
   "source": [
    "pd.DataFrame(block_boot_cpi_wald).plot.hist(bins=50).axvline(wald_stat_cpi, color='red')"
   ]
  },
  {
   "cell_type": "code",
   "execution_count": 156,
   "id": "593c8c0e-ef74-40bc-a094-056784a9912d",
   "metadata": {},
   "outputs": [
    {
     "name": "stdout",
     "output_type": "stream",
     "text": [
      " 0.79510\n"
     ]
    }
   ],
   "source": [
    "empirical_p_cpi_block = np.mean(block_boot_cpi_wald <= wald_stat_cpi)\n",
    "print(f'{empirical_p_cpi_block: 0.5f}')"
   ]
  },
  {
   "cell_type": "markdown",
   "id": "94d0f7b9-07c5-4ace-b783-e6b574063286",
   "metadata": {},
   "source": [
    "## Factor Creation\n",
    "Since we are dealing with 2 factors, it is important that the factors are orthogonal. To accomplish this, we can perform a 2-step estimation. \n",
    "\n",
    "First, each of the factors can be estimated individually. Since they the regressors are identical in both cases, we can use Multivariate OLS/Seemingly Unrelated Regression, to account for any cross-equation correlation between the error terms.\n",
    "\n",
    "Second, we can regress factor i on factor j, and then use the residuals as the orthoginalized verison of factor i (ie. the portion of factor i which is orthogonal to factor j)."
   ]
  },
  {
   "cell_type": "markdown",
   "id": "8f256a0b-ef52-4204-99f2-c28d35a17992",
   "metadata": {
    "tags": []
   },
   "source": [
    "### Systems Estimation"
   ]
  },
  {
   "cell_type": "code",
   "execution_count": 158,
   "id": "f420b673-83f4-4f2c-8611-1f320774da52",
   "metadata": {},
   "outputs": [],
   "source": [
    "from linearmodels.system.model import SUR"
   ]
  },
  {
   "cell_type": "code",
   "execution_count": 159,
   "id": "4a56e6e7-2ec3-4248-8d65-85e9848e313e",
   "metadata": {},
   "outputs": [],
   "source": [
    "# GDP and CPI Stacked\n",
    "y_stacked = pd.merge(y, y_cpi, left_index=True, right_index=True)\n",
    "X = sm.add_constant(pd.concat([controls, assets], axis=1))"
   ]
  },
  {
   "cell_type": "code",
   "execution_count": 160,
   "id": "e9210891-2656-441d-be91-5fc2ee2110b8",
   "metadata": {},
   "outputs": [],
   "source": [
    "# Step 1\n",
    "model = SUR.multivariate_ls(y_stacked, X).fit(cov_type='kernel', kernel='bartlett',bandwidth=3)"
   ]
  },
  {
   "cell_type": "code",
   "execution_count": 161,
   "id": "1f4e62d9-10dd-40f0-ab7e-785db3e7a0bc",
   "metadata": {},
   "outputs": [
    {
     "name": "stdout",
     "output_type": "stream",
     "text": [
      "                           System OLS Estimation Summary                           \n",
      "===================================================================================\n",
      "Estimator:                        OLS   Overall R-squared:                   0.3208\n",
      "No. Equations.:                     2   McElroy's R-squared:                 0.5026\n",
      "No. Observations:                 559   Judge's (OLS) R-squared:             0.3208\n",
      "Date:                Wed, Mar 15 2023   Berndt's R-squared:                  0.7314\n",
      "Time:                        17:04:09   Dhrymes's R-squared:                 0.3208\n",
      "                                        Cov. Estimator:                      kernel\n",
      "                                        Num. Constraints:                      None\n",
      "                Equation: gdp_yoy, Dependent Variable: gdp_yoy                \n",
      "==============================================================================\n",
      "            Parameter  Std. Err.     T-stat    P-value    Lower CI    Upper CI\n",
      "------------------------------------------------------------------------------\n",
      "const          0.4614     0.0557     8.2804     0.0000      0.3522      0.5706\n",
      "defy          -33.180     3.8901    -8.5293     0.0000     -40.804     -25.555\n",
      "termy          6.0259     1.8735     3.2164     0.0013      2.3539      9.6980\n",
      "rf             35.310     8.4086     4.1993     0.0000      18.829      51.790\n",
      "SL            -0.6271     0.4065    -1.5429     0.1229     -1.4238      0.1695\n",
      "SM             1.1099     1.2650     0.8774     0.3803     -1.3695      3.5892\n",
      "SH            -0.5633     1.0947    -0.5146     0.6069     -2.7088      1.5823\n",
      "BL             0.1966     0.4853     0.4051     0.6854     -0.7546      1.1477\n",
      "HM             0.1687     0.5715     0.2952     0.7678     -0.9514      1.2889\n",
      "BH            -0.0423     0.4095    -0.1034     0.9177     -0.8450      0.7603\n",
      "def            0.7119     0.7066     1.0075     0.3137     -0.6730      2.0969\n",
      "term          -0.2884     0.3193    -0.9031     0.3665     -0.9143      0.3375\n",
      "                Equation: cpi_yoy, Dependent Variable: cpi_yoy                \n",
      "==============================================================================\n",
      "            Parameter  Std. Err.     T-stat    P-value    Lower CI    Upper CI\n",
      "------------------------------------------------------------------------------\n",
      "const          0.0176     0.0048     3.6953     0.0002      0.0083      0.0269\n",
      "defy           0.5833     0.4285     1.3612     0.1734     -0.2566      1.4232\n",
      "termy         -0.4958     0.1552    -3.1948     0.0014     -0.8000     -0.1916\n",
      "rf             5.5983     0.6097     9.1827     0.0000      4.4034      6.7932\n",
      "SL             0.1791     0.0463     3.8700     0.0001      0.0884      0.2699\n",
      "SM            -0.2680     0.1010    -2.6540     0.0080     -0.4659     -0.0701\n",
      "SH             0.1106     0.0746     1.4829     0.1381     -0.0356      0.2567\n",
      "BL            -0.1648     0.0477    -3.4560     0.0005     -0.2582     -0.0713\n",
      "HM             0.1192     0.0636     1.8741     0.0609     -0.0055      0.2438\n",
      "BH            -0.0206     0.0435    -0.4741     0.6354     -0.1060      0.0647\n",
      "def           -0.1304     0.0611    -2.1345     0.0328     -0.2501     -0.0107\n",
      "term          -0.0601     0.0325    -1.8524     0.0640     -0.1237      0.0035\n",
      "==============================================================================\n",
      "\n",
      "Covariance Estimator:\n",
      "Kernel (HAC) Covariance (Debiased: False, GLS: False, Kernel: bartlett)\n"
     ]
    }
   ],
   "source": [
    "print(model)"
   ]
  },
  {
   "cell_type": "code",
   "execution_count": 162,
   "id": "eb494ca7-7908-413c-804f-4e2e6256dbb5",
   "metadata": {},
   "outputs": [],
   "source": [
    "gdp_coeffs = model.params.iloc[4:12]\n",
    "cpi_coeffs = model.params.iloc[16:]\n",
    "\n",
    "gdp_factor = gdp_coeffs @ assets.values.T\n",
    "cpi_factor = cpi_coeffs @ assets.values.T\n",
    "\n",
    "factors = pd.DataFrame({'gdp_factor':gdp_factor, 'cpi_factor':cpi_factor}, index=assets.index)"
   ]
  },
  {
   "cell_type": "code",
   "execution_count": 183,
   "id": "0ad29d6f-f17b-44b1-8abc-2e5c414bb292",
   "metadata": {},
   "outputs": [
    {
     "data": {
      "text/plain": [
       "<AxesSubplot:>"
      ]
     },
     "execution_count": 183,
     "metadata": {},
     "output_type": "execute_result"
    },
    {
     "data": {
      "image/png": "[encoded data removed]",
      "text/plain": [
       "<Figure size 432x288 with 1 Axes>"
      ]
     },
     "metadata": {
      "needs_background": "light"
     },
     "output_type": "display_data"
    }
   ],
   "source": [
    "# Plots of factors vs actual values\n",
    "pd.DataFrame({'True GDP':y, 'GDP Factor':gdp_factor, 'Fitted GDP':model.predict()['gdp_yoy'].iloc[:,0]}).plot()"
   ]
  },
  {
   "cell_type": "code",
   "execution_count": 184,
   "id": "f08b89c9-d1e0-469d-9aeb-5aebceed76be",
   "metadata": {},
   "outputs": [
    {
     "data": {
      "text/plain": [
       "<AxesSubplot:>"
      ]
     },
     "execution_count": 184,
     "metadata": {},
     "output_type": "execute_result"
    },
    {
     "data": {
      "image/png": "[encoded data removed]",
      "text/plain": [
       "<Figure size 432x288 with 1 Axes>"
      ]
     },
     "metadata": {
      "needs_background": "light"
     },
     "output_type": "display_data"
    }
   ],
   "source": [
    "pd.DataFrame({'True CPI':y_cpi, 'GDP Factor':cpi_factor, 'Fitted GDP':model.predict()['cpi_yoy'].iloc[:,0]}).plot()"
   ]
  },
  {
   "cell_type": "code",
   "execution_count": 185,
   "id": "e30cdd92-4e7f-44bb-8e3c-16ace304801a",
   "metadata": {},
   "outputs": [],
   "source": [
    "# Step 2\n",
    "factor_model = sm.OLS(factors['cpi_factor'], factors['gdp_factor']).fit()\n",
    "factors['cpi_factor'] = factor_model.resid"
   ]
  },
  {
   "cell_type": "code",
   "execution_count": 186,
   "id": "96831eda-8966-4b61-879e-c4190d591f77",
   "metadata": {},
   "outputs": [
    {
     "data": {
      "text/html": [
       "<div>\n",
       "<style scoped>\n",
       "    .dataframe tbody tr th:only-of-type {\n",
       "        vertical-align: middle;\n",
       "    }\n",
       "\n",
       "    .dataframe tbody tr th {\n",
       "        vertical-align: top;\n",
       "    }\n",
       "\n",
       "    .dataframe thead th {\n",
       "        text-align: right;\n",
       "    }\n",
       "</style>\n",
       "<table border=\"1\" class=\"dataframe\">\n",
       "  <thead>\n",
       "    <tr style=\"text-align: right;\">\n",
       "      <th></th>\n",
       "      <th>gdp_factor</th>\n",
       "      <th>cpi_factor</th>\n",
       "    </tr>\n",
       "  </thead>\n",
       "  <tbody>\n",
       "    <tr>\n",
       "      <th>count</th>\n",
       "      <td>559.000000</td>\n",
       "      <td>559.000000</td>\n",
       "    </tr>\n",
       "    <tr>\n",
       "      <th>mean</th>\n",
       "      <td>0.001791</td>\n",
       "      <td>-0.000644</td>\n",
       "    </tr>\n",
       "    <tr>\n",
       "      <th>std</th>\n",
       "      <td>0.025520</td>\n",
       "      <td>0.004159</td>\n",
       "    </tr>\n",
       "    <tr>\n",
       "      <th>min</th>\n",
       "      <td>-0.108707</td>\n",
       "      <td>-0.014245</td>\n",
       "    </tr>\n",
       "    <tr>\n",
       "      <th>25%</th>\n",
       "      <td>-0.011512</td>\n",
       "      <td>-0.003137</td>\n",
       "    </tr>\n",
       "    <tr>\n",
       "      <th>50%</th>\n",
       "      <td>0.002642</td>\n",
       "      <td>-0.000734</td>\n",
       "    </tr>\n",
       "    <tr>\n",
       "      <th>75%</th>\n",
       "      <td>0.015667</td>\n",
       "      <td>0.001868</td>\n",
       "    </tr>\n",
       "    <tr>\n",
       "      <th>max</th>\n",
       "      <td>0.101307</td>\n",
       "      <td>0.020444</td>\n",
       "    </tr>\n",
       "  </tbody>\n",
       "</table>\n",
       "</div>"
      ],
      "text/plain": [
       "       gdp_factor  cpi_factor\n",
       "count  559.000000  559.000000\n",
       "mean     0.001791   -0.000644\n",
       "std      0.025520    0.004159\n",
       "min     -0.108707   -0.014245\n",
       "25%     -0.011512   -0.003137\n",
       "50%      0.002642   -0.000734\n",
       "75%      0.015667    0.001868\n",
       "max      0.101307    0.020444"
      ]
     },
     "execution_count": 186,
     "metadata": {},
     "output_type": "execute_result"
    }
   ],
   "source": [
    "# Factor summary stats\n",
    "factors.describe()"
   ]
  },
  {
   "cell_type": "code",
   "execution_count": 187,
   "id": "94a99ebe-ee64-416f-884b-3ff19f1f9883",
   "metadata": {},
   "outputs": [
    {
     "data": {
      "text/plain": [
       "gdp_factor    0.021707\n",
       "cpi_factor   -0.007695\n",
       "Name: mean, dtype: float64"
      ]
     },
     "execution_count": 187,
     "metadata": {},
     "output_type": "execute_result"
    }
   ],
   "source": [
    "# Annualized average returns\n",
    "((1+factors.describe().loc['mean'])**12)-1"
   ]
  },
  {
   "cell_type": "code",
   "execution_count": 191,
   "id": "01ac8d7e-5015-46cb-918a-4b5160c829bb",
   "metadata": {},
   "outputs": [],
   "source": [
    "# factors.to_csv('factors.csv')"
   ]
  }
 ],
 "metadata": {
  "kernelspec": {
   "display_name": "Python 3 (ipykernel)",
   "language": "python",
   "name": "python3"
  },
  "language_info": {
   "codemirror_mode": {
    "name": "ipython",
    "version": 3
   },
   "file_extension": ".py",
   "mimetype": "text/x-python",
   "name": "python",
   "nbconvert_exporter": "python",
   "pygments_lexer": "ipython3",
   "version": "3.9.12"
  }
 },
 "nbformat": 4,
 "nbformat_minor": 5
}
