{
 "cells": [
  {
   "cell_type": "markdown",
   "id": "a650b56e-50de-41cb-a562-d7bcd0be26ae",
   "metadata": {},
   "source": [
    "Version Notes:\n",
    "\n",
    "Base assets don't improve predictability??? (ie. can't match R-squareds and test-stats/pvalues)\n",
    "\n",
    "Bootstrap correct??? (does author even do time-series bootstrap?)"
   ]
  },
  {
   "cell_type": "markdown",
   "id": "3a081367-cc3e-42ef-9627-b62c64894e3f",
   "metadata": {},
   "source": [
    "# Creation of GDP and CPI Mimicking portfolios\n",
    "Note: could use unexpected inflation from Chen, Roll and Ross, projected onto asset returns as a robustness test"
   ]
  },
  {
   "cell_type": "markdown",
   "id": "eabec195-8d98-4d2f-aa53-6e95c5a3a42d",
   "metadata": {},
   "source": [
    "## Data Prep"
   ]
  },
  {
   "cell_type": "code",
   "execution_count": 1,
   "id": "5e9f3596-3ad3-4fa6-92e0-0df69faa2e34",
   "metadata": {},
   "outputs": [],
   "source": [
    "import pandas as pd\n",
    "import numpy as np\n",
    "import statsmodels.api as sm"
   ]
  },
  {
   "cell_type": "code",
   "execution_count": 208,
   "id": "bba62b9d-c0c5-49f0-8193-37a481add016",
   "metadata": {},
   "outputs": [],
   "source": [
    "def get_data(date):\n",
    "    '''\n",
    "    Imports and cleans data at the monthly or quarterly frequency.\n",
    "    '''\n",
    "    if date == 'monthly': data = pd.read_csv('merged_data.csv', index_col=0)\n",
    "    else: data = pd.read_csv('merged_data_q.csv', index_col=0)\n",
    "    \n",
    "    data['def'] = np.log(data['corp_bond_return']/data['corp_bond_return'].shift(1)) - data['20y_return']\n",
    "    data['term'] = data['30y_return'] - data['rf']\n",
    "    \n",
    "    data['defy'] = (data['BAA'] - data['AAA'])/100\n",
    "    data['termy'] = (data['10 year'] - data['1 year'])/100\n",
    "    \n",
    "    # Predictors\n",
    "    predictors = data[['SL', 'SM', 'SH', 'BL', 'HM', 'BH',\n",
    "                                   'def', 'term', 'defy', 'termy', 'rf']].copy().dropna()\n",
    "    portfolios = ['SL', 'SM', 'SH', 'BL', 'HM', 'BH']\n",
    "    \n",
    "    for portfolio in portfolios:\n",
    "        predictors[portfolio] = predictors[portfolio]/100 - predictors['rf'] \n",
    "    \n",
    "    if date == 'monthly':\n",
    "        # GDP & CPI\n",
    "        gdp = data['BBKMGDP'].rename('gdp').to_frame().iloc[:-3]\n",
    "        cpi = data['CPIAUCSL'].rename('cpi').to_frame().iloc[:-3]\n",
    "\n",
    "        # Transformations \n",
    "        gdp['gdp_mom'] = (1 + gdp['gdp'] / 100)**(1/12) - 1 # de-annualize\n",
    "        gdp['level'] = (1+gdp['gdp_mom']).cumprod()\n",
    "        gdp['gdp_yoy'] = np.log(gdp['level'] / gdp['level'].shift(12)) # 4 quarter change = 12 month change\n",
    "\n",
    "        cpi['cpi_mom'] = np.log(cpi['cpi'] / cpi['cpi'].shift(1))\n",
    "        cpi['cpi_yoy'] = np.log(cpi['cpi'] / cpi['cpi'].shift(12))\n",
    "        cpi = cpi.shift(1)\n",
    "    \n",
    "    else:\n",
    "        # GDP & CPI\n",
    "        gdp = data['GDPC1'].rename('gdp').to_frame().iloc[:-3]\n",
    "        cpi = data['CPIAUCSL'].rename('cpi').to_frame().iloc[:-3]\n",
    "\n",
    "        # Transformations \n",
    "        gdp['gdp_qoq'] = np.log(gdp['gdp'] / gdp['gdp'].shift(1))\n",
    "        gdp['gdp_4qoq'] = np.log(gdp['gdp'] / gdp['gdp'].shift(4))\n",
    "\n",
    "        cpi['cpi_qoq'] = np.log(cpi['cpi'] / cpi['cpi'].shift(1))\n",
    "        cpi['cpi_4qoq'] = np.log(cpi['cpi'] / cpi['cpi'].shift(4))\n",
    "        cpi = cpi.shift(1)\n",
    "\n",
    "    return predictors, gdp, cpi"
   ]
  },
  {
   "cell_type": "code",
   "execution_count": 209,
   "id": "70d858b7-0909-43f9-8c42-8e9fee9221fd",
   "metadata": {},
   "outputs": [],
   "source": [
    "predictors_q, gdp_q, cpi_q = get_data('quarterly')"
   ]
  },
  {
   "cell_type": "code",
   "execution_count": 210,
   "id": "a24e8e4c-6806-4201-9e28-8c49a8a700ce",
   "metadata": {},
   "outputs": [],
   "source": [
    "predictors, gdp, cpi = get_data('monthly')"
   ]
  },
  {
   "cell_type": "markdown",
   "id": "f266857c-e9e0-4e1f-aa0b-e526cb3075c8",
   "metadata": {
    "jp-MarkdownHeadingCollapsed": true,
    "tags": []
   },
   "source": [
    "## Can the base assets predict future GDP & CPI?\n",
    "Since this is an expectation of monthly GDP, instead of \"news related to future GDP growth\", this factor would be more related to innovations in expectations of future GDP growth. "
   ]
  },
  {
   "cell_type": "code",
   "execution_count": 211,
   "id": "4d0afd69-b30d-48a4-a958-20a16a67e8cc",
   "metadata": {},
   "outputs": [],
   "source": [
    "def pred(y, X, test):\n",
    "    '''\n",
    "    Function to run prediction and return the Wald Statistics based on coefficient restrictions ('test').\n",
    "    '''\n",
    "    \n",
    "    model = sm.OLS(y,X).fit(cov_type='HAC', cov_kwds={'maxlags':12})\n",
    "    wald = model.wald_test(','.join(test), scalar=True, use_f=False)\n",
    "    \n",
    "    return [f'{wald.statistic:0.2f}', f'{wald.pvalue:0.5f}']"
   ]
  },
  {
   "cell_type": "code",
   "execution_count": 212,
   "id": "664ca545-db4c-4a4e-a844-7f89e412074e",
   "metadata": {},
   "outputs": [],
   "source": [
    "def monthly_prediction():\n",
    "    '''\n",
    "    Function to run several prediction models at the monthly frequency.\n",
    "    '''\n",
    "    \n",
    "    # Predictor Data\n",
    "    controls = sm.add_constant(predictors.iloc[:,-3:].shift(2).dropna())\n",
    "    constant = controls.iloc[:,0]\n",
    "    assets = predictors.iloc[1:,0:8].shift(1).dropna()\n",
    "    \n",
    "    # Outcome Variables\n",
    "    gdp_mom = gdp['gdp_mom'].loc['1973-04':].iloc[2:]\n",
    "    gdp_yoy = gdp['gdp_yoy'].loc['1973-04':].iloc[2:]\n",
    "    \n",
    "    cpi_mom = cpi['cpi_mom'].loc['1973-04':].iloc[2:]\n",
    "    cpi_yoy = cpi['cpi_yoy'].loc['1973-04':].iloc[2:]\n",
    "    \n",
    "    \n",
    "    wald_stats = {}\n",
    "    wald_stats['Legend'] = ['Wald Statistic', 'p-value']\n",
    "    # Control Models\n",
    "    coeffs_0 = [x + '=0' for x in controls.iloc[:,1:]]\n",
    "\n",
    "    wald_stats['gdp_mom_control'] = pred(gdp_mom,controls,coeffs_0)   \n",
    "    wald_stats['cpi_mom_control'] = pred(cpi_mom,controls,coeffs_0)\n",
    "\n",
    "    wald_stats['gdp_yoy_control'] = pred(gdp_yoy,controls,coeffs_0)   \n",
    "    wald_stats['cpi_yoy_control'] = pred(cpi_yoy,controls,coeffs_0)\n",
    "    \n",
    "    # Only Base Assets\n",
    "    coeffs_1 = [x + '=0' for x in assets]\n",
    "\n",
    "    wald_stats['gdp_mom_assets'] = pred(gdp_mom,assets,coeffs_1)\n",
    "    wald_stats['cpi_mom_assets'] = pred(cpi_mom,assets,coeffs_1)\n",
    "\n",
    "    wald_stats['gdp_yoy_assets'] = pred(gdp_yoy,assets,coeffs_1)\n",
    "    wald_stats['gdp_yoy_assets'] = pred(gdp_yoy,assets,coeffs_1)\n",
    "\n",
    "    # Base Assets + Controls    \n",
    "    wald_stats['gdp_mom_assets_controls'] = pred(gdp_mom,pd.concat([controls, assets], axis=1),coeffs_1)\n",
    "    wald_stats['cpi_mom_assets_controls'] = pred(cpi_mom,pd.concat([controls, assets], axis=1),coeffs_1)\n",
    "                                                 \n",
    "    wald_stats['gdp_yoy_assets_controls'] = pred(gdp_yoy,pd.concat([controls, assets], axis=1),coeffs_1)\n",
    "    wald_stats['cpi_yoy_assets_controls'] = pred(cpi_yoy,pd.concat([controls, assets], axis=1),coeffs_1)\n",
    "    \n",
    "    return pd.DataFrame(wald_stats).set_index('Legend').T"
   ]
  },
  {
   "cell_type": "code",
   "execution_count": 213,
   "id": "892a772b-2447-4624-a340-0b149f72331e",
   "metadata": {},
   "outputs": [],
   "source": [
    "def quarterly_prediction():\n",
    "    '''\n",
    "    Function to run several prediction models at the quarterly frequency.\n",
    "    '''\n",
    "    \n",
    "    # Predictor Data\n",
    "    controls = sm.add_constant(predictors_q.iloc[:-2,-3:].shift(2).dropna())\n",
    "    constant = controls.iloc[:-2,0]\n",
    "    assets = predictors_q.iloc[1:-2,0:8].shift(1).dropna()\n",
    "    \n",
    "    # Outcome Variables\n",
    "    gdp_qoq = gdp_q['gdp_qoq'].loc['1973-09':]\n",
    "    gdp_yoy = gdp_q['gdp_4qoq'].loc['1973-09':]\n",
    "    \n",
    "    cpi_qoq = cpi_q['cpi_qoq'].loc['1973-09':]\n",
    "    cpi_yoy = cpi_q['cpi_4qoq'].loc['1973-09':]\n",
    "    \n",
    "    \n",
    "    wald_stats = {}\n",
    "    wald_stats['Legend'] = ['Wald Statistic', 'p-value']\n",
    "    # Control Models\n",
    "    coeffs_0 = [x + '=0' for x in controls.iloc[:,1:]]\n",
    "\n",
    "    wald_stats['gdp_qoq_control'] = pred(gdp_qoq,controls,coeffs_0)   \n",
    "    wald_stats['cpi_qoq_control'] = pred(cpi_qoq,controls,coeffs_0)\n",
    "\n",
    "    wald_stats['gdp_yoy_control'] = pred(gdp_yoy,controls,coeffs_0)   \n",
    "    wald_stats['cpi_yoy_control'] = pred(cpi_yoy,controls,coeffs_0)\n",
    "    \n",
    "    # Only Base Assets\n",
    "    coeffs_1 = [x + '=0' for x in assets]\n",
    "\n",
    "    wald_stats['gdp_qoq_assets'] = pred(gdp_qoq,assets,coeffs_1)\n",
    "    wald_stats['cpi_qoq_assets'] = pred(cpi_qoq,assets,coeffs_1)\n",
    "\n",
    "    wald_stats['gdp_yoy_assets'] = pred(gdp_yoy,assets,coeffs_1)\n",
    "    wald_stats['gdp_yoy_assets'] = pred(gdp_yoy,assets,coeffs_1)\n",
    "\n",
    "    # Base Assets + Controls    \n",
    "    wald_stats['gdp_qoq_assets_controls'] = pred(gdp_qoq,pd.concat([controls, assets], axis=1),coeffs_1)\n",
    "    wald_stats['cpi_qoq_assets_controls'] = pred(cpi_qoq,pd.concat([controls, assets], axis=1),coeffs_1)\n",
    "                                                 \n",
    "    wald_stats['gdp_yoy_assets_controls'] = pred(gdp_yoy,pd.concat([controls, assets], axis=1),coeffs_1)\n",
    "    wald_stats['cpi_yoy_assets_controls'] = pred(cpi_yoy,pd.concat([controls, assets], axis=1),coeffs_1)\n",
    "    \n",
    "    return pd.DataFrame(wald_stats).set_index('Legend').T"
   ]
  },
  {
   "cell_type": "code",
   "execution_count": 214,
   "id": "94049b44-56bc-43b8-af12-2283c77c2fde",
   "metadata": {},
   "outputs": [
    {
     "data": {
      "text/html": [
       "<div>\n",
       "<style scoped>\n",
       "    .dataframe tbody tr th:only-of-type {\n",
       "        vertical-align: middle;\n",
       "    }\n",
       "\n",
       "    .dataframe tbody tr th {\n",
       "        vertical-align: top;\n",
       "    }\n",
       "\n",
       "    .dataframe thead th {\n",
       "        text-align: right;\n",
       "    }\n",
       "</style>\n",
       "<table border=\"1\" class=\"dataframe\">\n",
       "  <thead>\n",
       "    <tr style=\"text-align: right;\">\n",
       "      <th>Legend</th>\n",
       "      <th>Wald Statistic</th>\n",
       "      <th>p-value</th>\n",
       "    </tr>\n",
       "  </thead>\n",
       "  <tbody>\n",
       "    <tr>\n",
       "      <th>gdp_mom_control</th>\n",
       "      <td>10.99</td>\n",
       "      <td>0.01179</td>\n",
       "    </tr>\n",
       "    <tr>\n",
       "      <th>cpi_mom_control</th>\n",
       "      <td>33.50</td>\n",
       "      <td>0.00000</td>\n",
       "    </tr>\n",
       "    <tr>\n",
       "      <th>gdp_yoy_control</th>\n",
       "      <td>37.74</td>\n",
       "      <td>0.00000</td>\n",
       "    </tr>\n",
       "    <tr>\n",
       "      <th>cpi_yoy_control</th>\n",
       "      <td>54.70</td>\n",
       "      <td>0.00000</td>\n",
       "    </tr>\n",
       "    <tr>\n",
       "      <th>gdp_mom_assets</th>\n",
       "      <td>19.76</td>\n",
       "      <td>0.01130</td>\n",
       "    </tr>\n",
       "    <tr>\n",
       "      <th>cpi_mom_assets</th>\n",
       "      <td>25.43</td>\n",
       "      <td>0.00131</td>\n",
       "    </tr>\n",
       "    <tr>\n",
       "      <th>gdp_yoy_assets</th>\n",
       "      <td>30.93</td>\n",
       "      <td>0.00014</td>\n",
       "    </tr>\n",
       "    <tr>\n",
       "      <th>gdp_mom_assets_controls</th>\n",
       "      <td>8.71</td>\n",
       "      <td>0.36692</td>\n",
       "    </tr>\n",
       "    <tr>\n",
       "      <th>cpi_mom_assets_controls</th>\n",
       "      <td>43.09</td>\n",
       "      <td>0.00000</td>\n",
       "    </tr>\n",
       "    <tr>\n",
       "      <th>gdp_yoy_assets_controls</th>\n",
       "      <td>10.31</td>\n",
       "      <td>0.24425</td>\n",
       "    </tr>\n",
       "    <tr>\n",
       "      <th>cpi_yoy_assets_controls</th>\n",
       "      <td>21.41</td>\n",
       "      <td>0.00612</td>\n",
       "    </tr>\n",
       "  </tbody>\n",
       "</table>\n",
       "</div>"
      ],
      "text/plain": [
       "Legend                  Wald Statistic  p-value\n",
       "gdp_mom_control                  10.99  0.01179\n",
       "cpi_mom_control                  33.50  0.00000\n",
       "gdp_yoy_control                  37.74  0.00000\n",
       "cpi_yoy_control                  54.70  0.00000\n",
       "gdp_mom_assets                   19.76  0.01130\n",
       "cpi_mom_assets                   25.43  0.00131\n",
       "gdp_yoy_assets                   30.93  0.00014\n",
       "gdp_mom_assets_controls           8.71  0.36692\n",
       "cpi_mom_assets_controls          43.09  0.00000\n",
       "gdp_yoy_assets_controls          10.31  0.24425\n",
       "cpi_yoy_assets_controls          21.41  0.00612"
      ]
     },
     "execution_count": 236,
     "metadata": {},
     "output_type": "execute_result"
    }
   ],
   "source": [
    "monthly_prediction()"
   ]
  },
  {
   "cell_type": "markdown",
   "id": "5843c2a6-041d-41fa-9301-001c99deebf5",
   "metadata": {},
   "source": [
    "The null is that the beta on the base assets are jointly 0 (except for only 'control' which is that the beta on the controls are 0).\n",
    "\n",
    "Thus we reject the null that the assets don't increase predictability in all cases except for MoM GDP w/ assets + controls and YoY GDP w/ assets + controls."
   ]
  },
  {
   "cell_type": "code",
   "execution_count": 215,
   "id": "8763b594-1d4c-4c3d-adf1-545865146674",
   "metadata": {},
   "outputs": [
    {
     "data": {
      "text/html": [
       "<div>\n",
       "<style scoped>\n",
       "    .dataframe tbody tr th:only-of-type {\n",
       "        vertical-align: middle;\n",
       "    }\n",
       "\n",
       "    .dataframe tbody tr th {\n",
       "        vertical-align: top;\n",
       "    }\n",
       "\n",
       "    .dataframe thead th {\n",
       "        text-align: right;\n",
       "    }\n",
       "</style>\n",
       "<table border=\"1\" class=\"dataframe\">\n",
       "  <thead>\n",
       "    <tr style=\"text-align: right;\">\n",
       "      <th>Legend</th>\n",
       "      <th>Wald Statistic</th>\n",
       "      <th>p-value</th>\n",
       "    </tr>\n",
       "  </thead>\n",
       "  <tbody>\n",
       "    <tr>\n",
       "      <th>gdp_qoq_control</th>\n",
       "      <td>14.95</td>\n",
       "      <td>0.00186</td>\n",
       "    </tr>\n",
       "    <tr>\n",
       "      <th>cpi_qoq_control</th>\n",
       "      <td>24.27</td>\n",
       "      <td>0.00002</td>\n",
       "    </tr>\n",
       "    <tr>\n",
       "      <th>gdp_yoy_control</th>\n",
       "      <td>28.41</td>\n",
       "      <td>0.00000</td>\n",
       "    </tr>\n",
       "    <tr>\n",
       "      <th>cpi_yoy_control</th>\n",
       "      <td>39.56</td>\n",
       "      <td>0.00000</td>\n",
       "    </tr>\n",
       "    <tr>\n",
       "      <th>gdp_qoq_assets</th>\n",
       "      <td>108.34</td>\n",
       "      <td>0.00000</td>\n",
       "    </tr>\n",
       "    <tr>\n",
       "      <th>cpi_qoq_assets</th>\n",
       "      <td>42.71</td>\n",
       "      <td>0.00000</td>\n",
       "    </tr>\n",
       "    <tr>\n",
       "      <th>gdp_yoy_assets</th>\n",
       "      <td>64.04</td>\n",
       "      <td>0.00000</td>\n",
       "    </tr>\n",
       "    <tr>\n",
       "      <th>gdp_qoq_assets_controls</th>\n",
       "      <td>24.77</td>\n",
       "      <td>0.00170</td>\n",
       "    </tr>\n",
       "    <tr>\n",
       "      <th>cpi_qoq_assets_controls</th>\n",
       "      <td>46.72</td>\n",
       "      <td>0.00000</td>\n",
       "    </tr>\n",
       "    <tr>\n",
       "      <th>gdp_yoy_assets_controls</th>\n",
       "      <td>12.57</td>\n",
       "      <td>0.12759</td>\n",
       "    </tr>\n",
       "    <tr>\n",
       "      <th>cpi_yoy_assets_controls</th>\n",
       "      <td>33.50</td>\n",
       "      <td>0.00005</td>\n",
       "    </tr>\n",
       "  </tbody>\n",
       "</table>\n",
       "</div>"
      ],
      "text/plain": [
       "Legend                  Wald Statistic  p-value\n",
       "gdp_qoq_control                  14.95  0.00186\n",
       "cpi_qoq_control                  24.27  0.00002\n",
       "gdp_yoy_control                  28.41  0.00000\n",
       "cpi_yoy_control                  39.56  0.00000\n",
       "gdp_qoq_assets                  108.34  0.00000\n",
       "cpi_qoq_assets                   42.71  0.00000\n",
       "gdp_yoy_assets                   64.04  0.00000\n",
       "gdp_qoq_assets_controls          24.77  0.00170\n",
       "cpi_qoq_assets_controls          46.72  0.00000\n",
       "gdp_yoy_assets_controls          12.57  0.12759\n",
       "cpi_yoy_assets_controls          33.50  0.00005"
      ]
     },
     "execution_count": 215,
     "metadata": {},
     "output_type": "execute_result"
    }
   ],
   "source": [
    "quarterly_prediction()"
   ]
  },
  {
   "cell_type": "markdown",
   "id": "819b876e-52f9-4b09-abd8-412923804bc7",
   "metadata": {},
   "source": [
    "Overall the results are similar to the monthly case. The asset betas are insignificant for YoY GDP with controls. \n",
    "\n",
    "Vasslou (2003) finds a Wald Statistic of 18.88 over the sample from 1953-1998, using CAY as a control and a different version of DEF, while I obtain 12.57. Further her bootstrapped p-value was 0.0973, and my asymptotic p-value is 0.12579. Hence it is likely that either since 1998, the ability for the base assets to predict GDP has decreased, or just statistically since the p-values are near 10%, any significance was minor to begin with. \n",
    "\n",
    "Regardless we can proceed with creating the factor mimicking portfolios. "
   ]
  },
  {
   "cell_type": "markdown",
   "id": "27384eba-51ae-4d5f-8162-af0d304ebc1f",
   "metadata": {
    "jp-MarkdownHeadingCollapsed": true,
    "tags": []
   },
   "source": [
    "### GDP Bootstrap"
   ]
  },
  {
   "cell_type": "markdown",
   "id": "36682154-b581-4ecb-b6e0-cb809064ded0",
   "metadata": {
    "tags": []
   },
   "source": [
    "Vassalou (2003) use a bootstrap procedure to see if the base assets are jointly significant in predicted GDP above and beyond the control variables.\n",
    "\n",
    "Specifically the bootstrap procedure is as follows:\n",
    "\n",
    "1) The regression is estimated: \n",
    "\n",
    "<font size=3>\n",
    "$\n",
    "\\%\\Delta GDP_{t,t+12} = a + cB_{t-1,t} + kZ_{t-2,t-1} + e_{t,t+12}\n",
    "$\n",
    "</font>\n",
    "\n",
    "Where B is a vector of returns on the 8 base assets, and Z is a vector of control variables. The Wald Statistic and p-value is stored.\n",
    "\n",
    "2) Draw a random sample (with replacement) of the explanatory variables and estimated residuals\n",
    "\n",
    "3) Compute a GDP growth rate forcast assuming c=0\n",
    "\n",
    "<font size=3>\n",
    "$\n",
    "\\%\\Delta \\hat{GDP}_{t,t+12} = \\hat{a} + \\hat{k}Z_{t-2,t-1} + \\hat{e}_{t,t+12}\n",
    "$\n",
    "</font>\n",
    "\n",
    "4) Regress the null GDP growth rate from (3) on the bootstrapped sample of explanatory variables; compute the Wald Statistic\n",
    "\n",
    "6) This is repeated 10,000 times. The actual Wald Statistic is compared against the bootstrapped distribution, and the emprical p-value is computed. "
   ]
  },
  {
   "cell_type": "code",
   "execution_count": null,
   "id": "aa1e53e7-1911-4ada-9419-0328a602173c",
   "metadata": {},
   "outputs": [],
   "source": [
    "# Data\n",
    "controls = sm.add_constant(predictors.iloc[:,-3:].shift(2).dropna())\n",
    "constant = controls.iloc[:,0]\n",
    "assets = predictors.iloc[1:,0:8].shift(1).dropna()\n",
    "y = gdp['gdp_yoy'].loc['1973-04':].iloc[2:]"
   ]
  },
  {
   "cell_type": "markdown",
   "id": "a7dec955-84fe-4b0d-a850-a933802708cb",
   "metadata": {
    "jp-MarkdownHeadingCollapsed": true,
    "tags": []
   },
   "source": [
    "#### Only base assets"
   ]
  },
  {
   "cell_type": "code",
   "execution_count": 11,
   "id": "c61318c5-fae6-4f8a-b3b4-94881f0f4d91",
   "metadata": {},
   "outputs": [
    {
     "name": "stdout",
     "output_type": "stream",
     "text": [
      "P-value= 0.51426 Wald Stat=  7.209\n"
     ]
    }
   ],
   "source": [
    "# Initial Model\n",
    "model1 = sm.OLS(y, pd.concat([constant, assets], axis=1)).fit(cov_type='HAC', cov_kwds={'maxlags':12})\n",
    "\n",
    "coeffs1_0 = [x + '=0' for x in assets]\n",
    "wald_stat1 = model1.wald_test(','.join(coeffs1_0), scalar=True, use_f=False).statistic\n",
    "p1 = model1.wald_test(','.join(coeffs1_0), scalar=True, use_f=False).pvalue\n",
    "print('P-value=', f'{p1:0.5f}', 'Wald Stat= ', f'{wald_stat1:0.3f}')"
   ]
  },
  {
   "cell_type": "code",
   "execution_count": 12,
   "id": "0ae40160-717e-4fa7-be4d-e5558cc23d90",
   "metadata": {},
   "outputs": [],
   "source": [
    "# model1.summary()"
   ]
  },
  {
   "cell_type": "code",
   "execution_count": 13,
   "id": "4d8c6fb6-4b3f-4943-a66d-2dc5790a39d9",
   "metadata": {},
   "outputs": [],
   "source": [
    "sample_df1 = pd.concat([y, constant, assets], axis=1)\n",
    "n = len(sample_df1)"
   ]
  },
  {
   "cell_type": "code",
   "execution_count": 14,
   "id": "1eb19124-9c18-46d1-899d-e24f498cbf06",
   "metadata": {},
   "outputs": [],
   "source": [
    "# Bootstrap\n",
    "boot1_wald = []\n",
    "n_boots = 10000\n",
    "\n",
    "for _ in range(n_boots):\n",
    "    boot_df = sample_df1.sample(n=n, replace=True)\n",
    "    \n",
    "    boot_model = sm.OLS(boot_df['gdp_yoy'], boot_df.iloc[:,1:]).fit(cov_type='HAC', cov_kwds={'maxlags':12})\n",
    "    \n",
    "    coeffs_0 = [x + '=0' for x in boot_df.iloc[:,-8:]]\n",
    "    boot1_wald.append(boot_model.wald_test(','.join(coeffs_0), scalar=True, use_f=False).statistic)\n",
    "\n",
    "boot1_wald = np.array(boot1_wald)"
   ]
  },
  {
   "cell_type": "code",
   "execution_count": 15,
   "id": "72c35f9a-4d5d-4440-a096-4b3612a5051a",
   "metadata": {},
   "outputs": [
    {
     "name": "stdout",
     "output_type": "stream",
     "text": [
      " 0.07540\n"
     ]
    }
   ],
   "source": [
    "empirical_p1 = np.sum(boot1_wald <= wald_stat1)/len(boot1_wald)\n",
    "print(f'{empirical_p1: 0.5f}')"
   ]
  },
  {
   "cell_type": "code",
   "execution_count": 38,
   "id": "ef12c647-e3aa-4225-8b4a-c88d4355fb6a",
   "metadata": {},
   "outputs": [
    {
     "data": {
      "text/plain": [
       "<matplotlib.lines.Line2D at 0x13538863430>"
      ]
     },
     "execution_count": 38,
     "metadata": {},
     "output_type": "execute_result"
    },
    {
     "data": {
      "image/png": "[encoded data removed]",
      "text/plain": [
       "<Figure size 432x288 with 1 Axes>"
      ]
     },
     "metadata": {
      "needs_background": "light"
     },
     "output_type": "display_data"
    }
   ],
   "source": [
    "pd.DataFrame(boot1_wald).plot.hist(bins=50).axvline(wald_stat1, color='red')"
   ]
  },
  {
   "cell_type": "markdown",
   "id": "0a25d306-4af1-4a6f-9b24-c59066681d46",
   "metadata": {
    "tags": []
   },
   "source": [
    "#### Base assets + Controls"
   ]
  },
  {
   "cell_type": "code",
   "execution_count": 39,
   "id": "f902e3ff-9753-4e59-af59-6791c61f54be",
   "metadata": {},
   "outputs": [
    {
     "name": "stdout",
     "output_type": "stream",
     "text": [
      "P-value= 0.22029 Wald Stat=  10.683\n"
     ]
    }
   ],
   "source": [
    "# Initial Model\n",
    "model2 = sm.OLS(y, pd.concat([controls, assets], axis=1)).fit(cov_type='HAC', cov_kwds={'maxlags':12})\n",
    "\n",
    "coeffs2_0 = [x + '=0' for x in assets]\n",
    "wald_stat2 = model2.wald_test(','.join(coeffs2_0), scalar=True, use_f=False).statistic\n",
    "p2 = model2.wald_test(','.join(coeffs2_0), scalar=True, use_f=False).pvalue\n",
    "print('P-value=', f'{p2:0.5f}', 'Wald Stat= ', f'{wald_stat2:0.3f}')"
   ]
  },
  {
   "cell_type": "code",
   "execution_count": 18,
   "id": "0caa6009-ddab-49bc-bb86-75b11cab0c90",
   "metadata": {},
   "outputs": [],
   "source": [
    "# model2.summary()"
   ]
  },
  {
   "cell_type": "code",
   "execution_count": 19,
   "id": "dcdd81e4-e64d-4c63-a194-92754b58c691",
   "metadata": {},
   "outputs": [],
   "source": [
    "sample_df2 = pd.concat([y, controls, assets], axis=1)\n",
    "n = len(sample_df2)"
   ]
  },
  {
   "cell_type": "code",
   "execution_count": 20,
   "id": "afcef376-cb05-401c-87a5-b43dad61283b",
   "metadata": {},
   "outputs": [],
   "source": [
    "# Bootstrap\n",
    "boot2_wald = []\n",
    "n_boots = 10000\n",
    "\n",
    "for _ in range(n_boots):\n",
    "    boot_df = sample_df2.sample(n=n, replace=True)\n",
    "    \n",
    "    boot_model = sm.OLS(boot_df['gdp_yoy'], boot_df.iloc[:,1:]).fit(cov_type='HAC', cov_kwds={'maxlags':12})\n",
    "    \n",
    "    coeffs_0 = [x + '=0' for x in boot_df.iloc[:,-8:]]\n",
    "    boot2_wald.append(boot_model.wald_test(','.join(coeffs_0), scalar=True, use_f=False).statistic)\n",
    "\n",
    "boot2_wald = np.array(boot2_wald)"
   ]
  },
  {
   "cell_type": "code",
   "execution_count": 21,
   "id": "8c9a4ad6-e01f-4bf0-9f3e-5a6781367c0d",
   "metadata": {},
   "outputs": [
    {
     "name": "stdout",
     "output_type": "stream",
     "text": [
      " 0.10150\n"
     ]
    }
   ],
   "source": [
    "empirical_p2 = np.sum(boot2_wald <= wald_stat2)/len(boot2_wald)\n",
    "print(f'{empirical_p2: 0.5f}')"
   ]
  },
  {
   "cell_type": "code",
   "execution_count": 40,
   "id": "d0806914-c783-480a-8549-f61439fc9340",
   "metadata": {},
   "outputs": [
    {
     "data": {
      "text/plain": [
       "<matplotlib.lines.Line2D at 0x13538863250>"
      ]
     },
     "execution_count": 40,
     "metadata": {},
     "output_type": "execute_result"
    },
    {
     "data": {
      "image/png": "[encoded data removed]",
      "text/plain": [
       "<Figure size 432x288 with 1 Axes>"
      ]
     },
     "metadata": {
      "needs_background": "light"
     },
     "output_type": "display_data"
    }
   ],
   "source": [
    "pd.DataFrame(boot2_wald).plot.hist(bins=50).axvline(wald_stat2, color='red')"
   ]
  },
  {
   "cell_type": "markdown",
   "id": "d529c2b7-4936-4ee7-963d-e562a0a14e13",
   "metadata": {
    "jp-MarkdownHeadingCollapsed": true,
    "tags": []
   },
   "source": [
    "### CPI Bootstrap"
   ]
  },
  {
   "cell_type": "code",
   "execution_count": 168,
   "id": "e3bfda24-939d-46f8-9bba-313f5a0723af",
   "metadata": {},
   "outputs": [],
   "source": [
    "y_cpi = cpi['cpi_yoy'].loc['1973-04':].iloc[2:]"
   ]
  },
  {
   "cell_type": "code",
   "execution_count": 24,
   "id": "a87b665c-7ab3-4ad2-8cb2-f8caa743b494",
   "metadata": {},
   "outputs": [],
   "source": [
    "sample_df_cpi = pd.concat([y_cpi, controls, assets], axis=1)\n",
    "n = len(sample_df_cpi)"
   ]
  },
  {
   "cell_type": "code",
   "execution_count": 25,
   "id": "86a5f5fd-aa4e-4fad-b97f-daa31e8a5bae",
   "metadata": {},
   "outputs": [],
   "source": [
    "boot_cpi_wald = []\n",
    "n_boots = 10000\n",
    "\n",
    "for _ in range(n_boots):\n",
    "    boot_df = sample_df_cpi.sample(n=n, replace=True)\n",
    "    \n",
    "    boot_model = sm.OLS(boot_df['cpi_yoy'], boot_df.iloc[:,1:]).fit(cov_type='HAC', cov_kwds={'maxlags':12})\n",
    "    \n",
    "    coeffs_0 = [x + '=0' for x in boot_df.iloc[:,-8:]]\n",
    "    boot_cpi_wald.append(boot_model.wald_test(','.join(coeffs_0), scalar=True, use_f=False).statistic)\n",
    "\n",
    "boot_cpi_wald = np.array(boot_cpi_wald)"
   ]
  },
  {
   "cell_type": "code",
   "execution_count": 26,
   "id": "efdca130-bde6-444b-ac08-2747455d9bcc",
   "metadata": {},
   "outputs": [
    {
     "name": "stdout",
     "output_type": "stream",
     "text": [
      " 0.08030\n"
     ]
    }
   ],
   "source": [
    "empirical_p_cpi = np.sum(boot_cpi_wald <= wald_stat_cpi)/len(boot_cpi_wald)\n",
    "print(f'{empirical_p_cpi: 0.5f}')"
   ]
  },
  {
   "cell_type": "code",
   "execution_count": 41,
   "id": "b2d342bd-1a10-40a6-aeec-a6df72b55ac2",
   "metadata": {},
   "outputs": [
    {
     "data": {
      "text/plain": [
       "<matplotlib.lines.Line2D at 0x13538b7b610>"
      ]
     },
     "execution_count": 41,
     "metadata": {},
     "output_type": "execute_result"
    },
    {
     "data": {
      "image/png": "[encoded data removed]",
      "text/plain": [
       "<Figure size 432x288 with 1 Axes>"
      ]
     },
     "metadata": {
      "needs_background": "light"
     },
     "output_type": "display_data"
    }
   ],
   "source": [
    "pd.DataFrame(boot_cpi_wald).plot.hist(bins=50).axvline(wald_stat_cpi, color='red')"
   ]
  },
  {
   "cell_type": "markdown",
   "id": "846a4b08-a160-43e4-9b91-bf24bc132eb4",
   "metadata": {
    "tags": []
   },
   "source": [
    "#### Non-Moving Block Bootstrap\n",
    "1) Partition the sample into b blocks of length l (retains time series order)\n",
    "2) Randomly sample (with replacement) blocks of the data\n",
    "3) Perform the operation of the bootstrap"
   ]
  },
  {
   "cell_type": "code",
   "execution_count": 122,
   "id": "ed0d883a-929c-4d98-9710-7c9ba6e0b87d",
   "metadata": {},
   "outputs": [],
   "source": [
    "import random"
   ]
  },
  {
   "cell_type": "code",
   "execution_count": 123,
   "id": "604a75aa-386d-4e25-8962-0868eba1edc6",
   "metadata": {},
   "outputs": [],
   "source": [
    "index = np.linspace(0,len(assets),10,0).round().astype('int')\n",
    "\n",
    "boot_sample = []\n",
    "for i in range(len(index)-1):\n",
    "    boot_sample.append(sample_df_cpi.iloc[index[i]:index[i+1]])"
   ]
  },
  {
   "cell_type": "code",
   "execution_count": 125,
   "id": "f735e86d-9f42-4f06-b259-cda94bf5947f",
   "metadata": {},
   "outputs": [],
   "source": [
    "# CPI Block Bootstrap\n",
    "block_boot_cpi_wald = []\n",
    "n_boots = 10000\n",
    "\n",
    "for _ in range(n_boots):\n",
    "    boot_df = pd.concat([random.choice(boot_sample) for i in range(10)]).sort_index()\n",
    "    \n",
    "    boot_model = sm.OLS(boot_df['cpi_yoy'], boot_df.iloc[:,1:]).fit(cov_type='HAC', cov_kwds={'maxlags':12})\n",
    "    \n",
    "    coeffs_0 = [x + '=0' for x in boot_df.iloc[:,-8:]]\n",
    "    block_boot_cpi_wald.append(boot_model.wald_test(','.join(coeffs_0), scalar=True, use_f=False).statistic)\n",
    "\n",
    "block_boot_cpi_wald = np.array(block_boot_cpi_wald)"
   ]
  },
  {
   "cell_type": "code",
   "execution_count": 126,
   "id": "011d1178-f860-47cc-a6ec-de456ba6d2aa",
   "metadata": {},
   "outputs": [
    {
     "data": {
      "text/plain": [
       "<matplotlib.lines.Line2D at 0x1353f579d90>"
      ]
     },
     "execution_count": 126,
     "metadata": {},
     "output_type": "execute_result"
    },
    {
     "data": {
      "image/png": "[encoded data removed]",
      "text/plain": [
       "<Figure size 432x288 with 1 Axes>"
      ]
     },
     "metadata": {
      "needs_background": "light"
     },
     "output_type": "display_data"
    }
   ],
   "source": [
    "pd.DataFrame(block_boot_cpi_wald).plot.hist(bins=50).axvline(wald_stat_cpi, color='red')"
   ]
  },
  {
   "cell_type": "code",
   "execution_count": 127,
   "id": "b8f4d223-2f4e-4b12-b73d-9afc7824d731",
   "metadata": {},
   "outputs": [
    {
     "name": "stdout",
     "output_type": "stream",
     "text": [
      " 0.61960\n"
     ]
    }
   ],
   "source": [
    "empirical_p_cpi_block = np.mean(block_boot_cpi_wald <= wald_stat_cpi)\n",
    "print(f'{empirical_p_cpi_block: 0.5f}')"
   ]
  },
  {
   "cell_type": "markdown",
   "id": "80b6c0b1-6710-4848-9862-1ee6ec43bef1",
   "metadata": {
    "tags": []
   },
   "source": [
    "#### Moving Block Bootstrap\n",
    "1) Decide on block of length l, and then create b blocks of length l, where the data overlaps\n",
    "2) Randomly sample (with replacement) blocks of the data\n",
    "3) Perform the operation of the bootstrap"
   ]
  },
  {
   "cell_type": "code",
   "execution_count": 153,
   "id": "8c5f8f44-6c79-48b6-b0bd-9e8d852e9c3d",
   "metadata": {},
   "outputs": [],
   "source": [
    "index = range(len(assets))\n",
    "\n",
    "boot_sample = []\n",
    "for i in range(len(index)-100):\n",
    "    boot_sample.append(sample_df_cpi.iloc[index[i]:index[i+100]])"
   ]
  },
  {
   "cell_type": "code",
   "execution_count": 154,
   "id": "f6b07df2-3ca1-465c-942d-375d67b94fa3",
   "metadata": {},
   "outputs": [],
   "source": [
    "# CPI Moving Block Bootstrap\n",
    "block_boot_cpi_wald = []\n",
    "n_boots = 10000\n",
    "\n",
    "for _ in range(n_boots):\n",
    "    boot_df = pd.concat([random.choice(boot_sample) for i in range(6)]).sort_index()\n",
    "    \n",
    "    boot_model = sm.OLS(boot_df['cpi_yoy'], boot_df.iloc[:,1:]).fit(cov_type='HAC', cov_kwds={'maxlags':12})\n",
    "    \n",
    "    coeffs_0 = [x + '=0' for x in boot_df.iloc[:,-8:]]\n",
    "    block_boot_cpi_wald.append(boot_model.wald_test(','.join(coeffs_0), scalar=True, use_f=False).statistic)\n",
    "\n",
    "block_boot_cpi_wald = np.array(block_boot_cpi_wald)"
   ]
  },
  {
   "cell_type": "code",
   "execution_count": 155,
   "id": "b2f81365-e2ea-4177-b095-be388c96bc8e",
   "metadata": {},
   "outputs": [
    {
     "data": {
      "text/plain": [
       "<matplotlib.lines.Line2D at 0x1353f69df40>"
      ]
     },
     "execution_count": 155,
     "metadata": {},
     "output_type": "execute_result"
    },
    {
     "data": {
      "image/png": "[encoded data removed]",
      "text/plain": [
       "<Figure size 432x288 with 1 Axes>"
      ]
     },
     "metadata": {
      "needs_background": "light"
     },
     "output_type": "display_data"
    }
   ],
   "source": [
    "pd.DataFrame(block_boot_cpi_wald).plot.hist(bins=50).axvline(wald_stat_cpi, color='red')"
   ]
  },
  {
   "cell_type": "code",
   "execution_count": 156,
   "id": "593c8c0e-ef74-40bc-a094-056784a9912d",
   "metadata": {},
   "outputs": [
    {
     "name": "stdout",
     "output_type": "stream",
     "text": [
      " 0.79510\n"
     ]
    }
   ],
   "source": [
    "empirical_p_cpi_block = np.mean(block_boot_cpi_wald <= wald_stat_cpi)\n",
    "print(f'{empirical_p_cpi_block: 0.5f}')"
   ]
  },
  {
   "cell_type": "markdown",
   "id": "86d4cff2-1bcb-468c-a597-4a091c1d1d6d",
   "metadata": {
    "tags": []
   },
   "source": [
    "## Factor Creation"
   ]
  },
  {
   "cell_type": "markdown",
   "id": "86859840-03c1-4f3f-9b55-5744df322ff7",
   "metadata": {
    "tags": []
   },
   "source": [
    "Since they the regressors are identical in both cases, we can use Multivariate OLS/Seemingly Unrelated Regression, to account for any cross-equation correlation between the error terms. In essence we are mapping the returns of the base assets onto true GDP and CPI values so the output are asset returns."
   ]
  },
  {
   "cell_type": "markdown",
   "id": "6ea9f8a0-a7c6-4d2a-80bb-e7f75cc13986",
   "metadata": {
    "tags": []
   },
   "source": [
    "The factors are constructed as follows.\n",
    "\n",
    "We must demean the macro variables and form the factor by projecting just the asset returns onto the macro variable.\n",
    "\n",
    "First the regression is estimated:\n",
    "\n",
    "<font size=3>\n",
    "$\n",
    "\\%\\Delta GDP_{t,t+k} = a + cB_{t-1,t} + kZ_{t-2,t-1} + e_{t,t+12}\n",
    "$\n",
    "</font>\n",
    "\n",
    "\n",
    "Where $Z$ is a vector of controls, and $B$ are the zero-investment base assets.\n",
    "\n",
    "Then the macro factor expressed in terms of asset returns is:\n",
    "\n",
    "<font size=3>\n",
    "$\n",
    "GDP_{t-1,t} = \\hat{c} B_{t-1,t}\n",
    "$\n",
    "</font>"
   ]
  },
  {
   "cell_type": "markdown",
   "id": "07deac12-744b-4791-bbe0-7c7ea24020c1",
   "metadata": {},
   "source": [
    "### GDP and CPI Correlations\n",
    "At every frequency GDP and CPI are relatively uncorrelated so there is no need to orthogonalize them."
   ]
  },
  {
   "cell_type": "code",
   "execution_count": 216,
   "id": "7316ae3e-ecd4-4c39-b2c1-8692b168a84b",
   "metadata": {},
   "outputs": [],
   "source": [
    "macro_m = pd.merge(gdp[['gdp_mom', 'gdp_yoy']], cpi[['cpi_mom', 'cpi_yoy']], left_index=True, right_index=True)\n",
    "macro_q = pd.merge(gdp_q[['gdp_qoq', 'gdp_4qoq']], cpi_q[['cpi_qoq', 'cpi_4qoq']], left_index=True, right_index=True)"
   ]
  },
  {
   "cell_type": "code",
   "execution_count": 227,
   "id": "995a8258-5f40-4652-94cb-6ca7f979f3b3",
   "metadata": {},
   "outputs": [
    {
     "data": {
      "text/html": [
       "<div>\n",
       "<style scoped>\n",
       "    .dataframe tbody tr th:only-of-type {\n",
       "        vertical-align: middle;\n",
       "    }\n",
       "\n",
       "    .dataframe tbody tr th {\n",
       "        vertical-align: top;\n",
       "    }\n",
       "\n",
       "    .dataframe thead th {\n",
       "        text-align: right;\n",
       "    }\n",
       "</style>\n",
       "<table border=\"1\" class=\"dataframe\">\n",
       "  <thead>\n",
       "    <tr style=\"text-align: right;\">\n",
       "      <th></th>\n",
       "      <th>gdp_yoy</th>\n",
       "      <th>cpi_yoy</th>\n",
       "      <th>gdp_mom</th>\n",
       "      <th>cpi_mom</th>\n",
       "      <th>gdp_qoq</th>\n",
       "      <th>cpi_qoq</th>\n",
       "      <th>gdp_4qoq</th>\n",
       "      <th>cpi_4qoq</th>\n",
       "    </tr>\n",
       "  </thead>\n",
       "  <tbody>\n",
       "    <tr>\n",
       "      <th>gdp_yoy</th>\n",
       "      <td>1.00000</td>\n",
       "      <td>-0.07249</td>\n",
       "      <td>NaN</td>\n",
       "      <td>NaN</td>\n",
       "      <td>NaN</td>\n",
       "      <td>NaN</td>\n",
       "      <td>NaN</td>\n",
       "      <td>NaN</td>\n",
       "    </tr>\n",
       "    <tr>\n",
       "      <th>cpi_yoy</th>\n",
       "      <td>-0.07249</td>\n",
       "      <td>1.00000</td>\n",
       "      <td>NaN</td>\n",
       "      <td>NaN</td>\n",
       "      <td>NaN</td>\n",
       "      <td>NaN</td>\n",
       "      <td>NaN</td>\n",
       "      <td>NaN</td>\n",
       "    </tr>\n",
       "    <tr>\n",
       "      <th>gdp_mom</th>\n",
       "      <td>NaN</td>\n",
       "      <td>NaN</td>\n",
       "      <td>1.000000</td>\n",
       "      <td>0.046926</td>\n",
       "      <td>NaN</td>\n",
       "      <td>NaN</td>\n",
       "      <td>NaN</td>\n",
       "      <td>NaN</td>\n",
       "    </tr>\n",
       "    <tr>\n",
       "      <th>cpi_mom</th>\n",
       "      <td>NaN</td>\n",
       "      <td>NaN</td>\n",
       "      <td>0.046926</td>\n",
       "      <td>1.000000</td>\n",
       "      <td>NaN</td>\n",
       "      <td>NaN</td>\n",
       "      <td>NaN</td>\n",
       "      <td>NaN</td>\n",
       "    </tr>\n",
       "    <tr>\n",
       "      <th>gdp_qoq</th>\n",
       "      <td>NaN</td>\n",
       "      <td>NaN</td>\n",
       "      <td>NaN</td>\n",
       "      <td>NaN</td>\n",
       "      <td>1.000000</td>\n",
       "      <td>-0.107612</td>\n",
       "      <td>NaN</td>\n",
       "      <td>NaN</td>\n",
       "    </tr>\n",
       "    <tr>\n",
       "      <th>cpi_qoq</th>\n",
       "      <td>NaN</td>\n",
       "      <td>NaN</td>\n",
       "      <td>NaN</td>\n",
       "      <td>NaN</td>\n",
       "      <td>-0.107612</td>\n",
       "      <td>1.000000</td>\n",
       "      <td>NaN</td>\n",
       "      <td>NaN</td>\n",
       "    </tr>\n",
       "    <tr>\n",
       "      <th>gdp_4qoq</th>\n",
       "      <td>NaN</td>\n",
       "      <td>NaN</td>\n",
       "      <td>NaN</td>\n",
       "      <td>NaN</td>\n",
       "      <td>NaN</td>\n",
       "      <td>NaN</td>\n",
       "      <td>1.00000</td>\n",
       "      <td>-0.16212</td>\n",
       "    </tr>\n",
       "    <tr>\n",
       "      <th>cpi_4qoq</th>\n",
       "      <td>NaN</td>\n",
       "      <td>NaN</td>\n",
       "      <td>NaN</td>\n",
       "      <td>NaN</td>\n",
       "      <td>NaN</td>\n",
       "      <td>NaN</td>\n",
       "      <td>-0.16212</td>\n",
       "      <td>1.00000</td>\n",
       "    </tr>\n",
       "  </tbody>\n",
       "</table>\n",
       "</div>"
      ],
      "text/plain": [
       "          gdp_yoy  cpi_yoy   gdp_mom   cpi_mom   gdp_qoq   cpi_qoq  gdp_4qoq  \\\n",
       "gdp_yoy   1.00000 -0.07249       NaN       NaN       NaN       NaN       NaN   \n",
       "cpi_yoy  -0.07249  1.00000       NaN       NaN       NaN       NaN       NaN   \n",
       "gdp_mom       NaN      NaN  1.000000  0.046926       NaN       NaN       NaN   \n",
       "cpi_mom       NaN      NaN  0.046926  1.000000       NaN       NaN       NaN   \n",
       "gdp_qoq       NaN      NaN       NaN       NaN  1.000000 -0.107612       NaN   \n",
       "cpi_qoq       NaN      NaN       NaN       NaN -0.107612  1.000000       NaN   \n",
       "gdp_4qoq      NaN      NaN       NaN       NaN       NaN       NaN   1.00000   \n",
       "cpi_4qoq      NaN      NaN       NaN       NaN       NaN       NaN  -0.16212   \n",
       "\n",
       "          cpi_4qoq  \n",
       "gdp_yoy        NaN  \n",
       "cpi_yoy        NaN  \n",
       "gdp_mom        NaN  \n",
       "cpi_mom        NaN  \n",
       "gdp_qoq        NaN  \n",
       "cpi_qoq        NaN  \n",
       "gdp_4qoq  -0.16212  \n",
       "cpi_4qoq   1.00000  "
      ]
     },
     "execution_count": 227,
     "metadata": {},
     "output_type": "execute_result"
    }
   ],
   "source": [
    "macro_m[['gdp_yoy', 'cpi_yoy']].corr()\n",
    "\n",
    "pd.concat([macro_m[['gdp_yoy', 'cpi_yoy']].corr(), \n",
    "           macro_m[['gdp_mom', 'cpi_mom']].corr(),\n",
    "           macro_q[['gdp_qoq', 'cpi_qoq']].corr(),\n",
    "           macro_q[['gdp_4qoq', 'cpi_4qoq']].corr()])"
   ]
  },
  {
   "cell_type": "markdown",
   "id": "8f256a0b-ef52-4204-99f2-c28d35a17992",
   "metadata": {
    "tags": []
   },
   "source": [
    "### Systems Estimation"
   ]
  },
  {
   "cell_type": "code",
   "execution_count": 238,
   "id": "f420b673-83f4-4f2c-8611-1f320774da52",
   "metadata": {},
   "outputs": [],
   "source": [
    "from linearmodels.system.model import SUR"
   ]
  },
  {
   "cell_type": "code",
   "execution_count": 241,
   "id": "454e7dfb-2eb8-486e-993a-4456f56c731e",
   "metadata": {},
   "outputs": [],
   "source": [
    "# Monthly Data\n",
    "controls = sm.add_constant(predictors.iloc[:,-3:].shift(2).dropna())\n",
    "constant = controls.iloc[:,0]\n",
    "assets = predictors.iloc[1:,0:8].shift(1).dropna()\n",
    "\n",
    "gdp_mom = gdp['gdp_mom'].loc['1973-04':].iloc[2:]\n",
    "gdp_yoy = gdp['gdp_yoy'].loc['1973-04':].iloc[2:]\n",
    "\n",
    "cpi_mom = cpi['cpi_mom'].loc['1973-04':].iloc[2:]\n",
    "cpi_yoy = cpi['cpi_yoy'].loc['1973-04':].iloc[2:]\n",
    "\n",
    "\n",
    "# Quarterly Data\n",
    "controls_q = sm.add_constant(predictors_q.iloc[:-2,-3:].shift(2).dropna())\n",
    "constant_q = controls_q.iloc[:-2,0]\n",
    "assets_q = predictors_q.iloc[1:-2,0:8].shift(1).dropna()\n",
    "\n",
    "gdp_qoq = gdp_q['gdp_qoq'].loc['1973-09':]\n",
    "gdp_4qoq = gdp_q['gdp_4qoq'].loc['1973-09':]\n",
    "\n",
    "cpi_qoq = cpi_q['cpi_qoq'].loc['1973-09':]\n",
    "cpi_4qoq = cpi_q['cpi_4qoq'].loc['1973-09':]"
   ]
  },
  {
   "cell_type": "code",
   "execution_count": 245,
   "id": "4a56e6e7-2ec3-4248-8d65-85e9848e313e",
   "metadata": {},
   "outputs": [],
   "source": [
    "# GDP and CPI Stacked\n",
    "y_mom = pd.merge(gdp_mom, cpi_mom, left_index=True, right_index=True)\n",
    "y_yoy = pd.merge(gdp_yoy, cpi_yoy, left_index=True, right_index=True)\n",
    "\n",
    "y = pd.merge(y_mom, y_yoy, left_index=True, right_index=True)\n",
    "X = sm.add_constant(pd.concat([controls, assets], axis=1))\n",
    "\n",
    "\n",
    "y_qoq = pd.merge(gdp_qoq, cpi_qoq, left_index=True, right_index=True)\n",
    "y_4qoq = pd.merge(gdp_4qoq, cpi_4qoq, left_index=True, right_index=True)\n",
    "\n",
    "y_q = pd.merge(y_qoq, y_4qoq, left_index=True, right_index=True)\n",
    "X_q = sm.add_constant(pd.concat([controls_q, assets_q], axis=1))"
   ]
  },
  {
   "cell_type": "code",
   "execution_count": 246,
   "id": "e9210891-2656-441d-be91-5fc2ee2110b8",
   "metadata": {},
   "outputs": [],
   "source": [
    "# Factor Models\n",
    "monthly_model = SUR.multivariate_ls(y, X).fit(cov_type='kernel', kernel='bartlett')\n",
    "\n",
    "quarterly_model = SUR.multivariate_ls(y_q, X_q).fit(cov_type='kernel', kernel='bartlett')"
   ]
  },
  {
   "cell_type": "code",
   "execution_count": 247,
   "id": "1f4e62d9-10dd-40f0-ab7e-785db3e7a0bc",
   "metadata": {},
   "outputs": [
    {
     "name": "stdout",
     "output_type": "stream",
     "text": [
      "                           System OLS Estimation Summary                           \n",
      "===================================================================================\n",
      "Estimator:                        OLS   Overall R-squared:                   0.3964\n",
      "No. Equations.:                     4   McElroy's R-squared:                 0.3073\n",
      "No. Observations:                 595   Judge's (OLS) R-squared:             0.3964\n",
      "Date:                Sat, Mar 18 2023   Berndt's R-squared:                  0.7395\n",
      "Time:                        16:04:47   Dhrymes's R-squared:                 0.3964\n",
      "                                        Cov. Estimator:                      kernel\n",
      "                                        Num. Constraints:                      None\n",
      "                Equation: gdp_mom, Dependent Variable: gdp_mom                \n",
      "==============================================================================\n",
      "            Parameter  Std. Err.     T-stat    P-value    Lower CI    Upper CI\n",
      "------------------------------------------------------------------------------\n",
      "const          0.0015     0.0010     1.5081     0.1315     -0.0004      0.0034\n",
      "defy          -0.1482     0.0557    -2.6618     0.0078     -0.2573     -0.0391\n",
      "termy          0.0848     0.0297     2.8574     0.0043      0.0266      0.1430\n",
      "rf             0.2589     0.1501     1.7249     0.0846     -0.0353      0.5530\n",
      "SL            -0.0057     0.0088    -0.6474     0.5173     -0.0228      0.0115\n",
      "SM            -0.0270     0.0294    -0.9168     0.3592     -0.0846      0.0307\n",
      "SH             0.0347     0.0285     1.2142     0.2247     -0.0213      0.0906\n",
      "BL            -0.0042     0.0126    -0.3334     0.7388     -0.0288      0.0204\n",
      "HM             0.0096     0.0148     0.6528     0.5139     -0.0193      0.0386\n",
      "BH             0.0061     0.0127     0.4805     0.6308     -0.0188      0.0310\n",
      "def            0.1008     0.0673     1.4986     0.1340     -0.0310      0.2327\n",
      "term           0.0036     0.0088     0.4072     0.6839     -0.0137      0.0208\n",
      "                Equation: cpi_mom, Dependent Variable: cpi_mom                \n",
      "==============================================================================\n",
      "            Parameter  Std. Err.     T-stat    P-value    Lower CI    Upper CI\n",
      "------------------------------------------------------------------------------\n",
      "const          0.0031     0.0008     4.0058     0.0001      0.0016      0.0046\n",
      "defy          -0.0495     0.0539    -0.9187     0.3582     -0.1552      0.0561\n",
      "termy         -0.0571     0.0244    -2.3460     0.0190     -0.1049     -0.0094\n",
      "rf             0.3937     0.0903     4.3597     0.0000      0.2167      0.5707\n",
      "SL             0.0079     0.0081     0.9732     0.3304     -0.0080      0.0237\n",
      "SM            -0.0130     0.0155    -0.8391     0.4014     -0.0432      0.0173\n",
      "SH             0.0017     0.0088     0.1903     0.8490     -0.0156      0.0189\n",
      "BL            -0.0129     0.0081    -1.5949     0.1107     -0.0287      0.0029\n",
      "HM             0.0030     0.0119     0.2524     0.8007     -0.0204      0.0264\n",
      "BH             0.0068     0.0081     0.8429     0.3993     -0.0090      0.0226\n",
      "def            0.0063     0.0071     0.8775     0.3802     -0.0077      0.0203\n",
      "term          -0.0173     0.0040    -4.3041     0.0000     -0.0252     -0.0094\n",
      "                Equation: gdp_yoy, Dependent Variable: gdp_yoy                \n",
      "==============================================================================\n",
      "            Parameter  Std. Err.     T-stat    P-value    Lower CI    Upper CI\n",
      "------------------------------------------------------------------------------\n",
      "const          0.0321     0.0081     3.9390     0.0001      0.0161      0.0480\n",
      "defy          -3.3660     0.5767    -5.8363     0.0000     -4.4963     -2.2356\n",
      "termy          0.8981     0.3729     2.4087     0.0160      0.1673      1.6289\n",
      "rf             4.6939     1.7027     2.7567     0.0058      1.3566      8.0312\n",
      "SL            -0.1685     0.0943    -1.7872     0.0739     -0.3532      0.0163\n",
      "SM             0.3097     0.2063     1.5012     0.1333     -0.0946      0.7140\n",
      "SH            -0.1659     0.1363    -1.2171     0.2236     -0.4331      0.1013\n",
      "BL            -0.0002     0.0853    -0.0018     0.9986     -0.1673      0.1670\n",
      "HM             0.0355     0.0774     0.4583     0.6467     -0.1162      0.1871\n",
      "BH             0.0180     0.0372     0.4824     0.6295     -0.0550      0.0909\n",
      "def            0.0969     0.0645     1.5028     0.1329     -0.0295      0.2232\n",
      "term          -0.0264     0.0232    -1.1389     0.2548     -0.0720      0.0191\n",
      "                Equation: cpi_yoy, Dependent Variable: cpi_yoy                \n",
      "==============================================================================\n",
      "            Parameter  Std. Err.     T-stat    P-value    Lower CI    Upper CI\n",
      "------------------------------------------------------------------------------\n",
      "const          0.0237     0.0084     2.8074     0.0050      0.0071      0.0402\n",
      "defy           0.5372     0.6262     0.8578     0.3910     -0.6902      1.7646\n",
      "termy         -0.6344     0.2569    -2.4694     0.0135     -1.1379     -0.1309\n",
      "rf             4.7818     1.1291     4.2350     0.0000      2.5688      6.9948\n",
      "SL             0.1046     0.0648     1.6144     0.1064     -0.0224      0.2316\n",
      "SM            -0.1888     0.1025    -1.8416     0.0655     -0.3898      0.0121\n",
      "SH             0.1042     0.0617     1.6879     0.0914     -0.0168      0.2251\n",
      "BL            -0.1225     0.0586    -2.0909     0.0365     -0.2373     -0.0077\n",
      "HM             0.0795     0.0725     1.0970     0.2727     -0.0626      0.2217\n",
      "BH            -0.0087     0.0454    -0.1926     0.8473     -0.0976      0.0802\n",
      "def           -0.1318     0.0466    -2.8294     0.0047     -0.2230     -0.0405\n",
      "term          -0.0719     0.0309    -2.3249     0.0201     -0.1324     -0.0113\n",
      "==============================================================================\n",
      "\n",
      "Covariance Estimator:\n",
      "Kernel (HAC) Covariance (Debiased: False, GLS: False, Kernel: bartlett)\n"
     ]
    }
   ],
   "source": [
    "print(monthly_model)"
   ]
  },
  {
   "cell_type": "code",
   "execution_count": 272,
   "id": "9a5f3b89-0d72-4782-b4bd-1df0d45ed2cb",
   "metadata": {},
   "outputs": [],
   "source": [
    "monthly_coeffs = pd.DataFrame(monthly_model.params).reset_index()\n",
    "monthly_coeffs = monthly_coeffs[~(monthly_coeffs['index'].str.contains('const|defy|termy|rf'))]\n",
    "\n",
    "quarterly_coeffs = pd.DataFrame(quarterly_model.params).reset_index()\n",
    "quarterly_coeffs = quarterly_coeffs[~(quarterly_coeffs['index'].str.contains('const|defy|termy|rf'))]"
   ]
  },
  {
   "cell_type": "code",
   "execution_count": 283,
   "id": "eb494ca7-7908-413c-804f-4e2e6256dbb5",
   "metadata": {},
   "outputs": [],
   "source": [
    "# Monthly Coefficients\n",
    "gdp_mom_coeffs = monthly_coeffs[(monthly_coeffs['index'].str.contains('gdp_mom'))]['params']\n",
    "cpi_mom_coeffs = monthly_coeffs[(monthly_coeffs['index'].str.contains('cpi_mom'))]['params']\n",
    "\n",
    "gdp_yoy_coeffs = monthly_coeffs[(monthly_coeffs['index'].str.contains('gdp_yoy'))]['params']\n",
    "cpi_yoy_coeffs = monthly_coeffs[(monthly_coeffs['index'].str.contains('cpi_yoy'))]['params']\n",
    "\n",
    "# Quarterly Coefficients\n",
    "gdp_qoq_coeffs = quarterly_coeffs[(quarterly_coeffs['index'].str.contains('gdp_qoq'))]['params']\n",
    "cpi_qoq_coeffs = quarterly_coeffs[(quarterly_coeffs['index'].str.contains('cpi_qoq'))]['params']\n",
    "\n",
    "gdp_4qoq_coeffs = quarterly_coeffs[(quarterly_coeffs['index'].str.contains('gdp_4qoq'))]['params']\n",
    "cpi_4qoq_coeffs = quarterly_coeffs[(quarterly_coeffs['index'].str.contains('cpi_4qoq'))]['params']\n",
    "\n",
    "\n",
    "# Factors\n",
    "gdp_mom_factor = gdp_mom_coeffs @ assets.values.T\n",
    "cpi_mom_factor = cpi_mom_coeffs @ assets.values.T\n",
    "\n",
    "gdp_yoy_factor = gdp_yoy_coeffs @ assets.values.T\n",
    "cpi_yoy_factor = cpi_yoy_coeffs @ assets.values.T\n",
    "\n",
    "gdp_qoq_factor = gdp_qoq_coeffs @ assets_q.values.T\n",
    "cpi_qoq_factor = cpi_qoq_coeffs @ assets_q.values.T\n",
    "\n",
    "gdp_4qoq_factor = gdp_4qoq_coeffs @ assets_q.values.T\n",
    "cpi_4qoq_factor = cpi_4qoq_coeffs @ assets_q.values.T\n",
    "\n",
    "\n",
    "monthly_factors = pd.DataFrame({'gdp_mom':gdp_mom_factor, 'cpi_mom':cpi_mom_factor,\n",
    "                                'gdp_yoy':gdp_yoy_factor, 'cpi_yoy':cpi_yoy_factor}, index=assets.index)\n",
    "\n",
    "quarterly_factors = pd.DataFrame({'gdp_qoq':gdp_qoq_factor, 'cpi_qoq':cpi_qoq_factor,\n",
    "                                'gdp_4qoq':gdp_4qoq_factor, 'cpi_4qoq':cpi_4qoq_factor}, index=assets_q.index)"
   ]
  },
  {
   "cell_type": "code",
   "execution_count": 321,
   "id": "d521a405-7783-46f1-bf89-1aab8889ca96",
   "metadata": {},
   "outputs": [],
   "source": [
    "gdp_mom_coeffs, cpi_mom_coeffs, gdp_yoy_coeffs, cpi_yoy_coeffs = [monthly_coeffs[monthly_coeffs['index'].str.contains(var)]['params'] \n",
    "                                                                  for var in ['gdp_mom', 'cpi_mom', 'gdp_yoy', 'cpi_yoy']]\n",
    "\n",
    "gdp_qoq_coeffs, cpi_qoq_coeffs, gdp_4qoq_coeffs, cpi_4qoq_coeffs = [quarterly_coeffs[quarterly_coeffs['index'].str.contains(var)]['params'] \n",
    "                                                                    for var in ['gdp_qoq', 'cpi_qoq', 'gdp_4qoq', 'cpi_4qoq']]\n",
    "\n",
    "\n",
    "monthly_factors = pd.DataFrame({var:coeffs @ assets.values.T for var, coeffs in zip(['gdp_mom', 'cpi_mom', 'gdp_yoy', 'cpi_yoy'], [gdp_mom_coeffs, cpi_mom_coeffs, gdp_yoy_coeffs, cpi_yoy_coeffs])}, index=assets.index)\n",
    "quarterly_factors = pd.DataFrame({var:coeffs @ assets_q.values.T for var, coeffs in zip(['gdp_qoq', 'cpi_qoq', 'gdp_4qoq', 'cpi_4qoq'], [gdp_qoq_coeffs, cpi_qoq_coeffs, gdp_4qoq_coeffs, cpi_4qoq_coeffs])}, index=assets_q.index)\n"
   ]
  },
  {
   "cell_type": "markdown",
   "id": "b1f4bc0b-bcbb-40ef-b2fc-4e4b9d29cf0e",
   "metadata": {},
   "source": [
    "### Factor Summary Statistics"
   ]
  },
  {
   "cell_type": "code",
   "execution_count": 285,
   "id": "96831eda-8966-4b61-879e-c4190d591f77",
   "metadata": {},
   "outputs": [
    {
     "data": {
      "text/html": [
       "<div>\n",
       "<style scoped>\n",
       "    .dataframe tbody tr th:only-of-type {\n",
       "        vertical-align: middle;\n",
       "    }\n",
       "\n",
       "    .dataframe tbody tr th {\n",
       "        vertical-align: top;\n",
       "    }\n",
       "\n",
       "    .dataframe thead th {\n",
       "        text-align: right;\n",
       "    }\n",
       "</style>\n",
       "<table border=\"1\" class=\"dataframe\">\n",
       "  <thead>\n",
       "    <tr style=\"text-align: right;\">\n",
       "      <th></th>\n",
       "      <th>gdp_mom</th>\n",
       "      <th>cpi_mom</th>\n",
       "      <th>gdp_yoy</th>\n",
       "      <th>cpi_yoy</th>\n",
       "    </tr>\n",
       "  </thead>\n",
       "  <tbody>\n",
       "    <tr>\n",
       "      <th>count</th>\n",
       "      <td>595.000000</td>\n",
       "      <td>595.000000</td>\n",
       "      <td>595.000000</td>\n",
       "      <td>595.000000</td>\n",
       "    </tr>\n",
       "    <tr>\n",
       "      <th>mean</th>\n",
       "      <td>0.000156</td>\n",
       "      <td>-0.000105</td>\n",
       "      <td>0.000410</td>\n",
       "      <td>-0.000483</td>\n",
       "    </tr>\n",
       "    <tr>\n",
       "      <th>std</th>\n",
       "      <td>0.002537</td>\n",
       "      <td>0.000828</td>\n",
       "      <td>0.004944</td>\n",
       "      <td>0.004336</td>\n",
       "    </tr>\n",
       "    <tr>\n",
       "      <th>min</th>\n",
       "      <td>-0.023668</td>\n",
       "      <td>-0.003632</td>\n",
       "      <td>-0.026492</td>\n",
       "      <td>-0.015349</td>\n",
       "    </tr>\n",
       "    <tr>\n",
       "      <th>25%</th>\n",
       "      <td>-0.000774</td>\n",
       "      <td>-0.000575</td>\n",
       "      <td>-0.002418</td>\n",
       "      <td>-0.002939</td>\n",
       "    </tr>\n",
       "    <tr>\n",
       "      <th>50%</th>\n",
       "      <td>0.000285</td>\n",
       "      <td>-0.000085</td>\n",
       "      <td>0.000450</td>\n",
       "      <td>-0.000581</td>\n",
       "    </tr>\n",
       "    <tr>\n",
       "      <th>75%</th>\n",
       "      <td>0.001248</td>\n",
       "      <td>0.000413</td>\n",
       "      <td>0.003171</td>\n",
       "      <td>0.001920</td>\n",
       "    </tr>\n",
       "    <tr>\n",
       "      <th>max</th>\n",
       "      <td>0.011266</td>\n",
       "      <td>0.002469</td>\n",
       "      <td>0.017364</td>\n",
       "      <td>0.019616</td>\n",
       "    </tr>\n",
       "  </tbody>\n",
       "</table>\n",
       "</div>"
      ],
      "text/plain": [
       "          gdp_mom     cpi_mom     gdp_yoy     cpi_yoy\n",
       "count  595.000000  595.000000  595.000000  595.000000\n",
       "mean     0.000156   -0.000105    0.000410   -0.000483\n",
       "std      0.002537    0.000828    0.004944    0.004336\n",
       "min     -0.023668   -0.003632   -0.026492   -0.015349\n",
       "25%     -0.000774   -0.000575   -0.002418   -0.002939\n",
       "50%      0.000285   -0.000085    0.000450   -0.000581\n",
       "75%      0.001248    0.000413    0.003171    0.001920\n",
       "max      0.011266    0.002469    0.017364    0.019616"
      ]
     },
     "execution_count": 285,
     "metadata": {},
     "output_type": "execute_result"
    }
   ],
   "source": [
    "monthly_factors.describe()"
   ]
  },
  {
   "cell_type": "code",
   "execution_count": 292,
   "id": "94a99ebe-ee64-416f-884b-3ff19f1f9883",
   "metadata": {},
   "outputs": [
    {
     "data": {
      "text/plain": [
       "gdp_mom    0.001876\n",
       "cpi_mom   -0.001255\n",
       "gdp_yoy    0.004928\n",
       "cpi_yoy   -0.005782\n",
       "Name: mean, dtype: float64"
      ]
     },
     "execution_count": 292,
     "metadata": {},
     "output_type": "execute_result"
    }
   ],
   "source": [
    "# Annualized average returns\n",
    "((1+monthly_factors.describe().loc['mean'])**12)-1"
   ]
  },
  {
   "cell_type": "code",
   "execution_count": 293,
   "id": "0d5628d6-369d-41c6-b191-2294f8bf7cc9",
   "metadata": {},
   "outputs": [
    {
     "data": {
      "text/html": [
       "<div>\n",
       "<style scoped>\n",
       "    .dataframe tbody tr th:only-of-type {\n",
       "        vertical-align: middle;\n",
       "    }\n",
       "\n",
       "    .dataframe tbody tr th {\n",
       "        vertical-align: top;\n",
       "    }\n",
       "\n",
       "    .dataframe thead th {\n",
       "        text-align: right;\n",
       "    }\n",
       "</style>\n",
       "<table border=\"1\" class=\"dataframe\">\n",
       "  <thead>\n",
       "    <tr style=\"text-align: right;\">\n",
       "      <th></th>\n",
       "      <th>gdp_qoq</th>\n",
       "      <th>cpi_qoq</th>\n",
       "      <th>gdp_4qoq</th>\n",
       "      <th>cpi_4qoq</th>\n",
       "    </tr>\n",
       "  </thead>\n",
       "  <tbody>\n",
       "    <tr>\n",
       "      <th>count</th>\n",
       "      <td>196.000000</td>\n",
       "      <td>196.000000</td>\n",
       "      <td>196.000000</td>\n",
       "      <td>196.000000</td>\n",
       "    </tr>\n",
       "    <tr>\n",
       "      <th>mean</th>\n",
       "      <td>0.000643</td>\n",
       "      <td>-0.001143</td>\n",
       "      <td>0.001605</td>\n",
       "      <td>-0.002433</td>\n",
       "    </tr>\n",
       "    <tr>\n",
       "      <th>std</th>\n",
       "      <td>0.006135</td>\n",
       "      <td>0.003161</td>\n",
       "      <td>0.008166</td>\n",
       "      <td>0.007178</td>\n",
       "    </tr>\n",
       "    <tr>\n",
       "      <th>min</th>\n",
       "      <td>-0.034030</td>\n",
       "      <td>-0.011667</td>\n",
       "      <td>-0.044525</td>\n",
       "      <td>-0.024606</td>\n",
       "    </tr>\n",
       "    <tr>\n",
       "      <th>25%</th>\n",
       "      <td>-0.001832</td>\n",
       "      <td>-0.002708</td>\n",
       "      <td>-0.002011</td>\n",
       "      <td>-0.006698</td>\n",
       "    </tr>\n",
       "    <tr>\n",
       "      <th>50%</th>\n",
       "      <td>0.000667</td>\n",
       "      <td>-0.001035</td>\n",
       "      <td>0.001869</td>\n",
       "      <td>-0.002742</td>\n",
       "    </tr>\n",
       "    <tr>\n",
       "      <th>75%</th>\n",
       "      <td>0.002780</td>\n",
       "      <td>0.000728</td>\n",
       "      <td>0.005577</td>\n",
       "      <td>0.001846</td>\n",
       "    </tr>\n",
       "    <tr>\n",
       "      <th>max</th>\n",
       "      <td>0.029051</td>\n",
       "      <td>0.007712</td>\n",
       "      <td>0.026502</td>\n",
       "      <td>0.018293</td>\n",
       "    </tr>\n",
       "  </tbody>\n",
       "</table>\n",
       "</div>"
      ],
      "text/plain": [
       "          gdp_qoq     cpi_qoq    gdp_4qoq    cpi_4qoq\n",
       "count  196.000000  196.000000  196.000000  196.000000\n",
       "mean     0.000643   -0.001143    0.001605   -0.002433\n",
       "std      0.006135    0.003161    0.008166    0.007178\n",
       "min     -0.034030   -0.011667   -0.044525   -0.024606\n",
       "25%     -0.001832   -0.002708   -0.002011   -0.006698\n",
       "50%      0.000667   -0.001035    0.001869   -0.002742\n",
       "75%      0.002780    0.000728    0.005577    0.001846\n",
       "max      0.029051    0.007712    0.026502    0.018293"
      ]
     },
     "execution_count": 293,
     "metadata": {},
     "output_type": "execute_result"
    }
   ],
   "source": [
    "quarterly_factors.describe()"
   ]
  },
  {
   "cell_type": "code",
   "execution_count": 297,
   "id": "0222ccf4-7e46-4f12-992b-9d35ce066f05",
   "metadata": {},
   "outputs": [
    {
     "data": {
      "text/plain": [
       "gdp_qoq     0.002573\n",
       "cpi_qoq    -0.004566\n",
       "gdp_4qoq    0.006435\n",
       "cpi_4qoq   -0.009697\n",
       "Name: mean, dtype: float64"
      ]
     },
     "execution_count": 297,
     "metadata": {},
     "output_type": "execute_result"
    }
   ],
   "source": [
    "# Annualized average returns\n",
    "((1+quarterly_factors.describe().loc['mean'])**4)-1"
   ]
  },
  {
   "cell_type": "code",
   "execution_count": 301,
   "id": "01ac8d7e-5015-46cb-918a-4b5160c829bb",
   "metadata": {},
   "outputs": [],
   "source": [
    "# monthly_factors.to_csv('monthly_factors.csv')\n",
    "# quarterly_factors.to_csv('quarterly_factors.csv')"
   ]
  },
  {
   "cell_type": "markdown",
   "id": "682eaf84-e75e-4fff-837d-fe877ca1b338",
   "metadata": {},
   "source": [
    "### Factor Plots"
   ]
  },
  {
   "cell_type": "code",
   "execution_count": 302,
   "id": "fcef658e-89b5-4133-aad2-eb3379ae9b0d",
   "metadata": {},
   "outputs": [],
   "source": [
    "import matplotlib.pyplot as plt\n",
    "plt.style.use('seaborn-whitegrid')"
   ]
  },
  {
   "cell_type": "code",
   "execution_count": 314,
   "id": "0ad29d6f-f17b-44b1-8abc-2e5c414bb292",
   "metadata": {},
   "outputs": [],
   "source": [
    "# Plots of factors vs actual values\n",
    "# pd.DataFrame({'True GDP':gdp_yoy, 'GDP Factor':gdp_yoy_factor, 'Fitted GDP':monthly_model.predict()['gdp_yoy'].iloc[:,0]}).iloc[:-36].plot(figsize=(16,8))"
   ]
  },
  {
   "cell_type": "code",
   "execution_count": 315,
   "id": "f08b89c9-d1e0-469d-9aeb-5aebceed76be",
   "metadata": {},
   "outputs": [],
   "source": [
    "# pd.DataFrame({'True CPI':y_cpi, 'GDP Factor':cpi_factor, 'Fitted GDP':model.predict()['cpi_yoy'].iloc[:,0]}).plot()"
   ]
  },
  {
   "cell_type": "code",
   "execution_count": 320,
   "id": "b044eab3-96a3-44c2-8703-cc862c117459",
   "metadata": {},
   "outputs": [
    {
     "data": {
      "text/html": [
       "<div>\n",
       "<style scoped>\n",
       "    .dataframe tbody tr th:only-of-type {\n",
       "        vertical-align: middle;\n",
       "    }\n",
       "\n",
       "    .dataframe tbody tr th {\n",
       "        vertical-align: top;\n",
       "    }\n",
       "\n",
       "    .dataframe thead th {\n",
       "        text-align: right;\n",
       "    }\n",
       "</style>\n",
       "<table border=\"1\" class=\"dataframe\">\n",
       "  <thead>\n",
       "    <tr style=\"text-align: right;\">\n",
       "      <th></th>\n",
       "      <th>gdp_mom</th>\n",
       "      <th>cpi_mom</th>\n",
       "      <th>gdp_yoy</th>\n",
       "      <th>cpi_yoy</th>\n",
       "      <th>gdp_mom</th>\n",
       "      <th>cpi_mom</th>\n",
       "      <th>gdp_yoy</th>\n",
       "      <th>cpi_yoy</th>\n",
       "    </tr>\n",
       "  </thead>\n",
       "  <tbody>\n",
       "    <tr>\n",
       "      <th>1973-06-30</th>\n",
       "      <td>0.000376</td>\n",
       "      <td>0.000125</td>\n",
       "      <td>0.007491</td>\n",
       "      <td>-0.005421</td>\n",
       "      <td>-0.002028</td>\n",
       "      <td>0.004566</td>\n",
       "      <td>0.053880</td>\n",
       "      <td>0.053814</td>\n",
       "    </tr>\n",
       "    <tr>\n",
       "      <th>1973-07-31</th>\n",
       "      <td>0.000003</td>\n",
       "      <td>0.000143</td>\n",
       "      <td>0.003785</td>\n",
       "      <td>-0.001024</td>\n",
       "      <td>-0.003585</td>\n",
       "      <td>0.006810</td>\n",
       "      <td>0.049572</td>\n",
       "      <td>0.058224</td>\n",
       "    </tr>\n",
       "    <tr>\n",
       "      <th>1973-08-31</th>\n",
       "      <td>0.003564</td>\n",
       "      <td>0.000983</td>\n",
       "      <td>-0.007276</td>\n",
       "      <td>0.000919</td>\n",
       "      <td>-0.003097</td>\n",
       "      <td>0.000000</td>\n",
       "      <td>0.042286</td>\n",
       "      <td>0.055828</td>\n",
       "    </tr>\n",
       "    <tr>\n",
       "      <th>1973-09-30</th>\n",
       "      <td>-0.003260</td>\n",
       "      <td>-0.000017</td>\n",
       "      <td>-0.008377</td>\n",
       "      <td>0.006048</td>\n",
       "      <td>0.002913</td>\n",
       "      <td>0.017938</td>\n",
       "      <td>0.041271</td>\n",
       "      <td>0.071377</td>\n",
       "    </tr>\n",
       "    <tr>\n",
       "      <th>1973-10-31</th>\n",
       "      <td>-0.001055</td>\n",
       "      <td>-0.000348</td>\n",
       "      <td>-0.000721</td>\n",
       "      <td>0.006352</td>\n",
       "      <td>0.006784</td>\n",
       "      <td>0.004435</td>\n",
       "      <td>0.042848</td>\n",
       "      <td>0.071049</td>\n",
       "    </tr>\n",
       "    <tr>\n",
       "      <th>...</th>\n",
       "      <td>...</td>\n",
       "      <td>...</td>\n",
       "      <td>...</td>\n",
       "      <td>...</td>\n",
       "      <td>...</td>\n",
       "      <td>...</td>\n",
       "      <td>...</td>\n",
       "      <td>...</td>\n",
       "    </tr>\n",
       "    <tr>\n",
       "      <th>2022-08-31</th>\n",
       "      <td>0.001601</td>\n",
       "      <td>-0.001493</td>\n",
       "      <td>0.000078</td>\n",
       "      <td>-0.012585</td>\n",
       "      <td>0.003637</td>\n",
       "      <td>-0.000339</td>\n",
       "      <td>0.019143</td>\n",
       "      <td>0.080780</td>\n",
       "    </tr>\n",
       "    <tr>\n",
       "      <th>2022-09-30</th>\n",
       "      <td>-0.000432</td>\n",
       "      <td>0.001694</td>\n",
       "      <td>-0.003326</td>\n",
       "      <td>0.010488</td>\n",
       "      <td>0.004009</td>\n",
       "      <td>0.002346</td>\n",
       "      <td>0.017866</td>\n",
       "      <td>0.079064</td>\n",
       "    </tr>\n",
       "    <tr>\n",
       "      <th>2022-10-31</th>\n",
       "      <td>-0.004550</td>\n",
       "      <td>0.002054</td>\n",
       "      <td>-0.004649</td>\n",
       "      <td>0.014133</td>\n",
       "      <td>0.003012</td>\n",
       "      <td>0.004119</td>\n",
       "      <td>0.012442</td>\n",
       "      <td>0.078948</td>\n",
       "    </tr>\n",
       "    <tr>\n",
       "      <th>2022-11-30</th>\n",
       "      <td>0.004476</td>\n",
       "      <td>0.001380</td>\n",
       "      <td>0.006436</td>\n",
       "      <td>0.006118</td>\n",
       "      <td>-0.000120</td>\n",
       "      <td>0.004871</td>\n",
       "      <td>0.006852</td>\n",
       "      <td>0.074759</td>\n",
       "    </tr>\n",
       "    <tr>\n",
       "      <th>2022-12-31</th>\n",
       "      <td>0.002699</td>\n",
       "      <td>-0.001727</td>\n",
       "      <td>0.008276</td>\n",
       "      <td>-0.013473</td>\n",
       "      <td>-0.001062</td>\n",
       "      <td>0.002048</td>\n",
       "      <td>0.006273</td>\n",
       "      <td>0.068923</td>\n",
       "    </tr>\n",
       "  </tbody>\n",
       "</table>\n",
       "<p>595 rows × 8 columns</p>\n",
       "</div>"
      ],
      "text/plain": [
       "             gdp_mom   cpi_mom   gdp_yoy   cpi_yoy   gdp_mom   cpi_mom  \\\n",
       "1973-06-30  0.000376  0.000125  0.007491 -0.005421 -0.002028  0.004566   \n",
       "1973-07-31  0.000003  0.000143  0.003785 -0.001024 -0.003585  0.006810   \n",
       "1973-08-31  0.003564  0.000983 -0.007276  0.000919 -0.003097  0.000000   \n",
       "1973-09-30 -0.003260 -0.000017 -0.008377  0.006048  0.002913  0.017938   \n",
       "1973-10-31 -0.001055 -0.000348 -0.000721  0.006352  0.006784  0.004435   \n",
       "...              ...       ...       ...       ...       ...       ...   \n",
       "2022-08-31  0.001601 -0.001493  0.000078 -0.012585  0.003637 -0.000339   \n",
       "2022-09-30 -0.000432  0.001694 -0.003326  0.010488  0.004009  0.002346   \n",
       "2022-10-31 -0.004550  0.002054 -0.004649  0.014133  0.003012  0.004119   \n",
       "2022-11-30  0.004476  0.001380  0.006436  0.006118 -0.000120  0.004871   \n",
       "2022-12-31  0.002699 -0.001727  0.008276 -0.013473 -0.001062  0.002048   \n",
       "\n",
       "             gdp_yoy   cpi_yoy  \n",
       "1973-06-30  0.053880  0.053814  \n",
       "1973-07-31  0.049572  0.058224  \n",
       "1973-08-31  0.042286  0.055828  \n",
       "1973-09-30  0.041271  0.071377  \n",
       "1973-10-31  0.042848  0.071049  \n",
       "...              ...       ...  \n",
       "2022-08-31  0.019143  0.080780  \n",
       "2022-09-30  0.017866  0.079064  \n",
       "2022-10-31  0.012442  0.078948  \n",
       "2022-11-30  0.006852  0.074759  \n",
       "2022-12-31  0.006273  0.068923  \n",
       "\n",
       "[595 rows x 8 columns]"
      ]
     },
     "execution_count": 320,
     "metadata": {},
     "output_type": "execute_result"
    }
   ],
   "source": [
    "# Plot Data\n",
    "# monthly_data = pd.DataFrame({'True MoM GDP': gdp_mom, 'MoM GDP Factor': gdp_mom_factor, 'Fitted MoM GDP': monthly_model.predict()['gdp_mom'].iloc[:,0],\n",
    "#                              'True MoM CPI': cpi_mom, 'MoM CPI Factor': cpi_mom_factor, 'Fitted MoM CPI': monthly_model.predict()['cpi_mom'].iloc[:,0],\n",
    "#                              'True YoY GDP': gdp_yoy, 'YoY GDP Factor': gdp_yoy_factor, 'Fitted YoY GDP': monthly_model.predict()['gdp_yoy'].iloc[:,0],\n",
    "#                              'True MoM CPI': cpi_mom, 'MoM CPI Factor': cpi_yoy_factor, 'Fitted YoY CPI': monthly_model.predict()['cpi_yoy'].iloc[:,0]})\n",
    "\n",
    "pd.concat([monthly_factors, gdp_mom, cpi_mom, gdp_yoy, cpi_yoy], axis=1)"
   ]
  },
  {
   "cell_type": "code",
   "execution_count": 313,
   "id": "68f73c78-5753-4a6c-8072-cd77b60e5cb4",
   "metadata": {},
   "outputs": [
    {
     "ename": "NameError",
     "evalue": "name 'data' is not defined",
     "output_type": "error",
     "traceback": [
      "\u001b[1;31m---------------------------------------------------------------------------\u001b[0m",
      "\u001b[1;31mNameError\u001b[0m                                 Traceback (most recent call last)",
      "Input \u001b[1;32mIn [313]\u001b[0m, in \u001b[0;36m<cell line: 4>\u001b[1;34m()\u001b[0m\n\u001b[0;32m      1\u001b[0m fig, ax \u001b[38;5;241m=\u001b[39m plt\u001b[38;5;241m.\u001b[39msubplots(\u001b[38;5;241m3\u001b[39m, \u001b[38;5;241m1\u001b[39m, figsize\u001b[38;5;241m=\u001b[39m(\u001b[38;5;241m16\u001b[39m,\u001b[38;5;241m16\u001b[39m))\n\u001b[1;32m----> 4\u001b[0m ax1 \u001b[38;5;241m=\u001b[39m \u001b[43mdata\u001b[49m[\u001b[38;5;124m\"\u001b[39m\u001b[38;5;124mSP_yoy\u001b[39m\u001b[38;5;124m\"\u001b[39m]\u001b[38;5;241m.\u001b[39mplot(ax\u001b[38;5;241m=\u001b[39max[\u001b[38;5;241m0\u001b[39m], legend\u001b[38;5;241m=\u001b[39m\u001b[38;5;28;01mTrue\u001b[39;00m, label\u001b[38;5;241m=\u001b[39m\u001b[38;5;124m\"\u001b[39m\u001b[38;5;124mS&P500 YoY Return\u001b[39m\u001b[38;5;124m\"\u001b[39m, color\u001b[38;5;241m=\u001b[39m\u001b[38;5;124m'\u001b[39m\u001b[38;5;124mroyalblue\u001b[39m\u001b[38;5;124m'\u001b[39m, linewidth\u001b[38;5;241m=\u001b[39m\u001b[38;5;241m2\u001b[39m)\n\u001b[0;32m      5\u001b[0m ax11 \u001b[38;5;241m=\u001b[39m ax1\u001b[38;5;241m.\u001b[39mtwinx()\n\u001b[0;32m      6\u001b[0m ax11 \u001b[38;5;241m=\u001b[39m data[\u001b[38;5;124m\"\u001b[39m\u001b[38;5;124mISM\u001b[39m\u001b[38;5;124m\"\u001b[39m]\u001b[38;5;241m.\u001b[39mplot(ax\u001b[38;5;241m=\u001b[39max11, legend\u001b[38;5;241m=\u001b[39m\u001b[38;5;28;01mTrue\u001b[39;00m, label\u001b[38;5;241m=\u001b[39m\u001b[38;5;124m\"\u001b[39m\u001b[38;5;124mISM Index\u001b[39m\u001b[38;5;124m\"\u001b[39m, color\u001b[38;5;241m=\u001b[39m\u001b[38;5;124m'\u001b[39m\u001b[38;5;124mfirebrick\u001b[39m\u001b[38;5;124m'\u001b[39m, linewidth\u001b[38;5;241m=\u001b[39m\u001b[38;5;241m2\u001b[39m)\n",
      "\u001b[1;31mNameError\u001b[0m: name 'data' is not defined"
     ]
    },
    {
     "data": {
      "image/png": "[encoded data removed]",
      "text/plain": [
       "<Figure size 1152x1152 with 3 Axes>"
      ]
     },
     "metadata": {},
     "output_type": "display_data"
    }
   ],
   "source": [
    "fig, ax = plt.subplots(3, 1, figsize=(16,16))\n",
    "\n",
    "\n",
    "ax1 = data[\"SP_yoy\"].plot(ax=ax[0], legend=True, label=\"S&P500 YoY Return\", color='royalblue', linewidth=2)\n",
    "ax11 = ax1.twinx()\n",
    "ax11 = data[\"ISM\"].plot(ax=ax11, legend=True, label=\"ISM Index\", color='firebrick', linewidth=2)\n",
    "ax1.set_title('S&P500 and ISM Manufacturing', fontsize=20)\n",
    "ax1.legend(loc=2, fontsize=16)\n",
    "ax11.legend(loc=0, fontsize=16)\n",
    "ax1.set_xlabel(\"\")\n",
    "ax1.set_yticks(ax1.get_yticks())\n",
    "y_labels = ax1.get_yticks()\n",
    "ax1.set_yticklabels([f'{x:0.1%}' for x in y_labels])\n",
    "\n",
    "\n",
    "ax2 = data[\"10-2\"].plot(ax=ax[1], legend=True, label=\"10 year - 2 year\", color='royalblue', linewidth=2)\n",
    "ax2 = data[\"10-3m\"].plot(ax=ax[1], legend=True, label=\"10 year - 3 month\", color='indigo', linewidth=2)\n",
    "ax22 = ax2.twinx()\n",
    "ax22 = data[\"ISM\"].plot(ax=ax22, legend=True, label=\"ISM Index\", color='firebrick', linewidth=2)\n",
    "ax2.set_title('The Yield Curve and ISM Manufacturing', fontsize=20)\n",
    "ax2.legend(loc=0, fontsize=16)\n",
    "ax22.legend(loc=1, fontsize=16)\n",
    "ax2.set_xlabel(\"\")\n",
    "ax2.set_yticks(ax2.get_yticks())\n",
    "y_labels = ax2.get_yticks()\n",
    "ax2.set_yticklabels([f'{x:0.1%}' for x in y_labels])\n",
    "\n",
    "\n",
    "ax3 = data[\"10y_yoy\"].plot(ax=ax[2], legend=True, label=\"10 year (12-month difference)\", color='royalblue', linewidth=2)\n",
    "ax33 = ax3.twinx()\n",
    "ax33 = data[\"ISM\"].plot(ax=ax33, legend=True, label=\"ISM Index\", color='firebrick', linewidth=2)\n",
    "ax3.set_title('10 year yield and ISM Manufacturing', fontsize=20)\n",
    "ax3.legend(loc=2, fontsize=16)\n",
    "ax33.legend(loc=1, fontsize=16)\n",
    "ax3.set_xlabel(\"\")\n",
    "ax3.set_yticks(ax3.get_yticks())\n",
    "y_labels = ax3.get_yticks()\n",
    "ax3.set_yticklabels([f'{100*x:0.0f}bps' for x in y_labels])\n",
    "\n",
    "\n",
    "fig.tight_layout()\n",
    "plt.show()"
   ]
  },
  {
   "cell_type": "code",
   "execution_count": null,
   "id": "41c13f42-7e40-4ef6-a572-d7dbdad56ebb",
   "metadata": {},
   "outputs": [],
   "source": []
  }
 ],
 "metadata": {
  "kernelspec": {
   "display_name": "Python 3 (ipykernel)",
   "language": "python",
   "name": "python3"
  },
  "language_info": {
   "codemirror_mode": {
    "name": "ipython",
    "version": 3
   },
   "file_extension": ".py",
   "mimetype": "text/x-python",
   "name": "python",
   "nbconvert_exporter": "python",
   "pygments_lexer": "ipython3",
   "version": "3.9.12"
  }
 },
 "nbformat": 4,
 "nbformat_minor": 5
}
