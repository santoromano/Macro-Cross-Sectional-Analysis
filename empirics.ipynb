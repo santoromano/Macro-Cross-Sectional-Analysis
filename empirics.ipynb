{
 "cells": [
  {
   "cell_type": "markdown",
   "id": "0fbd7fa7-318c-4f07-aeea-eec853164138",
   "metadata": {},
   "source": [
    "VERSION NOTES:\n",
    "- TradedFactorModel for everything?\n",
    "- test joint significance of macro and FF3\n",
    "- try LinearFactorModels with GDP directly\n",
    "- robustness tests (out-of-sample factor on real data, alternative variables, monthly, etc)"
   ]
  },
  {
   "cell_type": "markdown",
   "id": "be133e63-3b5d-44e7-a160-8e2cd3907ed5",
   "metadata": {
    "tags": []
   },
   "source": [
    "# Asset Pricing Tests"
   ]
  },
  {
   "cell_type": "code",
   "execution_count": 1,
   "id": "2ed51baf-2b0f-40e8-a223-846ca680168b",
   "metadata": {},
   "outputs": [],
   "source": [
    "import pandas as pd\n",
    "import numpy as np\n",
    "import statsmodels.api as sm\n",
    "from linearmodels.panel.model import FamaMacBeth\n",
    "from linearmodels.asset_pricing import TradedFactorModel\n",
    "from linearmodels.asset_pricing import LinearFactorModel\n",
    "from linearmodels.asset_pricing import LinearFactorModelGMM as GMM"
   ]
  },
  {
   "cell_type": "markdown",
   "id": "35c8db4e-3b41-407a-9cd2-e625e336ed76",
   "metadata": {
    "jp-MarkdownHeadingCollapsed": true,
    "tags": []
   },
   "source": [
    "## Data"
   ]
  },
  {
   "cell_type": "code",
   "execution_count": 2,
   "id": "026655e4-2972-4461-a1fc-dde041af7266",
   "metadata": {},
   "outputs": [],
   "source": [
    "ff_data = pd.read_csv('ff_data.csv', index_col=0, parse_dates=True)\n",
    "monthly_factors = pd.read_csv('monthly_factors.csv', index_col=0, parse_dates=True)\n",
    "quarterly_factors = pd.read_csv('quarterly_factors.csv', index_col=0, parse_dates=True)"
   ]
  },
  {
   "cell_type": "code",
   "execution_count": 3,
   "id": "968c9584-6568-4ca3-ab54-5a4ecb1c10d0",
   "metadata": {},
   "outputs": [],
   "source": [
    "# Monthly\n",
    "# Test asset clean up\n",
    "ff_data = ff_data.loc[monthly_factors.index[0]:monthly_factors.index[-1]] / 100\n",
    "\n",
    "# Factor Models\n",
    "ff3 = ff_data.iloc[:,0:3]\n",
    "ff5 = ff_data.iloc[:,0:5]\n",
    "ff5_mom = pd.concat([ff5, ff_data.iloc[:,31]], axis=1)\n",
    "\n",
    "# Test Asset Portfolios\n",
    "size_book_assets_m = ff_data.iloc[:,6:31].apply(lambda x: x - ff_data['RF'])\n",
    "industry_assets_m = ff_data.iloc[:,32:].apply(lambda x: x - ff_data['RF'])\n",
    "\n",
    "# Macro Factors\n",
    "factors_m = pd.concat([monthly_factors, ff_data['Mkt-RF']], axis=1)"
   ]
  },
  {
   "cell_type": "code",
   "execution_count": 4,
   "id": "e628bfb3-3da7-4ccf-a697-b3bf17c21ca8",
   "metadata": {},
   "outputs": [],
   "source": [
    "# Quarterly\n",
    "def f(data, last_row=False):\n",
    "    '''\n",
    "    Computes the buy and hold for 3 month (1 quarter) return.\n",
    "    '''\n",
    "    df = ((1+data).cumprod(axis=0)-1)\n",
    "\n",
    "    return df.iloc[-1]\n",
    "\n",
    "ff_data_q = (ff_data).resample('Q').apply(f).iloc[1:-2]\n",
    "\n",
    "# Factor Models\n",
    "ff3_q = ff_data_q.iloc[:,0:3]\n",
    "ff5_q = ff_data_q.iloc[:,0:5]\n",
    "ff5_mom_q = pd.concat([ff5_q, ff_data_q.iloc[:,31]], axis=1)\n",
    "\n",
    "# Test Asset Portfolios\n",
    "size_book_assets_q = ff_data_q.iloc[:,6:31].apply(lambda x: x - ff_data_q['RF'])\n",
    "industry_assets_q = ff_data_q.iloc[:,32:].apply(lambda x: x - ff_data_q['RF'])\n",
    "\n",
    "# Macro Factors\n",
    "factors_q = pd.concat([quarterly_factors, ff_data_q['Mkt-RF']], axis=1).dropna()"
   ]
  },
  {
   "cell_type": "markdown",
   "id": "6951cac9-6356-49e4-b288-7c2b3a1a9d73",
   "metadata": {
    "tags": []
   },
   "source": [
    "## Analysis"
   ]
  },
  {
   "cell_type": "markdown",
   "id": "b77da4c2-09a3-4003-9cee-c9ca755a0027",
   "metadata": {
    "tags": []
   },
   "source": [
    "Two sets of test assets will be used: \n",
    "1) 25 Size-Book Sorted Portfolios \n",
    "2) 30 Industry Portfolios\n",
    "\n",
    "Several factor models will be tested (on each set of test assets):\n",
    "1) Macro Factors\n",
    "    - how well do they price the cross-section?\n",
    "    - what are their risk premia if any?\n",
    "2) Macro Factors + Market Factor\n",
    "3) FF3\n",
    "    - Compare Macro Factors to FF3\n",
    "4) FF3 + Macro Factors\n",
    "    - Given the Macro Factors are SMB + HML needed?\n",
    "5) FF5\n",
    "6) FF5 + Momentum\n",
    "    - do the Macro Factors price better than the standard model?\n",
    "7) FF5 + Momentum + Macro Factors\n",
    "    - is the standard model subsumed by the Macro Factors?"
   ]
  },
  {
   "cell_type": "code",
   "execution_count": 7,
   "id": "91d11e2d-4dd4-4d02-8fdb-1aad3634fc5e",
   "metadata": {},
   "outputs": [],
   "source": [
    "macro_factors = factors_q[['gdp_4qoq', 'cpi_4qoq', 'Mkt-RF']]"
   ]
  },
  {
   "cell_type": "markdown",
   "id": "27e1954b-16c1-4b9a-b048-79ac0e4e44fe",
   "metadata": {
    "jp-MarkdownHeadingCollapsed": true,
    "tags": []
   },
   "source": [
    "### GRS Test"
   ]
  },
  {
   "cell_type": "code",
   "execution_count": 19,
   "id": "ca10269f-8139-4ff7-9435-d7eeeb6d3598",
   "metadata": {},
   "outputs": [],
   "source": [
    "# Function based on: https://medium.com/@gunsberg/python-grs-test-for-asset-pricing-models-in-linearmodels-v-4-25-69b54832d08d\n",
    "from scipy.stats import f\n",
    "from scipy.stats import chi2\n",
    "\n",
    "def grs(model, factors):\n",
    "    '''\n",
    "    Function to compute the GRS test stat (pg 233 of Cochrane).\n",
    "    'model' is model output from LinearModels Traded or Linear FactorModel.\n",
    "    '''\n",
    "    # Time, portfolios, factors\n",
    "    T = model.nobs\n",
    "    N , K = model.betas.shape\n",
    "\n",
    "    # Coefficient (a)\n",
    "    a = (T - N - K) / N\n",
    "\n",
    "    # Factor Sharpe Ratio (b)\n",
    "    E_f = factors.mean()\n",
    "    omega_hat = (1/T)*((factors - E_f).T @ (factors - E_f)) # K x K\n",
    "    omega_hat_inv = np.linalg.pinv(omega_hat)  # pseudo-inverse\n",
    "    b = 1 + (E_f.T @ omega_hat_inv @ E_f) # (1 X K) x (K X K) x (K X 1) = 1 x 1\n",
    "    b_inv = b**(-1)\n",
    "   \n",
    "    # Pricing Errors (c)\n",
    "    sigma_hat = model.std_errors\n",
    "    sigma_hat = sigma_hat @ sigma_hat.T \n",
    "    sigma_hat_inv = np.linalg.pinv(sigma_hat)\n",
    "    alpha_hat = model.alphas\n",
    "    c = alpha_hat @ sigma_hat_inv @ alpha_hat.T\n",
    "   \n",
    "\n",
    "    # GRS Stat\n",
    "    grs = a * b_inv * c\n",
    "    grs_p_val = 1 - f.cdf(grs, N, T - N - K)\n",
    "    \n",
    "    return {'GRS Statistic':f'{grs:0.2f}', 'p-value':f'{grs_p_val:0.5f}'}"
   ]
  },
  {
   "cell_type": "markdown",
   "id": "332af386-b651-41cc-a1d0-8f5bc2b247ce",
   "metadata": {
    "jp-MarkdownHeadingCollapsed": true,
    "tags": []
   },
   "source": [
    "### Fama-MacBeth (Full-Sample)"
   ]
  },
  {
   "cell_type": "code",
   "execution_count": 6,
   "id": "62c143a0-5f65-4c2b-9149-a44ebaf2f75e",
   "metadata": {},
   "outputs": [],
   "source": [
    "def factor_models(test_assets, macro_factors):\n",
    "    '''\n",
    "    Runs all factor models on the given set of test assets.\n",
    "    Stores the model instances in a dictionary.\n",
    "    '''\n",
    "    \n",
    "    model_results = {}\n",
    "    \n",
    "    # Macro Factors\n",
    "    model1 = LinearFactorModel(test_assets, macro_factors.iloc[:,:2]).fit(cov_type='kernel')\n",
    "    model_results['macro'] = model1\n",
    "   \n",
    "    # Macro Factors + Market\n",
    "    model2 = LinearFactorModel(test_assets, macro_factors.iloc[:,:]).fit(cov_type='kernel')\n",
    "    model_results['macro+mkt'] = model2\n",
    "   \n",
    "    # FF3\n",
    "    model3 = TradedFactorModel(test_assets, ff3_q).fit(cov_type='kernel')\n",
    "    model_results['ff3'] = model3\n",
    "    \n",
    "    # FF3 + Macro Factors\n",
    "    model4 = LinearFactorModel(test_assets, pd.concat([ff3_q, macro_factors.iloc[:,:2]], axis=1)).fit(cov_type='kernel')\n",
    "    model_results['ff3+macro'] = model4\n",
    "    \n",
    "    # FF5\n",
    "    model5 = TradedFactorModel(test_assets, ff5_q).fit(cov_type='kernel')\n",
    "    model_results['ff5'] = model5\n",
    "    \n",
    "    # FF5 + Momentum\n",
    "    model6 = TradedFactorModel(test_assets, ff5_mom_q).fit(cov_type='kernel')\n",
    "    model_results['ff5+mom'] = model6\n",
    "     \n",
    "    # FF5 + Momentum + Macro Factors\n",
    "    model7 = LinearFactorModel(test_assets, pd.concat([ff5_mom_q, macro_factors.iloc[:,:2]], axis=1)).fit(cov_type='kernel')\n",
    "    model_results['ff5+macro'] = model7\n",
    "    \n",
    "    return model_results"
   ]
  },
  {
   "cell_type": "code",
   "execution_count": 270,
   "id": "78f6f2b5-ce94-49be-aa82-194e5ccb88b7",
   "metadata": {},
   "outputs": [
    {
     "ename": "NameError",
     "evalue": "name 'size_book_models_mom' is not defined",
     "output_type": "error",
     "traceback": [
      "\u001b[1;31m---------------------------------------------------------------------------\u001b[0m",
      "\u001b[1;31mNameError\u001b[0m                                 Traceback (most recent call last)",
      "Input \u001b[1;32mIn [270]\u001b[0m, in \u001b[0;36m<cell line: 1>\u001b[1;34m()\u001b[0m\n\u001b[1;32m----> 1\u001b[0m \u001b[43msize_book_models_mom\u001b[49m[\u001b[38;5;124m'\u001b[39m\u001b[38;5;124mmacro+mkt\u001b[39m\u001b[38;5;124m'\u001b[39m]\n",
      "\u001b[1;31mNameError\u001b[0m: name 'size_book_models_mom' is not defined"
     ]
    }
   ],
   "source": [
    "size_book_models_mom['macro+mkt']"
   ]
  },
  {
   "cell_type": "markdown",
   "id": "f2a6f0de-1fa2-4546-be48-c34e4fb18432",
   "metadata": {},
   "source": [
    "GDP's risk premia becomes insignificant (not a surprise from the factor creation stage).\n",
    "\n",
    "CPI's premia is highly significant, negative and very small."
   ]
  },
  {
   "cell_type": "code",
   "execution_count": 75,
   "id": "13e25212-0d69-4617-a135-d3e45ca7419a",
   "metadata": {},
   "outputs": [
    {
     "data": {
      "text/plain": [
       "J-statistic\n",
       "H0: All alphas are 0\n",
       "Statistic: 89.0458\n",
       "P-value: 0.0000\n",
       "Distributed: chi2(25)\n",
       "WaldTestStatistic, id: 0x2ad5f4aed00"
      ]
     },
     "execution_count": 75,
     "metadata": {},
     "output_type": "execute_result"
    }
   ],
   "source": [
    "size_book_models_mom['macro+mkt']._jstat"
   ]
  },
  {
   "cell_type": "code",
   "execution_count": 77,
   "id": "c4518e41-b659-4a3f-8382-d38228577a38",
   "metadata": {},
   "outputs": [
    {
     "data": {
      "text/plain": [
       "SMALL LoBM   -0.070035\n",
       "ME2 BM1      -0.026450\n",
       "ME3 BM1      -0.022094\n",
       "BIG LoBM     -0.002565\n",
       "ME4 BM1       0.000389\n",
       "ME5 BM4       0.002473\n",
       "ME5 BM2       0.011611\n",
       "ME1 BM2       0.012548\n",
       "ME4 BM2       0.012643\n",
       "ME1 BM3       0.015558\n",
       "ME5 BM3       0.015651\n",
       "ME2 BM2       0.015721\n",
       "BIG HiBM      0.017111\n",
       "ME4 BM3       0.018343\n",
       "ME3 BM3       0.019770\n",
       "ME3 BM2       0.023827\n",
       "ME2 BM3       0.024028\n",
       "ME4 BM4       0.024414\n",
       "ME3 BM4       0.032213\n",
       "ME4 BM5       0.033756\n",
       "ME2 BM4       0.036667\n",
       "ME2 BM5       0.039072\n",
       "ME1 BM4       0.044953\n",
       "ME3 BM5       0.049590\n",
       "SMALL HiBM    0.053801\n",
       "Name: alpha, dtype: float64"
      ]
     },
     "execution_count": 77,
     "metadata": {},
     "output_type": "execute_result"
    }
   ],
   "source": [
    "12*size_book_models_mom['macro+mkt'].alphas.sort_values()"
   ]
  },
  {
   "cell_type": "markdown",
   "id": "c94cb8f1-77e8-4452-9a66-51ceb71b342d",
   "metadata": {},
   "source": [
    "Reject null that alphas are 0 for the Macro + Mkt Model; the model does not price the portfolios.\n",
    "\n",
    "The J-statistic itself is the lowest amoung all the models (even FF5+Momentum+Macro). The biggest pricing errors are in the more extreme portfolios (particularly the \"SMALL\" portfolios)."
   ]
  },
  {
   "cell_type": "code",
   "execution_count": 80,
   "id": "deeeac47-da98-45f1-97cd-2ee1587dca19",
   "metadata": {},
   "outputs": [
    {
     "data": {
      "text/plain": [
       "J-statistic\n",
       "H0: All alphas are 0\n",
       "Statistic: 91.4080\n",
       "P-value: 0.0000\n",
       "Distributed: chi2(25)\n",
       "WaldTestStatistic, id: 0x2ad5f556880"
      ]
     },
     "execution_count": 80,
     "metadata": {},
     "output_type": "execute_result"
    }
   ],
   "source": [
    "size_book_models_mom['ff5+mom']._jstat"
   ]
  },
  {
   "cell_type": "code",
   "execution_count": 82,
   "id": "89eeb82c-bc3b-4204-84d4-1801fdfda5e1",
   "metadata": {},
   "outputs": [
    {
     "data": {
      "text/plain": [
       "J-statistic\n",
       "H0: All alphas are 0\n",
       "Statistic: 80.5827\n",
       "P-value: 0.0000\n",
       "Distributed: chi2(25)\n",
       "WaldTestStatistic, id: 0x2ad5f57d340"
      ]
     },
     "execution_count": 82,
     "metadata": {},
     "output_type": "execute_result"
    }
   ],
   "source": [
    "size_book_models_mom['ff5+macro']._jstat"
   ]
  },
  {
   "cell_type": "markdown",
   "id": "cb511dee-4cc7-413e-9d72-eed37d2bcf87",
   "metadata": {},
   "source": [
    "Adding macro to FF5 + Momentum enhances pricing (marginally)."
   ]
  },
  {
   "cell_type": "code",
   "execution_count": 83,
   "id": "859e30e7-c38a-4bd7-84f5-c848ce0a1929",
   "metadata": {},
   "outputs": [
    {
     "data": {
      "text/html": [
       "<table class=\"simpletable\">\n",
       "<caption>TradedFactorModel Estimation Summary</caption>\n",
       "<tr>\n",
       "  <th>No. Test Portfolios:</th>        <td>25</td>        <th>  R-squared:         </th>  <td>0.9174</td> \n",
       "</tr>\n",
       "<tr>\n",
       "  <th>No. Factors:</th>                 <td>5</td>        <th>  J-statistic:       </th>  <td>83.636</td> \n",
       "</tr>\n",
       "<tr>\n",
       "  <th>No. Observations:</th>           <td>595</td>       <th>  P-value            </th>  <td>0.0000</td> \n",
       "</tr>\n",
       "<tr>\n",
       "  <th>Date:</th>                <td>Sat, Mar 18 2023</td> <th>  Distribution:      </th> <td>chi2(25)</td>\n",
       "</tr>\n",
       "<tr>\n",
       "  <th>Time:</th>                    <td>17:53:21</td>     <th>                     </th>     <td></td>    \n",
       "</tr>\n",
       "<tr>\n",
       "  <th>Cov. Estimator:</th>           <td>kernel</td>      <th>                     </th>     <td></td>    \n",
       "</tr>\n",
       "<tr>\n",
       "  <th></th>                             <td></td>         <th>                     </th>     <td></td>    \n",
       "</tr>\n",
       "</table>\n",
       "<table class=\"simpletable\">\n",
       "<caption>Risk Premia Estimates</caption>\n",
       "<tr>\n",
       "     <td></td>    <th>Parameter</th> <th>Std. Err.</th> <th>T-stat</th>  <th>P-value</th>  <th>Lower CI</th>   <th>Upper CI</th> \n",
       "</tr>\n",
       "<tr>\n",
       "  <th>Mkt-RF</th>  <td>0.0061</td>    <td>0.0019</td>   <td>3.1229</td>  <td>0.0018</td>    <td>0.0023</td>     <td>0.0099</td>  \n",
       "</tr>\n",
       "<tr>\n",
       "  <th>SMB</th>     <td>0.0022</td>    <td>0.0012</td>   <td>1.7837</td>  <td>0.0745</td>    <td>-0.0002</td>    <td>0.0046</td>  \n",
       "</tr>\n",
       "<tr>\n",
       "  <th>HML</th>     <td>0.0030</td>    <td>0.0016</td>   <td>1.9047</td>  <td>0.0568</td>  <td>-8.807e-05</td>   <td>0.0062</td>  \n",
       "</tr>\n",
       "<tr>\n",
       "  <th>gdp_0</th>   <td>0.0002</td>    <td>0.0001</td>   <td>1.3668</td>  <td>0.1717</td>  <td>-6.779e-05</td>   <td>0.0004</td>  \n",
       "</tr>\n",
       "<tr>\n",
       "  <th>cpi_0</th>   <td>-0.0001</td>  <td>3.598e-05</td> <td>-2.9089</td> <td>0.0036</td>    <td>-0.0002</td>  <td>-3.415e-05</td>\n",
       "</tr>\n",
       "</table><br/><br/>Covariance estimator:<br/>KernelCovariance, Kernel: bartlett, Bandwidth: 9<br/>See full_summary for complete results<br/>id: 0x2ad5f5569d0"
      ],
      "text/plain": [
       "                      TradedFactorModel Estimation Summary                      \n",
       "================================================================================\n",
       "No. Test Portfolios:                 25   R-squared:                      0.9174\n",
       "No. Factors:                          5   J-statistic:                    83.636\n",
       "No. Observations:                   595   P-value                         0.0000\n",
       "Date:                  Sat, Mar 18 2023   Distribution:                 chi2(25)\n",
       "Time:                          17:53:21                                         \n",
       "Cov. Estimator:                  kernel                                         \n",
       "                                                                                \n",
       "                            Risk Premia Estimates                             \n",
       "==============================================================================\n",
       "            Parameter  Std. Err.     T-stat    P-value    Lower CI    Upper CI\n",
       "------------------------------------------------------------------------------\n",
       "Mkt-RF         0.0061     0.0019     3.1229     0.0018      0.0023      0.0099\n",
       "SMB            0.0022     0.0012     1.7837     0.0745     -0.0002      0.0046\n",
       "HML            0.0030     0.0016     1.9047     0.0568  -8.807e-05      0.0062\n",
       "gdp_0          0.0002     0.0001     1.3668     0.1717  -6.779e-05      0.0004\n",
       "cpi_0         -0.0001  3.598e-05    -2.9089     0.0036     -0.0002  -3.415e-05\n",
       "==============================================================================\n",
       "\n",
       "Covariance estimator:\n",
       "KernelCovariance, Kernel: bartlett, Bandwidth: 9\n",
       "See full_summary for complete results\n",
       "LinearFactorModelResults, id: 0x2ad5f5569d0"
      ]
     },
     "execution_count": 83,
     "metadata": {},
     "output_type": "execute_result"
    }
   ],
   "source": [
    "size_book_models_mom['ff3+macro']"
   ]
  },
  {
   "cell_type": "markdown",
   "id": "754d77cc-8be0-4818-b93f-4aeb5cda1d46",
   "metadata": {},
   "source": [
    "Macro factors do not subsume SMB and HML; GDP remains insignificant while CPI is still highly significant."
   ]
  },
  {
   "cell_type": "code",
   "execution_count": 93,
   "id": "cc9de01f-e41d-42f3-a696-b9c31c83dffb",
   "metadata": {},
   "outputs": [
    {
     "data": {
      "text/html": [
       "<table class=\"simpletable\">\n",
       "<caption>TradedFactorModel Estimation Summary</caption>\n",
       "<tr>\n",
       "  <th>No. Test Portfolios:</th>        <td>25</td>        <th>  R-squared:         </th>  <td>0.7263</td> \n",
       "</tr>\n",
       "<tr>\n",
       "  <th>No. Factors:</th>                 <td>3</td>        <th>  J-statistic:       </th>  <td>87.233</td> \n",
       "</tr>\n",
       "<tr>\n",
       "  <th>No. Observations:</th>           <td>595</td>       <th>  P-value            </th>  <td>0.0000</td> \n",
       "</tr>\n",
       "<tr>\n",
       "  <th>Date:</th>                <td>Sat, Mar 18 2023</td> <th>  Distribution:      </th> <td>chi2(25)</td>\n",
       "</tr>\n",
       "<tr>\n",
       "  <th>Time:</th>                    <td>17:53:21</td>     <th>                     </th>     <td></td>    \n",
       "</tr>\n",
       "<tr>\n",
       "  <th>Cov. Estimator:</th>           <td>kernel</td>      <th>                     </th>     <td></td>    \n",
       "</tr>\n",
       "<tr>\n",
       "  <th></th>                             <td></td>         <th>                     </th>     <td></td>    \n",
       "</tr>\n",
       "</table>\n",
       "<table class=\"simpletable\">\n",
       "<caption>Risk Premia Estimates</caption>\n",
       "<tr>\n",
       "     <td></td>    <th>Parameter</th> <th>Std. Err.</th> <th>T-stat</th>  <th>P-value</th> <th>Lower CI</th>   <th>Upper CI</th> \n",
       "</tr>\n",
       "<tr>\n",
       "  <th>gdp_1</th>   <td>0.0004</td>    <td>0.0002</td>   <td>1.9826</td>  <td>0.0474</td>  <td>4.684e-06</td>   <td>0.0008</td>  \n",
       "</tr>\n",
       "<tr>\n",
       "  <th>cpi_1</th>   <td>-0.0005</td>   <td>0.0002</td>   <td>-2.4412</td> <td>0.0146</td>   <td>-0.0009</td>  <td>-9.523e-05</td>\n",
       "</tr>\n",
       "<tr>\n",
       "  <th>Mkt-RF</th>  <td>0.0061</td>    <td>0.0019</td>   <td>3.1261</td>  <td>0.0018</td>   <td>0.0023</td>     <td>0.0099</td>  \n",
       "</tr>\n",
       "</table><br/><br/>Covariance estimator:<br/>KernelCovariance, Kernel: bartlett, Bandwidth: 7<br/>See full_summary for complete results<br/>id: 0x2ad5f5fb760"
      ],
      "text/plain": [
       "                      TradedFactorModel Estimation Summary                      \n",
       "================================================================================\n",
       "No. Test Portfolios:                 25   R-squared:                      0.7263\n",
       "No. Factors:                          3   J-statistic:                    87.233\n",
       "No. Observations:                   595   P-value                         0.0000\n",
       "Date:                  Sat, Mar 18 2023   Distribution:                 chi2(25)\n",
       "Time:                          17:53:21                                         \n",
       "Cov. Estimator:                  kernel                                         \n",
       "                                                                                \n",
       "                            Risk Premia Estimates                             \n",
       "==============================================================================\n",
       "            Parameter  Std. Err.     T-stat    P-value    Lower CI    Upper CI\n",
       "------------------------------------------------------------------------------\n",
       "gdp_1          0.0004     0.0002     1.9826     0.0474   4.684e-06      0.0008\n",
       "cpi_1         -0.0005     0.0002    -2.4412     0.0146     -0.0009  -9.523e-05\n",
       "Mkt-RF         0.0061     0.0019     3.1261     0.0018      0.0023      0.0099\n",
       "==============================================================================\n",
       "\n",
       "Covariance estimator:\n",
       "KernelCovariance, Kernel: bartlett, Bandwidth: 7\n",
       "See full_summary for complete results\n",
       "LinearFactorModelResults, id: 0x2ad5f5fb760"
      ]
     },
     "execution_count": 93,
     "metadata": {},
     "output_type": "execute_result"
    }
   ],
   "source": [
    "size_book_models_yoy['macro+mkt']"
   ]
  },
  {
   "cell_type": "code",
   "execution_count": 94,
   "id": "f6bd5a14-3247-4595-bfb4-e1260c1cfdc0",
   "metadata": {},
   "outputs": [
    {
     "data": {
      "text/html": [
       "<table class=\"simpletable\">\n",
       "<caption>TradedFactorModel Estimation Summary</caption>\n",
       "<tr>\n",
       "  <th>No. Test Portfolios:</th>        <td>25</td>        <th>  R-squared:         </th>  <td>0.7263</td> \n",
       "</tr>\n",
       "<tr>\n",
       "  <th>No. Factors:</th>                 <td>3</td>        <th>  J-statistic:       </th>  <td>87.233</td> \n",
       "</tr>\n",
       "<tr>\n",
       "  <th>No. Observations:</th>           <td>595</td>       <th>  P-value            </th>  <td>0.0000</td> \n",
       "</tr>\n",
       "<tr>\n",
       "  <th>Date:</th>                <td>Sat, Mar 18 2023</td> <th>  Distribution:      </th> <td>chi2(25)</td>\n",
       "</tr>\n",
       "<tr>\n",
       "  <th>Time:</th>                    <td>17:53:21</td>     <th>                     </th>     <td></td>    \n",
       "</tr>\n",
       "<tr>\n",
       "  <th>Cov. Estimator:</th>           <td>kernel</td>      <th>                     </th>     <td></td>    \n",
       "</tr>\n",
       "<tr>\n",
       "  <th></th>                             <td></td>         <th>                     </th>     <td></td>    \n",
       "</tr>\n",
       "</table>\n",
       "<table class=\"simpletable\">\n",
       "<caption>Risk Premia Estimates</caption>\n",
       "<tr>\n",
       "     <td></td>    <th>Parameter</th> <th>Std. Err.</th> <th>T-stat</th>  <th>P-value</th> <th>Lower CI</th>   <th>Upper CI</th> \n",
       "</tr>\n",
       "<tr>\n",
       "  <th>gdp_1</th>   <td>0.0004</td>    <td>0.0002</td>   <td>1.9826</td>  <td>0.0474</td>  <td>4.684e-06</td>   <td>0.0008</td>  \n",
       "</tr>\n",
       "<tr>\n",
       "  <th>cpi_1</th>   <td>-0.0005</td>   <td>0.0002</td>   <td>-2.4412</td> <td>0.0146</td>   <td>-0.0009</td>  <td>-9.523e-05</td>\n",
       "</tr>\n",
       "<tr>\n",
       "  <th>Mkt-RF</th>  <td>0.0061</td>    <td>0.0019</td>   <td>3.1261</td>  <td>0.0018</td>   <td>0.0023</td>     <td>0.0099</td>  \n",
       "</tr>\n",
       "</table><br/><br/>Covariance estimator:<br/>KernelCovariance, Kernel: bartlett, Bandwidth: 7<br/>See full_summary for complete results<br/>id: 0x2ad5f5fb760"
      ],
      "text/plain": [
       "                      TradedFactorModel Estimation Summary                      \n",
       "================================================================================\n",
       "No. Test Portfolios:                 25   R-squared:                      0.7263\n",
       "No. Factors:                          3   J-statistic:                    87.233\n",
       "No. Observations:                   595   P-value                         0.0000\n",
       "Date:                  Sat, Mar 18 2023   Distribution:                 chi2(25)\n",
       "Time:                          17:53:21                                         \n",
       "Cov. Estimator:                  kernel                                         \n",
       "                                                                                \n",
       "                            Risk Premia Estimates                             \n",
       "==============================================================================\n",
       "            Parameter  Std. Err.     T-stat    P-value    Lower CI    Upper CI\n",
       "------------------------------------------------------------------------------\n",
       "gdp_1          0.0004     0.0002     1.9826     0.0474   4.684e-06      0.0008\n",
       "cpi_1         -0.0005     0.0002    -2.4412     0.0146     -0.0009  -9.523e-05\n",
       "Mkt-RF         0.0061     0.0019     3.1261     0.0018      0.0023      0.0099\n",
       "==============================================================================\n",
       "\n",
       "Covariance estimator:\n",
       "KernelCovariance, Kernel: bartlett, Bandwidth: 7\n",
       "See full_summary for complete results\n",
       "LinearFactorModelResults, id: 0x2ad5f5fb760"
      ]
     },
     "execution_count": 94,
     "metadata": {},
     "output_type": "execute_result"
    }
   ],
   "source": [
    "size_book_models_yoy['macro+mkt']"
   ]
  },
  {
   "cell_type": "code",
   "execution_count": 100,
   "id": "883f0eae-4b56-491e-94d7-b411ff1ce108",
   "metadata": {},
   "outputs": [
    {
     "data": {
      "text/html": [
       "<table class=\"simpletable\">\n",
       "<caption>TradedFactorModel Estimation Summary</caption>\n",
       "<tr>\n",
       "  <th>No. Test Portfolios:</th>        <td>25</td>        <th>  R-squared:         </th>  <td>0.9175</td> \n",
       "</tr>\n",
       "<tr>\n",
       "  <th>No. Factors:</th>                 <td>5</td>        <th>  J-statistic:       </th>  <td>82.995</td> \n",
       "</tr>\n",
       "<tr>\n",
       "  <th>No. Observations:</th>           <td>595</td>       <th>  P-value            </th>  <td>0.0000</td> \n",
       "</tr>\n",
       "<tr>\n",
       "  <th>Date:</th>                <td>Sat, Mar 18 2023</td> <th>  Distribution:      </th> <td>chi2(25)</td>\n",
       "</tr>\n",
       "<tr>\n",
       "  <th>Time:</th>                    <td>17:53:21</td>     <th>                     </th>     <td></td>    \n",
       "</tr>\n",
       "<tr>\n",
       "  <th>Cov. Estimator:</th>           <td>kernel</td>      <th>                     </th>     <td></td>    \n",
       "</tr>\n",
       "<tr>\n",
       "  <th></th>                             <td></td>         <th>                     </th>     <td></td>    \n",
       "</tr>\n",
       "</table>\n",
       "<table class=\"simpletable\">\n",
       "<caption>Risk Premia Estimates</caption>\n",
       "<tr>\n",
       "     <td></td>    <th>Parameter</th> <th>Std. Err.</th> <th>T-stat</th>  <th>P-value</th> <th>Lower CI</th>   <th>Upper CI</th> \n",
       "</tr>\n",
       "<tr>\n",
       "  <th>Mkt-RF</th>  <td>0.0061</td>    <td>0.0019</td>   <td>3.1184</td>  <td>0.0018</td>   <td>0.0023</td>     <td>0.0099</td>  \n",
       "</tr>\n",
       "<tr>\n",
       "  <th>SMB</th>     <td>0.0022</td>    <td>0.0012</td>   <td>1.7794</td>  <td>0.0752</td>   <td>-0.0002</td>    <td>0.0046</td>  \n",
       "</tr>\n",
       "<tr>\n",
       "  <th>HML</th>     <td>0.0030</td>    <td>0.0016</td>   <td>1.8917</td>  <td>0.0585</td>   <td>-0.0001</td>    <td>0.0062</td>  \n",
       "</tr>\n",
       "<tr>\n",
       "  <th>gdp_1</th>   <td>0.0004</td>    <td>0.0002</td>   <td>2.0255</td>  <td>0.0428</td>  <td>1.326e-05</td>   <td>0.0008</td>  \n",
       "</tr>\n",
       "<tr>\n",
       "  <th>cpi_1</th>   <td>-0.0005</td>   <td>0.0002</td>   <td>-2.3973</td> <td>0.0165</td>   <td>-0.0009</td>  <td>-8.813e-05</td>\n",
       "</tr>\n",
       "</table><br/><br/>Covariance estimator:<br/>KernelCovariance, Kernel: bartlett, Bandwidth: 10<br/>See full_summary for complete results<br/>id: 0x2ad5f64ba60"
      ],
      "text/plain": [
       "                      TradedFactorModel Estimation Summary                      \n",
       "================================================================================\n",
       "No. Test Portfolios:                 25   R-squared:                      0.9175\n",
       "No. Factors:                          5   J-statistic:                    82.995\n",
       "No. Observations:                   595   P-value                         0.0000\n",
       "Date:                  Sat, Mar 18 2023   Distribution:                 chi2(25)\n",
       "Time:                          17:53:21                                         \n",
       "Cov. Estimator:                  kernel                                         \n",
       "                                                                                \n",
       "                            Risk Premia Estimates                             \n",
       "==============================================================================\n",
       "            Parameter  Std. Err.     T-stat    P-value    Lower CI    Upper CI\n",
       "------------------------------------------------------------------------------\n",
       "Mkt-RF         0.0061     0.0019     3.1184     0.0018      0.0023      0.0099\n",
       "SMB            0.0022     0.0012     1.7794     0.0752     -0.0002      0.0046\n",
       "HML            0.0030     0.0016     1.8917     0.0585     -0.0001      0.0062\n",
       "gdp_1          0.0004     0.0002     2.0255     0.0428   1.326e-05      0.0008\n",
       "cpi_1         -0.0005     0.0002    -2.3973     0.0165     -0.0009  -8.813e-05\n",
       "==============================================================================\n",
       "\n",
       "Covariance estimator:\n",
       "KernelCovariance, Kernel: bartlett, Bandwidth: 10\n",
       "See full_summary for complete results\n",
       "LinearFactorModelResults, id: 0x2ad5f64ba60"
      ]
     },
     "execution_count": 100,
     "metadata": {},
     "output_type": "execute_result"
    }
   ],
   "source": [
    "size_book_models_yoy['ff3+macro']"
   ]
  },
  {
   "cell_type": "code",
   "execution_count": null,
   "id": "e5144f77-7f7b-4426-981a-65e10b830526",
   "metadata": {},
   "outputs": [],
   "source": []
  },
  {
   "cell_type": "markdown",
   "id": "b50438ee-00c0-4739-8aec-56410e5c1483",
   "metadata": {
    "tags": []
   },
   "source": [
    "#### Quarterly"
   ]
  },
  {
   "cell_type": "markdown",
   "id": "87b9e333-48fe-49c3-a698-be78bc4b2976",
   "metadata": {
    "tags": []
   },
   "source": [
    "##### Test Assets: 25 Size-Book Value Sorted Portfolios"
   ]
  },
  {
   "cell_type": "code",
   "execution_count": 8,
   "id": "1a506058-4c6b-458b-aace-f6cc915ceadc",
   "metadata": {},
   "outputs": [],
   "source": [
    "size_book_models = factor_models(size_book_assets_q, macro_factors)"
   ]
  },
  {
   "cell_type": "code",
   "execution_count": 9,
   "id": "f460dc11-6544-4c24-9979-e6c5a4920a6b",
   "metadata": {},
   "outputs": [
    {
     "ename": "NameError",
     "evalue": "name 'size_book_models_mom' is not defined",
     "output_type": "error",
     "traceback": [
      "\u001b[1;31m---------------------------------------------------------------------------\u001b[0m",
      "\u001b[1;31mNameError\u001b[0m                                 Traceback (most recent call last)",
      "Input \u001b[1;32mIn [9]\u001b[0m, in \u001b[0;36m<cell line: 1>\u001b[1;34m()\u001b[0m\n\u001b[1;32m----> 1\u001b[0m \u001b[43msize_book_models_mom\u001b[49m[\u001b[38;5;124m'\u001b[39m\u001b[38;5;124mmacro+mkt\u001b[39m\u001b[38;5;124m'\u001b[39m]\n",
      "\u001b[1;31mNameError\u001b[0m: name 'size_book_models_mom' is not defined"
     ]
    }
   ],
   "source": [
    "size_book_models_mom['macro+mkt']"
   ]
  },
  {
   "cell_type": "markdown",
   "id": "e83dd292-7f75-46c3-abad-57584c64a0fa",
   "metadata": {},
   "source": [
    "GDP's risk premia becomes insignificant (not a surprise from the factor creation stage).\n",
    "\n",
    "CPI's premia is highly significant, negative and very small."
   ]
  },
  {
   "cell_type": "code",
   "execution_count": 75,
   "id": "3a27cd8f-5ac9-4aa9-b3b1-5b37159f473c",
   "metadata": {},
   "outputs": [
    {
     "data": {
      "text/plain": [
       "J-statistic\n",
       "H0: All alphas are 0\n",
       "Statistic: 89.0458\n",
       "P-value: 0.0000\n",
       "Distributed: chi2(25)\n",
       "WaldTestStatistic, id: 0x2ad5f4aed00"
      ]
     },
     "execution_count": 75,
     "metadata": {},
     "output_type": "execute_result"
    }
   ],
   "source": [
    "size_book_models_mom['macro+mkt']._jstat"
   ]
  },
  {
   "cell_type": "code",
   "execution_count": 77,
   "id": "e59676ca-6713-41aa-b308-0d5d6a0a568b",
   "metadata": {},
   "outputs": [
    {
     "data": {
      "text/plain": [
       "SMALL LoBM   -0.070035\n",
       "ME2 BM1      -0.026450\n",
       "ME3 BM1      -0.022094\n",
       "BIG LoBM     -0.002565\n",
       "ME4 BM1       0.000389\n",
       "ME5 BM4       0.002473\n",
       "ME5 BM2       0.011611\n",
       "ME1 BM2       0.012548\n",
       "ME4 BM2       0.012643\n",
       "ME1 BM3       0.015558\n",
       "ME5 BM3       0.015651\n",
       "ME2 BM2       0.015721\n",
       "BIG HiBM      0.017111\n",
       "ME4 BM3       0.018343\n",
       "ME3 BM3       0.019770\n",
       "ME3 BM2       0.023827\n",
       "ME2 BM3       0.024028\n",
       "ME4 BM4       0.024414\n",
       "ME3 BM4       0.032213\n",
       "ME4 BM5       0.033756\n",
       "ME2 BM4       0.036667\n",
       "ME2 BM5       0.039072\n",
       "ME1 BM4       0.044953\n",
       "ME3 BM5       0.049590\n",
       "SMALL HiBM    0.053801\n",
       "Name: alpha, dtype: float64"
      ]
     },
     "execution_count": 77,
     "metadata": {},
     "output_type": "execute_result"
    }
   ],
   "source": [
    "12*size_book_models_mom['macro+mkt'].alphas.sort_values()"
   ]
  },
  {
   "cell_type": "markdown",
   "id": "4a610cef-7254-4c48-8993-6886da5f0426",
   "metadata": {},
   "source": [
    "Reject null that alphas are 0 for the Macro + Mkt Model; the model does not price the portfolios.\n",
    "\n",
    "The J-statistic itself is the lowest amoung all the models (even FF5+Momentum+Macro). The biggest pricing errors are in the more extreme portfolios (particularly the \"SMALL\" portfolios)."
   ]
  },
  {
   "cell_type": "code",
   "execution_count": 80,
   "id": "ea34212c-4990-4508-999e-34e85ba2eacd",
   "metadata": {},
   "outputs": [
    {
     "data": {
      "text/plain": [
       "J-statistic\n",
       "H0: All alphas are 0\n",
       "Statistic: 91.4080\n",
       "P-value: 0.0000\n",
       "Distributed: chi2(25)\n",
       "WaldTestStatistic, id: 0x2ad5f556880"
      ]
     },
     "execution_count": 80,
     "metadata": {},
     "output_type": "execute_result"
    }
   ],
   "source": [
    "size_book_models_mom['ff5+mom']._jstat"
   ]
  },
  {
   "cell_type": "code",
   "execution_count": 82,
   "id": "dfdef1f5-d684-4c77-b6f9-85abc921b1b7",
   "metadata": {},
   "outputs": [
    {
     "data": {
      "text/plain": [
       "J-statistic\n",
       "H0: All alphas are 0\n",
       "Statistic: 80.5827\n",
       "P-value: 0.0000\n",
       "Distributed: chi2(25)\n",
       "WaldTestStatistic, id: 0x2ad5f57d340"
      ]
     },
     "execution_count": 82,
     "metadata": {},
     "output_type": "execute_result"
    }
   ],
   "source": [
    "size_book_models_mom['ff5+macro']._jstat"
   ]
  },
  {
   "cell_type": "markdown",
   "id": "6d5cce52-d789-413b-9cd8-efb4c70ce6c7",
   "metadata": {},
   "source": [
    "Adding macro to FF5 + Momentum enhances pricing (marginally)."
   ]
  },
  {
   "cell_type": "code",
   "execution_count": 83,
   "id": "68318d4b-04d2-45c9-9f67-79b170aba0ab",
   "metadata": {},
   "outputs": [
    {
     "data": {
      "text/html": [
       "<table class=\"simpletable\">\n",
       "<caption>TradedFactorModel Estimation Summary</caption>\n",
       "<tr>\n",
       "  <th>No. Test Portfolios:</th>        <td>25</td>        <th>  R-squared:         </th>  <td>0.9174</td> \n",
       "</tr>\n",
       "<tr>\n",
       "  <th>No. Factors:</th>                 <td>5</td>        <th>  J-statistic:       </th>  <td>83.636</td> \n",
       "</tr>\n",
       "<tr>\n",
       "  <th>No. Observations:</th>           <td>595</td>       <th>  P-value            </th>  <td>0.0000</td> \n",
       "</tr>\n",
       "<tr>\n",
       "  <th>Date:</th>                <td>Sat, Mar 18 2023</td> <th>  Distribution:      </th> <td>chi2(25)</td>\n",
       "</tr>\n",
       "<tr>\n",
       "  <th>Time:</th>                    <td>17:53:21</td>     <th>                     </th>     <td></td>    \n",
       "</tr>\n",
       "<tr>\n",
       "  <th>Cov. Estimator:</th>           <td>kernel</td>      <th>                     </th>     <td></td>    \n",
       "</tr>\n",
       "<tr>\n",
       "  <th></th>                             <td></td>         <th>                     </th>     <td></td>    \n",
       "</tr>\n",
       "</table>\n",
       "<table class=\"simpletable\">\n",
       "<caption>Risk Premia Estimates</caption>\n",
       "<tr>\n",
       "     <td></td>    <th>Parameter</th> <th>Std. Err.</th> <th>T-stat</th>  <th>P-value</th>  <th>Lower CI</th>   <th>Upper CI</th> \n",
       "</tr>\n",
       "<tr>\n",
       "  <th>Mkt-RF</th>  <td>0.0061</td>    <td>0.0019</td>   <td>3.1229</td>  <td>0.0018</td>    <td>0.0023</td>     <td>0.0099</td>  \n",
       "</tr>\n",
       "<tr>\n",
       "  <th>SMB</th>     <td>0.0022</td>    <td>0.0012</td>   <td>1.7837</td>  <td>0.0745</td>    <td>-0.0002</td>    <td>0.0046</td>  \n",
       "</tr>\n",
       "<tr>\n",
       "  <th>HML</th>     <td>0.0030</td>    <td>0.0016</td>   <td>1.9047</td>  <td>0.0568</td>  <td>-8.807e-05</td>   <td>0.0062</td>  \n",
       "</tr>\n",
       "<tr>\n",
       "  <th>gdp_0</th>   <td>0.0002</td>    <td>0.0001</td>   <td>1.3668</td>  <td>0.1717</td>  <td>-6.779e-05</td>   <td>0.0004</td>  \n",
       "</tr>\n",
       "<tr>\n",
       "  <th>cpi_0</th>   <td>-0.0001</td>  <td>3.598e-05</td> <td>-2.9089</td> <td>0.0036</td>    <td>-0.0002</td>  <td>-3.415e-05</td>\n",
       "</tr>\n",
       "</table><br/><br/>Covariance estimator:<br/>KernelCovariance, Kernel: bartlett, Bandwidth: 9<br/>See full_summary for complete results<br/>id: 0x2ad5f5569d0"
      ],
      "text/plain": [
       "                      TradedFactorModel Estimation Summary                      \n",
       "================================================================================\n",
       "No. Test Portfolios:                 25   R-squared:                      0.9174\n",
       "No. Factors:                          5   J-statistic:                    83.636\n",
       "No. Observations:                   595   P-value                         0.0000\n",
       "Date:                  Sat, Mar 18 2023   Distribution:                 chi2(25)\n",
       "Time:                          17:53:21                                         \n",
       "Cov. Estimator:                  kernel                                         \n",
       "                                                                                \n",
       "                            Risk Premia Estimates                             \n",
       "==============================================================================\n",
       "            Parameter  Std. Err.     T-stat    P-value    Lower CI    Upper CI\n",
       "------------------------------------------------------------------------------\n",
       "Mkt-RF         0.0061     0.0019     3.1229     0.0018      0.0023      0.0099\n",
       "SMB            0.0022     0.0012     1.7837     0.0745     -0.0002      0.0046\n",
       "HML            0.0030     0.0016     1.9047     0.0568  -8.807e-05      0.0062\n",
       "gdp_0          0.0002     0.0001     1.3668     0.1717  -6.779e-05      0.0004\n",
       "cpi_0         -0.0001  3.598e-05    -2.9089     0.0036     -0.0002  -3.415e-05\n",
       "==============================================================================\n",
       "\n",
       "Covariance estimator:\n",
       "KernelCovariance, Kernel: bartlett, Bandwidth: 9\n",
       "See full_summary for complete results\n",
       "LinearFactorModelResults, id: 0x2ad5f5569d0"
      ]
     },
     "execution_count": 83,
     "metadata": {},
     "output_type": "execute_result"
    }
   ],
   "source": [
    "size_book_models_mom['ff3+macro']"
   ]
  },
  {
   "cell_type": "markdown",
   "id": "7009a69b-d7bb-41ee-9c0a-7974b40e14c7",
   "metadata": {},
   "source": [
    "Macro factors do not subsume SMB and HML; GDP remains insignificant while CPI is still highly significant."
   ]
  },
  {
   "cell_type": "code",
   "execution_count": 10,
   "id": "99e22b51-aee8-467a-ac18-d674832dd3f5",
   "metadata": {},
   "outputs": [
    {
     "data": {
      "text/html": [
       "<table class=\"simpletable\">\n",
       "<caption>LinearFactorModel Estimation Summary</caption>\n",
       "<tr>\n",
       "  <th>No. Test Portfolios:</th>        <td>25</td>        <th>  R-squared:         </th>  <td>0.7580</td> \n",
       "</tr>\n",
       "<tr>\n",
       "  <th>No. Factors:</th>                 <td>3</td>        <th>  J-statistic:       </th>  <td>88.312</td> \n",
       "</tr>\n",
       "<tr>\n",
       "  <th>No. Observations:</th>           <td>196</td>       <th>  P-value            </th>  <td>0.0000</td> \n",
       "</tr>\n",
       "<tr>\n",
       "  <th>Date:</th>                <td>Sun, Mar 26 2023</td> <th>  Distribution:      </th> <td>chi2(22)</td>\n",
       "</tr>\n",
       "<tr>\n",
       "  <th>Time:</th>                    <td>14:32:49</td>     <th>                     </th>     <td></td>    \n",
       "</tr>\n",
       "<tr>\n",
       "  <th>Cov. Estimator:</th>           <td>kernel</td>      <th>                     </th>     <td></td>    \n",
       "</tr>\n",
       "<tr>\n",
       "  <th></th>                             <td></td>         <th>                     </th>     <td></td>    \n",
       "</tr>\n",
       "</table>\n",
       "<table class=\"simpletable\">\n",
       "<caption>Risk Premia Estimates</caption>\n",
       "<tr>\n",
       "      <td></td>     <th>Parameter</th> <th>Std. Err.</th> <th>T-stat</th>  <th>P-value</th> <th>Lower CI</th> <th>Upper CI</th>\n",
       "</tr>\n",
       "<tr>\n",
       "  <th>gdp_4qoq</th>  <td>0.0032</td>    <td>0.0038</td>   <td>0.8379</td>  <td>0.4021</td>   <td>-0.0043</td>  <td>0.0107</td> \n",
       "</tr>\n",
       "<tr>\n",
       "  <th>cpi_4qoq</th>  <td>-0.0085</td>   <td>0.0046</td>   <td>-1.8386</td> <td>0.0660</td>   <td>-0.0176</td>  <td>0.0006</td> \n",
       "</tr>\n",
       "<tr>\n",
       "  <th>Mkt-RF</th>    <td>0.0208</td>    <td>0.0057</td>   <td>3.6658</td>  <td>0.0002</td>   <td>0.0097</td>   <td>0.0320</td> \n",
       "</tr>\n",
       "</table><br/><br/>Covariance estimator:<br/>KernelCovariance, Kernel: bartlett, Bandwidth: 11<br/>See full_summary for complete results<br/>id: 0x2610abb2be0"
      ],
      "text/plain": [
       "                      LinearFactorModel Estimation Summary                      \n",
       "================================================================================\n",
       "No. Test Portfolios:                 25   R-squared:                      0.7580\n",
       "No. Factors:                          3   J-statistic:                    88.312\n",
       "No. Observations:                   196   P-value                         0.0000\n",
       "Date:                  Sun, Mar 26 2023   Distribution:                 chi2(22)\n",
       "Time:                          14:32:49                                         \n",
       "Cov. Estimator:                  kernel                                         \n",
       "                                                                                \n",
       "                            Risk Premia Estimates                             \n",
       "==============================================================================\n",
       "            Parameter  Std. Err.     T-stat    P-value    Lower CI    Upper CI\n",
       "------------------------------------------------------------------------------\n",
       "gdp_4qoq       0.0032     0.0038     0.8379     0.4021     -0.0043      0.0107\n",
       "cpi_4qoq      -0.0085     0.0046    -1.8386     0.0660     -0.0176      0.0006\n",
       "Mkt-RF         0.0208     0.0057     3.6658     0.0002      0.0097      0.0320\n",
       "==============================================================================\n",
       "\n",
       "Covariance estimator:\n",
       "KernelCovariance, Kernel: bartlett, Bandwidth: 11\n",
       "See full_summary for complete results\n",
       "LinearFactorModelResults, id: 0x2610abb2be0"
      ]
     },
     "execution_count": 10,
     "metadata": {},
     "output_type": "execute_result"
    }
   ],
   "source": [
    "size_book_models['macro+mkt']"
   ]
  },
  {
   "cell_type": "code",
   "execution_count": 21,
   "id": "7409f390-4045-4e59-a212-707f68f32297",
   "metadata": {},
   "outputs": [
    {
     "data": {
      "text/plain": [
       "{'GRS Statistic': '0.35', 'p-value': '0.99857'}"
      ]
     },
     "execution_count": 21,
     "metadata": {},
     "output_type": "execute_result"
    }
   ],
   "source": [
    "grs(size_book_models['macro+mkt'], macro_factors)"
   ]
  },
  {
   "cell_type": "code",
   "execution_count": 22,
   "id": "0e4672e4-9fe0-4366-a465-56526bf3114b",
   "metadata": {},
   "outputs": [
    {
     "data": {
      "text/plain": [
       "{'GRS Statistic': '10.81', 'p-value': '0.00000'}"
      ]
     },
     "execution_count": 22,
     "metadata": {},
     "output_type": "execute_result"
    }
   ],
   "source": [
    "# FF3 for comparison\n",
    "ff3_model = TradedFactorModel(size_book_assets_q, ff3_q).fit(cov_type='kernel')\n",
    "grs(ff3_model,ff3_q)"
   ]
  },
  {
   "cell_type": "markdown",
   "id": "4c080008-85b6-4e94-bc94-05a5e829a736",
   "metadata": {
    "tags": []
   },
   "source": [
    "##### Test Assets: 30 Industry Portfolios"
   ]
  },
  {
   "cell_type": "code",
   "execution_count": 23,
   "id": "e9af7858-037f-49e4-80c5-71fd41fbc17a",
   "metadata": {},
   "outputs": [],
   "source": [
    "industry_models = factor_models(industry_assets_q, macro_factors)"
   ]
  },
  {
   "cell_type": "code",
   "execution_count": 24,
   "id": "c2dbb896-9c9f-4329-b584-addff4c5aeb2",
   "metadata": {},
   "outputs": [
    {
     "data": {
      "text/html": [
       "<table class=\"simpletable\">\n",
       "<caption>LinearFactorModel Estimation Summary</caption>\n",
       "<tr>\n",
       "  <th>No. Test Portfolios:</th>        <td>30</td>        <th>  R-squared:         </th>  <td>0.5852</td> \n",
       "</tr>\n",
       "<tr>\n",
       "  <th>No. Factors:</th>                 <td>3</td>        <th>  J-statistic:       </th>  <td>214.82</td> \n",
       "</tr>\n",
       "<tr>\n",
       "  <th>No. Observations:</th>           <td>196</td>       <th>  P-value            </th>  <td>0.0000</td> \n",
       "</tr>\n",
       "<tr>\n",
       "  <th>Date:</th>                <td>Sun, Mar 26 2023</td> <th>  Distribution:      </th> <td>chi2(27)</td>\n",
       "</tr>\n",
       "<tr>\n",
       "  <th>Time:</th>                    <td>14:33:51</td>     <th>                     </th>     <td></td>    \n",
       "</tr>\n",
       "<tr>\n",
       "  <th>Cov. Estimator:</th>           <td>kernel</td>      <th>                     </th>     <td></td>    \n",
       "</tr>\n",
       "<tr>\n",
       "  <th></th>                             <td></td>         <th>                     </th>     <td></td>    \n",
       "</tr>\n",
       "</table>\n",
       "<table class=\"simpletable\">\n",
       "<caption>Risk Premia Estimates</caption>\n",
       "<tr>\n",
       "      <td></td>     <th>Parameter</th> <th>Std. Err.</th> <th>T-stat</th> <th>P-value</th> <th>Lower CI</th> <th>Upper CI</th>\n",
       "</tr>\n",
       "<tr>\n",
       "  <th>gdp_4qoq</th>  <td>0.0002</td>    <td>0.0036</td>   <td>0.0531</td> <td>0.9577</td>   <td>-0.0068</td>  <td>0.0072</td> \n",
       "</tr>\n",
       "<tr>\n",
       "  <th>cpi_4qoq</th>  <td>0.0022</td>    <td>0.0023</td>   <td>0.9266</td> <td>0.3541</td>   <td>-0.0024</td>  <td>0.0068</td> \n",
       "</tr>\n",
       "<tr>\n",
       "  <th>Mkt-RF</th>    <td>0.0217</td>    <td>0.0039</td>   <td>5.6291</td> <td>0.0000</td>   <td>0.0141</td>   <td>0.0292</td> \n",
       "</tr>\n",
       "</table><br/><br/>Covariance estimator:<br/>KernelCovariance, Kernel: bartlett, Bandwidth: 28<br/>See full_summary for complete results<br/>id: 0x2610b523d30"
      ],
      "text/plain": [
       "                      LinearFactorModel Estimation Summary                      \n",
       "================================================================================\n",
       "No. Test Portfolios:                 30   R-squared:                      0.5852\n",
       "No. Factors:                          3   J-statistic:                    214.82\n",
       "No. Observations:                   196   P-value                         0.0000\n",
       "Date:                  Sun, Mar 26 2023   Distribution:                 chi2(27)\n",
       "Time:                          14:33:51                                         \n",
       "Cov. Estimator:                  kernel                                         \n",
       "                                                                                \n",
       "                            Risk Premia Estimates                             \n",
       "==============================================================================\n",
       "            Parameter  Std. Err.     T-stat    P-value    Lower CI    Upper CI\n",
       "------------------------------------------------------------------------------\n",
       "gdp_4qoq       0.0002     0.0036     0.0531     0.9577     -0.0068      0.0072\n",
       "cpi_4qoq       0.0022     0.0023     0.9266     0.3541     -0.0024      0.0068\n",
       "Mkt-RF         0.0217     0.0039     5.6291     0.0000      0.0141      0.0292\n",
       "==============================================================================\n",
       "\n",
       "Covariance estimator:\n",
       "KernelCovariance, Kernel: bartlett, Bandwidth: 28\n",
       "See full_summary for complete results\n",
       "LinearFactorModelResults, id: 0x2610b523d30"
      ]
     },
     "execution_count": 24,
     "metadata": {},
     "output_type": "execute_result"
    }
   ],
   "source": [
    "industry_models['macro+mkt']"
   ]
  },
  {
   "cell_type": "code",
   "execution_count": 25,
   "id": "e35c5066-c60b-410f-930b-2c408f346f9d",
   "metadata": {},
   "outputs": [
    {
     "data": {
      "text/plain": [
       "{'GRS Statistic': '0.47', 'p-value': '0.99208'}"
      ]
     },
     "execution_count": 25,
     "metadata": {},
     "output_type": "execute_result"
    }
   ],
   "source": [
    "grs(industry_models['macro+mkt'], macro_factors)"
   ]
  },
  {
   "cell_type": "code",
   "execution_count": 26,
   "id": "d5756120-3043-4c2c-86cb-3e425d7b5e7e",
   "metadata": {},
   "outputs": [
    {
     "data": {
      "text/plain": [
       "{'GRS Statistic': '4.72', 'p-value': '0.00000'}"
      ]
     },
     "execution_count": 26,
     "metadata": {},
     "output_type": "execute_result"
    }
   ],
   "source": [
    "# FF3 for comparison\n",
    "ff3_model = TradedFactorModel(industry_assets_q, ff3_q).fit(cov_type='kernel')\n",
    "grs(ff3_model,ff3_q)"
   ]
  },
  {
   "cell_type": "code",
   "execution_count": 27,
   "id": "2dae9adf-9fd3-422a-b437-3a955a349438",
   "metadata": {},
   "outputs": [],
   "source": [
    "def fama_macbeth(test_assets, factors):\n",
    "    '''\n",
    "    Function to perform Fama-MacBeth procedure.\n",
    "    '''\n",
    "    from scipy.stats import chi2\n",
    "    \n",
    "    # Time Series Regression\n",
    "    betas = []\n",
    "    \n",
    "    for portfolio in test_assets:\n",
    "        ts = sm.OLS(test_assets.loc[:,portfolio], sm.add_constant(factors)).fit()\n",
    "        betas.append(ts.params[1:])\n",
    "\n",
    "    betas = pd.DataFrame(betas)\n",
    "    betas.index = test_assets.columns\n",
    "    \n",
    "    # Cross Sectional Regressions\n",
    "    T = len(factors)\n",
    "    lambdas = []\n",
    "    alphas = []\n",
    "    \n",
    "    for t in range(T):\n",
    "        cs = sm.OLS(np.array(test_assets)[t].T, betas).fit()\n",
    "        lambdas.append(cs.params)\n",
    "        alphas.append(cs.resid)\n",
    "            \n",
    "    # Risk Premia significance (without controlling for autocorrelation)\n",
    "    lambdas_df = pd.DataFrame(lambdas)\n",
    "    \n",
    "    std_errors = lambdas_df.apply(lambda col: np.sqrt(((col - col.mean())**2).sum() / T**2))\n",
    "    t_stats = lambdas_df.mean() / std_errors\n",
    "    \n",
    "    premia = pd.merge(lambdas_df.mean().rename('Risk Premia'), t_stats.rename('t-stat'), left_index=True, right_index=True)\n",
    "    \n",
    "    # Alpha significance (without controlling for autocorrelation)\n",
    "    alphas_df = pd.DataFrame(alphas)\n",
    "    alpha_hat = alphas_df.mean()\n",
    "\n",
    "    cov_alpha = ((alphas_df - alpha_hat).T @ (alphas_df - alpha_hat)) / len(alphas_df)**2\n",
    "    \n",
    "    alpha_chi = alpha_hat.T @ np.linalg.inv(cov_alpha) @ alpha_hat\n",
    "    alpha_p_val = 1 - chi2.cdf(alpha_chi, df=len(alpha_hat)-len(premia))\n",
    "\n",
    "    alpha_hat_mean = abs(alpha_hat).mean()\n",
    "    alpha = pd.DataFrame({'Test Statistic': alpha_chi, 'p-value':alpha_p_val, 'Mean Absolute alpha':alpha_hat_mean}, index=['H0: alphas=0'])\n",
    "    \n",
    "    return (premia, alpha)"
   ]
  },
  {
   "cell_type": "markdown",
   "id": "de47f570-907f-466f-9b1a-621ece391a5b",
   "metadata": {
    "jp-MarkdownHeadingCollapsed": true,
    "tags": []
   },
   "source": [
    "### Fama-MacBeth (Split-Sample)"
   ]
  },
  {
   "cell_type": "code",
   "execution_count": 44,
   "id": "710b48cf-a34d-41ca-a969-0f129fcc4708",
   "metadata": {},
   "outputs": [],
   "source": [
    "def get_premia(model):\n",
    "    '''\n",
    "    Function to output estimated risk premia and t-statistics\n",
    "    '''\n",
    "    premia = pd.DataFrame({'Risk Premia':model.risk_premia, 't-stat':model.risk_premia_tstats, 'Standard Error':model.risk_premia_se})\n",
    "\n",
    "    return premia"
   ]
  },
  {
   "cell_type": "code",
   "execution_count": 45,
   "id": "df2356c1-74ab-4e86-8add-15d184507840",
   "metadata": {},
   "outputs": [],
   "source": [
    "def get_alpha(model, factors):\n",
    "    '''\n",
    "    Function to output GRS test for alphas, and mean absolute alpha\n",
    "    '''    \n",
    "    grs_test = grs(model, factors)\n",
    "    \n",
    "    grs_stat = grs_test['GRS Statistic']\n",
    "    grs_p_val = grs_test['p-value']\n",
    "    \n",
    "    alpha_hat_mean = abs(model.alphas).mean()\n",
    "    \n",
    "    alpha = pd.DataFrame({'GRS Statistic':grs_stat, 'p-value':grs_p_val, 'Mean Absolute alpha':alpha_hat_mean}, index=['H0: alphas=0'])\n",
    "    \n",
    "    return alpha"
   ]
  },
  {
   "cell_type": "code",
   "execution_count": 46,
   "id": "c3513858-ecc4-4a0c-b348-49e0b063d90b",
   "metadata": {},
   "outputs": [],
   "source": [
    "def multiple_models(test_assets, start='1973', end='2022'):\n",
    "    '''\n",
    "    Function to run several pricing models.\n",
    "    Start and end allow for custom dates.\n",
    "    '''\n",
    "    # Models\n",
    "    macro_model = LinearFactorModel(test_assets.loc[start:end], macro_factors.loc[start:end]).fit(cov_type='kernel')\n",
    "    ff3 = TradedFactorModel(test_assets.loc[start:end], ff3_q.loc[start:end]).fit(cov_type='kernel')\n",
    "    ff5_mom = TradedFactorModel(test_assets.loc[start:end], ff5_mom_q.loc[start:end]).fit(cov_type='kernel')\n",
    "    \n",
    "    # Output\n",
    "    premia = pd.concat({'Macro Model':get_premia(macro_model),'FF3':get_premia(ff3), 'FF5 + MoM':get_premia(ff5_mom)})\n",
    "    premia.index.names = [\"Model\", \"Factors\"]\n",
    "\n",
    "    alpha = pd.concat({'Macro Model':get_alpha(macro_model,macro_factors),'FF3':get_alpha(ff3,ff3_q), 'FF5 + MoM':get_alpha(ff5_mom,ff5_mom_q)}, names=['Model', 'Hypothesis'])\n",
    "    alpha.index = alpha.index.swaplevel(0,1)\n",
    "    \n",
    "    return (premia, alpha)"
   ]
  },
  {
   "cell_type": "markdown",
   "id": "fcf9b680-5c61-4551-9ea3-3b3c4ddc7813",
   "metadata": {
    "tags": []
   },
   "source": [
    "##### Test Assets: 25 Size-Book Value Sorted Portfolios"
   ]
  },
  {
   "cell_type": "code",
   "execution_count": 47,
   "id": "24b9b783-8f68-4d5b-9703-c12119a346d3",
   "metadata": {},
   "outputs": [
    {
     "data": {
      "text/html": [
       "<div>\n",
       "<style scoped>\n",
       "    .dataframe tbody tr th:only-of-type {\n",
       "        vertical-align: middle;\n",
       "    }\n",
       "\n",
       "    .dataframe tbody tr th {\n",
       "        vertical-align: top;\n",
       "    }\n",
       "\n",
       "    .dataframe thead th {\n",
       "        text-align: right;\n",
       "    }\n",
       "</style>\n",
       "<table border=\"1\" class=\"dataframe\">\n",
       "  <thead>\n",
       "    <tr style=\"text-align: right;\">\n",
       "      <th></th>\n",
       "      <th></th>\n",
       "      <th>Risk Premia</th>\n",
       "      <th>t-stat</th>\n",
       "      <th>Standard Error</th>\n",
       "    </tr>\n",
       "    <tr>\n",
       "      <th>Model</th>\n",
       "      <th>Factors</th>\n",
       "      <th></th>\n",
       "      <th></th>\n",
       "      <th></th>\n",
       "    </tr>\n",
       "  </thead>\n",
       "  <tbody>\n",
       "    <tr>\n",
       "      <th rowspan=\"3\" valign=\"top\">Macro Model</th>\n",
       "      <th>gdp_4qoq</th>\n",
       "      <td>0.003206</td>\n",
       "      <td>0.837892</td>\n",
       "      <td>0.003826</td>\n",
       "    </tr>\n",
       "    <tr>\n",
       "      <th>cpi_4qoq</th>\n",
       "      <td>-0.008500</td>\n",
       "      <td>-1.838632</td>\n",
       "      <td>0.004623</td>\n",
       "    </tr>\n",
       "    <tr>\n",
       "      <th>Mkt-RF</th>\n",
       "      <td>0.020838</td>\n",
       "      <td>3.665838</td>\n",
       "      <td>0.005684</td>\n",
       "    </tr>\n",
       "    <tr>\n",
       "      <th rowspan=\"3\" valign=\"top\">FF3</th>\n",
       "      <th>Mkt-RF</th>\n",
       "      <td>0.019236</td>\n",
       "      <td>3.041706</td>\n",
       "      <td>0.006324</td>\n",
       "    </tr>\n",
       "    <tr>\n",
       "      <th>SMB</th>\n",
       "      <td>0.006811</td>\n",
       "      <td>1.798767</td>\n",
       "      <td>0.003786</td>\n",
       "    </tr>\n",
       "    <tr>\n",
       "      <th>HML</th>\n",
       "      <td>0.009362</td>\n",
       "      <td>1.856643</td>\n",
       "      <td>0.005042</td>\n",
       "    </tr>\n",
       "    <tr>\n",
       "      <th rowspan=\"6\" valign=\"top\">FF5 + MoM</th>\n",
       "      <th>Mkt-RF</th>\n",
       "      <td>0.019236</td>\n",
       "      <td>3.387255</td>\n",
       "      <td>0.005679</td>\n",
       "    </tr>\n",
       "    <tr>\n",
       "      <th>SMB</th>\n",
       "      <td>0.006811</td>\n",
       "      <td>1.689641</td>\n",
       "      <td>0.004031</td>\n",
       "    </tr>\n",
       "    <tr>\n",
       "      <th>HML</th>\n",
       "      <td>0.009362</td>\n",
       "      <td>1.848879</td>\n",
       "      <td>0.005064</td>\n",
       "    </tr>\n",
       "    <tr>\n",
       "      <th>RMW</th>\n",
       "      <td>0.009275</td>\n",
       "      <td>2.625577</td>\n",
       "      <td>0.003532</td>\n",
       "    </tr>\n",
       "    <tr>\n",
       "      <th>CMA</th>\n",
       "      <td>0.009985</td>\n",
       "      <td>2.888319</td>\n",
       "      <td>0.003457</td>\n",
       "    </tr>\n",
       "    <tr>\n",
       "      <th>Mom</th>\n",
       "      <td>0.017677</td>\n",
       "      <td>3.593523</td>\n",
       "      <td>0.004919</td>\n",
       "    </tr>\n",
       "  </tbody>\n",
       "</table>\n",
       "</div>"
      ],
      "text/plain": [
       "                      Risk Premia    t-stat  Standard Error\n",
       "Model       Factors                                        \n",
       "Macro Model gdp_4qoq     0.003206  0.837892        0.003826\n",
       "            cpi_4qoq    -0.008500 -1.838632        0.004623\n",
       "            Mkt-RF       0.020838  3.665838        0.005684\n",
       "FF3         Mkt-RF       0.019236  3.041706        0.006324\n",
       "            SMB          0.006811  1.798767        0.003786\n",
       "            HML          0.009362  1.856643        0.005042\n",
       "FF5 + MoM   Mkt-RF       0.019236  3.387255        0.005679\n",
       "            SMB          0.006811  1.689641        0.004031\n",
       "            HML          0.009362  1.848879        0.005064\n",
       "            RMW          0.009275  2.625577        0.003532\n",
       "            CMA          0.009985  2.888319        0.003457\n",
       "            Mom          0.017677  3.593523        0.004919"
      ]
     },
     "metadata": {},
     "output_type": "display_data"
    },
    {
     "data": {
      "text/html": [
       "<div>\n",
       "<style scoped>\n",
       "    .dataframe tbody tr th:only-of-type {\n",
       "        vertical-align: middle;\n",
       "    }\n",
       "\n",
       "    .dataframe tbody tr th {\n",
       "        vertical-align: top;\n",
       "    }\n",
       "\n",
       "    .dataframe thead th {\n",
       "        text-align: right;\n",
       "    }\n",
       "</style>\n",
       "<table border=\"1\" class=\"dataframe\">\n",
       "  <thead>\n",
       "    <tr style=\"text-align: right;\">\n",
       "      <th></th>\n",
       "      <th></th>\n",
       "      <th>GRS Statistic</th>\n",
       "      <th>p-value</th>\n",
       "      <th>Mean Absolute alpha</th>\n",
       "    </tr>\n",
       "    <tr>\n",
       "      <th>Hypothesis</th>\n",
       "      <th>Model</th>\n",
       "      <th></th>\n",
       "      <th></th>\n",
       "      <th></th>\n",
       "    </tr>\n",
       "  </thead>\n",
       "  <tbody>\n",
       "    <tr>\n",
       "      <th rowspan=\"3\" valign=\"top\">H0: alphas=0</th>\n",
       "      <th>Macro Model</th>\n",
       "      <td>0.35</td>\n",
       "      <td>0.99857</td>\n",
       "      <td>0.002736</td>\n",
       "    </tr>\n",
       "    <tr>\n",
       "      <th>FF3</th>\n",
       "      <td>10.81</td>\n",
       "      <td>0.00000</td>\n",
       "      <td>0.003116</td>\n",
       "    </tr>\n",
       "    <tr>\n",
       "      <th>FF5 + MoM</th>\n",
       "      <td>117.80</td>\n",
       "      <td>0.00000</td>\n",
       "      <td>0.002669</td>\n",
       "    </tr>\n",
       "  </tbody>\n",
       "</table>\n",
       "</div>"
      ],
      "text/plain": [
       "                         GRS Statistic  p-value  Mean Absolute alpha\n",
       "Hypothesis   Model                                                  \n",
       "H0: alphas=0 Macro Model          0.35  0.99857             0.002736\n",
       "             FF3                 10.81  0.00000             0.003116\n",
       "             FF5 + MoM          117.80  0.00000             0.002669"
      ]
     },
     "metadata": {},
     "output_type": "display_data"
    }
   ],
   "source": [
    "# Full-Sample (1973Q3 - 2022Q2)\n",
    "full_sample0 = multiple_models(size_book_assets_q)[0]\n",
    "full_sample1 = multiple_models(size_book_assets_q)[1]\n",
    "\n",
    "display(full_sample0)\n",
    "display(full_sample1)"
   ]
  },
  {
   "cell_type": "code",
   "execution_count": 48,
   "id": "f116d12a-1ff8-4b0c-a6b0-8ad7da1ea63b",
   "metadata": {},
   "outputs": [
    {
     "data": {
      "text/html": [
       "<div>\n",
       "<style scoped>\n",
       "    .dataframe tbody tr th:only-of-type {\n",
       "        vertical-align: middle;\n",
       "    }\n",
       "\n",
       "    .dataframe tbody tr th {\n",
       "        vertical-align: top;\n",
       "    }\n",
       "\n",
       "    .dataframe thead th {\n",
       "        text-align: right;\n",
       "    }\n",
       "</style>\n",
       "<table border=\"1\" class=\"dataframe\">\n",
       "  <thead>\n",
       "    <tr style=\"text-align: right;\">\n",
       "      <th></th>\n",
       "      <th></th>\n",
       "      <th>Risk Premia</th>\n",
       "      <th>t-stat</th>\n",
       "      <th>Standard Error</th>\n",
       "    </tr>\n",
       "    <tr>\n",
       "      <th>Model</th>\n",
       "      <th>Factors</th>\n",
       "      <th></th>\n",
       "      <th></th>\n",
       "      <th></th>\n",
       "    </tr>\n",
       "  </thead>\n",
       "  <tbody>\n",
       "    <tr>\n",
       "      <th rowspan=\"3\" valign=\"top\">Macro Model</th>\n",
       "      <th>gdp_4qoq</th>\n",
       "      <td>0.010423</td>\n",
       "      <td>1.695591</td>\n",
       "      <td>0.006147</td>\n",
       "    </tr>\n",
       "    <tr>\n",
       "      <th>cpi_4qoq</th>\n",
       "      <td>-0.009193</td>\n",
       "      <td>-1.275069</td>\n",
       "      <td>0.007210</td>\n",
       "    </tr>\n",
       "    <tr>\n",
       "      <th>Mkt-RF</th>\n",
       "      <td>0.022742</td>\n",
       "      <td>3.421242</td>\n",
       "      <td>0.006647</td>\n",
       "    </tr>\n",
       "    <tr>\n",
       "      <th rowspan=\"3\" valign=\"top\">FF3</th>\n",
       "      <th>Mkt-RF</th>\n",
       "      <td>0.020781</td>\n",
       "      <td>2.464042</td>\n",
       "      <td>0.008434</td>\n",
       "    </tr>\n",
       "    <tr>\n",
       "      <th>SMB</th>\n",
       "      <td>0.005543</td>\n",
       "      <td>1.032099</td>\n",
       "      <td>0.005370</td>\n",
       "    </tr>\n",
       "    <tr>\n",
       "      <th>HML</th>\n",
       "      <td>0.013923</td>\n",
       "      <td>2.528973</td>\n",
       "      <td>0.005505</td>\n",
       "    </tr>\n",
       "    <tr>\n",
       "      <th rowspan=\"6\" valign=\"top\">FF5 + MoM</th>\n",
       "      <th>Mkt-RF</th>\n",
       "      <td>0.020781</td>\n",
       "      <td>2.556167</td>\n",
       "      <td>0.008130</td>\n",
       "    </tr>\n",
       "    <tr>\n",
       "      <th>SMB</th>\n",
       "      <td>0.005543</td>\n",
       "      <td>1.016371</td>\n",
       "      <td>0.005453</td>\n",
       "    </tr>\n",
       "    <tr>\n",
       "      <th>HML</th>\n",
       "      <td>0.013923</td>\n",
       "      <td>2.547840</td>\n",
       "      <td>0.005464</td>\n",
       "    </tr>\n",
       "    <tr>\n",
       "      <th>RMW</th>\n",
       "      <td>0.007826</td>\n",
       "      <td>2.647835</td>\n",
       "      <td>0.002956</td>\n",
       "    </tr>\n",
       "    <tr>\n",
       "      <th>CMA</th>\n",
       "      <td>0.010982</td>\n",
       "      <td>2.999468</td>\n",
       "      <td>0.003661</td>\n",
       "    </tr>\n",
       "    <tr>\n",
       "      <th>Mom</th>\n",
       "      <td>0.026031</td>\n",
       "      <td>4.870415</td>\n",
       "      <td>0.005345</td>\n",
       "    </tr>\n",
       "  </tbody>\n",
       "</table>\n",
       "</div>"
      ],
      "text/plain": [
       "                      Risk Premia    t-stat  Standard Error\n",
       "Model       Factors                                        \n",
       "Macro Model gdp_4qoq     0.010423  1.695591        0.006147\n",
       "            cpi_4qoq    -0.009193 -1.275069        0.007210\n",
       "            Mkt-RF       0.022742  3.421242        0.006647\n",
       "FF3         Mkt-RF       0.020781  2.464042        0.008434\n",
       "            SMB          0.005543  1.032099        0.005370\n",
       "            HML          0.013923  2.528973        0.005505\n",
       "FF5 + MoM   Mkt-RF       0.020781  2.556167        0.008130\n",
       "            SMB          0.005543  1.016371        0.005453\n",
       "            HML          0.013923  2.547840        0.005464\n",
       "            RMW          0.007826  2.647835        0.002956\n",
       "            CMA          0.010982  2.999468        0.003661\n",
       "            Mom          0.026031  4.870415        0.005345"
      ]
     },
     "metadata": {},
     "output_type": "display_data"
    },
    {
     "data": {
      "text/html": [
       "<div>\n",
       "<style scoped>\n",
       "    .dataframe tbody tr th:only-of-type {\n",
       "        vertical-align: middle;\n",
       "    }\n",
       "\n",
       "    .dataframe tbody tr th {\n",
       "        vertical-align: top;\n",
       "    }\n",
       "\n",
       "    .dataframe thead th {\n",
       "        text-align: right;\n",
       "    }\n",
       "</style>\n",
       "<table border=\"1\" class=\"dataframe\">\n",
       "  <thead>\n",
       "    <tr style=\"text-align: right;\">\n",
       "      <th></th>\n",
       "      <th></th>\n",
       "      <th>GRS Statistic</th>\n",
       "      <th>p-value</th>\n",
       "      <th>Mean Absolute alpha</th>\n",
       "    </tr>\n",
       "    <tr>\n",
       "      <th>Hypothesis</th>\n",
       "      <th>Model</th>\n",
       "      <th></th>\n",
       "      <th></th>\n",
       "      <th></th>\n",
       "    </tr>\n",
       "  </thead>\n",
       "  <tbody>\n",
       "    <tr>\n",
       "      <th rowspan=\"3\" valign=\"top\">H0: alphas=0</th>\n",
       "      <th>Macro Model</th>\n",
       "      <td>0.05</td>\n",
       "      <td>1.00000</td>\n",
       "      <td>0.003773</td>\n",
       "    </tr>\n",
       "    <tr>\n",
       "      <th>FF3</th>\n",
       "      <td>55.28</td>\n",
       "      <td>0.00000</td>\n",
       "      <td>0.001982</td>\n",
       "    </tr>\n",
       "    <tr>\n",
       "      <th>FF5 + MoM</th>\n",
       "      <td>94.67</td>\n",
       "      <td>0.00000</td>\n",
       "      <td>0.003788</td>\n",
       "    </tr>\n",
       "  </tbody>\n",
       "</table>\n",
       "</div>"
      ],
      "text/plain": [
       "                         GRS Statistic  p-value  Mean Absolute alpha\n",
       "Hypothesis   Model                                                  \n",
       "H0: alphas=0 Macro Model          0.05  1.00000             0.003773\n",
       "             FF3                 55.28  0.00000             0.001982\n",
       "             FF5 + MoM           94.67  0.00000             0.003788"
      ]
     },
     "metadata": {},
     "output_type": "display_data"
    }
   ],
   "source": [
    "# Vassalou Sample ( - 1998Q4)\n",
    "pre0 = multiple_models(size_book_assets_q, end='1998')[0]\n",
    "pre1 = multiple_models(size_book_assets_q, end='1998')[1]\n",
    "\n",
    "display(pre0)\n",
    "display(pre1)"
   ]
  },
  {
   "cell_type": "code",
   "execution_count": 49,
   "id": "958d4446-e3bc-4847-8b21-51912caffbbc",
   "metadata": {},
   "outputs": [
    {
     "data": {
      "text/html": [
       "<div>\n",
       "<style scoped>\n",
       "    .dataframe tbody tr th:only-of-type {\n",
       "        vertical-align: middle;\n",
       "    }\n",
       "\n",
       "    .dataframe tbody tr th {\n",
       "        vertical-align: top;\n",
       "    }\n",
       "\n",
       "    .dataframe thead th {\n",
       "        text-align: right;\n",
       "    }\n",
       "</style>\n",
       "<table border=\"1\" class=\"dataframe\">\n",
       "  <thead>\n",
       "    <tr style=\"text-align: right;\">\n",
       "      <th></th>\n",
       "      <th></th>\n",
       "      <th>Risk Premia</th>\n",
       "      <th>t-stat</th>\n",
       "      <th>Standard Error</th>\n",
       "    </tr>\n",
       "    <tr>\n",
       "      <th>Model</th>\n",
       "      <th>Factors</th>\n",
       "      <th></th>\n",
       "      <th></th>\n",
       "      <th></th>\n",
       "    </tr>\n",
       "  </thead>\n",
       "  <tbody>\n",
       "    <tr>\n",
       "      <th rowspan=\"3\" valign=\"top\">Macro Model</th>\n",
       "      <th>gdp_4qoq</th>\n",
       "      <td>0.003332</td>\n",
       "      <td>0.724188</td>\n",
       "      <td>0.004600</td>\n",
       "    </tr>\n",
       "    <tr>\n",
       "      <th>cpi_4qoq</th>\n",
       "      <td>0.001314</td>\n",
       "      <td>0.308989</td>\n",
       "      <td>0.004252</td>\n",
       "    </tr>\n",
       "    <tr>\n",
       "      <th>Mkt-RF</th>\n",
       "      <td>0.019345</td>\n",
       "      <td>2.674173</td>\n",
       "      <td>0.007234</td>\n",
       "    </tr>\n",
       "    <tr>\n",
       "      <th rowspan=\"3\" valign=\"top\">FF3</th>\n",
       "      <th>Mkt-RF</th>\n",
       "      <td>0.017560</td>\n",
       "      <td>1.894193</td>\n",
       "      <td>0.009270</td>\n",
       "    </tr>\n",
       "    <tr>\n",
       "      <th>SMB</th>\n",
       "      <td>0.008186</td>\n",
       "      <td>1.550129</td>\n",
       "      <td>0.005281</td>\n",
       "    </tr>\n",
       "    <tr>\n",
       "      <th>HML</th>\n",
       "      <td>0.004414</td>\n",
       "      <td>0.536910</td>\n",
       "      <td>0.008220</td>\n",
       "    </tr>\n",
       "    <tr>\n",
       "      <th rowspan=\"6\" valign=\"top\">FF5 + MoM</th>\n",
       "      <th>Mkt-RF</th>\n",
       "      <td>0.017560</td>\n",
       "      <td>1.838326</td>\n",
       "      <td>0.009552</td>\n",
       "    </tr>\n",
       "    <tr>\n",
       "      <th>SMB</th>\n",
       "      <td>0.008186</td>\n",
       "      <td>1.621028</td>\n",
       "      <td>0.005050</td>\n",
       "    </tr>\n",
       "    <tr>\n",
       "      <th>HML</th>\n",
       "      <td>0.004414</td>\n",
       "      <td>0.512211</td>\n",
       "      <td>0.008617</td>\n",
       "    </tr>\n",
       "    <tr>\n",
       "      <th>RMW</th>\n",
       "      <td>0.010847</td>\n",
       "      <td>1.620191</td>\n",
       "      <td>0.006695</td>\n",
       "    </tr>\n",
       "    <tr>\n",
       "      <th>CMA</th>\n",
       "      <td>0.008902</td>\n",
       "      <td>1.647464</td>\n",
       "      <td>0.005403</td>\n",
       "    </tr>\n",
       "    <tr>\n",
       "      <th>Mom</th>\n",
       "      <td>0.008612</td>\n",
       "      <td>0.884530</td>\n",
       "      <td>0.009737</td>\n",
       "    </tr>\n",
       "  </tbody>\n",
       "</table>\n",
       "</div>"
      ],
      "text/plain": [
       "                      Risk Premia    t-stat  Standard Error\n",
       "Model       Factors                                        \n",
       "Macro Model gdp_4qoq     0.003332  0.724188        0.004600\n",
       "            cpi_4qoq     0.001314  0.308989        0.004252\n",
       "            Mkt-RF       0.019345  2.674173        0.007234\n",
       "FF3         Mkt-RF       0.017560  1.894193        0.009270\n",
       "            SMB          0.008186  1.550129        0.005281\n",
       "            HML          0.004414  0.536910        0.008220\n",
       "FF5 + MoM   Mkt-RF       0.017560  1.838326        0.009552\n",
       "            SMB          0.008186  1.621028        0.005050\n",
       "            HML          0.004414  0.512211        0.008617\n",
       "            RMW          0.010847  1.620191        0.006695\n",
       "            CMA          0.008902  1.647464        0.005403\n",
       "            Mom          0.008612  0.884530        0.009737"
      ]
     },
     "metadata": {},
     "output_type": "display_data"
    },
    {
     "data": {
      "text/html": [
       "<div>\n",
       "<style scoped>\n",
       "    .dataframe tbody tr th:only-of-type {\n",
       "        vertical-align: middle;\n",
       "    }\n",
       "\n",
       "    .dataframe tbody tr th {\n",
       "        vertical-align: top;\n",
       "    }\n",
       "\n",
       "    .dataframe thead th {\n",
       "        text-align: right;\n",
       "    }\n",
       "</style>\n",
       "<table border=\"1\" class=\"dataframe\">\n",
       "  <thead>\n",
       "    <tr style=\"text-align: right;\">\n",
       "      <th></th>\n",
       "      <th></th>\n",
       "      <th>GRS Statistic</th>\n",
       "      <th>p-value</th>\n",
       "      <th>Mean Absolute alpha</th>\n",
       "    </tr>\n",
       "    <tr>\n",
       "      <th>Hypothesis</th>\n",
       "      <th>Model</th>\n",
       "      <th></th>\n",
       "      <th></th>\n",
       "      <th></th>\n",
       "    </tr>\n",
       "  </thead>\n",
       "  <tbody>\n",
       "    <tr>\n",
       "      <th rowspan=\"3\" valign=\"top\">H0: alphas=0</th>\n",
       "      <th>Macro Model</th>\n",
       "      <td>1.47</td>\n",
       "      <td>0.10761</td>\n",
       "      <td>0.004348</td>\n",
       "    </tr>\n",
       "    <tr>\n",
       "      <th>FF3</th>\n",
       "      <td>86.95</td>\n",
       "      <td>0.00000</td>\n",
       "      <td>0.004599</td>\n",
       "    </tr>\n",
       "    <tr>\n",
       "      <th>FF5 + MoM</th>\n",
       "      <td>43.24</td>\n",
       "      <td>0.00000</td>\n",
       "      <td>0.003469</td>\n",
       "    </tr>\n",
       "  </tbody>\n",
       "</table>\n",
       "</div>"
      ],
      "text/plain": [
       "                         GRS Statistic  p-value  Mean Absolute alpha\n",
       "Hypothesis   Model                                                  \n",
       "H0: alphas=0 Macro Model          1.47  0.10761             0.004348\n",
       "             FF3                 86.95  0.00000             0.004599\n",
       "             FF5 + MoM           43.24  0.00000             0.003469"
      ]
     },
     "metadata": {},
     "output_type": "display_data"
    }
   ],
   "source": [
    "# Post-Vassalou Sample (1998Q4 - )\n",
    "post0 = multiple_models(size_book_assets_q, start='1999')[0]\n",
    "post1 = multiple_models(size_book_assets_q, start='1999')[1]\n",
    "\n",
    "display(post0)\n",
    "display(post1)"
   ]
  },
  {
   "cell_type": "markdown",
   "id": "2a8ab5cd-ff8b-4f03-86a2-c3f4529f317b",
   "metadata": {
    "jp-MarkdownHeadingCollapsed": true,
    "tags": []
   },
   "source": [
    "### Fama-MacBeth (Rolling)"
   ]
  },
  {
   "cell_type": "code",
   "execution_count": 50,
   "id": "d27ccb70-4232-482e-9290-4e6235ec444b",
   "metadata": {},
   "outputs": [],
   "source": [
    "def rolling_model(test_assets):\n",
    "    '''\n",
    "    Implements a 5 year (20 quarter) rolling Fama-MacBeth estimation of risk-premia.\n",
    "    '''\n",
    "    premia = []\n",
    "    \n",
    "    for t in range(len(test_assets)-20):\n",
    "        model = LinearFactorModel(test_assets.iloc[t:t+20], macro_factors.iloc[t:t+20]).fit(cov_type='kernel')\n",
    "        premia.append(get_premia(model).stack(-1))\n",
    "        \n",
    "    premia_df = pd.DataFrame(premia, index=test_assets.index[20:])\n",
    "    \n",
    "    return premia_df"
   ]
  },
  {
   "cell_type": "code",
   "execution_count": 51,
   "id": "cc4f9d05-9c89-412e-ab40-faa2f233d957",
   "metadata": {},
   "outputs": [],
   "source": [
    "rolling = rolling_model(size_book_assets_q)"
   ]
  },
  {
   "cell_type": "code",
   "execution_count": 78,
   "id": "a1e642e8-e8fc-47cf-abdd-d77757e4b63f",
   "metadata": {},
   "outputs": [
    {
     "data": {
      "text/plain": [
       "<matplotlib.collections.LineCollection at 0x26129c2df70>"
      ]
     },
     "execution_count": 78,
     "metadata": {},
     "output_type": "execute_result"
    },
    {
     "data": {
      "image/png": "[encoded data removed]",
      "text/plain": [
       "<Figure size 1152x576 with 1 Axes>"
      ]
     },
     "metadata": {
      "needs_background": "light"
     },
     "output_type": "display_data"
    }
   ],
   "source": [
    "rolling.iloc[:, rolling.columns.get_level_values(1)=='Risk Premia'].iloc[:].plot(figsize=(16,8)).hlines(y=0, xmin=0, xmax=1000, color='slategrey')"
   ]
  },
  {
   "cell_type": "code",
   "execution_count": 80,
   "id": "f962b8d9-34c6-48f1-ba06-9f21e0839309",
   "metadata": {},
   "outputs": [
    {
     "data": {
      "text/plain": [
       "<AxesSubplot:xlabel='Date'>"
      ]
     },
     "execution_count": 80,
     "metadata": {},
     "output_type": "execute_result"
    },
    {
     "data": {
      "image/png": "[encoded data removed]",
      "text/plain": [
       "<Figure size 1152x576 with 1 Axes>"
      ]
     },
     "metadata": {
      "needs_background": "light"
     },
     "output_type": "display_data"
    }
   ],
   "source": [
    "(1+rolling.iloc[:, rolling.columns.get_level_values(1)=='Risk Premia']).cumprod().plot(figsize=(16,8))"
   ]
  },
  {
   "cell_type": "markdown",
   "id": "9c836d16-82cb-4af1-8149-6680bcffb915",
   "metadata": {},
   "source": [
    "Above plots suggest that GDP and CPI are simply hedging factors: they do not have a stable non-zero risk premia."
   ]
  },
  {
   "cell_type": "code",
   "execution_count": 158,
   "id": "d587b8bb-cc0c-494d-b8dc-6d6046c9c060",
   "metadata": {},
   "outputs": [],
   "source": [
    "# Plot with premia over time and standard errors\n",
    "# rolling"
   ]
  },
  {
   "cell_type": "code",
   "execution_count": 89,
   "id": "b7ad6295-31b0-4724-bcb1-b955a7039353",
   "metadata": {},
   "outputs": [
    {
     "data": {
      "text/plain": [
       "{'GRS Statistic': '64.97', 'p-value': '0.00000'}"
      ]
     },
     "execution_count": 89,
     "metadata": {},
     "output_type": "execute_result"
    }
   ],
   "source": [
    "model1 = TradedFactorModel(size_book_assets_q, macro_factors).fit(cov_type='kernel')\n",
    "grs(model1,macro_factors)"
   ]
  },
  {
   "cell_type": "code",
   "execution_count": 90,
   "id": "49dec051-f2dc-49ab-93bb-07b25aaee728",
   "metadata": {},
   "outputs": [
    {
     "data": {
      "text/plain": [
       "{'GRS Statistic': '0.35', 'p-value': '0.99857'}"
      ]
     },
     "execution_count": 90,
     "metadata": {},
     "output_type": "execute_result"
    }
   ],
   "source": [
    "model2 = LinearFactorModel(size_book_assets_q, macro_factors).fit(cov_type='kernel')\n",
    "grs(model2,macro_factors)"
   ]
  },
  {
   "cell_type": "code",
   "execution_count": 94,
   "id": "6a113bb3-ece6-4e3a-9dbf-33e0450ea683",
   "metadata": {},
   "outputs": [
    {
     "data": {
      "text/plain": [
       "{'GRS Statistic': '10.81', 'p-value': '0.00000'}"
      ]
     },
     "execution_count": 94,
     "metadata": {},
     "output_type": "execute_result"
    }
   ],
   "source": [
    "model3 = TradedFactorModel(size_book_assets_q, ff3_q).fit(cov_type='kernel')\n",
    "grs(model3,ff3_q)"
   ]
  },
  {
   "cell_type": "code",
   "execution_count": 96,
   "id": "8c94d2c9-cf24-4fdd-be7b-1d89a34e1b81",
   "metadata": {},
   "outputs": [
    {
     "data": {
      "text/plain": [
       "0.005499027136911869"
      ]
     },
     "execution_count": 96,
     "metadata": {},
     "output_type": "execute_result"
    }
   ],
   "source": [
    "abs(model1.alphas).mean()"
   ]
  },
  {
   "cell_type": "code",
   "execution_count": 98,
   "id": "468cb859-7848-4170-8075-ac0310489469",
   "metadata": {},
   "outputs": [
    {
     "data": {
      "text/plain": [
       "0.002736241409533808"
      ]
     },
     "execution_count": 98,
     "metadata": {},
     "output_type": "execute_result"
    }
   ],
   "source": [
    "abs(model2.alphas).mean()"
   ]
  },
  {
   "cell_type": "code",
   "execution_count": 99,
   "id": "2a73b7e9-7b8a-4f9d-9f2a-8bf31a0a6b3e",
   "metadata": {},
   "outputs": [
    {
     "data": {
      "text/plain": [
       "0.003116204074023205"
      ]
     },
     "execution_count": 99,
     "metadata": {},
     "output_type": "execute_result"
    }
   ],
   "source": [
    "abs(model3.alphas).mean()"
   ]
  },
  {
   "cell_type": "markdown",
   "id": "c0f6ea02-bae0-4111-8ca9-61f7ff1bf8ba",
   "metadata": {
    "jp-MarkdownHeadingCollapsed": true,
    "tags": []
   },
   "source": [
    "### GMM?"
   ]
  },
  {
   "cell_type": "code",
   "execution_count": 81,
   "id": "0fa52a79-553e-499c-95cd-8aa360aff731",
   "metadata": {},
   "outputs": [
    {
     "name": "stdout",
     "output_type": "stream",
     "text": [
      "Iteration: 0, Objective: 408.81821994372325\n",
      "Iteration: 10, Objective: 231.58366663524419\n",
      "Iteration: 20, Objective: 159.82101135600348\n",
      "Iteration: 30, Objective: 125.20989728030852\n",
      "Iteration: 40, Objective: 87.90685233654223\n",
      "Iteration: 50, Objective: 72.00144667574065\n",
      "Iteration: 60, Objective: 52.98657235710436\n",
      "Iteration: 70, Objective: 46.82540545399147\n",
      "Iteration: 80, Objective: 41.396768503671396\n",
      "Iteration: 90, Objective: 36.867982556824295\n",
      "Iteration: 100, Objective: 35.54196785001792\n",
      "Iteration: 110, Objective: 31.253456957083067\n",
      "Iteration: 120, Objective: 26.90832170140755\n",
      "Iteration: 130, Objective: 23.338000573222892\n",
      "Iteration: 140, Objective: 20.702454283272303\n",
      "Iteration: 150, Objective: 19.264845899736102\n",
      "Iteration: 160, Objective: 18.46583806747167\n",
      "Iteration: 170, Objective: 17.933542092169578\n",
      "Iteration: 180, Objective: 17.746642826476574\n",
      "Iteration: 190, Objective: 17.680696308200325\n",
      "Iteration: 200, Objective: 17.617758054037715\n",
      "Iteration: 210, Objective: 17.58538951528697\n",
      "Iteration: 220, Objective: 17.57447651210225\n",
      "Iteration: 230, Objective: 17.571517216185363\n",
      "Iteration: 240, Objective: 17.57149246922328\n",
      "Iteration: 250, Objective: 17.571488127709795\n",
      "Warning: Desired error not necessarily achieved due to precision loss.\n",
      "         Current function value: 17.571488\n",
      "         Iterations: 251\n",
      "         Function evaluations: 24940\n",
      "         Gradient evaluations: 304\n",
      "Iteration: 0, Objective: 29.37216124472272\n",
      "Iteration: 10, Objective: 23.21362562687771\n",
      "Iteration: 20, Objective: 20.75156738167257\n",
      "Iteration: 30, Objective: 18.987274777827704\n",
      "Iteration: 40, Objective: 17.804125879599475\n",
      "Iteration: 50, Objective: 16.844816000005167\n",
      "Iteration: 60, Objective: 15.630050762607981\n",
      "Iteration: 70, Objective: 13.584411188402058\n",
      "Iteration: 80, Objective: 12.392515710893225\n",
      "Iteration: 90, Objective: 12.16523168303033\n",
      "Iteration: 100, Objective: 12.148569722963577\n",
      "Iteration: 110, Objective: 12.146830108438795\n",
      "Warning: Desired error not necessarily achieved due to precision loss.\n",
      "         Current function value: 12.146829\n",
      "         Iterations: 116\n",
      "         Function evaluations: 12146\n",
      "         Gradient evaluations: 148\n"
     ]
    }
   ],
   "source": [
    "gmm1 = GMM(size_book_assets_q, macro_factors).fit(cov_type='kernel')"
   ]
  },
  {
   "cell_type": "code",
   "execution_count": 84,
   "id": "7b7defb0-3bb9-4a57-8c0f-f2a1aa64beb0",
   "metadata": {},
   "outputs": [
    {
     "data": {
      "text/plain": [
       "{'GRS Statistic': '0.00', 'p-value': '1.00000'}"
      ]
     },
     "execution_count": 84,
     "metadata": {},
     "output_type": "execute_result"
    }
   ],
   "source": [
    "grs(gmm1,macro_factors)"
   ]
  },
  {
   "cell_type": "markdown",
   "id": "4892098e-4d1b-47c3-978b-cdb260040bc2",
   "metadata": {},
   "source": [
    "## Robustness Tests"
   ]
  },
  {
   "cell_type": "markdown",
   "id": "de154700-6a3c-4c2c-ab13-9f32ae89d220",
   "metadata": {},
   "source": [
    "### \"Full-Sample\" Analysis with OOS Factor"
   ]
  },
  {
   "cell_type": "code",
   "execution_count": null,
   "id": "30624cdd-e570-4e20-a001-c1ec74f6ba1e",
   "metadata": {},
   "outputs": [],
   "source": []
  },
  {
   "cell_type": "markdown",
   "id": "f53d4abf-f680-4150-ab2e-c3f33c109042",
   "metadata": {},
   "source": [
    "### Alternative Variables"
   ]
  },
  {
   "cell_type": "markdown",
   "id": "cfc21bb3-29ce-4885-845b-c9ffbcffa279",
   "metadata": {},
   "source": [
    "- ISM for GDP\n",
    "- Oil prices for CPI"
   ]
  },
  {
   "cell_type": "code",
   "execution_count": null,
   "id": "d0b15379-f510-4ed1-b99d-5bcc89e05f70",
   "metadata": {},
   "outputs": [],
   "source": []
  },
  {
   "cell_type": "markdown",
   "id": "72780da0-997a-4049-b033-fdd32677be21",
   "metadata": {},
   "source": [
    "### Monthly"
   ]
  },
  {
   "cell_type": "markdown",
   "id": "87fdba3a-d3f1-4576-8e8d-cb2e5ed10977",
   "metadata": {},
   "source": [
    "- BBK monthly GDP\n",
    "- CPI at its original (monthly) frequency"
   ]
  },
  {
   "cell_type": "code",
   "execution_count": null,
   "id": "ab552da1-850e-4f37-8b3e-bb512e3e82bb",
   "metadata": {},
   "outputs": [],
   "source": []
  }
 ],
 "metadata": {
  "kernelspec": {
   "display_name": "Python 3 (ipykernel)",
   "language": "python",
   "name": "python3"
  },
  "language_info": {
   "codemirror_mode": {
    "name": "ipython",
    "version": 3
   },
   "file_extension": ".py",
   "mimetype": "text/x-python",
   "name": "python",
   "nbconvert_exporter": "python",
   "pygments_lexer": "ipython3",
   "version": "3.9.12"
  }
 },
 "nbformat": 4,
 "nbformat_minor": 5
}
