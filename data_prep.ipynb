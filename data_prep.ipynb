{
 "cells": [
  {
   "cell_type": "markdown",
   "id": "2e49f262-e758-4085-9dd4-9c57ee88aca4",
   "metadata": {},
   "source": [
    "# Paper Data Prep"
   ]
  },
  {
   "cell_type": "markdown",
   "id": "52b0317c-dd55-4e33-96c0-c8df32290bcf",
   "metadata": {},
   "source": [
    "Factor data:\n",
    "- 25 size-value FF portfolios \n",
    "- FF Industry portfolios\n",
    "- the 6 portfolios which form SMB and HML\n",
    "    - sourced from Ken French's website\n",
    "- DEF (difference between the return on long-term corporate bonds and long-term government bonds)\n",
    "- TERM (difference between the return on 30 year government bonds and the short-term rate)\n",
    "    - both sourced Ibbotson\n",
    "    - possible sub for corp bond returns (https://fred.stlouisfed.org/series/BAMLCC8A015PYTRIV)\n",
    "    - CRSP 20 or 30 year bond return, short term as 30 or 90 day\n",
    "- DEFY (default yield spread: Moody's BAA and AAA yield spread)\n",
    "    - Amit Goyal or FRED (https://fred.stlouisfed.org/series/BAA & https://fred.stlouisfed.org/series/AAA)\n",
    "- TERMY (term yield spread: 10 year and 1 year Treasury spread)\n",
    "    - FRED (https://fred.stlouisfed.org/series/DGS10 & https://fred.stlouisfed.org/series/DGS1)\n",
    "- RF (30 day T-bill rate)\n",
    "    - CRSP\n",
    "- Market portfolio (value-weighted NYSE)\n",
    "- GDP (seasonally adjusted)\n",
    "    - FRED (https://fred.stlouisfed.org/series/GDPC1)\n",
    "\n",
    "Other required data:\n",
    "- ISM Manufacturing Index\n",
    "    - sourced from Bloomberg\n",
    "- FF5 factors + Momentum\n",
    "    - Ken French"
   ]
  },
  {
   "cell_type": "code",
   "execution_count": 2,
   "id": "231ab4f5-de2d-49ea-8d17-03a2f5b698e0",
   "metadata": {},
   "outputs": [],
   "source": [
    "import pandas as pd\n",
    "import numpy as np\n",
    "from pandas.tseries.offsets import *\n",
    "import pandas_datareader.data as pdr"
   ]
  },
  {
   "cell_type": "markdown",
   "id": "e1cb2881-b369-4e81-b9a9-87554ff9c10b",
   "metadata": {},
   "source": [
    "## FRED Data"
   ]
  },
  {
   "cell_type": "code",
   "execution_count": 12,
   "id": "d4584631-279a-4883-a85c-d6abece2a0ad",
   "metadata": {},
   "outputs": [
    {
     "data": {
      "text/html": [
       "<div>\n",
       "<style scoped>\n",
       "    .dataframe tbody tr th:only-of-type {\n",
       "        vertical-align: middle;\n",
       "    }\n",
       "\n",
       "    .dataframe tbody tr th {\n",
       "        vertical-align: top;\n",
       "    }\n",
       "\n",
       "    .dataframe thead th {\n",
       "        text-align: right;\n",
       "    }\n",
       "</style>\n",
       "<table border=\"1\" class=\"dataframe\">\n",
       "  <thead>\n",
       "    <tr style=\"text-align: right;\">\n",
       "      <th></th>\n",
       "      <th>BAA</th>\n",
       "      <th>AAA</th>\n",
       "      <th>10 year</th>\n",
       "      <th>1 year</th>\n",
       "      <th>corp_bond_return</th>\n",
       "    </tr>\n",
       "    <tr>\n",
       "      <th>DATE</th>\n",
       "      <th></th>\n",
       "      <th></th>\n",
       "      <th></th>\n",
       "      <th></th>\n",
       "      <th></th>\n",
       "    </tr>\n",
       "  </thead>\n",
       "  <tbody>\n",
       "    <tr>\n",
       "      <th>1947-01-31</th>\n",
       "      <td>3.13</td>\n",
       "      <td>2.57</td>\n",
       "      <td>NaN</td>\n",
       "      <td>NaN</td>\n",
       "      <td>NaN</td>\n",
       "    </tr>\n",
       "    <tr>\n",
       "      <th>1947-02-28</th>\n",
       "      <td>3.12</td>\n",
       "      <td>2.55</td>\n",
       "      <td>NaN</td>\n",
       "      <td>NaN</td>\n",
       "      <td>NaN</td>\n",
       "    </tr>\n",
       "    <tr>\n",
       "      <th>1947-03-31</th>\n",
       "      <td>3.15</td>\n",
       "      <td>2.55</td>\n",
       "      <td>NaN</td>\n",
       "      <td>NaN</td>\n",
       "      <td>NaN</td>\n",
       "    </tr>\n",
       "    <tr>\n",
       "      <th>1947-04-30</th>\n",
       "      <td>3.16</td>\n",
       "      <td>2.53</td>\n",
       "      <td>NaN</td>\n",
       "      <td>NaN</td>\n",
       "      <td>NaN</td>\n",
       "    </tr>\n",
       "    <tr>\n",
       "      <th>1947-05-31</th>\n",
       "      <td>3.17</td>\n",
       "      <td>2.53</td>\n",
       "      <td>NaN</td>\n",
       "      <td>NaN</td>\n",
       "      <td>NaN</td>\n",
       "    </tr>\n",
       "  </tbody>\n",
       "</table>\n",
       "</div>"
      ],
      "text/plain": [
       "             BAA   AAA  10 year  1 year  corp_bond_return\n",
       "DATE                                                     \n",
       "1947-01-31  3.13  2.57      NaN     NaN               NaN\n",
       "1947-02-28  3.12  2.55      NaN     NaN               NaN\n",
       "1947-03-31  3.15  2.55      NaN     NaN               NaN\n",
       "1947-04-30  3.16  2.53      NaN     NaN               NaN\n",
       "1947-05-31  3.17  2.53      NaN     NaN               NaN"
      ]
     },
     "execution_count": 12,
     "metadata": {},
     "output_type": "execute_result"
    }
   ],
   "source": [
    "fred_data = pdr.DataReader(['BAA', 'AAA', 'DGS10' ,'DGS1', 'BAMLCC8A015PYTRIV'],'fred', start='1947-01-01')\n",
    "fred_data = fred_data.rename(columns={'DGS10':'10 year' ,'DGS1':'1 year', 'BAMLCC8A015PYTRIV':'corp_bond_return'})\n",
    "fred_data.index = fred_data.index + MonthEnd(0)\n",
    "fred_data.head()"
   ]
  },
  {
   "cell_type": "markdown",
   "id": "ab638069-1fe3-417f-aa09-de313671fdb8",
   "metadata": {},
   "source": [
    "#### GDP"
   ]
  },
  {
   "cell_type": "code",
   "execution_count": 15,
   "id": "5629d551-5d12-4a11-b19e-2f1973af9c78",
   "metadata": {},
   "outputs": [
    {
     "data": {
      "text/html": [
       "<div>\n",
       "<style scoped>\n",
       "    .dataframe tbody tr th:only-of-type {\n",
       "        vertical-align: middle;\n",
       "    }\n",
       "\n",
       "    .dataframe tbody tr th {\n",
       "        vertical-align: top;\n",
       "    }\n",
       "\n",
       "    .dataframe thead th {\n",
       "        text-align: right;\n",
       "    }\n",
       "</style>\n",
       "<table border=\"1\" class=\"dataframe\">\n",
       "  <thead>\n",
       "    <tr style=\"text-align: right;\">\n",
       "      <th></th>\n",
       "      <th>GDPC1</th>\n",
       "    </tr>\n",
       "    <tr>\n",
       "      <th>DATE</th>\n",
       "      <th></th>\n",
       "    </tr>\n",
       "  </thead>\n",
       "  <tbody>\n",
       "    <tr>\n",
       "      <th>1947-01-31</th>\n",
       "      <td>2034.450</td>\n",
       "    </tr>\n",
       "    <tr>\n",
       "      <th>1947-04-30</th>\n",
       "      <td>2029.024</td>\n",
       "    </tr>\n",
       "    <tr>\n",
       "      <th>1947-07-31</th>\n",
       "      <td>2024.834</td>\n",
       "    </tr>\n",
       "    <tr>\n",
       "      <th>1947-10-31</th>\n",
       "      <td>2056.508</td>\n",
       "    </tr>\n",
       "    <tr>\n",
       "      <th>1948-01-31</th>\n",
       "      <td>2087.442</td>\n",
       "    </tr>\n",
       "  </tbody>\n",
       "</table>\n",
       "</div>"
      ],
      "text/plain": [
       "               GDPC1\n",
       "DATE                \n",
       "1947-01-31  2034.450\n",
       "1947-04-30  2029.024\n",
       "1947-07-31  2024.834\n",
       "1947-10-31  2056.508\n",
       "1948-01-31  2087.442"
      ]
     },
     "execution_count": 15,
     "metadata": {},
     "output_type": "execute_result"
    }
   ],
   "source": [
    "gdp_data = pdr.DataReader(['GDPC1'],'fred', start='1947-01-01')\n",
    "gdp_data.index = gdp_data.index + MonthEnd(0)\n",
    "gdp_data.head()"
   ]
  },
  {
   "cell_type": "markdown",
   "id": "825054fc-856d-4f8d-84ed-c0cb6f00ed24",
   "metadata": {},
   "source": [
    "## Ken French Data"
   ]
  },
  {
   "cell_type": "code",
   "execution_count": 7,
   "id": "419bcd43-1b37-40f6-8c28-7023cbd527f6",
   "metadata": {},
   "outputs": [],
   "source": [
    "from pandas_datareader.famafrench import get_available_datasets\n",
    "# get_available_datasets()"
   ]
  },
  {
   "cell_type": "code",
   "execution_count": 71,
   "id": "57a58fa4-2e9c-4614-a6d0-6ae69bc5bbaa",
   "metadata": {},
   "outputs": [],
   "source": [
    "def get_ff_data():\n",
    "    series = ['F-F_Research_Data_5_Factors_2x3', '25_Portfolios_5x5', \n",
    "                          'F-F_Momentum_Factor', '30_Industry_Portfolios']\n",
    "    \n",
    "    dataframes = [pdr.DataReader(data,'famafrench', start='1925-01-01')[0] for data in series]\n",
    "    \n",
    "    return pd.concat(dataframes, axis=1).sort_values(by='Date')"
   ]
  },
  {
   "cell_type": "code",
   "execution_count": 72,
   "id": "0626b34f-7501-4eaa-aafe-87d32f863175",
   "metadata": {},
   "outputs": [],
   "source": [
    "ff_data = get_ff_data()"
   ]
  },
  {
   "cell_type": "code",
   "execution_count": 79,
   "id": "ea3d7687-c29a-4928-b2e6-01f060d1a22a",
   "metadata": {},
   "outputs": [
    {
     "data": {
      "text/plain": [
       "PeriodIndex(['1926-07', '1926-08', '1926-09', '1926-10', '1926-11', '1926-12',\n",
       "             '1927-01', '1927-02', '1927-03', '1927-04',\n",
       "             ...\n",
       "             '2022-04', '2022-05', '2022-06', '2022-07', '2022-08', '2022-09',\n",
       "             '2022-10', '2022-11', '2022-12', '2023-01'],\n",
       "            dtype='period[M]', name='Date', length=1159)"
      ]
     },
     "execution_count": 79,
     "metadata": {},
     "output_type": "execute_result"
    }
   ],
   "source": [
    "ff_data.index"
   ]
  },
  {
   "cell_type": "markdown",
   "id": "405c623a-b181-4b31-827a-61092306b993",
   "metadata": {},
   "source": [
    "## CRSP Data"
   ]
  },
  {
   "cell_type": "code",
   "execution_count": null,
   "id": "af285963-56f1-4d9d-b30d-e80cd52129c6",
   "metadata": {},
   "outputs": [],
   "source": [
    "crsp_data = pd.read_csv(\"crsp_data.csv\", index_col='MthCalDt', parse_dates=True)\n",
    "crsp_data = crsp_data.pivot(columns=\"IndNm\", values='COL1')"
   ]
  },
  {
   "cell_type": "code",
   "execution_count": null,
   "id": "c491db82-ac92-4ffc-a980-334fed0dc62c",
   "metadata": {},
   "outputs": [],
   "source": []
  },
  {
   "cell_type": "markdown",
   "id": "8aa4718c-e4e5-498e-adc5-d78b69f69c8f",
   "metadata": {},
   "source": [
    "## ISM"
   ]
  },
  {
   "cell_type": "code",
   "execution_count": null,
   "id": "6b0c7803-04ee-4815-a327-32d4b94d9e89",
   "metadata": {},
   "outputs": [],
   "source": []
  }
 ],
 "metadata": {
  "kernelspec": {
   "display_name": "Python 3 (ipykernel)",
   "language": "python",
   "name": "python3"
  },
  "language_info": {
   "codemirror_mode": {
    "name": "ipython",
    "version": 3
   },
   "file_extension": ".py",
   "mimetype": "text/x-python",
   "name": "python",
   "nbconvert_exporter": "python",
   "pygments_lexer": "ipython3",
   "version": "3.9.12"
  }
 },
 "nbformat": 4,
 "nbformat_minor": 5
}
