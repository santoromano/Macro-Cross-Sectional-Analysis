{
 "cells": [
  {
   "cell_type": "markdown",
   "id": "0fbd7fa7-318c-4f07-aeea-eec853164138",
   "metadata": {},
   "source": [
    "VERSION NOTES:\n",
    "- Fama-MacBeth Statistical Significance tests"
   ]
  },
  {
   "cell_type": "markdown",
   "id": "be133e63-3b5d-44e7-a160-8e2cd3907ed5",
   "metadata": {},
   "source": [
    "# Asset Pricing Tests"
   ]
  },
  {
   "cell_type": "code",
   "execution_count": 98,
   "id": "2ed51baf-2b0f-40e8-a223-846ca680168b",
   "metadata": {},
   "outputs": [],
   "source": [
    "import pandas as pd\n",
    "import numpy as np\n",
    "import statsmodels.api as sm\n",
    "from linearmodels.panel.model import FamaMacBeth\n",
    "from linearmodels.asset_pricing import TradedFactorModel"
   ]
  },
  {
   "cell_type": "markdown",
   "id": "35c8db4e-3b41-407a-9cd2-e625e336ed76",
   "metadata": {},
   "source": [
    "## Data"
   ]
  },
  {
   "cell_type": "code",
   "execution_count": 63,
   "id": "026655e4-2972-4461-a1fc-dde041af7266",
   "metadata": {},
   "outputs": [],
   "source": [
    "ff_data = pd.read_csv('ff_data.csv', index_col=0, parse_dates=True)\n",
    "factors = pd.read_csv('factors.csv', index_col=0, parse_dates=True)"
   ]
  },
  {
   "cell_type": "code",
   "execution_count": 64,
   "id": "968c9584-6568-4ca3-ab54-5a4ecb1c10d0",
   "metadata": {},
   "outputs": [],
   "source": [
    "# Test asset clean up\n",
    "ff_data = ff_data.loc[factors.index[0]:factors.index[-1]] / 100\n",
    "\n",
    "# Factor Models\n",
    "ff3 = ff_data.iloc[:,0:3]\n",
    "# ff5 = ff_data.iloc[:,0:5]\n",
    "ff5_mom = pd.concat([ff5, ff_data.iloc[:,31]], axis=1)\n",
    "\n",
    "# Test Asset Portfolios\n",
    "size_book_assets = ff_data.iloc[:,6:31].apply(lambda x: x - ff_data['RF'])\n",
    "industry_assets = ff_data.iloc[:,32:].apply(lambda x: x - ff_data['RF'])\n",
    "\n",
    "# Macro Factors\n",
    "factors = pd.concat([sm.add_constant(factors), ff_data['Mkt-RF']], axis=1)"
   ]
  },
  {
   "cell_type": "markdown",
   "id": "6951cac9-6356-49e4-b288-7c2b3a1a9d73",
   "metadata": {},
   "source": [
    "## Analysis"
   ]
  },
  {
   "cell_type": "markdown",
   "id": "b77da4c2-09a3-4003-9cee-c9ca755a0027",
   "metadata": {},
   "source": [
    "Two sets of test assets will be used: \n",
    "1) 25 Size-Book Sorted Portfolios \n",
    "2) 30 Industry Portfolios\n",
    "\n",
    "Several factor models will be tested (on each set of test assets):\n",
    "1) Macro Factors\n",
    "    - how well do they price the cross-section?\n",
    "    - what are their risk premia if any?\n",
    "2) Macro Factors + Market Factor\n",
    "3) FF3\n",
    "    - Compare Macro Factors to FF3\n",
    "4) FF3 + Macro Factors\n",
    "    - Given the Macro Factors are SMB + HML needed?\n",
    "5) FF5\n",
    "6) FF5 + Momentum\n",
    "    - do the Macro Factors price better than the standard model?\n",
    "7) FF5 + Momentum + Macro Factors\n",
    "    - is the standard model subsumed by the Macro Factors?"
   ]
  },
  {
   "cell_type": "markdown",
   "id": "332af386-b651-41cc-a1d0-8f5bc2b247ce",
   "metadata": {},
   "source": [
    "### Linear Factor Model/SDF Approach"
   ]
  },
  {
   "cell_type": "code",
   "execution_count": 646,
   "id": "62c143a0-5f65-4c2b-9149-a44ebaf2f75e",
   "metadata": {},
   "outputs": [],
   "source": [
    "def factor_models(test_assets):\n",
    "    '''\n",
    "    Runs all factor models on the given set of test assets.\n",
    "    Stores the model instances in a dictionary.\n",
    "    '''\n",
    "    \n",
    "    model_results = {}\n",
    "    \n",
    "    # Macro Factors\n",
    "    model1 = TradedFactorModel(test_assets, factors.iloc[:,1:3]).fit(cov_type='kernel')\n",
    "    model_results['macro'] = model1\n",
    "   \n",
    "    # Macro Factors + Market\n",
    "    model2 = TradedFactorModel(test_assets, factors.iloc[:,1:4]).fit(cov_type='kernel')\n",
    "    model_results['macro+mkt'] = model2\n",
    "   \n",
    "    # FF3\n",
    "    model3 = TradedFactorModel(test_assets, ff3).fit(cov_type='kernel')\n",
    "    model_results['ff3'] = model3\n",
    "    \n",
    "    # FF3 + Macro Factors\n",
    "    model4 = TradedFactorModel(test_assets, pd.concat([ff3, factors.iloc[:,1:3]], axis=1)).fit(cov_type='kernel')\n",
    "    model_results['ff3+macro'] = model4\n",
    "    \n",
    "    # FF5 + Momentum\n",
    "    model5 = TradedFactorModel(test_assets, ff5_mom).fit(cov_type='kernel')\n",
    "    model_results['ff5+mom'] = model5\n",
    "     \n",
    "    # FF5 + Momentum + Macro Factors\n",
    "    model6 = TradedFactorModel(test_assets, pd.concat([ff5_mom, factors.iloc[:,1:3]], axis=1)).fit(cov_type='kernel')\n",
    "    model_results['ff5+macro'] = model6\n",
    "    \n",
    "    return model_results"
   ]
  },
  {
   "cell_type": "markdown",
   "id": "17ae64fc-df97-42db-a967-e18750d6aa64",
   "metadata": {
    "jp-MarkdownHeadingCollapsed": true,
    "tags": []
   },
   "source": [
    "#### Test Assets: 25 Size-Book Value Sorted Portfolios"
   ]
  },
  {
   "cell_type": "code",
   "execution_count": 647,
   "id": "dbbccf05-686a-49a1-b6b5-20ee426075c2",
   "metadata": {},
   "outputs": [],
   "source": [
    "size_book_models = factor_models(size_book_assets)"
   ]
  },
  {
   "cell_type": "code",
   "execution_count": 634,
   "id": "55f3b288-b95a-4c30-b357-0daa20c09f72",
   "metadata": {},
   "outputs": [],
   "source": [
    "# dir(size_book_models['macro+mkt'])\n",
    "# size_book_models['macro+mkt'].full_summary\n",
    "# size_book_models['macro+mkt'].betas\n",
    "# size_book_models['macro+mkt'].alphas"
   ]
  },
  {
   "cell_type": "markdown",
   "id": "c0e9474d-6867-47d8-b690-4a4a79afddec",
   "metadata": {},
   "source": [
    "##### Macro Model"
   ]
  },
  {
   "cell_type": "code",
   "execution_count": 642,
   "id": "a4653d97-3aa0-462a-a95a-9dcc31ed6e25",
   "metadata": {},
   "outputs": [
    {
     "data": {
      "text/html": [
       "<table class=\"simpletable\">\n",
       "<caption>TradedFactorModel Estimation Summary</caption>\n",
       "<tr>\n",
       "  <th>No. Test Portfolios:</th>        <td>25</td>        <th>  R-squared:         </th>  <td>0.0122</td> \n",
       "</tr>\n",
       "<tr>\n",
       "  <th>No. Factors:</th>                 <td>2</td>        <th>  J-statistic:       </th>  <td>140.74</td> \n",
       "</tr>\n",
       "<tr>\n",
       "  <th>No. Observations:</th>           <td>559</td>       <th>  P-value            </th>  <td>0.0000</td> \n",
       "</tr>\n",
       "<tr>\n",
       "  <th>Date:</th>                <td>Fri, Mar 17 2023</td> <th>  Distribution:      </th> <td>chi2(25)</td>\n",
       "</tr>\n",
       "<tr>\n",
       "  <th>Time:</th>                    <td>18:21:52</td>     <th>                     </th>     <td></td>    \n",
       "</tr>\n",
       "<tr>\n",
       "  <th>Cov. Estimator:</th>           <td>kernel</td>      <th>                     </th>     <td></td>    \n",
       "</tr>\n",
       "<tr>\n",
       "  <th></th>                             <td></td>         <th>                     </th>     <td></td>    \n",
       "</tr>\n",
       "</table>\n",
       "<table class=\"simpletable\">\n",
       "<caption>Risk Premia Estimates</caption>\n",
       "<tr>\n",
       "       <td></td>      <th>Parameter</th> <th>Std. Err.</th> <th>T-stat</th>  <th>P-value</th> <th>Lower CI</th>  <th>Upper CI</th>\n",
       "</tr>\n",
       "<tr>\n",
       "  <th>gdp_factor</th>  <td>0.0018</td>    <td>0.0009</td>   <td>2.0540</td>  <td>0.0400</td>  <td>8.203e-05</td>  <td>0.0035</td> \n",
       "</tr>\n",
       "<tr>\n",
       "  <th>cpi_factor</th>  <td>-0.0006</td>   <td>0.0002</td>   <td>-2.8090</td> <td>0.0050</td>   <td>-0.0011</td>   <td>-0.0002</td>\n",
       "</tr>\n",
       "</table><br/><br/>Covariance estimator:<br/>KernelCovariance, Kernel: bartlett, Bandwidth: 18<br/>See full_summary for complete results<br/>id: 0x1f410b73d00"
      ],
      "text/plain": [
       "                      TradedFactorModel Estimation Summary                      \n",
       "================================================================================\n",
       "No. Test Portfolios:                 25   R-squared:                      0.0122\n",
       "No. Factors:                          2   J-statistic:                    140.74\n",
       "No. Observations:                   559   P-value                         0.0000\n",
       "Date:                  Fri, Mar 17 2023   Distribution:                 chi2(25)\n",
       "Time:                          18:21:52                                         \n",
       "Cov. Estimator:                  kernel                                         \n",
       "                                                                                \n",
       "                            Risk Premia Estimates                             \n",
       "==============================================================================\n",
       "            Parameter  Std. Err.     T-stat    P-value    Lower CI    Upper CI\n",
       "------------------------------------------------------------------------------\n",
       "gdp_factor     0.0018     0.0009     2.0540     0.0400   8.203e-05      0.0035\n",
       "cpi_factor    -0.0006     0.0002    -2.8090     0.0050     -0.0011     -0.0002\n",
       "==============================================================================\n",
       "\n",
       "Covariance estimator:\n",
       "KernelCovariance, Kernel: bartlett, Bandwidth: 18\n",
       "See full_summary for complete results\n",
       "LinearFactorModelResults, id: 0x1f410b73d00"
      ]
     },
     "execution_count": 642,
     "metadata": {},
     "output_type": "execute_result"
    }
   ],
   "source": [
    "size_book_models['macro']"
   ]
  },
  {
   "cell_type": "code",
   "execution_count": 643,
   "id": "78f6f2b5-ce94-49be-aa82-194e5ccb88b7",
   "metadata": {},
   "outputs": [
    {
     "data": {
      "text/html": [
       "<table class=\"simpletable\">\n",
       "<caption>TradedFactorModel Estimation Summary</caption>\n",
       "<tr>\n",
       "  <th>No. Test Portfolios:</th>        <td>25</td>        <th>  R-squared:         </th>  <td>0.7295</td> \n",
       "</tr>\n",
       "<tr>\n",
       "  <th>No. Factors:</th>                 <td>3</td>        <th>  J-statistic:       </th>  <td>78.617</td> \n",
       "</tr>\n",
       "<tr>\n",
       "  <th>No. Observations:</th>           <td>559</td>       <th>  P-value            </th>  <td>0.0000</td> \n",
       "</tr>\n",
       "<tr>\n",
       "  <th>Date:</th>                <td>Fri, Mar 17 2023</td> <th>  Distribution:      </th> <td>chi2(25)</td>\n",
       "</tr>\n",
       "<tr>\n",
       "  <th>Time:</th>                    <td>18:21:52</td>     <th>                     </th>     <td></td>    \n",
       "</tr>\n",
       "<tr>\n",
       "  <th>Cov. Estimator:</th>           <td>kernel</td>      <th>                     </th>     <td></td>    \n",
       "</tr>\n",
       "<tr>\n",
       "  <th></th>                             <td></td>         <th>                     </th>     <td></td>    \n",
       "</tr>\n",
       "</table>\n",
       "<table class=\"simpletable\">\n",
       "<caption>Risk Premia Estimates</caption>\n",
       "<tr>\n",
       "       <td></td>      <th>Parameter</th> <th>Std. Err.</th> <th>T-stat</th>  <th>P-value</th> <th>Lower CI</th> <th>Upper CI</th>\n",
       "</tr>\n",
       "<tr>\n",
       "  <th>gdp_factor</th>  <td>0.0018</td>    <td>0.0011</td>   <td>1.7051</td>  <td>0.0882</td>   <td>-0.0003</td>  <td>0.0039</td> \n",
       "</tr>\n",
       "<tr>\n",
       "  <th>cpi_factor</th>  <td>-0.0006</td>   <td>0.0002</td>   <td>-3.1794</td> <td>0.0015</td>   <td>-0.0010</td>  <td>-0.0002</td>\n",
       "</tr>\n",
       "<tr>\n",
       "  <th>Mkt-RF</th>      <td>0.0060</td>    <td>0.0020</td>   <td>3.0447</td>  <td>0.0023</td>   <td>0.0021</td>   <td>0.0099</td> \n",
       "</tr>\n",
       "</table><br/><br/>Covariance estimator:<br/>KernelCovariance, Kernel: bartlett, Bandwidth: 8<br/>See full_summary for complete results<br/>id: 0x1f410b697f0"
      ],
      "text/plain": [
       "                      TradedFactorModel Estimation Summary                      \n",
       "================================================================================\n",
       "No. Test Portfolios:                 25   R-squared:                      0.7295\n",
       "No. Factors:                          3   J-statistic:                    78.617\n",
       "No. Observations:                   559   P-value                         0.0000\n",
       "Date:                  Fri, Mar 17 2023   Distribution:                 chi2(25)\n",
       "Time:                          18:21:52                                         \n",
       "Cov. Estimator:                  kernel                                         \n",
       "                                                                                \n",
       "                            Risk Premia Estimates                             \n",
       "==============================================================================\n",
       "            Parameter  Std. Err.     T-stat    P-value    Lower CI    Upper CI\n",
       "------------------------------------------------------------------------------\n",
       "gdp_factor     0.0018     0.0011     1.7051     0.0882     -0.0003      0.0039\n",
       "cpi_factor    -0.0006     0.0002    -3.1794     0.0015     -0.0010     -0.0002\n",
       "Mkt-RF         0.0060     0.0020     3.0447     0.0023      0.0021      0.0099\n",
       "==============================================================================\n",
       "\n",
       "Covariance estimator:\n",
       "KernelCovariance, Kernel: bartlett, Bandwidth: 8\n",
       "See full_summary for complete results\n",
       "LinearFactorModelResults, id: 0x1f410b697f0"
      ]
     },
     "execution_count": 643,
     "metadata": {},
     "output_type": "execute_result"
    }
   ],
   "source": [
    "size_book_models['macro+mkt']"
   ]
  },
  {
   "cell_type": "markdown",
   "id": "f2a6f0de-1fa2-4546-be48-c34e4fb18432",
   "metadata": {},
   "source": [
    "When the market factor is added GDP's risk premia becomes insignificant, however CPI's premia is highly significant, but negative"
   ]
  },
  {
   "cell_type": "code",
   "execution_count": 644,
   "id": "13e25212-0d69-4617-a135-d3e45ca7419a",
   "metadata": {},
   "outputs": [
    {
     "data": {
      "text/plain": [
       "J-statistic\n",
       "H0: All alphas are 0\n",
       "Statistic: 78.6173\n",
       "P-value: 0.0000\n",
       "Distributed: chi2(25)\n",
       "WaldTestStatistic, id: 0x1f410b73f10"
      ]
     },
     "execution_count": 644,
     "metadata": {},
     "output_type": "execute_result"
    }
   ],
   "source": [
    "size_book_models['macro+mkt']._jstat"
   ]
  },
  {
   "cell_type": "code",
   "execution_count": 662,
   "id": "c4518e41-b659-4a3f-8382-d38228577a38",
   "metadata": {},
   "outputs": [
    {
     "data": {
      "text/plain": [
       "SMALL LoBM   -0.057937\n",
       "ME2 BM1      -0.022097\n",
       "ME3 BM1      -0.019921\n",
       "BIG LoBM     -0.004123\n",
       "ME5 BM4       0.000189\n",
       "ME4 BM1       0.001224\n",
       "ME5 BM2       0.011108\n",
       "BIG HiBM      0.013852\n",
       "ME4 BM2       0.015128\n",
       "ME5 BM3       0.018175\n",
       "ME4 BM3       0.018914\n",
       "ME2 BM2       0.022258\n",
       "ME3 BM3       0.022419\n",
       "ME1 BM3       0.023439\n",
       "ME1 BM2       0.023967\n",
       "ME3 BM2       0.024074\n",
       "ME4 BM4       0.026086\n",
       "ME2 BM3       0.030310\n",
       "ME4 BM5       0.032994\n",
       "ME3 BM4       0.033622\n",
       "ME2 BM5       0.038636\n",
       "ME2 BM4       0.040327\n",
       "ME3 BM5       0.047869\n",
       "SMALL HiBM    0.055631\n",
       "ME1 BM4       0.057163\n",
       "Name: alpha, dtype: float64"
      ]
     },
     "execution_count": 662,
     "metadata": {},
     "output_type": "execute_result"
    }
   ],
   "source": [
    "12*size_book_models['macro+mkt'].alphas.sort_values()"
   ]
  },
  {
   "cell_type": "markdown",
   "id": "c94cb8f1-77e8-4452-9a66-51ceb71b342d",
   "metadata": {},
   "source": [
    "Reject null that alphas are 0 for the Macro + Mkt Model; the simple model does not price the portfolios.\n",
    "\n",
    "The J-statistic itself is the lowest amoung all the models (even FF5+Momentum+Macro). The biggest pricing errors are in the more extreme portfolios."
   ]
  },
  {
   "cell_type": "code",
   "execution_count": 638,
   "id": "deeeac47-da98-45f1-97cd-2ee1587dca19",
   "metadata": {},
   "outputs": [
    {
     "data": {
      "text/plain": [
       "J-statistic\n",
       "H0: All alphas are 0\n",
       "Statistic: 88.1799\n",
       "P-value: 0.0000\n",
       "Distributed: chi2(25)\n",
       "WaldTestStatistic, id: 0x1f4124ae520"
      ]
     },
     "execution_count": 638,
     "metadata": {},
     "output_type": "execute_result"
    }
   ],
   "source": [
    "size_book_models['ff5+mom']._jstat"
   ]
  },
  {
   "cell_type": "markdown",
   "id": "4f9cc709-a5e3-496b-b0f6-2b04153126ca",
   "metadata": {},
   "source": [
    "FF5 + Momentum does not price the portfolios either."
   ]
  },
  {
   "cell_type": "code",
   "execution_count": 652,
   "id": "8ba2c594-846d-4578-82f5-01869aaad2e2",
   "metadata": {},
   "outputs": [
    {
     "data": {
      "text/html": [
       "<table class=\"simpletable\">\n",
       "<caption>TradedFactorModel Estimation Summary</caption>\n",
       "<tr>\n",
       "  <th>No. Test Portfolios:</th>        <td>25</td>        <th>  R-squared:         </th>  <td>0.9175</td> \n",
       "</tr>\n",
       "<tr>\n",
       "  <th>No. Factors:</th>                 <td>3</td>        <th>  J-statistic:       </th>  <td>88.256</td> \n",
       "</tr>\n",
       "<tr>\n",
       "  <th>No. Observations:</th>           <td>559</td>       <th>  P-value            </th>  <td>0.0000</td> \n",
       "</tr>\n",
       "<tr>\n",
       "  <th>Date:</th>                <td>Fri, Mar 17 2023</td> <th>  Distribution:      </th> <td>chi2(25)</td>\n",
       "</tr>\n",
       "<tr>\n",
       "  <th>Time:</th>                    <td>18:24:55</td>     <th>                     </th>     <td></td>    \n",
       "</tr>\n",
       "<tr>\n",
       "  <th>Cov. Estimator:</th>           <td>kernel</td>      <th>                     </th>     <td></td>    \n",
       "</tr>\n",
       "<tr>\n",
       "  <th></th>                             <td></td>         <th>                     </th>     <td></td>    \n",
       "</tr>\n",
       "</table>\n",
       "<table class=\"simpletable\">\n",
       "<caption>Risk Premia Estimates</caption>\n",
       "<tr>\n",
       "     <td></td>    <th>Parameter</th> <th>Std. Err.</th> <th>T-stat</th> <th>P-value</th> <th>Lower CI</th> <th>Upper CI</th>\n",
       "</tr>\n",
       "<tr>\n",
       "  <th>Mkt-RF</th>  <td>0.0060</td>    <td>0.0019</td>   <td>3.0906</td> <td>0.0020</td>   <td>0.0022</td>   <td>0.0098</td> \n",
       "</tr>\n",
       "<tr>\n",
       "  <th>SMB</th>     <td>0.0023</td>    <td>0.0013</td>   <td>1.7471</td> <td>0.0806</td>   <td>-0.0003</td>  <td>0.0048</td> \n",
       "</tr>\n",
       "<tr>\n",
       "  <th>HML</th>     <td>0.0029</td>    <td>0.0016</td>   <td>1.8897</td> <td>0.0588</td>   <td>-0.0001</td>  <td>0.0060</td> \n",
       "</tr>\n",
       "</table><br/><br/>Covariance estimator:<br/>KernelCovariance, Kernel: bartlett, Bandwidth: 15<br/>See full_summary for complete results<br/>id: 0x1f4124d63a0"
      ],
      "text/plain": [
       "                      TradedFactorModel Estimation Summary                      \n",
       "================================================================================\n",
       "No. Test Portfolios:                 25   R-squared:                      0.9175\n",
       "No. Factors:                          3   J-statistic:                    88.256\n",
       "No. Observations:                   559   P-value                         0.0000\n",
       "Date:                  Fri, Mar 17 2023   Distribution:                 chi2(25)\n",
       "Time:                          18:24:55                                         \n",
       "Cov. Estimator:                  kernel                                         \n",
       "                                                                                \n",
       "                            Risk Premia Estimates                             \n",
       "==============================================================================\n",
       "            Parameter  Std. Err.     T-stat    P-value    Lower CI    Upper CI\n",
       "------------------------------------------------------------------------------\n",
       "Mkt-RF         0.0060     0.0019     3.0906     0.0020      0.0022      0.0098\n",
       "SMB            0.0023     0.0013     1.7471     0.0806     -0.0003      0.0048\n",
       "HML            0.0029     0.0016     1.8897     0.0588     -0.0001      0.0060\n",
       "==============================================================================\n",
       "\n",
       "Covariance estimator:\n",
       "KernelCovariance, Kernel: bartlett, Bandwidth: 15\n",
       "See full_summary for complete results\n",
       "LinearFactorModelResults, id: 0x1f4124d63a0"
      ]
     },
     "execution_count": 652,
     "metadata": {},
     "output_type": "execute_result"
    }
   ],
   "source": [
    "size_book_models['ff3']"
   ]
  },
  {
   "cell_type": "code",
   "execution_count": 651,
   "id": "859e30e7-c38a-4bd7-84f5-c848ce0a1929",
   "metadata": {},
   "outputs": [
    {
     "data": {
      "text/html": [
       "<table class=\"simpletable\">\n",
       "<caption>TradedFactorModel Estimation Summary</caption>\n",
       "<tr>\n",
       "  <th>No. Test Portfolios:</th>        <td>25</td>        <th>  R-squared:         </th>  <td>0.9180</td> \n",
       "</tr>\n",
       "<tr>\n",
       "  <th>No. Factors:</th>                 <td>5</td>        <th>  J-statistic:       </th>  <td>76.101</td> \n",
       "</tr>\n",
       "<tr>\n",
       "  <th>No. Observations:</th>           <td>559</td>       <th>  P-value            </th>  <td>0.0000</td> \n",
       "</tr>\n",
       "<tr>\n",
       "  <th>Date:</th>                <td>Fri, Mar 17 2023</td> <th>  Distribution:      </th> <td>chi2(25)</td>\n",
       "</tr>\n",
       "<tr>\n",
       "  <th>Time:</th>                    <td>18:24:56</td>     <th>                     </th>     <td></td>    \n",
       "</tr>\n",
       "<tr>\n",
       "  <th>Cov. Estimator:</th>           <td>kernel</td>      <th>                     </th>     <td></td>    \n",
       "</tr>\n",
       "<tr>\n",
       "  <th></th>                             <td></td>         <th>                     </th>     <td></td>    \n",
       "</tr>\n",
       "</table>\n",
       "<table class=\"simpletable\">\n",
       "<caption>Risk Premia Estimates</caption>\n",
       "<tr>\n",
       "       <td></td>      <th>Parameter</th> <th>Std. Err.</th> <th>T-stat</th>  <th>P-value</th>  <th>Lower CI</th>  <th>Upper CI</th>\n",
       "</tr>\n",
       "<tr>\n",
       "  <th>Mkt-RF</th>      <td>0.0060</td>    <td>0.0020</td>   <td>3.0569</td>  <td>0.0022</td>    <td>0.0022</td>    <td>0.0099</td> \n",
       "</tr>\n",
       "<tr>\n",
       "  <th>SMB</th>         <td>0.0023</td>    <td>0.0013</td>   <td>1.7741</td>  <td>0.0760</td>    <td>-0.0002</td>   <td>0.0048</td> \n",
       "</tr>\n",
       "<tr>\n",
       "  <th>HML</th>         <td>0.0029</td>    <td>0.0015</td>   <td>1.8978</td>  <td>0.0577</td>  <td>-9.615e-05</td>  <td>0.0060</td> \n",
       "</tr>\n",
       "<tr>\n",
       "  <th>gdp_factor</th>  <td>0.0018</td>    <td>0.0010</td>   <td>1.8593</td>  <td>0.0630</td>  <td>-9.701e-05</td>  <td>0.0037</td> \n",
       "</tr>\n",
       "<tr>\n",
       "  <th>cpi_factor</th>  <td>-0.0006</td>   <td>0.0002</td>   <td>-2.9389</td> <td>0.0033</td>    <td>-0.0011</td>   <td>-0.0002</td>\n",
       "</tr>\n",
       "</table><br/><br/>Covariance estimator:<br/>KernelCovariance, Kernel: bartlett, Bandwidth: 13<br/>See full_summary for complete results<br/>id: 0x1f41212d7c0"
      ],
      "text/plain": [
       "                      TradedFactorModel Estimation Summary                      \n",
       "================================================================================\n",
       "No. Test Portfolios:                 25   R-squared:                      0.9180\n",
       "No. Factors:                          5   J-statistic:                    76.101\n",
       "No. Observations:                   559   P-value                         0.0000\n",
       "Date:                  Fri, Mar 17 2023   Distribution:                 chi2(25)\n",
       "Time:                          18:24:56                                         \n",
       "Cov. Estimator:                  kernel                                         \n",
       "                                                                                \n",
       "                            Risk Premia Estimates                             \n",
       "==============================================================================\n",
       "            Parameter  Std. Err.     T-stat    P-value    Lower CI    Upper CI\n",
       "------------------------------------------------------------------------------\n",
       "Mkt-RF         0.0060     0.0020     3.0569     0.0022      0.0022      0.0099\n",
       "SMB            0.0023     0.0013     1.7741     0.0760     -0.0002      0.0048\n",
       "HML            0.0029     0.0015     1.8978     0.0577  -9.615e-05      0.0060\n",
       "gdp_factor     0.0018     0.0010     1.8593     0.0630  -9.701e-05      0.0037\n",
       "cpi_factor    -0.0006     0.0002    -2.9389     0.0033     -0.0011     -0.0002\n",
       "==============================================================================\n",
       "\n",
       "Covariance estimator:\n",
       "KernelCovariance, Kernel: bartlett, Bandwidth: 13\n",
       "See full_summary for complete results\n",
       "LinearFactorModelResults, id: 0x1f41212d7c0"
      ]
     },
     "execution_count": 651,
     "metadata": {},
     "output_type": "execute_result"
    }
   ],
   "source": [
    "size_book_models['ff3+macro']"
   ]
  },
  {
   "cell_type": "markdown",
   "id": "754d77cc-8be0-4818-b93f-4aeb5cda1d46",
   "metadata": {},
   "source": [
    "Macro factors do not subsume SMB and HML, however GDP is significant at 6.3% while CPI is highly significant."
   ]
  },
  {
   "cell_type": "code",
   "execution_count": 653,
   "id": "7dba1edf-fe26-473e-afc4-ff10125bc4d3",
   "metadata": {},
   "outputs": [
    {
     "data": {
      "text/html": [
       "<table class=\"simpletable\">\n",
       "<caption>TradedFactorModel Estimation Summary</caption>\n",
       "<tr>\n",
       "  <th>No. Test Portfolios:</th>        <td>25</td>        <th>  R-squared:         </th>  <td>0.9247</td> \n",
       "</tr>\n",
       "<tr>\n",
       "  <th>No. Factors:</th>                 <td>8</td>        <th>  J-statistic:       </th>  <td>81.472</td> \n",
       "</tr>\n",
       "<tr>\n",
       "  <th>No. Observations:</th>           <td>559</td>       <th>  P-value            </th>  <td>0.0000</td> \n",
       "</tr>\n",
       "<tr>\n",
       "  <th>Date:</th>                <td>Fri, Mar 17 2023</td> <th>  Distribution:      </th> <td>chi2(25)</td>\n",
       "</tr>\n",
       "<tr>\n",
       "  <th>Time:</th>                    <td>18:24:56</td>     <th>                     </th>     <td></td>    \n",
       "</tr>\n",
       "<tr>\n",
       "  <th>Cov. Estimator:</th>           <td>kernel</td>      <th>                     </th>     <td></td>    \n",
       "</tr>\n",
       "<tr>\n",
       "  <th></th>                             <td></td>         <th>                     </th>     <td></td>    \n",
       "</tr>\n",
       "</table>\n",
       "<table class=\"simpletable\">\n",
       "<caption>Risk Premia Estimates</caption>\n",
       "<tr>\n",
       "       <td></td>      <th>Parameter</th> <th>Std. Err.</th> <th>T-stat</th>  <th>P-value</th>  <th>Lower CI</th>  <th>Upper CI</th>\n",
       "</tr>\n",
       "<tr>\n",
       "  <th>Mkt-RF</th>      <td>0.0060</td>    <td>0.0019</td>   <td>3.0906</td>  <td>0.0020</td>    <td>0.0022</td>    <td>0.0098</td> \n",
       "</tr>\n",
       "<tr>\n",
       "  <th>SMB</th>         <td>0.0023</td>    <td>0.0013</td>   <td>1.7471</td>  <td>0.0806</td>    <td>-0.0003</td>   <td>0.0048</td> \n",
       "</tr>\n",
       "<tr>\n",
       "  <th>HML</th>         <td>0.0029</td>    <td>0.0016</td>   <td>1.8897</td>  <td>0.0588</td>    <td>-0.0001</td>   <td>0.0060</td> \n",
       "</tr>\n",
       "<tr>\n",
       "  <th>RMW</th>         <td>0.0027</td>    <td>0.0012</td>   <td>2.3289</td>  <td>0.0199</td>    <td>0.0004</td>    <td>0.0050</td> \n",
       "</tr>\n",
       "<tr>\n",
       "  <th>CMA</th>         <td>0.0031</td>    <td>0.0010</td>   <td>2.9306</td>  <td>0.0034</td>    <td>0.0010</td>    <td>0.0051</td> \n",
       "</tr>\n",
       "<tr>\n",
       "  <th>Mom   </th>      <td>0.0060</td>    <td>0.0018</td>   <td>3.2642</td>  <td>0.0011</td>    <td>0.0024</td>    <td>0.0097</td> \n",
       "</tr>\n",
       "<tr>\n",
       "  <th>gdp_factor</th>  <td>0.0018</td>    <td>0.0009</td>   <td>1.9244</td>  <td>0.0543</td>  <td>-3.311e-05</td>  <td>0.0036</td> \n",
       "</tr>\n",
       "<tr>\n",
       "  <th>cpi_factor</th>  <td>-0.0006</td>   <td>0.0002</td>   <td>-2.8745</td> <td>0.0040</td>    <td>-0.0011</td>   <td>-0.0002</td>\n",
       "</tr>\n",
       "</table><br/><br/>Covariance estimator:<br/>KernelCovariance, Kernel: bartlett, Bandwidth: 15<br/>See full_summary for complete results<br/>id: 0x1f410b7d610"
      ],
      "text/plain": [
       "                      TradedFactorModel Estimation Summary                      \n",
       "================================================================================\n",
       "No. Test Portfolios:                 25   R-squared:                      0.9247\n",
       "No. Factors:                          8   J-statistic:                    81.472\n",
       "No. Observations:                   559   P-value                         0.0000\n",
       "Date:                  Fri, Mar 17 2023   Distribution:                 chi2(25)\n",
       "Time:                          18:24:56                                         \n",
       "Cov. Estimator:                  kernel                                         \n",
       "                                                                                \n",
       "                            Risk Premia Estimates                             \n",
       "==============================================================================\n",
       "            Parameter  Std. Err.     T-stat    P-value    Lower CI    Upper CI\n",
       "------------------------------------------------------------------------------\n",
       "Mkt-RF         0.0060     0.0019     3.0906     0.0020      0.0022      0.0098\n",
       "SMB            0.0023     0.0013     1.7471     0.0806     -0.0003      0.0048\n",
       "HML            0.0029     0.0016     1.8897     0.0588     -0.0001      0.0060\n",
       "RMW            0.0027     0.0012     2.3289     0.0199      0.0004      0.0050\n",
       "CMA            0.0031     0.0010     2.9306     0.0034      0.0010      0.0051\n",
       "Mom            0.0060     0.0018     3.2642     0.0011      0.0024      0.0097\n",
       "gdp_factor     0.0018     0.0009     1.9244     0.0543  -3.311e-05      0.0036\n",
       "cpi_factor    -0.0006     0.0002    -2.8745     0.0040     -0.0011     -0.0002\n",
       "==============================================================================\n",
       "\n",
       "Covariance estimator:\n",
       "KernelCovariance, Kernel: bartlett, Bandwidth: 15\n",
       "See full_summary for complete results\n",
       "LinearFactorModelResults, id: 0x1f410b7d610"
      ]
     },
     "execution_count": 653,
     "metadata": {},
     "output_type": "execute_result"
    }
   ],
   "source": [
    "size_book_models['ff5+macro']"
   ]
  },
  {
   "cell_type": "markdown",
   "id": "22d267fc-06e2-428d-b5d1-04db449e50d9",
   "metadata": {},
   "source": [
    "GDP and CPI are not subsummed by FF5 + Macro; GDP's significance improves slightly."
   ]
  },
  {
   "cell_type": "code",
   "execution_count": 648,
   "id": "543ec110-ef9c-4af1-8dbd-97c0957da225",
   "metadata": {},
   "outputs": [
    {
     "data": {
      "text/plain": [
       "J-statistic\n",
       "H0: All alphas are 0\n",
       "Statistic: 81.4717\n",
       "P-value: 0.0000\n",
       "Distributed: chi2(25)\n",
       "WaldTestStatistic, id: 0x1f410b73d60"
      ]
     },
     "execution_count": 648,
     "metadata": {},
     "output_type": "execute_result"
    }
   ],
   "source": [
    "size_book_models['ff5+macro']._jstat"
   ]
  },
  {
   "cell_type": "markdown",
   "id": "550879e5-717d-40a3-be57-b15c481cc059",
   "metadata": {},
   "source": [
    "FF5 + Momentum + Macro does not price the portfolios either."
   ]
  },
  {
   "cell_type": "markdown",
   "id": "4c080008-85b6-4e94-bc94-05a5e829a736",
   "metadata": {
    "jp-MarkdownHeadingCollapsed": true,
    "tags": []
   },
   "source": [
    "#### Test Assets: 30 Industry Portfolios"
   ]
  },
  {
   "cell_type": "code",
   "execution_count": 654,
   "id": "ae2819fa-7da6-4b29-8dc4-4105c693204d",
   "metadata": {},
   "outputs": [],
   "source": [
    "industry_models = factor_models(industry_assets)"
   ]
  },
  {
   "cell_type": "code",
   "execution_count": 657,
   "id": "e3353c90-7450-4f0d-8225-fecb5bd5ec68",
   "metadata": {},
   "outputs": [
    {
     "data": {
      "text/html": [
       "<table class=\"simpletable\">\n",
       "<caption>TradedFactorModel Estimation Summary</caption>\n",
       "<tr>\n",
       "  <th>No. Test Portfolios:</th>        <td>30</td>        <th>  R-squared:         </th>  <td>0.5565</td> \n",
       "</tr>\n",
       "<tr>\n",
       "  <th>No. Factors:</th>                 <td>3</td>        <th>  J-statistic:       </th>  <td>75.662</td> \n",
       "</tr>\n",
       "<tr>\n",
       "  <th>No. Observations:</th>           <td>559</td>       <th>  P-value            </th>  <td>0.0000</td> \n",
       "</tr>\n",
       "<tr>\n",
       "  <th>Date:</th>                <td>Fri, Mar 17 2023</td> <th>  Distribution:      </th> <td>chi2(30)</td>\n",
       "</tr>\n",
       "<tr>\n",
       "  <th>Time:</th>                    <td>18:30:32</td>     <th>                     </th>     <td></td>    \n",
       "</tr>\n",
       "<tr>\n",
       "  <th>Cov. Estimator:</th>           <td>kernel</td>      <th>                     </th>     <td></td>    \n",
       "</tr>\n",
       "<tr>\n",
       "  <th></th>                             <td></td>         <th>                     </th>     <td></td>    \n",
       "</tr>\n",
       "</table>\n",
       "<table class=\"simpletable\">\n",
       "<caption>Risk Premia Estimates</caption>\n",
       "<tr>\n",
       "       <td></td>      <th>Parameter</th> <th>Std. Err.</th> <th>T-stat</th>  <th>P-value</th> <th>Lower CI</th> <th>Upper CI</th>\n",
       "</tr>\n",
       "<tr>\n",
       "  <th>gdp_factor</th>  <td>0.0018</td>    <td>0.0010</td>   <td>1.8217</td>  <td>0.0685</td>   <td>-0.0001</td>  <td>0.0037</td> \n",
       "</tr>\n",
       "<tr>\n",
       "  <th>cpi_factor</th>  <td>-0.0006</td>   <td>0.0002</td>   <td>-2.9842</td> <td>0.0028</td>   <td>-0.0011</td>  <td>-0.0002</td>\n",
       "</tr>\n",
       "<tr>\n",
       "  <th>Mkt-RF</th>      <td>0.0060</td>    <td>0.0020</td>   <td>3.0537</td>  <td>0.0023</td>   <td>0.0022</td>   <td>0.0099</td> \n",
       "</tr>\n",
       "</table><br/><br/>Covariance estimator:<br/>KernelCovariance, Kernel: bartlett, Bandwidth: 12<br/>See full_summary for complete results<br/>id: 0x1f410b70f40"
      ],
      "text/plain": [
       "                      TradedFactorModel Estimation Summary                      \n",
       "================================================================================\n",
       "No. Test Portfolios:                 30   R-squared:                      0.5565\n",
       "No. Factors:                          3   J-statistic:                    75.662\n",
       "No. Observations:                   559   P-value                         0.0000\n",
       "Date:                  Fri, Mar 17 2023   Distribution:                 chi2(30)\n",
       "Time:                          18:30:32                                         \n",
       "Cov. Estimator:                  kernel                                         \n",
       "                                                                                \n",
       "                            Risk Premia Estimates                             \n",
       "==============================================================================\n",
       "            Parameter  Std. Err.     T-stat    P-value    Lower CI    Upper CI\n",
       "------------------------------------------------------------------------------\n",
       "gdp_factor     0.0018     0.0010     1.8217     0.0685     -0.0001      0.0037\n",
       "cpi_factor    -0.0006     0.0002    -2.9842     0.0028     -0.0011     -0.0002\n",
       "Mkt-RF         0.0060     0.0020     3.0537     0.0023      0.0022      0.0099\n",
       "==============================================================================\n",
       "\n",
       "Covariance estimator:\n",
       "KernelCovariance, Kernel: bartlett, Bandwidth: 12\n",
       "See full_summary for complete results\n",
       "LinearFactorModelResults, id: 0x1f410b70f40"
      ]
     },
     "execution_count": 657,
     "metadata": {},
     "output_type": "execute_result"
    }
   ],
   "source": [
    "industry_models['macro+mkt']"
   ]
  },
  {
   "cell_type": "code",
   "execution_count": 655,
   "id": "a35bd4ed-cb30-44c2-9df4-b7c46eb49b15",
   "metadata": {},
   "outputs": [
    {
     "data": {
      "text/html": [
       "<table class=\"simpletable\">\n",
       "<caption>TradedFactorModel Estimation Summary</caption>\n",
       "<tr>\n",
       "  <th>No. Test Portfolios:</th>        <td>30</td>        <th>  R-squared:         </th>  <td>0.5935</td> \n",
       "</tr>\n",
       "<tr>\n",
       "  <th>No. Factors:</th>                 <td>5</td>        <th>  J-statistic:       </th>  <td>82.979</td> \n",
       "</tr>\n",
       "<tr>\n",
       "  <th>No. Observations:</th>           <td>559</td>       <th>  P-value            </th>  <td>0.0000</td> \n",
       "</tr>\n",
       "<tr>\n",
       "  <th>Date:</th>                <td>Fri, Mar 17 2023</td> <th>  Distribution:      </th> <td>chi2(30)</td>\n",
       "</tr>\n",
       "<tr>\n",
       "  <th>Time:</th>                    <td>18:30:32</td>     <th>                     </th>     <td></td>    \n",
       "</tr>\n",
       "<tr>\n",
       "  <th>Cov. Estimator:</th>           <td>kernel</td>      <th>                     </th>     <td></td>    \n",
       "</tr>\n",
       "<tr>\n",
       "  <th></th>                             <td></td>         <th>                     </th>     <td></td>    \n",
       "</tr>\n",
       "</table>\n",
       "<table class=\"simpletable\">\n",
       "<caption>Risk Premia Estimates</caption>\n",
       "<tr>\n",
       "       <td></td>      <th>Parameter</th> <th>Std. Err.</th> <th>T-stat</th>  <th>P-value</th> <th>Lower CI</th>  <th>Upper CI</th>\n",
       "</tr>\n",
       "<tr>\n",
       "  <th>Mkt-RF</th>      <td>0.0060</td>    <td>0.0020</td>   <td>3.0473</td>  <td>0.0023</td>   <td>0.0021</td>    <td>0.0099</td> \n",
       "</tr>\n",
       "<tr>\n",
       "  <th>SMB</th>         <td>0.0023</td>    <td>0.0012</td>   <td>1.8611</td>  <td>0.0627</td>   <td>-0.0001</td>   <td>0.0046</td> \n",
       "</tr>\n",
       "<tr>\n",
       "  <th>HML</th>         <td>0.0029</td>    <td>0.0015</td>   <td>1.9815</td>  <td>0.0475</td>  <td>3.195e-05</td>  <td>0.0058</td> \n",
       "</tr>\n",
       "<tr>\n",
       "  <th>gdp_factor</th>  <td>0.0018</td>    <td>0.0011</td>   <td>1.6688</td>  <td>0.0952</td>   <td>-0.0003</td>   <td>0.0039</td> \n",
       "</tr>\n",
       "<tr>\n",
       "  <th>cpi_factor</th>  <td>-0.0006</td>   <td>0.0002</td>   <td>-3.2214</td> <td>0.0013</td>   <td>-0.0010</td>   <td>-0.0003</td>\n",
       "</tr>\n",
       "</table><br/><br/>Covariance estimator:<br/>KernelCovariance, Kernel: bartlett, Bandwidth: 7<br/>See full_summary for complete results<br/>id: 0x1f4124619a0"
      ],
      "text/plain": [
       "                      TradedFactorModel Estimation Summary                      \n",
       "================================================================================\n",
       "No. Test Portfolios:                 30   R-squared:                      0.5935\n",
       "No. Factors:                          5   J-statistic:                    82.979\n",
       "No. Observations:                   559   P-value                         0.0000\n",
       "Date:                  Fri, Mar 17 2023   Distribution:                 chi2(30)\n",
       "Time:                          18:30:32                                         \n",
       "Cov. Estimator:                  kernel                                         \n",
       "                                                                                \n",
       "                            Risk Premia Estimates                             \n",
       "==============================================================================\n",
       "            Parameter  Std. Err.     T-stat    P-value    Lower CI    Upper CI\n",
       "------------------------------------------------------------------------------\n",
       "Mkt-RF         0.0060     0.0020     3.0473     0.0023      0.0021      0.0099\n",
       "SMB            0.0023     0.0012     1.8611     0.0627     -0.0001      0.0046\n",
       "HML            0.0029     0.0015     1.9815     0.0475   3.195e-05      0.0058\n",
       "gdp_factor     0.0018     0.0011     1.6688     0.0952     -0.0003      0.0039\n",
       "cpi_factor    -0.0006     0.0002    -3.2214     0.0013     -0.0010     -0.0003\n",
       "==============================================================================\n",
       "\n",
       "Covariance estimator:\n",
       "KernelCovariance, Kernel: bartlett, Bandwidth: 7\n",
       "See full_summary for complete results\n",
       "LinearFactorModelResults, id: 0x1f4124619a0"
      ]
     },
     "execution_count": 655,
     "metadata": {},
     "output_type": "execute_result"
    }
   ],
   "source": [
    "industry_models['ff3+macro']"
   ]
  },
  {
   "cell_type": "markdown",
   "id": "5b2e94b6-89dc-4774-8eaa-10e5503f5f27",
   "metadata": {},
   "source": [
    "GDP is not significant."
   ]
  },
  {
   "cell_type": "code",
   "execution_count": 658,
   "id": "cf6a7a8a-0e38-449e-9e1a-34f89e4b2a3c",
   "metadata": {},
   "outputs": [
    {
     "data": {
      "text/html": [
       "<table class=\"simpletable\">\n",
       "<caption>TradedFactorModel Estimation Summary</caption>\n",
       "<tr>\n",
       "  <th>No. Test Portfolios:</th>        <td>30</td>        <th>  R-squared:         </th>  <td>0.6246</td> \n",
       "</tr>\n",
       "<tr>\n",
       "  <th>No. Factors:</th>                 <td>8</td>        <th>  J-statistic:       </th>  <td>107.16</td> \n",
       "</tr>\n",
       "<tr>\n",
       "  <th>No. Observations:</th>           <td>559</td>       <th>  P-value            </th>  <td>0.0000</td> \n",
       "</tr>\n",
       "<tr>\n",
       "  <th>Date:</th>                <td>Fri, Mar 17 2023</td> <th>  Distribution:      </th> <td>chi2(30)</td>\n",
       "</tr>\n",
       "<tr>\n",
       "  <th>Time:</th>                    <td>18:30:32</td>     <th>                     </th>     <td></td>    \n",
       "</tr>\n",
       "<tr>\n",
       "  <th>Cov. Estimator:</th>           <td>kernel</td>      <th>                     </th>     <td></td>    \n",
       "</tr>\n",
       "<tr>\n",
       "  <th></th>                             <td></td>         <th>                     </th>     <td></td>    \n",
       "</tr>\n",
       "</table>\n",
       "<table class=\"simpletable\">\n",
       "<caption>Risk Premia Estimates</caption>\n",
       "<tr>\n",
       "       <td></td>      <th>Parameter</th> <th>Std. Err.</th> <th>T-stat</th>  <th>P-value</th> <th>Lower CI</th> <th>Upper CI</th>\n",
       "</tr>\n",
       "<tr>\n",
       "  <th>Mkt-RF</th>      <td>0.0060</td>    <td>0.0020</td>   <td>3.0559</td>  <td>0.0022</td>   <td>0.0022</td>   <td>0.0099</td> \n",
       "</tr>\n",
       "<tr>\n",
       "  <th>SMB</th>         <td>0.0023</td>    <td>0.0012</td>   <td>1.8400</td>  <td>0.0658</td>   <td>-0.0001</td>  <td>0.0047</td> \n",
       "</tr>\n",
       "<tr>\n",
       "  <th>HML</th>         <td>0.0029</td>    <td>0.0015</td>   <td>1.9493</td>  <td>0.0513</td>  <td>-1.6e-05</td>  <td>0.0059</td> \n",
       "</tr>\n",
       "<tr>\n",
       "  <th>RMW</th>         <td>0.0027</td>    <td>0.0011</td>   <td>2.4034</td>  <td>0.0162</td>   <td>0.0005</td>   <td>0.0050</td> \n",
       "</tr>\n",
       "<tr>\n",
       "  <th>CMA</th>         <td>0.0031</td>    <td>0.0010</td>   <td>3.1261</td>  <td>0.0018</td>   <td>0.0011</td>   <td>0.0050</td> \n",
       "</tr>\n",
       "<tr>\n",
       "  <th>Mom   </th>      <td>0.0060</td>    <td>0.0019</td>   <td>3.1603</td>  <td>0.0016</td>   <td>0.0023</td>   <td>0.0098</td> \n",
       "</tr>\n",
       "<tr>\n",
       "  <th>gdp_factor</th>  <td>0.0018</td>    <td>0.0010</td>   <td>1.7302</td>  <td>0.0836</td>   <td>-0.0002</td>  <td>0.0038</td> \n",
       "</tr>\n",
       "<tr>\n",
       "  <th>cpi_factor</th>  <td>-0.0006</td>   <td>0.0002</td>   <td>-3.1304</td> <td>0.0017</td>   <td>-0.0010</td>  <td>-0.0002</td>\n",
       "</tr>\n",
       "</table><br/><br/>Covariance estimator:<br/>KernelCovariance, Kernel: bartlett, Bandwidth: 9<br/>See full_summary for complete results<br/>id: 0x1f410ca0550"
      ],
      "text/plain": [
       "                      TradedFactorModel Estimation Summary                      \n",
       "================================================================================\n",
       "No. Test Portfolios:                 30   R-squared:                      0.6246\n",
       "No. Factors:                          8   J-statistic:                    107.16\n",
       "No. Observations:                   559   P-value                         0.0000\n",
       "Date:                  Fri, Mar 17 2023   Distribution:                 chi2(30)\n",
       "Time:                          18:30:32                                         \n",
       "Cov. Estimator:                  kernel                                         \n",
       "                                                                                \n",
       "                            Risk Premia Estimates                             \n",
       "==============================================================================\n",
       "            Parameter  Std. Err.     T-stat    P-value    Lower CI    Upper CI\n",
       "------------------------------------------------------------------------------\n",
       "Mkt-RF         0.0060     0.0020     3.0559     0.0022      0.0022      0.0099\n",
       "SMB            0.0023     0.0012     1.8400     0.0658     -0.0001      0.0047\n",
       "HML            0.0029     0.0015     1.9493     0.0513    -1.6e-05      0.0059\n",
       "RMW            0.0027     0.0011     2.4034     0.0162      0.0005      0.0050\n",
       "CMA            0.0031     0.0010     3.1261     0.0018      0.0011      0.0050\n",
       "Mom            0.0060     0.0019     3.1603     0.0016      0.0023      0.0098\n",
       "gdp_factor     0.0018     0.0010     1.7302     0.0836     -0.0002      0.0038\n",
       "cpi_factor    -0.0006     0.0002    -3.1304     0.0017     -0.0010     -0.0002\n",
       "==============================================================================\n",
       "\n",
       "Covariance estimator:\n",
       "KernelCovariance, Kernel: bartlett, Bandwidth: 9\n",
       "See full_summary for complete results\n",
       "LinearFactorModelResults, id: 0x1f410ca0550"
      ]
     },
     "execution_count": 658,
     "metadata": {},
     "output_type": "execute_result"
    }
   ],
   "source": [
    "industry_models['ff5+macro']"
   ]
  },
  {
   "cell_type": "markdown",
   "id": "5f209cfe-a9da-47f6-bad8-3eea253e233e",
   "metadata": {},
   "source": [
    "CPI is still highly significant, while GDP is not. The J-stat is quite high as well."
   ]
  },
  {
   "cell_type": "markdown",
   "id": "de47f570-907f-466f-9b1a-621ece391a5b",
   "metadata": {
    "jp-MarkdownHeadingCollapsed": true,
    "tags": []
   },
   "source": [
    "### Fama-MacBeth"
   ]
  },
  {
   "cell_type": "markdown",
   "id": "09ea4b0c-4763-4987-816b-629ef4c81332",
   "metadata": {},
   "source": [
    "#### Full-Sample"
   ]
  },
  {
   "cell_type": "markdown",
   "id": "15f8bd80-6de2-452e-a468-9c7357f097af",
   "metadata": {},
   "source": [
    "##### 1st Stage"
   ]
  },
  {
   "cell_type": "code",
   "execution_count": 260,
   "id": "eae0ed18-3183-4e87-bb46-20119eefd29c",
   "metadata": {},
   "outputs": [],
   "source": [
    "beta = []\n",
    "for portfolio in size_book_assets:\n",
    "    ts = sm.OLS(size_book_assets.loc[size_book_assets.index,portfolio],factors.iloc[:,0:3]).fit()\n",
    "    beta.append(ts.params[1:])\n",
    "\n",
    "beta = pd.DataFrame(beta)\n",
    "beta.index = size_book_assets.columns"
   ]
  },
  {
   "cell_type": "markdown",
   "id": "cfdb9c71-3088-4fef-b35c-04062bc2d297",
   "metadata": {},
   "source": [
    "##### 2nd Stage"
   ]
  },
  {
   "cell_type": "code",
   "execution_count": 261,
   "id": "f06f992c-dc5d-4892-b665-60359ba5e6e5",
   "metadata": {},
   "outputs": [],
   "source": [
    "lambdas = []\n",
    "alphas = []\n",
    "for t in range(0,size_book_assets.index.shape[0]):\n",
    "    cs = sm.OLS(np.array(size_book_assets)[t].T, betas).fit()\n",
    "    lambdas.append(cs.params)\n",
    "    alphas.append(cs.resid)"
   ]
  },
  {
   "cell_type": "code",
   "execution_count": 404,
   "id": "b49e79c6-b883-4826-a820-7bc6ce6a2110",
   "metadata": {},
   "outputs": [
    {
     "data": {
      "text/plain": [
       "const         0.901521\n",
       "gdp_factor    0.000045\n",
       "cpi_factor   -0.001267\n",
       "dtype: float64"
      ]
     },
     "execution_count": 404,
     "metadata": {},
     "output_type": "execute_result"
    }
   ],
   "source": [
    "lambdas_df = pd.DataFrame(lambdas)\n",
    "lambdas_df.mean()"
   ]
  },
  {
   "cell_type": "code",
   "execution_count": 412,
   "id": "19ca45dd-29e1-43f4-88f9-df43ba71b780",
   "metadata": {},
   "outputs": [],
   "source": [
    "se_gdp = ((lambdas_df['gdp_factor'] - lambdas_df.mean()['gdp_factor'])**2).sum() / len(lambdas_df)**2"
   ]
  },
  {
   "cell_type": "code",
   "execution_count": 416,
   "id": "b5cf1a42-98d0-4d21-abbe-bd08bd004d2e",
   "metadata": {},
   "outputs": [
    {
     "name": "stdout",
     "output_type": "stream",
     "text": [
      "3.06668\n"
     ]
    }
   ],
   "source": [
    "# Fama-MacBeth t-stat without controlling for autocorrelation \n",
    "print(f'{lambdas_df.mean()[\"gdp_factor\"]/se_gdp:0.5f}')"
   ]
  },
  {
   "cell_type": "code",
   "execution_count": 505,
   "id": "2a2a8750-d410-4f54-ae37-ccfdf3923dc4",
   "metadata": {},
   "outputs": [],
   "source": [
    "# Joint test of alphas\n",
    "alphas_df = pd.DataFrame(alphas)\n",
    "alpha_hat = alphas_df.mean()"
   ]
  },
  {
   "cell_type": "code",
   "execution_count": 580,
   "id": "d254e726-104a-4cc4-b3b5-c86f53035744",
   "metadata": {},
   "outputs": [],
   "source": [
    "cov_alpha = ((alphas_df - alpha_hat).T @ (alphas_df - alpha_hat)) / len(alphas_df)**2"
   ]
  },
  {
   "cell_type": "code",
   "execution_count": 581,
   "id": "e51aa4b3-9a42-457d-8aff-ab04f1057b86",
   "metadata": {},
   "outputs": [
    {
     "data": {
      "text/plain": [
       "7.630754656593366"
      ]
     },
     "execution_count": 581,
     "metadata": {},
     "output_type": "execute_result"
    }
   ],
   "source": [
    "# Chi Squared Stat\n",
    "alpha_chi = alpha_hat.T @ np.linalg.inv(cov_alpha) @ alpha_hat.T\n",
    "alpha_chi"
   ]
  },
  {
   "cell_type": "code",
   "execution_count": 568,
   "id": "a837a57e-2883-404f-a5a8-ce77c87edf4a",
   "metadata": {},
   "outputs": [],
   "source": [
    "from scipy.stats import chi2"
   ]
  },
  {
   "cell_type": "code",
   "execution_count": 577,
   "id": "f6092cda-a4de-45b4-bcb9-41b5680a43a7",
   "metadata": {},
   "outputs": [
    {
     "data": {
      "text/plain": [
       "1.0"
      ]
     },
     "execution_count": 577,
     "metadata": {},
     "output_type": "execute_result"
    }
   ],
   "source": [
    "alpha_p_val = 1 - chi2(len(alphas_df)-1).cdf(alpha_chi)\n",
    "alpha_p_val"
   ]
  },
  {
   "cell_type": "markdown",
   "id": "67163bb9-5038-49a2-acce-2afcacdf50fd",
   "metadata": {},
   "source": [
    "#### 5 year Rolling Window"
   ]
  },
  {
   "cell_type": "markdown",
   "id": "1bccf558-e343-48ec-9230-deea0b5bbc77",
   "metadata": {},
   "source": [
    "##### 1st Stage"
   ]
  },
  {
   "cell_type": "code",
   "execution_count": 264,
   "id": "0192a911-fc1f-4617-8e70-7da5e3b2601c",
   "metadata": {},
   "outputs": [],
   "source": [
    "from statsmodels.regression.rolling import RollingOLS"
   ]
  },
  {
   "cell_type": "code",
   "execution_count": 395,
   "id": "2f05df4f-861d-4408-82b3-f9f228f3f54c",
   "metadata": {},
   "outputs": [],
   "source": [
    "beta = {}\n",
    "for portfolio in size_book_assets:\n",
    "    ts = RollingOLS(size_book_assets.loc[size_book_assets.index,portfolio],factors.iloc[:,0:3], window=60).fit()\n",
    "    beta[portfolio] = ts.params[1:]"
   ]
  },
  {
   "cell_type": "code",
   "execution_count": 396,
   "id": "90d2bc26-5fac-4850-b245-295314639340",
   "metadata": {},
   "outputs": [],
   "source": [
    "betas_T = {}\n",
    "for t in range(60,len(size_book_assets)-60):\n",
    "    betas = []\n",
    "    for portfolio in size_book_assets.columns:\n",
    "        betas.append(beta[portfolio].iloc[t])\n",
    "    \n",
    "    betas_df = pd.DataFrame(np.array(betas), index=size_book_assets.columns, columns=['const', 'gdp_factor', 'cpi_factor'])\n",
    "    \n",
    "    betas_T[t] = betas_df"
   ]
  },
  {
   "cell_type": "markdown",
   "id": "bbbb8a20-9713-40a7-9512-b2f9ca969cbc",
   "metadata": {},
   "source": [
    "##### 2nd Stage"
   ]
  },
  {
   "cell_type": "code",
   "execution_count": 397,
   "id": "e645688d-79c8-4998-b8f6-c8572a2e2a64",
   "metadata": {},
   "outputs": [],
   "source": [
    "lambdas = []\n",
    "alphas = []\n",
    "for t in range(60,len(size_book_assets)-60):\n",
    "    cs = sm.OLS(np.array(size_book_assets)[t].T, betas_T[t]).fit()\n",
    "    lambdas.append(cs.params)\n",
    "    alphas.append(cs.resid)"
   ]
  },
  {
   "cell_type": "code",
   "execution_count": 398,
   "id": "966e6b48-b434-48be-98bd-df4333ccf1cd",
   "metadata": {},
   "outputs": [
    {
     "data": {
      "text/plain": [
       "const         0.901521\n",
       "gdp_factor    0.000045\n",
       "cpi_factor   -0.001267\n",
       "dtype: float64"
      ]
     },
     "execution_count": 398,
     "metadata": {},
     "output_type": "execute_result"
    }
   ],
   "source": [
    "pd.DataFrame(lambdas).mean()"
   ]
  },
  {
   "cell_type": "code",
   "execution_count": 401,
   "id": "b0c32a8b-1c39-44c9-9262-ab5b4865ecc5",
   "metadata": {},
   "outputs": [],
   "source": [
    "# pd.DataFrame(alphas).mean()"
   ]
  },
  {
   "cell_type": "markdown",
   "id": "c0f6ea02-bae0-4111-8ca9-61f7ff1bf8ba",
   "metadata": {},
   "source": [
    "### GMM?"
   ]
  },
  {
   "cell_type": "code",
   "execution_count": null,
   "id": "0fa52a79-553e-499c-95cd-8aa360aff731",
   "metadata": {},
   "outputs": [],
   "source": []
  }
 ],
 "metadata": {
  "kernelspec": {
   "display_name": "Python 3 (ipykernel)",
   "language": "python",
   "name": "python3"
  },
  "language_info": {
   "codemirror_mode": {
    "name": "ipython",
    "version": 3
   },
   "file_extension": ".py",
   "mimetype": "text/x-python",
   "name": "python",
   "nbconvert_exporter": "python",
   "pygments_lexer": "ipython3",
   "version": "3.9.12"
  }
 },
 "nbformat": 4,
 "nbformat_minor": 5
}
