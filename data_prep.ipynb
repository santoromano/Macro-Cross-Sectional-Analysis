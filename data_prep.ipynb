{
 "cells": [
  {
   "cell_type": "markdown",
   "id": "2e49f262-e758-4085-9dd4-9c57ee88aca4",
   "metadata": {},
   "source": [
    "# Paper Data Prep"
   ]
  },
  {
   "cell_type": "markdown",
   "id": "52b0317c-dd55-4e33-96c0-c8df32290bcf",
   "metadata": {},
   "source": [
    "Factor data:\n",
    "- 25 size-value FF portfolios \n",
    "- FF Industry portfolios\n",
    "- the 6 portfolios which form SMB and HML\n",
    "    - sourced from Ken French's website\n",
    "- DEF (difference between the return on long-term corporate bonds and long-term government bonds)\n",
    "- TERM (difference between the return on 30 year government bonds and the short-term rate)\n",
    "    - both sourced Ibbotson\n",
    "    - possible sub for corp bond returns (https://fred.stlouisfed.org/series/BAMLCC8A015PYTRIV)\n",
    "    - CRSP 20 or 30 year bond return, short term as 30 or 90 day\n",
    "- DEFY (default yield spread: Moody's BAA and AAA yield spread)\n",
    "    - Amit Goyal or FRED (https://fred.stlouisfed.org/series/BAA & https://fred.stlouisfed.org/series/AAA)\n",
    "- TERMY (term yield spread: 10 year and 1 year Treasury spread)\n",
    "    - FRED (https://fred.stlouisfed.org/series/DGS10 & https://fred.stlouisfed.org/series/DGS1)\n",
    "- RF (30 day T-bill rate)\n",
    "    - CRSP\n",
    "- Market portfolio (value-weighted NYSE)\n",
    "- GDP (seasonally adjusted)\n",
    "    - FRED (https://fred.stlouisfed.org/series/GDPC1)\n",
    "\n",
    "Other required data:\n",
    "- ISM Manufacturing Index\n",
    "    - sourced from Bloomberg\n",
    "- FF5 factors + Momentum\n",
    "    - Ken French"
   ]
  },
  {
   "cell_type": "code",
   "execution_count": 2,
   "id": "231ab4f5-de2d-49ea-8d17-03a2f5b698e0",
   "metadata": {},
   "outputs": [],
   "source": [
    "import pandas as pd\n",
    "import numpy as np\n",
    "from pandas.tseries.offsets import *\n",
    "import pandas_datareader.data as pdr"
   ]
  },
  {
   "cell_type": "markdown",
   "id": "e1cb2881-b369-4e81-b9a9-87554ff9c10b",
   "metadata": {},
   "source": [
    "## FRED Data"
   ]
  },
  {
   "cell_type": "code",
   "execution_count": null,
   "id": "d4584631-279a-4883-a85c-d6abece2a0ad",
   "metadata": {},
   "outputs": [],
   "source": [
    "fred_data = pdr.DataReader(['BAA', 'AAA', 'DGS10' ,'DGS1', 'BAMLCC8A015PYTRIV'],'fred', start='1947-01-01')\n",
    "fred_data.columns = []\n",
    "fred_data.index = fred_data.index + MonthEnd(0)\n"
   ]
  },
  {
   "cell_type": "markdown",
   "id": "ab638069-1fe3-417f-aa09-de313671fdb8",
   "metadata": {},
   "source": [
    "#### GDP"
   ]
  },
  {
   "cell_type": "code",
   "execution_count": null,
   "id": "5629d551-5d12-4a11-b19e-2f1973af9c78",
   "metadata": {},
   "outputs": [],
   "source": [
    "gdp_data = pdr.DataReader(['GDPC1'],'fred', start='1947-01-01')\n",
    "\n"
   ]
  },
  {
   "cell_type": "markdown",
   "id": "825054fc-856d-4f8d-84ed-c0cb6f00ed24",
   "metadata": {},
   "source": [
    "## Ken French Data"
   ]
  },
  {
   "cell_type": "code",
   "execution_count": 7,
   "id": "419bcd43-1b37-40f6-8c28-7023cbd527f6",
   "metadata": {},
   "outputs": [],
   "source": [
    "from pandas_datareader.famafrench import get_available_datasets\n",
    "# get_available_datasets()"
   ]
  },
  {
   "cell_type": "code",
   "execution_count": null,
   "id": "b4235417-d03f-4f64-a012-4859b0ccbca4",
   "metadata": {},
   "outputs": [],
   "source": [
    "ff_data = pdr.DataReader(['F-F_Research_Data_5_Factors_2x3', '25_Portfolios_5x5', '6_Portfolios_2x3', \n",
    "                          'F-F_Momentum_Factor', '30_Industry_Portfolios'],'famafrench', start='1925-01-01')\n"
   ]
  },
  {
   "cell_type": "markdown",
   "id": "405c623a-b181-4b31-827a-61092306b993",
   "metadata": {},
   "source": [
    "## CRSP Data"
   ]
  },
  {
   "cell_type": "code",
   "execution_count": null,
   "id": "af285963-56f1-4d9d-b30d-e80cd52129c6",
   "metadata": {},
   "outputs": [],
   "source": [
    "crsp_data = pd.read_csv(\"crsp_data.csv\", index_col='MthCalDt', parse_dates=True)\n",
    "crsp_data = crsp_data.pivot(columns=\"IndNm\", values='COL1')"
   ]
  }
 ],
 "metadata": {
  "kernelspec": {
   "display_name": "Python 3 (ipykernel)",
   "language": "python",
   "name": "python3"
  },
  "language_info": {
   "codemirror_mode": {
    "name": "ipython",
    "version": 3
   },
   "file_extension": ".py",
   "mimetype": "text/x-python",
   "name": "python",
   "nbconvert_exporter": "python",
   "pygments_lexer": "ipython3",
   "version": "3.9.12"
  }
 },
 "nbformat": 4,
 "nbformat_minor": 5
}
