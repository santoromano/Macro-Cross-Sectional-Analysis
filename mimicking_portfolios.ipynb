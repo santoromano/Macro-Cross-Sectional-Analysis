{
 "cells": [
  {
   "cell_type": "markdown",
   "id": "a650b56e-50de-41cb-a562-d7bcd0be26ae",
   "metadata": {},
   "source": [
    "Version Notes:\n",
    "\n",
    "Base assets don't improve predictability??? (ie. can't match R-squareds and test-stats/pvalues)\n",
    "\n",
    "Bootstrap correct???"
   ]
  },
  {
   "cell_type": "markdown",
   "id": "3a081367-cc3e-42ef-9627-b62c64894e3f",
   "metadata": {},
   "source": [
    "# Creation of GDP and CPI Mimicking portfolios"
   ]
  },
  {
   "cell_type": "markdown",
   "id": "eabec195-8d98-4d2f-aa53-6e95c5a3a42d",
   "metadata": {},
   "source": [
    "## Data Prep"
   ]
  },
  {
   "cell_type": "code",
   "execution_count": 197,
   "id": "5e9f3596-3ad3-4fa6-92e0-0df69faa2e34",
   "metadata": {},
   "outputs": [],
   "source": [
    "import pandas as pd\n",
    "import numpy as np\n",
    "import statsmodels.api as sm"
   ]
  },
  {
   "cell_type": "code",
   "execution_count": 198,
   "id": "6781bacc-7333-4caa-8708-865a0701ec26",
   "metadata": {},
   "outputs": [],
   "source": [
    "data = pd.read_csv('merged_data.csv', index_col=0)"
   ]
  },
  {
   "cell_type": "code",
   "execution_count": 199,
   "id": "e0946670-b4be-4462-b0e9-3102cf204d14",
   "metadata": {},
   "outputs": [],
   "source": [
    "data['def'] = np.log(data['corp_bond_return']/data['corp_bond_return'].shift(1)) - data['20y_return']\n",
    "data['term'] = data['30y_return'] - data['rf']"
   ]
  },
  {
   "cell_type": "code",
   "execution_count": 200,
   "id": "ca873162-55dd-44f9-9c40-fb9af082cd11",
   "metadata": {},
   "outputs": [],
   "source": [
    "data['defy'] = (data['BAA'] - data['AAA'])/100\n",
    "data['termy'] = (data['10 year'] - data['1 year'])/100"
   ]
  },
  {
   "cell_type": "code",
   "execution_count": 227,
   "id": "5cbe0c79-fa21-481b-b359-f0359b324c3a",
   "metadata": {},
   "outputs": [],
   "source": [
    "# Predictors\n",
    "predictors = data[['SL', 'SM', 'SH', 'BL', 'HM', 'BH',\n",
    "                                   'def', 'term', 'defy', 'termy', 'rf']].copy().dropna()\n",
    "portfolios = ['SL', 'SM', 'SH', 'BL', 'HM', 'BH']\n",
    "for portfolio in portfolios:\n",
    "    predictors[portfolio] = predictors[portfolio]/100 - predictors['rf'] "
   ]
  },
  {
   "cell_type": "code",
   "execution_count": 228,
   "id": "941839ce-3cf7-42e0-8ac2-8b9f5995adf4",
   "metadata": {},
   "outputs": [
    {
     "data": {
      "text/html": [
       "<div>\n",
       "<style scoped>\n",
       "    .dataframe tbody tr th:only-of-type {\n",
       "        vertical-align: middle;\n",
       "    }\n",
       "\n",
       "    .dataframe tbody tr th {\n",
       "        vertical-align: top;\n",
       "    }\n",
       "\n",
       "    .dataframe thead th {\n",
       "        text-align: right;\n",
       "    }\n",
       "</style>\n",
       "<table border=\"1\" class=\"dataframe\">\n",
       "  <thead>\n",
       "    <tr style=\"text-align: right;\">\n",
       "      <th></th>\n",
       "      <th>SL</th>\n",
       "      <th>SM</th>\n",
       "      <th>SH</th>\n",
       "      <th>BL</th>\n",
       "      <th>HM</th>\n",
       "      <th>BH</th>\n",
       "      <th>def</th>\n",
       "      <th>term</th>\n",
       "      <th>defy</th>\n",
       "      <th>termy</th>\n",
       "      <th>rf</th>\n",
       "    </tr>\n",
       "  </thead>\n",
       "  <tbody>\n",
       "    <tr>\n",
       "      <th>1973-04-30</th>\n",
       "      <td>-0.116366</td>\n",
       "      <td>-0.059144</td>\n",
       "      <td>-0.054957</td>\n",
       "      <td>-0.065703</td>\n",
       "      <td>-0.030393</td>\n",
       "      <td>-0.018819</td>\n",
       "      <td>-0.003262</td>\n",
       "      <td>-0.001740</td>\n",
       "      <td>0.0083</td>\n",
       "      <td>-0.0010</td>\n",
       "      <td>0.005002</td>\n",
       "    </tr>\n",
       "    <tr>\n",
       "      <th>1973-05-31</th>\n",
       "      <td>-0.111271</td>\n",
       "      <td>-0.077172</td>\n",
       "      <td>-0.078682</td>\n",
       "      <td>-0.013939</td>\n",
       "      <td>-0.025844</td>\n",
       "      <td>-0.038340</td>\n",
       "      <td>0.008574</td>\n",
       "      <td>-0.013672</td>\n",
       "      <td>0.0077</td>\n",
       "      <td>-0.0023</td>\n",
       "      <td>0.005098</td>\n",
       "    </tr>\n",
       "    <tr>\n",
       "      <th>1973-06-30</th>\n",
       "      <td>-0.056169</td>\n",
       "      <td>-0.034510</td>\n",
       "      <td>-0.032328</td>\n",
       "      <td>-0.014313</td>\n",
       "      <td>-0.008784</td>\n",
       "      <td>-0.014188</td>\n",
       "      <td>0.000121</td>\n",
       "      <td>-0.007495</td>\n",
       "      <td>0.0076</td>\n",
       "      <td>-0.0080</td>\n",
       "      <td>0.005379</td>\n",
       "    </tr>\n",
       "    <tr>\n",
       "      <th>1973-07-31</th>\n",
       "      <td>0.176029</td>\n",
       "      <td>0.095916</td>\n",
       "      <td>0.084404</td>\n",
       "      <td>0.057668</td>\n",
       "      <td>0.016414</td>\n",
       "      <td>0.043144</td>\n",
       "      <td>0.041822</td>\n",
       "      <td>-0.048362</td>\n",
       "      <td>0.0079</td>\n",
       "      <td>-0.0144</td>\n",
       "      <td>0.006540</td>\n",
       "    </tr>\n",
       "    <tr>\n",
       "      <th>1973-08-31</th>\n",
       "      <td>-0.045824</td>\n",
       "      <td>-0.059812</td>\n",
       "      <td>-0.047233</td>\n",
       "      <td>-0.039251</td>\n",
       "      <td>-0.036736</td>\n",
       "      <td>-0.013048</td>\n",
       "      <td>-0.032932</td>\n",
       "      <td>0.026077</td>\n",
       "      <td>0.0085</td>\n",
       "      <td>-0.0122</td>\n",
       "      <td>0.006855</td>\n",
       "    </tr>\n",
       "  </tbody>\n",
       "</table>\n",
       "</div>"
      ],
      "text/plain": [
       "                  SL        SM        SH        BL        HM        BH  \\\n",
       "1973-04-30 -0.116366 -0.059144 -0.054957 -0.065703 -0.030393 -0.018819   \n",
       "1973-05-31 -0.111271 -0.077172 -0.078682 -0.013939 -0.025844 -0.038340   \n",
       "1973-06-30 -0.056169 -0.034510 -0.032328 -0.014313 -0.008784 -0.014188   \n",
       "1973-07-31  0.176029  0.095916  0.084404  0.057668  0.016414  0.043144   \n",
       "1973-08-31 -0.045824 -0.059812 -0.047233 -0.039251 -0.036736 -0.013048   \n",
       "\n",
       "                 def      term    defy   termy        rf  \n",
       "1973-04-30 -0.003262 -0.001740  0.0083 -0.0010  0.005002  \n",
       "1973-05-31  0.008574 -0.013672  0.0077 -0.0023  0.005098  \n",
       "1973-06-30  0.000121 -0.007495  0.0076 -0.0080  0.005379  \n",
       "1973-07-31  0.041822 -0.048362  0.0079 -0.0144  0.006540  \n",
       "1973-08-31 -0.032932  0.026077  0.0085 -0.0122  0.006855  "
      ]
     },
     "execution_count": 228,
     "metadata": {},
     "output_type": "execute_result"
    }
   ],
   "source": [
    "predictors.head()"
   ]
  },
  {
   "cell_type": "code",
   "execution_count": 229,
   "id": "d062d7cc-3c9e-4358-999b-0fb4ebdcc9db",
   "metadata": {},
   "outputs": [],
   "source": [
    "# GDP & CPI\n",
    "gdp = data['BBKMGDP'].rename('gdp').to_frame().iloc[:-3]\n",
    "cpi = data['CPIAUCSL'].rename('cpi').to_frame().iloc[:-3]\n",
    "\n",
    "# Transformations \n",
    "gdp['gdp_mom'] = gdp['gdp'] / 100\n",
    "gdp['level'] = (1 + gdp['gdp_mom']).cumprod()\n",
    "gdp['gdp_yoy'] = np.log(gdp['level'] / gdp['level'].shift(12)) # 4 quarter change = 12 month change\n",
    "\n",
    "cpi['cpi_mom'] = np.log(cpi['cpi'] / cpi['cpi'].shift(1))\n",
    "cpi['cpi_yoy'] = np.log(cpi['cpi'] / cpi['cpi'].shift(12))\n",
    "\n",
    "cpi = cpi.shift(1)"
   ]
  },
  {
   "cell_type": "code",
   "execution_count": 230,
   "id": "77d31f15-f5b1-49cf-aaad-b3487bcfb370",
   "metadata": {},
   "outputs": [],
   "source": [
    "# Data up to pre-COVID\n",
    "predictors = predictors.loc[:'2020']\n",
    "gdp = gdp.loc[:'2020']\n",
    "cpi = cpi.loc[:'2020']"
   ]
  },
  {
   "cell_type": "markdown",
   "id": "f266857c-e9e0-4e1f-aa0b-e526cb3075c8",
   "metadata": {
    "tags": []
   },
   "source": [
    "## Can the base assets predict future GDP & CPI?\n",
    "Since this is an expectation of monthly GDP, instead of \"news related to future GDP growth\", this factor would be more related to innovations in expectations of future GDP growth. "
   ]
  },
  {
   "cell_type": "code",
   "execution_count": 231,
   "id": "aa1e53e7-1911-4ada-9419-0328a602173c",
   "metadata": {},
   "outputs": [],
   "source": [
    "# Data\n",
    "controls = sm.add_constant(predictors.iloc[:,-3:].shift(2).dropna())\n",
    "constant = controls.iloc[:,0]\n",
    "assets = predictors.iloc[1:,0:8].shift(1).dropna()\n",
    "y = gdp['gdp_yoy'].loc['1973-04':].iloc[2:]"
   ]
  },
  {
   "cell_type": "markdown",
   "id": "5630e707-d4b4-4b56-88fa-f019f23822f6",
   "metadata": {
    "tags": []
   },
   "source": [
    "### GDP Control Model"
   ]
  },
  {
   "cell_type": "code",
   "execution_count": 241,
   "id": "406a2da3-affd-42cd-9157-7dcfd50f3ddb",
   "metadata": {},
   "outputs": [
    {
     "name": "stdout",
     "output_type": "stream",
     "text": [
      "<Wald test (chi2): statistic=85.81041441519343, p-value=1.7385643906897478e-18, df_denom=3>\n"
     ]
    }
   ],
   "source": [
    "control_model = sm.OLS(y,controls).fit(cov_type='HAC', cov_kwds={'maxlags':3})\n",
    "coeffs_0 = [x + '=0' for x in controls.iloc[:,1:]]\n",
    "print(control_model.wald_test(','.join(coeffs_0), scalar=True, use_f=False))\n",
    "# control_model.summary()"
   ]
  },
  {
   "cell_type": "markdown",
   "id": "068547b6-8bed-42f3-8df5-5cc7ea96026a",
   "metadata": {},
   "source": [
    "### GDP Bootstrap\n",
    "Vassalou (2003) use a bootstrap procedure to see if the base assets are jointly significant in predicted GDP above and beyond the control variables.\n",
    "\n",
    "Specifically the bootstrap procedure is as follows:\n",
    "\n",
    "1) The regression is estimated: \n",
    "\n",
    "<font size=3>\n",
    "$\n",
    "\\%\\Delta GDP_{t,t+12} = a + cB_{t-1,t} + kZ_{t-2,t-1} + e_{t,t+12}\n",
    "$\n",
    "</font>\n",
    "\n",
    "Where B is a vector of returns on the 8 base assets, and Z is a vector of control variables. The Wald Statistic and p-value is stored.\n",
    "\n",
    "2) Draw a random sample (with replacement) of the explanatory variables and estimated residuals\n",
    "\n",
    "3) Compute a GDP growth rate forcast assuming c=0\n",
    "\n",
    "<font size=3>\n",
    "$\n",
    "\\%\\Delta \\hat{GDP}_{t,t+12} = \\hat{a} + \\hat{k}Z_{t-2,t-1} + \\hat{e}_{t,t+12}\n",
    "$\n",
    "</font>\n",
    "\n",
    "4) Regress the null GDP growth rate from (3) on the bootstrapped sample of explanatory variables; compute the Wald Statistic\n",
    "\n",
    "6) This is repeated 10,000 times. The actual Wald Statistic is compared against the bootstrapped distribution, and the emprical p-value is computed. "
   ]
  },
  {
   "cell_type": "markdown",
   "id": "a7dec955-84fe-4b0d-a850-a933802708cb",
   "metadata": {},
   "source": [
    "#### Only base assets"
   ]
  },
  {
   "cell_type": "code",
   "execution_count": 274,
   "id": "c61318c5-fae6-4f8a-b3b4-94881f0f4d91",
   "metadata": {},
   "outputs": [
    {
     "name": "stdout",
     "output_type": "stream",
     "text": [
      "P-value= 0.65455 Wald Stat=  5.935\n"
     ]
    }
   ],
   "source": [
    "# Initial Model\n",
    "model1 = sm.OLS(y, pd.concat([constant, assets], axis=1)).fit(cov_type='HAC', cov_kwds={'maxlags':3})\n",
    "\n",
    "coeffs1_0 = [x + '=0' for x in assets]\n",
    "wald_stat1 = model1.wald_test(','.join(coeffs1_0), scalar=True, use_f=False).statistic\n",
    "p1 = model1.wald_test(','.join(coeffs1_0), scalar=True, use_f=False).pvalue\n",
    "print('P-value=', f'{p1:0.5f}', 'Wald Stat= ', f'{wald_stat1:0.3f}')"
   ]
  },
  {
   "cell_type": "code",
   "execution_count": 275,
   "id": "0ae40160-717e-4fa7-be4d-e5558cc23d90",
   "metadata": {},
   "outputs": [],
   "source": [
    "# model1.summary()"
   ]
  },
  {
   "cell_type": "code",
   "execution_count": 276,
   "id": "4d8c6fb6-4b3f-4943-a66d-2dc5790a39d9",
   "metadata": {},
   "outputs": [],
   "source": [
    "sample_df1 = pd.concat([y, constant, assets], axis=1)\n",
    "n = len(sample_df1)"
   ]
  },
  {
   "cell_type": "code",
   "execution_count": 277,
   "id": "1eb19124-9c18-46d1-899d-e24f498cbf06",
   "metadata": {},
   "outputs": [],
   "source": [
    "# Bootstrap\n",
    "boot1_wald = []\n",
    "n_boots = 10000\n",
    "\n",
    "for _ in range(n_boots):\n",
    "    boot_df = sample_df1.sample(n=n, replace=True)\n",
    "    \n",
    "    boot_model = sm.OLS(boot_df['gdp_yoy'], boot_df.iloc[:,1:]).fit(cov_type='HAC', cov_kwds={'maxlags':3})\n",
    "    \n",
    "    coeffs_0 = [x + '=0' for x in boot_df.iloc[:,-8:]]\n",
    "    boot1_wald.append(boot_model.wald_test(','.join(coeffs_0), scalar=True, use_f=False).statistic)\n",
    "\n",
    "boot1_wald = np.array(boot1_wald)"
   ]
  },
  {
   "cell_type": "code",
   "execution_count": 278,
   "id": "72c35f9a-4d5d-4440-a096-4b3612a5051a",
   "metadata": {},
   "outputs": [
    {
     "name": "stdout",
     "output_type": "stream",
     "text": [
      " 0.94510\n"
     ]
    }
   ],
   "source": [
    "empirical_p1 = np.sum(boot1_wald >= wald_stat1)/len(boot1_wald)\n",
    "print(f'{empirical_p1: 0.5f}')"
   ]
  },
  {
   "cell_type": "markdown",
   "id": "0a25d306-4af1-4a6f-9b24-c59066681d46",
   "metadata": {
    "tags": []
   },
   "source": [
    "#### Base assets + Controls"
   ]
  },
  {
   "cell_type": "code",
   "execution_count": 279,
   "id": "f902e3ff-9753-4e59-af59-6791c61f54be",
   "metadata": {},
   "outputs": [
    {
     "name": "stdout",
     "output_type": "stream",
     "text": [
      "P-value= 0.24498 Wald Stat=  10.294\n"
     ]
    }
   ],
   "source": [
    "# Initial Model\n",
    "model2 = sm.OLS(y, pd.concat([controls, assets], axis=1)).fit(cov_type='HAC', cov_kwds={'maxlags':3})\n",
    "\n",
    "coeffs2_0 = [x + '=0' for x in assets]\n",
    "wald_stat2 = model2.wald_test(','.join(coeffs2_0), scalar=True, use_f=False).statistic\n",
    "p2 = model2.wald_test(','.join(coeffs2_0), scalar=True, use_f=False).pvalue\n",
    "print('P-value=', f'{p2:0.5f}', 'Wald Stat= ', f'{wald_stat2:0.3f}')"
   ]
  },
  {
   "cell_type": "code",
   "execution_count": 280,
   "id": "0caa6009-ddab-49bc-bb86-75b11cab0c90",
   "metadata": {},
   "outputs": [],
   "source": [
    "# model2.summary()"
   ]
  },
  {
   "cell_type": "code",
   "execution_count": 281,
   "id": "dcdd81e4-e64d-4c63-a194-92754b58c691",
   "metadata": {},
   "outputs": [],
   "source": [
    "sample_df2 = pd.concat([y, controls, assets], axis=1)\n",
    "n = len(sample_df2)"
   ]
  },
  {
   "cell_type": "code",
   "execution_count": 282,
   "id": "afcef376-cb05-401c-87a5-b43dad61283b",
   "metadata": {},
   "outputs": [],
   "source": [
    "# Bootstrap\n",
    "boot2_wald = []\n",
    "n_boots = 10000\n",
    "\n",
    "for _ in range(n_boots):\n",
    "    boot_df = sample_df2.sample(n=n, replace=True)\n",
    "    \n",
    "    boot_model = sm.OLS(boot_df['gdp_yoy'], boot_df.iloc[:,1:]).fit(cov_type='HAC', cov_kwds={'maxlags':3})\n",
    "    \n",
    "    coeffs_0 = [x + '=0' for x in boot_df.iloc[:,-8:]]\n",
    "    boot2_wald.append(boot_model.wald_test(','.join(coeffs_0), scalar=True, use_f=False).statistic)\n",
    "\n",
    "boot2_wald = np.array(boot2_wald)"
   ]
  },
  {
   "cell_type": "code",
   "execution_count": 283,
   "id": "8c9a4ad6-e01f-4bf0-9f3e-5a6781367c0d",
   "metadata": {},
   "outputs": [
    {
     "name": "stdout",
     "output_type": "stream",
     "text": [
      " 0.88770\n"
     ]
    }
   ],
   "source": [
    "empirical_p2 = np.sum(boot2_wald >= wald_stat2)/len(boot2_wald)\n",
    "print(f'{empirical_p2: 0.5f}')"
   ]
  },
  {
   "cell_type": "markdown",
   "id": "15f6f956-1cd5-4e5f-8ab5-15db08534e3a",
   "metadata": {},
   "source": [
    "### CPI"
   ]
  },
  {
   "cell_type": "code",
   "execution_count": 258,
   "id": "e3bfda24-939d-46f8-9bba-313f5a0723af",
   "metadata": {},
   "outputs": [],
   "source": [
    "y_cpi = cpi['cpi_yoy'].loc['1973-04':].iloc[2:]"
   ]
  },
  {
   "cell_type": "code",
   "execution_count": 284,
   "id": "485caea8-1629-4f54-b56a-f0198033f288",
   "metadata": {},
   "outputs": [
    {
     "name": "stdout",
     "output_type": "stream",
     "text": [
      "P-value= 0.00000 Wald Stat=  218.190\n",
      "P-value= 0.00143 Wald Stat=  25.216\n"
     ]
    }
   ],
   "source": [
    "# Initial Model\n",
    "cpi_model = sm.OLS(y_cpi, pd.concat([controls, assets], axis=1)).fit(cov_type='HAC', cov_kwds={'maxlags':3})\n",
    "\n",
    "# Wald Test for controls vs mean\n",
    "cpi_coeffs_0 = [x + '=0' for x in pd.concat([controls.iloc[:,1:], assets], axis=1)]\n",
    "wald_stat_cpi = cpi_model.wald_test(','.join(cpi_coeffs_0), scalar=True, use_f=False).statistic\n",
    "p_cpi = cpi_model.wald_test(','.join(cpi_coeffs_0), scalar=True, use_f=False).pvalue\n",
    "print('P-value=', f'{p_cpi:0.5f}', 'Wald Stat= ', f'{wald_stat_cpi:0.3f}')\n",
    "\n",
    "# Wald Test for base assets vs mean + controls\n",
    "cpi_coeffs_0 = [x + '=0' for x in assets]\n",
    "wald_stat_cpi = cpi_model.wald_test(','.join(cpi_coeffs_0), scalar=True, use_f=False).statistic\n",
    "p_cpi = cpi_model.wald_test(','.join(cpi_coeffs_0), scalar=True, use_f=False).pvalue\n",
    "print('P-value=', f'{p_cpi:0.5f}', 'Wald Stat= ', f'{wald_stat_cpi:0.3f}')"
   ]
  },
  {
   "cell_type": "markdown",
   "id": "43507543-53a9-43ea-9b6d-f2180e1035b5",
   "metadata": {},
   "source": [
    "Base assets do appear to have predictive power (asymptotically)"
   ]
  },
  {
   "cell_type": "markdown",
   "id": "d529c2b7-4936-4ee7-963d-e562a0a14e13",
   "metadata": {
    "tags": []
   },
   "source": [
    "#### CPI Bootstrap"
   ]
  },
  {
   "cell_type": "code",
   "execution_count": 285,
   "id": "a87b665c-7ab3-4ad2-8cb2-f8caa743b494",
   "metadata": {},
   "outputs": [],
   "source": [
    "sample_df_cpi = pd.concat([y_cpi, controls, assets], axis=1)\n",
    "n = len(sample_df_cpi)"
   ]
  },
  {
   "cell_type": "code",
   "execution_count": 287,
   "id": "86a5f5fd-aa4e-4fad-b97f-daa31e8a5bae",
   "metadata": {},
   "outputs": [],
   "source": [
    "boot_cpi_wald = []\n",
    "n_boots = 10000\n",
    "\n",
    "for _ in range(n_boots):\n",
    "    boot_df = sample_df_cpi.sample(n=n, replace=True)\n",
    "    \n",
    "    boot_model = sm.OLS(boot_df['cpi_yoy'], boot_df.iloc[:,1:]).fit(cov_type='HAC', cov_kwds={'maxlags':3})\n",
    "    \n",
    "    coeffs_0 = [x + '=0' for x in boot_df.iloc[:,-8:]]\n",
    "    boot_cpi_wald.append(boot_model.wald_test(','.join(coeffs_0), scalar=True, use_f=False).statistic)\n",
    "\n",
    "boot_cpi_wald = np.array(boot_cpi_wald)"
   ]
  },
  {
   "cell_type": "code",
   "execution_count": 288,
   "id": "efdca130-bde6-444b-ac08-2747455d9bcc",
   "metadata": {},
   "outputs": [
    {
     "name": "stdout",
     "output_type": "stream",
     "text": [
      " 0.89290\n"
     ]
    }
   ],
   "source": [
    "empirical_p_cpi = np.sum(boot_cpi_wald >= wald_stat_cpi)/len(boot_cpi_wald)\n",
    "print(f'{empirical_p_cpi: 0.5f}')"
   ]
  },
  {
   "cell_type": "code",
   "execution_count": 291,
   "id": "f27edf80-a6f2-49e1-a2ce-b757053176fa",
   "metadata": {},
   "outputs": [
    {
     "data": {
      "text/plain": [
       "<AxesSubplot:ylabel='Frequency'>"
      ]
     },
     "execution_count": 291,
     "metadata": {},
     "output_type": "execute_result"
    },
    {
     "data": {
      "image/png": "[encoded data removed]",
      "text/plain": [
       "<Figure size 432x288 with 1 Axes>"
      ]
     },
     "metadata": {
      "needs_background": "light"
     },
     "output_type": "display_data"
    }
   ],
   "source": [
    "pd.DataFrame(boot_cpi_wald).plot.hist()"
   ]
  },
  {
   "cell_type": "markdown",
   "id": "8f256a0b-ef52-4204-99f2-c28d35a17992",
   "metadata": {
    "jp-MarkdownHeadingCollapsed": true,
    "tags": []
   },
   "source": [
    "### Systems Estimation"
   ]
  },
  {
   "cell_type": "code",
   "execution_count": 186,
   "id": "f420b673-83f4-4f2c-8611-1f320774da52",
   "metadata": {},
   "outputs": [],
   "source": [
    "from linearmodels.system.model import SUR"
   ]
  },
  {
   "cell_type": "code",
   "execution_count": 164,
   "id": "4a56e6e7-2ec3-4248-8d65-85e9848e313e",
   "metadata": {},
   "outputs": [],
   "source": [
    "# GDP and CPI Stacked\n",
    "y = pd.merge(cpi['cpi_yoy'], gdp['gdp_yoy'], left_index=True, right_index=True).loc['1973-04':].iloc[1:]\n",
    "X = sm.add_constant(predictors.iloc[:,-3:].shift(1).dropna())"
   ]
  },
  {
   "cell_type": "code",
   "execution_count": 181,
   "id": "e9210891-2656-441d-be91-5fc2ee2110b8",
   "metadata": {},
   "outputs": [],
   "source": [
    "model = SUR.multivariate_ls(y, X).fit(cov_type='kernel', kernel='bartlett',bandwidth=3)"
   ]
  },
  {
   "cell_type": "code",
   "execution_count": 182,
   "id": "1f4e62d9-10dd-40f0-ab7e-785db3e7a0bc",
   "metadata": {},
   "outputs": [
    {
     "name": "stdout",
     "output_type": "stream",
     "text": [
      "                           System OLS Estimation Summary                           \n",
      "===================================================================================\n",
      "Estimator:                        OLS   Overall R-squared:                   0.2818\n",
      "No. Equations.:                     2   McElroy's R-squared:                 0.4092\n",
      "No. Observations:                 596   Judge's (OLS) R-squared:             0.2818\n",
      "Date:                Tue, Mar 14 2023   Berndt's R-squared:                  0.6385\n",
      "Time:                        20:18:30   Dhrymes's R-squared:                 0.2818\n",
      "                                        Cov. Estimator:                      kernel\n",
      "                                        Num. Constraints:                      None\n",
      "                Equation: cpi_yoy, Dependent Variable: cpi_yoy                \n",
      "==============================================================================\n",
      "            Parameter  Std. Err.     T-stat    P-value    Lower CI    Upper CI\n",
      "------------------------------------------------------------------------------\n",
      "const          0.0216     0.0055     3.9126     0.0001      0.0108      0.0325\n",
      "defy           0.6931     0.4619     1.5006     0.1335     -0.2122      1.5984\n",
      "termy         -0.6553     0.1712    -3.8268     0.0001     -0.9909     -0.3197\n",
      "rf             4.8097     0.7229     6.6530     0.0000      3.3928      6.2267\n",
      "                Equation: gdp_yoy, Dependent Variable: gdp_yoy                \n",
      "==============================================================================\n",
      "            Parameter  Std. Err.     T-stat    P-value    Lower CI    Upper CI\n",
      "------------------------------------------------------------------------------\n",
      "const          0.4084     0.0737     5.5447     0.0000      0.2640      0.5528\n",
      "defy          -41.334     5.7695    -7.1642     0.0000     -52.642     -30.026\n",
      "termy          9.8014     3.1347     3.1267     0.0018      3.6575      15.945\n",
      "rf             57.357     15.342     3.7385     0.0002      27.287      87.428\n",
      "==============================================================================\n",
      "\n",
      "Covariance Estimator:\n",
      "Kernel (HAC) Covariance (Debiased: False, GLS: False, Kernel: bartlett)\n"
     ]
    }
   ],
   "source": [
    "print(model)"
   ]
  },
  {
   "cell_type": "markdown",
   "id": "94d0f7b9-07c5-4ace-b783-e6b574063286",
   "metadata": {},
   "source": [
    "## Factor Creation"
   ]
  },
  {
   "cell_type": "code",
   "execution_count": null,
   "id": "eb494ca7-7908-413c-804f-4e2e6256dbb5",
   "metadata": {},
   "outputs": [],
   "source": []
  }
 ],
 "metadata": {
  "kernelspec": {
   "display_name": "Python 3 (ipykernel)",
   "language": "python",
   "name": "python3"
  },
  "language_info": {
   "codemirror_mode": {
    "name": "ipython",
    "version": 3
   },
   "file_extension": ".py",
   "mimetype": "text/x-python",
   "name": "python",
   "nbconvert_exporter": "python",
   "pygments_lexer": "ipython3",
   "version": "3.9.12"
  }
 },
 "nbformat": 4,
 "nbformat_minor": 5
}
