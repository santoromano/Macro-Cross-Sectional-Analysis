{
 "cells": [
  {
   "cell_type": "markdown",
   "id": "0fbd7fa7-318c-4f07-aeea-eec853164138",
   "metadata": {},
   "source": [
    "VERSION NOTES:\n",
    "- Fama-MacBeth Function & Statistical Significance tests"
   ]
  },
  {
   "cell_type": "markdown",
   "id": "be133e63-3b5d-44e7-a160-8e2cd3907ed5",
   "metadata": {},
   "source": [
    "# Asset Pricing Tests"
   ]
  },
  {
   "cell_type": "code",
   "execution_count": 1,
   "id": "2ed51baf-2b0f-40e8-a223-846ca680168b",
   "metadata": {},
   "outputs": [],
   "source": [
    "import pandas as pd\n",
    "import numpy as np\n",
    "import statsmodels.api as sm\n",
    "from linearmodels.panel.model import FamaMacBeth\n",
    "from linearmodels.asset_pricing import TradedFactorModel\n",
    "from linearmodels.asset_pricing import LinearFactorModelGMM as GMM"
   ]
  },
  {
   "cell_type": "markdown",
   "id": "35c8db4e-3b41-407a-9cd2-e625e336ed76",
   "metadata": {},
   "source": [
    "## Data"
   ]
  },
  {
   "cell_type": "code",
   "execution_count": 2,
   "id": "026655e4-2972-4461-a1fc-dde041af7266",
   "metadata": {},
   "outputs": [],
   "source": [
    "ff_data = pd.read_csv('ff_data.csv', index_col=0, parse_dates=True)\n",
    "monthly_factors = pd.read_csv('monthly_factors.csv', index_col=0, parse_dates=True)\n",
    "quarterly_factors = pd.read_csv('quarterly_factors.csv', index_col=0, parse_dates=True)"
   ]
  },
  {
   "cell_type": "code",
   "execution_count": 3,
   "id": "968c9584-6568-4ca3-ab54-5a4ecb1c10d0",
   "metadata": {},
   "outputs": [],
   "source": [
    "# Monthly\n",
    "# Test asset clean up\n",
    "ff_data = ff_data.loc[monthly_factors.index[0]:monthly_factors.index[-1]] / 100\n",
    "\n",
    "# Factor Models\n",
    "ff3 = ff_data.iloc[:,0:3]\n",
    "ff5 = ff_data.iloc[:,0:5]\n",
    "ff5_mom = pd.concat([ff5, ff_data.iloc[:,31]], axis=1)\n",
    "\n",
    "# Test Asset Portfolios\n",
    "size_book_assets_m = ff_data.iloc[:,6:31].apply(lambda x: x - ff_data['RF'])\n",
    "industry_assets_m = ff_data.iloc[:,32:].apply(lambda x: x - ff_data['RF'])\n",
    "\n",
    "# Macro Factors\n",
    "factors_m = pd.concat([monthly_factors, ff_data['Mkt-RF']], axis=1)"
   ]
  },
  {
   "cell_type": "code",
   "execution_count": 4,
   "id": "e628bfb3-3da7-4ccf-a697-b3bf17c21ca8",
   "metadata": {},
   "outputs": [],
   "source": [
    "# Quarterly\n",
    "def f(data, last_row=False):\n",
    "    '''\n",
    "    Computes the buy and hold for 3 month (1 quarter) return.\n",
    "    '''\n",
    "    df = ((1+data).cumprod(axis=0)-1)\n",
    "\n",
    "    return df.iloc[-1]\n",
    "\n",
    "ff_data_q = (ff_data).resample('Q').apply(f).iloc[1:-2]\n",
    "\n",
    "# Factor Models\n",
    "ff3_q = ff_data_q.iloc[:,0:3]\n",
    "ff5_q = ff_data_q.iloc[:,0:5]\n",
    "ff5_mom_q = pd.concat([ff5_q, ff_data_q.iloc[:,31]], axis=1)\n",
    "\n",
    "# Test Asset Portfolios\n",
    "size_book_assets_q = ff_data_q.iloc[:,6:31].apply(lambda x: x - ff_data_q['RF'])\n",
    "industry_assets_q = ff_data_q.iloc[:,32:].apply(lambda x: x - ff_data_q['RF'])\n",
    "\n",
    "# Macro Factors\n",
    "factors_q = pd.concat([quarterly_factors, ff_data_q['Mkt-RF']], axis=1).dropna()"
   ]
  },
  {
   "cell_type": "markdown",
   "id": "6951cac9-6356-49e4-b288-7c2b3a1a9d73",
   "metadata": {},
   "source": [
    "## Analysis"
   ]
  },
  {
   "cell_type": "markdown",
   "id": "b77da4c2-09a3-4003-9cee-c9ca755a0027",
   "metadata": {
    "tags": []
   },
   "source": [
    "Two sets of test assets will be used: \n",
    "1) 25 Size-Book Sorted Portfolios \n",
    "2) 30 Industry Portfolios\n",
    "\n",
    "Several factor models will be tested (on each set of test assets):\n",
    "1) Macro Factors\n",
    "    - how well do they price the cross-section?\n",
    "    - what are their risk premia if any?\n",
    "2) Macro Factors + Market Factor\n",
    "3) FF3\n",
    "    - Compare Macro Factors to FF3\n",
    "4) FF3 + Macro Factors\n",
    "    - Given the Macro Factors are SMB + HML needed?\n",
    "5) FF5\n",
    "6) FF5 + Momentum\n",
    "    - do the Macro Factors price better than the standard model?\n",
    "7) FF5 + Momentum + Macro Factors\n",
    "    - is the standard model subsumed by the Macro Factors?"
   ]
  },
  {
   "cell_type": "markdown",
   "id": "332af386-b651-41cc-a1d0-8f5bc2b247ce",
   "metadata": {
    "jp-MarkdownHeadingCollapsed": true,
    "tags": []
   },
   "source": [
    "### Linear Factor Model/SDF Approach"
   ]
  },
  {
   "cell_type": "code",
   "execution_count": 61,
   "id": "636ca985-80df-4202-b790-b8bfd77250f7",
   "metadata": {},
   "outputs": [],
   "source": [
    "# Renames the factors to make subsequent code cleaner\n",
    "# _0 denotes MoM or QoQ, _1 denotes YoY or 4QoQ\n",
    "factors_m.columns = factors_m.columns.str.replace(\"mom\", \"0\")\n",
    "factors_m.columns = factors_m.columns.str.replace(\"yoy\", \"1\")\n",
    "\n",
    "factors_q.columns = factors_q.columns.str.replace(\"qoq\", \"0\")\n",
    "factors_q.columns = factors_q.columns.str.replace(\"4qoq\", \"1\")"
   ]
  },
  {
   "cell_type": "code",
   "execution_count": 69,
   "id": "62c143a0-5f65-4c2b-9149-a44ebaf2f75e",
   "metadata": {},
   "outputs": [],
   "source": [
    "def factor_models(test_assets, factors):\n",
    "    '''\n",
    "    Runs all factor models on the given set of test assets.\n",
    "    Stores the model instances in a dictionary.\n",
    "    '''\n",
    "    \n",
    "    model_results = {}\n",
    "    \n",
    "    # Macro Factors\n",
    "    model1 = TradedFactorModel(test_assets, factors.iloc[:,:2]).fit(cov_type='kernel')\n",
    "    model_results['macro'] = model1\n",
    "   \n",
    "    # Macro Factors + Market\n",
    "    model2 = TradedFactorModel(test_assets, factors.iloc[:,:]).fit(cov_type='kernel')\n",
    "    model_results['macro+mkt'] = model2\n",
    "   \n",
    "    # FF3\n",
    "    model3 = TradedFactorModel(test_assets, ff3).fit(cov_type='kernel')\n",
    "    model_results['ff3'] = model3\n",
    "    \n",
    "    # FF3 + Macro Factors\n",
    "    model4 = TradedFactorModel(test_assets, pd.concat([ff3, factors.iloc[:,:2]], axis=1)).fit(cov_type='kernel')\n",
    "    model_results['ff3+macro'] = model4\n",
    "    \n",
    "    # FF5 + Momentum\n",
    "    model5 = TradedFactorModel(test_assets, ff5_mom).fit(cov_type='kernel')\n",
    "    model_results['ff5+mom'] = model5\n",
    "     \n",
    "    # FF5 + Momentum + Macro Factors\n",
    "    model6 = TradedFactorModel(test_assets, pd.concat([ff5_mom, factors.iloc[:,:2]], axis=1)).fit(cov_type='kernel')\n",
    "    model_results['ff5+macro'] = model6\n",
    "    \n",
    "    return model_results"
   ]
  },
  {
   "cell_type": "markdown",
   "id": "5ee00230-0ba1-4a8d-95fb-c7cabb75a746",
   "metadata": {
    "tags": []
   },
   "source": [
    "#### Monthly"
   ]
  },
  {
   "cell_type": "markdown",
   "id": "17ae64fc-df97-42db-a967-e18750d6aa64",
   "metadata": {
    "tags": []
   },
   "source": [
    "##### Test Assets: 25 Size-Book Value Sorted Portfolios"
   ]
  },
  {
   "cell_type": "code",
   "execution_count": 72,
   "id": "dbbccf05-686a-49a1-b6b5-20ee426075c2",
   "metadata": {},
   "outputs": [],
   "source": [
    "size_book_models_mom = factor_models(size_book_assets_m, factors_m[['gdp_0', 'cpi_0', 'Mkt-RF']])\n",
    "size_book_models_yoy = factor_models(size_book_assets_m, factors_m[['gdp_1', 'cpi_1', 'Mkt-RF']])"
   ]
  },
  {
   "cell_type": "code",
   "execution_count": 76,
   "id": "55f3b288-b95a-4c30-b357-0daa20c09f72",
   "metadata": {},
   "outputs": [],
   "source": [
    "# dir(size_book_models_mom['macro+mkt'])\n",
    "# size_book_models_mom['macro+mkt'].full_summary\n",
    "# size_book_models_mom['macro+mkt'].betas\n",
    "# size_book_models_mom['macro+mkt'].alphas"
   ]
  },
  {
   "cell_type": "markdown",
   "id": "e3988f9f-c579-4a81-a9f0-4da4586ae5a7",
   "metadata": {
    "jp-MarkdownHeadingCollapsed": true,
    "tags": []
   },
   "source": [
    "###### MoM Model"
   ]
  },
  {
   "cell_type": "code",
   "execution_count": 74,
   "id": "78f6f2b5-ce94-49be-aa82-194e5ccb88b7",
   "metadata": {},
   "outputs": [
    {
     "data": {
      "text/html": [
       "<table class=\"simpletable\">\n",
       "<caption>TradedFactorModel Estimation Summary</caption>\n",
       "<tr>\n",
       "  <th>No. Test Portfolios:</th>        <td>25</td>        <th>  R-squared:         </th>  <td>0.7276</td> \n",
       "</tr>\n",
       "<tr>\n",
       "  <th>No. Factors:</th>                 <td>3</td>        <th>  J-statistic:       </th>  <td>89.046</td> \n",
       "</tr>\n",
       "<tr>\n",
       "  <th>No. Observations:</th>           <td>595</td>       <th>  P-value            </th>  <td>0.0000</td> \n",
       "</tr>\n",
       "<tr>\n",
       "  <th>Date:</th>                <td>Sat, Mar 18 2023</td> <th>  Distribution:      </th> <td>chi2(25)</td>\n",
       "</tr>\n",
       "<tr>\n",
       "  <th>Time:</th>                    <td>17:53:21</td>     <th>                     </th>     <td></td>    \n",
       "</tr>\n",
       "<tr>\n",
       "  <th>Cov. Estimator:</th>           <td>kernel</td>      <th>                     </th>     <td></td>    \n",
       "</tr>\n",
       "<tr>\n",
       "  <th></th>                             <td></td>         <th>                     </th>     <td></td>    \n",
       "</tr>\n",
       "</table>\n",
       "<table class=\"simpletable\">\n",
       "<caption>Risk Premia Estimates</caption>\n",
       "<tr>\n",
       "     <td></td>    <th>Parameter</th> <th>Std. Err.</th> <th>T-stat</th>  <th>P-value</th>  <th>Lower CI</th>   <th>Upper CI</th> \n",
       "</tr>\n",
       "<tr>\n",
       "  <th>gdp_0</th>   <td>0.0002</td>    <td>0.0001</td>   <td>1.4004</td>  <td>0.1614</td>  <td>-6.241e-05</td>   <td>0.0004</td>  \n",
       "</tr>\n",
       "<tr>\n",
       "  <th>cpi_0</th>   <td>-0.0001</td>  <td>3.603e-05</td> <td>-2.9049</td> <td>0.0037</td>    <td>-0.0002</td>  <td>-3.405e-05</td>\n",
       "</tr>\n",
       "<tr>\n",
       "  <th>Mkt-RF</th>  <td>0.0061</td>    <td>0.0020</td>   <td>3.1136</td>  <td>0.0018</td>    <td>0.0023</td>     <td>0.0099</td>  \n",
       "</tr>\n",
       "</table><br/><br/>Covariance estimator:<br/>KernelCovariance, Kernel: bartlett, Bandwidth: 12<br/>See full_summary for complete results<br/>id: 0x2ad5f50c6d0"
      ],
      "text/plain": [
       "                      TradedFactorModel Estimation Summary                      \n",
       "================================================================================\n",
       "No. Test Portfolios:                 25   R-squared:                      0.7276\n",
       "No. Factors:                          3   J-statistic:                    89.046\n",
       "No. Observations:                   595   P-value                         0.0000\n",
       "Date:                  Sat, Mar 18 2023   Distribution:                 chi2(25)\n",
       "Time:                          17:53:21                                         \n",
       "Cov. Estimator:                  kernel                                         \n",
       "                                                                                \n",
       "                            Risk Premia Estimates                             \n",
       "==============================================================================\n",
       "            Parameter  Std. Err.     T-stat    P-value    Lower CI    Upper CI\n",
       "------------------------------------------------------------------------------\n",
       "gdp_0          0.0002     0.0001     1.4004     0.1614  -6.241e-05      0.0004\n",
       "cpi_0         -0.0001  3.603e-05    -2.9049     0.0037     -0.0002  -3.405e-05\n",
       "Mkt-RF         0.0061     0.0020     3.1136     0.0018      0.0023      0.0099\n",
       "==============================================================================\n",
       "\n",
       "Covariance estimator:\n",
       "KernelCovariance, Kernel: bartlett, Bandwidth: 12\n",
       "See full_summary for complete results\n",
       "LinearFactorModelResults, id: 0x2ad5f50c6d0"
      ]
     },
     "execution_count": 74,
     "metadata": {},
     "output_type": "execute_result"
    }
   ],
   "source": [
    "size_book_models_mom['macro+mkt']"
   ]
  },
  {
   "cell_type": "markdown",
   "id": "f2a6f0de-1fa2-4546-be48-c34e4fb18432",
   "metadata": {},
   "source": [
    "GDP's risk premia becomes insignificant (not a surprise from the factor creation stage).\n",
    "\n",
    "CPI's premia is highly significant, negative and very small."
   ]
  },
  {
   "cell_type": "code",
   "execution_count": 75,
   "id": "13e25212-0d69-4617-a135-d3e45ca7419a",
   "metadata": {},
   "outputs": [
    {
     "data": {
      "text/plain": [
       "J-statistic\n",
       "H0: All alphas are 0\n",
       "Statistic: 89.0458\n",
       "P-value: 0.0000\n",
       "Distributed: chi2(25)\n",
       "WaldTestStatistic, id: 0x2ad5f4aed00"
      ]
     },
     "execution_count": 75,
     "metadata": {},
     "output_type": "execute_result"
    }
   ],
   "source": [
    "size_book_models_mom['macro+mkt']._jstat"
   ]
  },
  {
   "cell_type": "code",
   "execution_count": 77,
   "id": "c4518e41-b659-4a3f-8382-d38228577a38",
   "metadata": {},
   "outputs": [
    {
     "data": {
      "text/plain": [
       "SMALL LoBM   -0.070035\n",
       "ME2 BM1      -0.026450\n",
       "ME3 BM1      -0.022094\n",
       "BIG LoBM     -0.002565\n",
       "ME4 BM1       0.000389\n",
       "ME5 BM4       0.002473\n",
       "ME5 BM2       0.011611\n",
       "ME1 BM2       0.012548\n",
       "ME4 BM2       0.012643\n",
       "ME1 BM3       0.015558\n",
       "ME5 BM3       0.015651\n",
       "ME2 BM2       0.015721\n",
       "BIG HiBM      0.017111\n",
       "ME4 BM3       0.018343\n",
       "ME3 BM3       0.019770\n",
       "ME3 BM2       0.023827\n",
       "ME2 BM3       0.024028\n",
       "ME4 BM4       0.024414\n",
       "ME3 BM4       0.032213\n",
       "ME4 BM5       0.033756\n",
       "ME2 BM4       0.036667\n",
       "ME2 BM5       0.039072\n",
       "ME1 BM4       0.044953\n",
       "ME3 BM5       0.049590\n",
       "SMALL HiBM    0.053801\n",
       "Name: alpha, dtype: float64"
      ]
     },
     "execution_count": 77,
     "metadata": {},
     "output_type": "execute_result"
    }
   ],
   "source": [
    "12*size_book_models_mom['macro+mkt'].alphas.sort_values()"
   ]
  },
  {
   "cell_type": "markdown",
   "id": "c94cb8f1-77e8-4452-9a66-51ceb71b342d",
   "metadata": {},
   "source": [
    "Reject null that alphas are 0 for the Macro + Mkt Model; the model does not price the portfolios.\n",
    "\n",
    "The J-statistic itself is the lowest amoung all the models (even FF5+Momentum+Macro). The biggest pricing errors are in the more extreme portfolios (particularly the \"SMALL\" portfolios)."
   ]
  },
  {
   "cell_type": "code",
   "execution_count": 80,
   "id": "deeeac47-da98-45f1-97cd-2ee1587dca19",
   "metadata": {},
   "outputs": [
    {
     "data": {
      "text/plain": [
       "J-statistic\n",
       "H0: All alphas are 0\n",
       "Statistic: 91.4080\n",
       "P-value: 0.0000\n",
       "Distributed: chi2(25)\n",
       "WaldTestStatistic, id: 0x2ad5f556880"
      ]
     },
     "execution_count": 80,
     "metadata": {},
     "output_type": "execute_result"
    }
   ],
   "source": [
    "size_book_models_mom['ff5+mom']._jstat"
   ]
  },
  {
   "cell_type": "code",
   "execution_count": 82,
   "id": "89eeb82c-bc3b-4204-84d4-1801fdfda5e1",
   "metadata": {},
   "outputs": [
    {
     "data": {
      "text/plain": [
       "J-statistic\n",
       "H0: All alphas are 0\n",
       "Statistic: 80.5827\n",
       "P-value: 0.0000\n",
       "Distributed: chi2(25)\n",
       "WaldTestStatistic, id: 0x2ad5f57d340"
      ]
     },
     "execution_count": 82,
     "metadata": {},
     "output_type": "execute_result"
    }
   ],
   "source": [
    "size_book_models_mom['ff5+macro']._jstat"
   ]
  },
  {
   "cell_type": "markdown",
   "id": "cb511dee-4cc7-413e-9d72-eed37d2bcf87",
   "metadata": {},
   "source": [
    "Adding macro to FF5 + Momentum enhances pricing (marginally)."
   ]
  },
  {
   "cell_type": "code",
   "execution_count": 83,
   "id": "859e30e7-c38a-4bd7-84f5-c848ce0a1929",
   "metadata": {},
   "outputs": [
    {
     "data": {
      "text/html": [
       "<table class=\"simpletable\">\n",
       "<caption>TradedFactorModel Estimation Summary</caption>\n",
       "<tr>\n",
       "  <th>No. Test Portfolios:</th>        <td>25</td>        <th>  R-squared:         </th>  <td>0.9174</td> \n",
       "</tr>\n",
       "<tr>\n",
       "  <th>No. Factors:</th>                 <td>5</td>        <th>  J-statistic:       </th>  <td>83.636</td> \n",
       "</tr>\n",
       "<tr>\n",
       "  <th>No. Observations:</th>           <td>595</td>       <th>  P-value            </th>  <td>0.0000</td> \n",
       "</tr>\n",
       "<tr>\n",
       "  <th>Date:</th>                <td>Sat, Mar 18 2023</td> <th>  Distribution:      </th> <td>chi2(25)</td>\n",
       "</tr>\n",
       "<tr>\n",
       "  <th>Time:</th>                    <td>17:53:21</td>     <th>                     </th>     <td></td>    \n",
       "</tr>\n",
       "<tr>\n",
       "  <th>Cov. Estimator:</th>           <td>kernel</td>      <th>                     </th>     <td></td>    \n",
       "</tr>\n",
       "<tr>\n",
       "  <th></th>                             <td></td>         <th>                     </th>     <td></td>    \n",
       "</tr>\n",
       "</table>\n",
       "<table class=\"simpletable\">\n",
       "<caption>Risk Premia Estimates</caption>\n",
       "<tr>\n",
       "     <td></td>    <th>Parameter</th> <th>Std. Err.</th> <th>T-stat</th>  <th>P-value</th>  <th>Lower CI</th>   <th>Upper CI</th> \n",
       "</tr>\n",
       "<tr>\n",
       "  <th>Mkt-RF</th>  <td>0.0061</td>    <td>0.0019</td>   <td>3.1229</td>  <td>0.0018</td>    <td>0.0023</td>     <td>0.0099</td>  \n",
       "</tr>\n",
       "<tr>\n",
       "  <th>SMB</th>     <td>0.0022</td>    <td>0.0012</td>   <td>1.7837</td>  <td>0.0745</td>    <td>-0.0002</td>    <td>0.0046</td>  \n",
       "</tr>\n",
       "<tr>\n",
       "  <th>HML</th>     <td>0.0030</td>    <td>0.0016</td>   <td>1.9047</td>  <td>0.0568</td>  <td>-8.807e-05</td>   <td>0.0062</td>  \n",
       "</tr>\n",
       "<tr>\n",
       "  <th>gdp_0</th>   <td>0.0002</td>    <td>0.0001</td>   <td>1.3668</td>  <td>0.1717</td>  <td>-6.779e-05</td>   <td>0.0004</td>  \n",
       "</tr>\n",
       "<tr>\n",
       "  <th>cpi_0</th>   <td>-0.0001</td>  <td>3.598e-05</td> <td>-2.9089</td> <td>0.0036</td>    <td>-0.0002</td>  <td>-3.415e-05</td>\n",
       "</tr>\n",
       "</table><br/><br/>Covariance estimator:<br/>KernelCovariance, Kernel: bartlett, Bandwidth: 9<br/>See full_summary for complete results<br/>id: 0x2ad5f5569d0"
      ],
      "text/plain": [
       "                      TradedFactorModel Estimation Summary                      \n",
       "================================================================================\n",
       "No. Test Portfolios:                 25   R-squared:                      0.9174\n",
       "No. Factors:                          5   J-statistic:                    83.636\n",
       "No. Observations:                   595   P-value                         0.0000\n",
       "Date:                  Sat, Mar 18 2023   Distribution:                 chi2(25)\n",
       "Time:                          17:53:21                                         \n",
       "Cov. Estimator:                  kernel                                         \n",
       "                                                                                \n",
       "                            Risk Premia Estimates                             \n",
       "==============================================================================\n",
       "            Parameter  Std. Err.     T-stat    P-value    Lower CI    Upper CI\n",
       "------------------------------------------------------------------------------\n",
       "Mkt-RF         0.0061     0.0019     3.1229     0.0018      0.0023      0.0099\n",
       "SMB            0.0022     0.0012     1.7837     0.0745     -0.0002      0.0046\n",
       "HML            0.0030     0.0016     1.9047     0.0568  -8.807e-05      0.0062\n",
       "gdp_0          0.0002     0.0001     1.3668     0.1717  -6.779e-05      0.0004\n",
       "cpi_0         -0.0001  3.598e-05    -2.9089     0.0036     -0.0002  -3.415e-05\n",
       "==============================================================================\n",
       "\n",
       "Covariance estimator:\n",
       "KernelCovariance, Kernel: bartlett, Bandwidth: 9\n",
       "See full_summary for complete results\n",
       "LinearFactorModelResults, id: 0x2ad5f5569d0"
      ]
     },
     "execution_count": 83,
     "metadata": {},
     "output_type": "execute_result"
    }
   ],
   "source": [
    "size_book_models_mom['ff3+macro']"
   ]
  },
  {
   "cell_type": "markdown",
   "id": "754d77cc-8be0-4818-b93f-4aeb5cda1d46",
   "metadata": {},
   "source": [
    "Macro factors do not subsume SMB and HML; GDP remains insignificant while CPI is still highly significant."
   ]
  },
  {
   "cell_type": "markdown",
   "id": "30d99668-7b38-482a-9d52-85f3c1fce1f5",
   "metadata": {
    "jp-MarkdownHeadingCollapsed": true,
    "tags": []
   },
   "source": [
    "###### YoY Model"
   ]
  },
  {
   "cell_type": "code",
   "execution_count": 93,
   "id": "cc9de01f-e41d-42f3-a696-b9c31c83dffb",
   "metadata": {},
   "outputs": [
    {
     "data": {
      "text/html": [
       "<table class=\"simpletable\">\n",
       "<caption>TradedFactorModel Estimation Summary</caption>\n",
       "<tr>\n",
       "  <th>No. Test Portfolios:</th>        <td>25</td>        <th>  R-squared:         </th>  <td>0.7263</td> \n",
       "</tr>\n",
       "<tr>\n",
       "  <th>No. Factors:</th>                 <td>3</td>        <th>  J-statistic:       </th>  <td>87.233</td> \n",
       "</tr>\n",
       "<tr>\n",
       "  <th>No. Observations:</th>           <td>595</td>       <th>  P-value            </th>  <td>0.0000</td> \n",
       "</tr>\n",
       "<tr>\n",
       "  <th>Date:</th>                <td>Sat, Mar 18 2023</td> <th>  Distribution:      </th> <td>chi2(25)</td>\n",
       "</tr>\n",
       "<tr>\n",
       "  <th>Time:</th>                    <td>17:53:21</td>     <th>                     </th>     <td></td>    \n",
       "</tr>\n",
       "<tr>\n",
       "  <th>Cov. Estimator:</th>           <td>kernel</td>      <th>                     </th>     <td></td>    \n",
       "</tr>\n",
       "<tr>\n",
       "  <th></th>                             <td></td>         <th>                     </th>     <td></td>    \n",
       "</tr>\n",
       "</table>\n",
       "<table class=\"simpletable\">\n",
       "<caption>Risk Premia Estimates</caption>\n",
       "<tr>\n",
       "     <td></td>    <th>Parameter</th> <th>Std. Err.</th> <th>T-stat</th>  <th>P-value</th> <th>Lower CI</th>   <th>Upper CI</th> \n",
       "</tr>\n",
       "<tr>\n",
       "  <th>gdp_1</th>   <td>0.0004</td>    <td>0.0002</td>   <td>1.9826</td>  <td>0.0474</td>  <td>4.684e-06</td>   <td>0.0008</td>  \n",
       "</tr>\n",
       "<tr>\n",
       "  <th>cpi_1</th>   <td>-0.0005</td>   <td>0.0002</td>   <td>-2.4412</td> <td>0.0146</td>   <td>-0.0009</td>  <td>-9.523e-05</td>\n",
       "</tr>\n",
       "<tr>\n",
       "  <th>Mkt-RF</th>  <td>0.0061</td>    <td>0.0019</td>   <td>3.1261</td>  <td>0.0018</td>   <td>0.0023</td>     <td>0.0099</td>  \n",
       "</tr>\n",
       "</table><br/><br/>Covariance estimator:<br/>KernelCovariance, Kernel: bartlett, Bandwidth: 7<br/>See full_summary for complete results<br/>id: 0x2ad5f5fb760"
      ],
      "text/plain": [
       "                      TradedFactorModel Estimation Summary                      \n",
       "================================================================================\n",
       "No. Test Portfolios:                 25   R-squared:                      0.7263\n",
       "No. Factors:                          3   J-statistic:                    87.233\n",
       "No. Observations:                   595   P-value                         0.0000\n",
       "Date:                  Sat, Mar 18 2023   Distribution:                 chi2(25)\n",
       "Time:                          17:53:21                                         \n",
       "Cov. Estimator:                  kernel                                         \n",
       "                                                                                \n",
       "                            Risk Premia Estimates                             \n",
       "==============================================================================\n",
       "            Parameter  Std. Err.     T-stat    P-value    Lower CI    Upper CI\n",
       "------------------------------------------------------------------------------\n",
       "gdp_1          0.0004     0.0002     1.9826     0.0474   4.684e-06      0.0008\n",
       "cpi_1         -0.0005     0.0002    -2.4412     0.0146     -0.0009  -9.523e-05\n",
       "Mkt-RF         0.0061     0.0019     3.1261     0.0018      0.0023      0.0099\n",
       "==============================================================================\n",
       "\n",
       "Covariance estimator:\n",
       "KernelCovariance, Kernel: bartlett, Bandwidth: 7\n",
       "See full_summary for complete results\n",
       "LinearFactorModelResults, id: 0x2ad5f5fb760"
      ]
     },
     "execution_count": 93,
     "metadata": {},
     "output_type": "execute_result"
    }
   ],
   "source": [
    "size_book_models_yoy['macro+mkt']"
   ]
  },
  {
   "cell_type": "code",
   "execution_count": 94,
   "id": "f6bd5a14-3247-4595-bfb4-e1260c1cfdc0",
   "metadata": {},
   "outputs": [
    {
     "data": {
      "text/html": [
       "<table class=\"simpletable\">\n",
       "<caption>TradedFactorModel Estimation Summary</caption>\n",
       "<tr>\n",
       "  <th>No. Test Portfolios:</th>        <td>25</td>        <th>  R-squared:         </th>  <td>0.7263</td> \n",
       "</tr>\n",
       "<tr>\n",
       "  <th>No. Factors:</th>                 <td>3</td>        <th>  J-statistic:       </th>  <td>87.233</td> \n",
       "</tr>\n",
       "<tr>\n",
       "  <th>No. Observations:</th>           <td>595</td>       <th>  P-value            </th>  <td>0.0000</td> \n",
       "</tr>\n",
       "<tr>\n",
       "  <th>Date:</th>                <td>Sat, Mar 18 2023</td> <th>  Distribution:      </th> <td>chi2(25)</td>\n",
       "</tr>\n",
       "<tr>\n",
       "  <th>Time:</th>                    <td>17:53:21</td>     <th>                     </th>     <td></td>    \n",
       "</tr>\n",
       "<tr>\n",
       "  <th>Cov. Estimator:</th>           <td>kernel</td>      <th>                     </th>     <td></td>    \n",
       "</tr>\n",
       "<tr>\n",
       "  <th></th>                             <td></td>         <th>                     </th>     <td></td>    \n",
       "</tr>\n",
       "</table>\n",
       "<table class=\"simpletable\">\n",
       "<caption>Risk Premia Estimates</caption>\n",
       "<tr>\n",
       "     <td></td>    <th>Parameter</th> <th>Std. Err.</th> <th>T-stat</th>  <th>P-value</th> <th>Lower CI</th>   <th>Upper CI</th> \n",
       "</tr>\n",
       "<tr>\n",
       "  <th>gdp_1</th>   <td>0.0004</td>    <td>0.0002</td>   <td>1.9826</td>  <td>0.0474</td>  <td>4.684e-06</td>   <td>0.0008</td>  \n",
       "</tr>\n",
       "<tr>\n",
       "  <th>cpi_1</th>   <td>-0.0005</td>   <td>0.0002</td>   <td>-2.4412</td> <td>0.0146</td>   <td>-0.0009</td>  <td>-9.523e-05</td>\n",
       "</tr>\n",
       "<tr>\n",
       "  <th>Mkt-RF</th>  <td>0.0061</td>    <td>0.0019</td>   <td>3.1261</td>  <td>0.0018</td>   <td>0.0023</td>     <td>0.0099</td>  \n",
       "</tr>\n",
       "</table><br/><br/>Covariance estimator:<br/>KernelCovariance, Kernel: bartlett, Bandwidth: 7<br/>See full_summary for complete results<br/>id: 0x2ad5f5fb760"
      ],
      "text/plain": [
       "                      TradedFactorModel Estimation Summary                      \n",
       "================================================================================\n",
       "No. Test Portfolios:                 25   R-squared:                      0.7263\n",
       "No. Factors:                          3   J-statistic:                    87.233\n",
       "No. Observations:                   595   P-value                         0.0000\n",
       "Date:                  Sat, Mar 18 2023   Distribution:                 chi2(25)\n",
       "Time:                          17:53:21                                         \n",
       "Cov. Estimator:                  kernel                                         \n",
       "                                                                                \n",
       "                            Risk Premia Estimates                             \n",
       "==============================================================================\n",
       "            Parameter  Std. Err.     T-stat    P-value    Lower CI    Upper CI\n",
       "------------------------------------------------------------------------------\n",
       "gdp_1          0.0004     0.0002     1.9826     0.0474   4.684e-06      0.0008\n",
       "cpi_1         -0.0005     0.0002    -2.4412     0.0146     -0.0009  -9.523e-05\n",
       "Mkt-RF         0.0061     0.0019     3.1261     0.0018      0.0023      0.0099\n",
       "==============================================================================\n",
       "\n",
       "Covariance estimator:\n",
       "KernelCovariance, Kernel: bartlett, Bandwidth: 7\n",
       "See full_summary for complete results\n",
       "LinearFactorModelResults, id: 0x2ad5f5fb760"
      ]
     },
     "execution_count": 94,
     "metadata": {},
     "output_type": "execute_result"
    }
   ],
   "source": [
    "size_book_models_yoy['macro+mkt']"
   ]
  },
  {
   "cell_type": "code",
   "execution_count": 100,
   "id": "883f0eae-4b56-491e-94d7-b411ff1ce108",
   "metadata": {},
   "outputs": [
    {
     "data": {
      "text/html": [
       "<table class=\"simpletable\">\n",
       "<caption>TradedFactorModel Estimation Summary</caption>\n",
       "<tr>\n",
       "  <th>No. Test Portfolios:</th>        <td>25</td>        <th>  R-squared:         </th>  <td>0.9175</td> \n",
       "</tr>\n",
       "<tr>\n",
       "  <th>No. Factors:</th>                 <td>5</td>        <th>  J-statistic:       </th>  <td>82.995</td> \n",
       "</tr>\n",
       "<tr>\n",
       "  <th>No. Observations:</th>           <td>595</td>       <th>  P-value            </th>  <td>0.0000</td> \n",
       "</tr>\n",
       "<tr>\n",
       "  <th>Date:</th>                <td>Sat, Mar 18 2023</td> <th>  Distribution:      </th> <td>chi2(25)</td>\n",
       "</tr>\n",
       "<tr>\n",
       "  <th>Time:</th>                    <td>17:53:21</td>     <th>                     </th>     <td></td>    \n",
       "</tr>\n",
       "<tr>\n",
       "  <th>Cov. Estimator:</th>           <td>kernel</td>      <th>                     </th>     <td></td>    \n",
       "</tr>\n",
       "<tr>\n",
       "  <th></th>                             <td></td>         <th>                     </th>     <td></td>    \n",
       "</tr>\n",
       "</table>\n",
       "<table class=\"simpletable\">\n",
       "<caption>Risk Premia Estimates</caption>\n",
       "<tr>\n",
       "     <td></td>    <th>Parameter</th> <th>Std. Err.</th> <th>T-stat</th>  <th>P-value</th> <th>Lower CI</th>   <th>Upper CI</th> \n",
       "</tr>\n",
       "<tr>\n",
       "  <th>Mkt-RF</th>  <td>0.0061</td>    <td>0.0019</td>   <td>3.1184</td>  <td>0.0018</td>   <td>0.0023</td>     <td>0.0099</td>  \n",
       "</tr>\n",
       "<tr>\n",
       "  <th>SMB</th>     <td>0.0022</td>    <td>0.0012</td>   <td>1.7794</td>  <td>0.0752</td>   <td>-0.0002</td>    <td>0.0046</td>  \n",
       "</tr>\n",
       "<tr>\n",
       "  <th>HML</th>     <td>0.0030</td>    <td>0.0016</td>   <td>1.8917</td>  <td>0.0585</td>   <td>-0.0001</td>    <td>0.0062</td>  \n",
       "</tr>\n",
       "<tr>\n",
       "  <th>gdp_1</th>   <td>0.0004</td>    <td>0.0002</td>   <td>2.0255</td>  <td>0.0428</td>  <td>1.326e-05</td>   <td>0.0008</td>  \n",
       "</tr>\n",
       "<tr>\n",
       "  <th>cpi_1</th>   <td>-0.0005</td>   <td>0.0002</td>   <td>-2.3973</td> <td>0.0165</td>   <td>-0.0009</td>  <td>-8.813e-05</td>\n",
       "</tr>\n",
       "</table><br/><br/>Covariance estimator:<br/>KernelCovariance, Kernel: bartlett, Bandwidth: 10<br/>See full_summary for complete results<br/>id: 0x2ad5f64ba60"
      ],
      "text/plain": [
       "                      TradedFactorModel Estimation Summary                      \n",
       "================================================================================\n",
       "No. Test Portfolios:                 25   R-squared:                      0.9175\n",
       "No. Factors:                          5   J-statistic:                    82.995\n",
       "No. Observations:                   595   P-value                         0.0000\n",
       "Date:                  Sat, Mar 18 2023   Distribution:                 chi2(25)\n",
       "Time:                          17:53:21                                         \n",
       "Cov. Estimator:                  kernel                                         \n",
       "                                                                                \n",
       "                            Risk Premia Estimates                             \n",
       "==============================================================================\n",
       "            Parameter  Std. Err.     T-stat    P-value    Lower CI    Upper CI\n",
       "------------------------------------------------------------------------------\n",
       "Mkt-RF         0.0061     0.0019     3.1184     0.0018      0.0023      0.0099\n",
       "SMB            0.0022     0.0012     1.7794     0.0752     -0.0002      0.0046\n",
       "HML            0.0030     0.0016     1.8917     0.0585     -0.0001      0.0062\n",
       "gdp_1          0.0004     0.0002     2.0255     0.0428   1.326e-05      0.0008\n",
       "cpi_1         -0.0005     0.0002    -2.3973     0.0165     -0.0009  -8.813e-05\n",
       "==============================================================================\n",
       "\n",
       "Covariance estimator:\n",
       "KernelCovariance, Kernel: bartlett, Bandwidth: 10\n",
       "See full_summary for complete results\n",
       "LinearFactorModelResults, id: 0x2ad5f64ba60"
      ]
     },
     "execution_count": 100,
     "metadata": {},
     "output_type": "execute_result"
    }
   ],
   "source": [
    "size_book_models_yoy['ff3+macro']"
   ]
  },
  {
   "cell_type": "code",
   "execution_count": null,
   "id": "e5144f77-7f7b-4426-981a-65e10b830526",
   "metadata": {},
   "outputs": [],
   "source": []
  },
  {
   "cell_type": "markdown",
   "id": "b50438ee-00c0-4739-8aec-56410e5c1483",
   "metadata": {
    "tags": []
   },
   "source": [
    "#### Quarterly"
   ]
  },
  {
   "cell_type": "markdown",
   "id": "87b9e333-48fe-49c3-a698-be78bc4b2976",
   "metadata": {
    "tags": []
   },
   "source": [
    "##### Test Assets: 25 Size-Book Value Sorted Portfolios"
   ]
  },
  {
   "cell_type": "code",
   "execution_count": 72,
   "id": "1a506058-4c6b-458b-aace-f6cc915ceadc",
   "metadata": {},
   "outputs": [],
   "source": [
    "size_book_models_mom = factor_models(size_book_assets_m, factors_m[['gdp_0', 'cpi_0', 'Mkt-RF']])\n",
    "size_book_models_yoy = factor_models(size_book_assets_m, factors_m[['gdp_1', 'cpi_1', 'Mkt-RF']])"
   ]
  },
  {
   "cell_type": "code",
   "execution_count": 76,
   "id": "3dae0ebb-6124-4d97-9c0c-64b73f251a1d",
   "metadata": {},
   "outputs": [],
   "source": [
    "# dir(size_book_models_mom['macro+mkt'])\n",
    "# size_book_models_mom['macro+mkt'].full_summary\n",
    "# size_book_models_mom['macro+mkt'].betas\n",
    "# size_book_models_mom['macro+mkt'].alphas"
   ]
  },
  {
   "cell_type": "markdown",
   "id": "b7fca99d-8d8b-4aab-949f-8a8452b7a2ab",
   "metadata": {
    "jp-MarkdownHeadingCollapsed": true,
    "tags": []
   },
   "source": [
    "###### QoQ Model"
   ]
  },
  {
   "cell_type": "code",
   "execution_count": 74,
   "id": "f460dc11-6544-4c24-9979-e6c5a4920a6b",
   "metadata": {},
   "outputs": [
    {
     "data": {
      "text/html": [
       "<table class=\"simpletable\">\n",
       "<caption>TradedFactorModel Estimation Summary</caption>\n",
       "<tr>\n",
       "  <th>No. Test Portfolios:</th>        <td>25</td>        <th>  R-squared:         </th>  <td>0.7276</td> \n",
       "</tr>\n",
       "<tr>\n",
       "  <th>No. Factors:</th>                 <td>3</td>        <th>  J-statistic:       </th>  <td>89.046</td> \n",
       "</tr>\n",
       "<tr>\n",
       "  <th>No. Observations:</th>           <td>595</td>       <th>  P-value            </th>  <td>0.0000</td> \n",
       "</tr>\n",
       "<tr>\n",
       "  <th>Date:</th>                <td>Sat, Mar 18 2023</td> <th>  Distribution:      </th> <td>chi2(25)</td>\n",
       "</tr>\n",
       "<tr>\n",
       "  <th>Time:</th>                    <td>17:53:21</td>     <th>                     </th>     <td></td>    \n",
       "</tr>\n",
       "<tr>\n",
       "  <th>Cov. Estimator:</th>           <td>kernel</td>      <th>                     </th>     <td></td>    \n",
       "</tr>\n",
       "<tr>\n",
       "  <th></th>                             <td></td>         <th>                     </th>     <td></td>    \n",
       "</tr>\n",
       "</table>\n",
       "<table class=\"simpletable\">\n",
       "<caption>Risk Premia Estimates</caption>\n",
       "<tr>\n",
       "     <td></td>    <th>Parameter</th> <th>Std. Err.</th> <th>T-stat</th>  <th>P-value</th>  <th>Lower CI</th>   <th>Upper CI</th> \n",
       "</tr>\n",
       "<tr>\n",
       "  <th>gdp_0</th>   <td>0.0002</td>    <td>0.0001</td>   <td>1.4004</td>  <td>0.1614</td>  <td>-6.241e-05</td>   <td>0.0004</td>  \n",
       "</tr>\n",
       "<tr>\n",
       "  <th>cpi_0</th>   <td>-0.0001</td>  <td>3.603e-05</td> <td>-2.9049</td> <td>0.0037</td>    <td>-0.0002</td>  <td>-3.405e-05</td>\n",
       "</tr>\n",
       "<tr>\n",
       "  <th>Mkt-RF</th>  <td>0.0061</td>    <td>0.0020</td>   <td>3.1136</td>  <td>0.0018</td>    <td>0.0023</td>     <td>0.0099</td>  \n",
       "</tr>\n",
       "</table><br/><br/>Covariance estimator:<br/>KernelCovariance, Kernel: bartlett, Bandwidth: 12<br/>See full_summary for complete results<br/>id: 0x2ad5f50c6d0"
      ],
      "text/plain": [
       "                      TradedFactorModel Estimation Summary                      \n",
       "================================================================================\n",
       "No. Test Portfolios:                 25   R-squared:                      0.7276\n",
       "No. Factors:                          3   J-statistic:                    89.046\n",
       "No. Observations:                   595   P-value                         0.0000\n",
       "Date:                  Sat, Mar 18 2023   Distribution:                 chi2(25)\n",
       "Time:                          17:53:21                                         \n",
       "Cov. Estimator:                  kernel                                         \n",
       "                                                                                \n",
       "                            Risk Premia Estimates                             \n",
       "==============================================================================\n",
       "            Parameter  Std. Err.     T-stat    P-value    Lower CI    Upper CI\n",
       "------------------------------------------------------------------------------\n",
       "gdp_0          0.0002     0.0001     1.4004     0.1614  -6.241e-05      0.0004\n",
       "cpi_0         -0.0001  3.603e-05    -2.9049     0.0037     -0.0002  -3.405e-05\n",
       "Mkt-RF         0.0061     0.0020     3.1136     0.0018      0.0023      0.0099\n",
       "==============================================================================\n",
       "\n",
       "Covariance estimator:\n",
       "KernelCovariance, Kernel: bartlett, Bandwidth: 12\n",
       "See full_summary for complete results\n",
       "LinearFactorModelResults, id: 0x2ad5f50c6d0"
      ]
     },
     "execution_count": 74,
     "metadata": {},
     "output_type": "execute_result"
    }
   ],
   "source": [
    "size_book_models_mom['macro+mkt']"
   ]
  },
  {
   "cell_type": "markdown",
   "id": "e83dd292-7f75-46c3-abad-57584c64a0fa",
   "metadata": {},
   "source": [
    "GDP's risk premia becomes insignificant (not a surprise from the factor creation stage).\n",
    "\n",
    "CPI's premia is highly significant, negative and very small."
   ]
  },
  {
   "cell_type": "code",
   "execution_count": 75,
   "id": "3a27cd8f-5ac9-4aa9-b3b1-5b37159f473c",
   "metadata": {},
   "outputs": [
    {
     "data": {
      "text/plain": [
       "J-statistic\n",
       "H0: All alphas are 0\n",
       "Statistic: 89.0458\n",
       "P-value: 0.0000\n",
       "Distributed: chi2(25)\n",
       "WaldTestStatistic, id: 0x2ad5f4aed00"
      ]
     },
     "execution_count": 75,
     "metadata": {},
     "output_type": "execute_result"
    }
   ],
   "source": [
    "size_book_models_mom['macro+mkt']._jstat"
   ]
  },
  {
   "cell_type": "code",
   "execution_count": 77,
   "id": "e59676ca-6713-41aa-b308-0d5d6a0a568b",
   "metadata": {},
   "outputs": [
    {
     "data": {
      "text/plain": [
       "SMALL LoBM   -0.070035\n",
       "ME2 BM1      -0.026450\n",
       "ME3 BM1      -0.022094\n",
       "BIG LoBM     -0.002565\n",
       "ME4 BM1       0.000389\n",
       "ME5 BM4       0.002473\n",
       "ME5 BM2       0.011611\n",
       "ME1 BM2       0.012548\n",
       "ME4 BM2       0.012643\n",
       "ME1 BM3       0.015558\n",
       "ME5 BM3       0.015651\n",
       "ME2 BM2       0.015721\n",
       "BIG HiBM      0.017111\n",
       "ME4 BM3       0.018343\n",
       "ME3 BM3       0.019770\n",
       "ME3 BM2       0.023827\n",
       "ME2 BM3       0.024028\n",
       "ME4 BM4       0.024414\n",
       "ME3 BM4       0.032213\n",
       "ME4 BM5       0.033756\n",
       "ME2 BM4       0.036667\n",
       "ME2 BM5       0.039072\n",
       "ME1 BM4       0.044953\n",
       "ME3 BM5       0.049590\n",
       "SMALL HiBM    0.053801\n",
       "Name: alpha, dtype: float64"
      ]
     },
     "execution_count": 77,
     "metadata": {},
     "output_type": "execute_result"
    }
   ],
   "source": [
    "12*size_book_models_mom['macro+mkt'].alphas.sort_values()"
   ]
  },
  {
   "cell_type": "markdown",
   "id": "4a610cef-7254-4c48-8993-6886da5f0426",
   "metadata": {},
   "source": [
    "Reject null that alphas are 0 for the Macro + Mkt Model; the model does not price the portfolios.\n",
    "\n",
    "The J-statistic itself is the lowest amoung all the models (even FF5+Momentum+Macro). The biggest pricing errors are in the more extreme portfolios (particularly the \"SMALL\" portfolios)."
   ]
  },
  {
   "cell_type": "code",
   "execution_count": 80,
   "id": "ea34212c-4990-4508-999e-34e85ba2eacd",
   "metadata": {},
   "outputs": [
    {
     "data": {
      "text/plain": [
       "J-statistic\n",
       "H0: All alphas are 0\n",
       "Statistic: 91.4080\n",
       "P-value: 0.0000\n",
       "Distributed: chi2(25)\n",
       "WaldTestStatistic, id: 0x2ad5f556880"
      ]
     },
     "execution_count": 80,
     "metadata": {},
     "output_type": "execute_result"
    }
   ],
   "source": [
    "size_book_models_mom['ff5+mom']._jstat"
   ]
  },
  {
   "cell_type": "code",
   "execution_count": 82,
   "id": "dfdef1f5-d684-4c77-b6f9-85abc921b1b7",
   "metadata": {},
   "outputs": [
    {
     "data": {
      "text/plain": [
       "J-statistic\n",
       "H0: All alphas are 0\n",
       "Statistic: 80.5827\n",
       "P-value: 0.0000\n",
       "Distributed: chi2(25)\n",
       "WaldTestStatistic, id: 0x2ad5f57d340"
      ]
     },
     "execution_count": 82,
     "metadata": {},
     "output_type": "execute_result"
    }
   ],
   "source": [
    "size_book_models_mom['ff5+macro']._jstat"
   ]
  },
  {
   "cell_type": "markdown",
   "id": "6d5cce52-d789-413b-9cd8-efb4c70ce6c7",
   "metadata": {},
   "source": [
    "Adding macro to FF5 + Momentum enhances pricing (marginally)."
   ]
  },
  {
   "cell_type": "code",
   "execution_count": 83,
   "id": "68318d4b-04d2-45c9-9f67-79b170aba0ab",
   "metadata": {},
   "outputs": [
    {
     "data": {
      "text/html": [
       "<table class=\"simpletable\">\n",
       "<caption>TradedFactorModel Estimation Summary</caption>\n",
       "<tr>\n",
       "  <th>No. Test Portfolios:</th>        <td>25</td>        <th>  R-squared:         </th>  <td>0.9174</td> \n",
       "</tr>\n",
       "<tr>\n",
       "  <th>No. Factors:</th>                 <td>5</td>        <th>  J-statistic:       </th>  <td>83.636</td> \n",
       "</tr>\n",
       "<tr>\n",
       "  <th>No. Observations:</th>           <td>595</td>       <th>  P-value            </th>  <td>0.0000</td> \n",
       "</tr>\n",
       "<tr>\n",
       "  <th>Date:</th>                <td>Sat, Mar 18 2023</td> <th>  Distribution:      </th> <td>chi2(25)</td>\n",
       "</tr>\n",
       "<tr>\n",
       "  <th>Time:</th>                    <td>17:53:21</td>     <th>                     </th>     <td></td>    \n",
       "</tr>\n",
       "<tr>\n",
       "  <th>Cov. Estimator:</th>           <td>kernel</td>      <th>                     </th>     <td></td>    \n",
       "</tr>\n",
       "<tr>\n",
       "  <th></th>                             <td></td>         <th>                     </th>     <td></td>    \n",
       "</tr>\n",
       "</table>\n",
       "<table class=\"simpletable\">\n",
       "<caption>Risk Premia Estimates</caption>\n",
       "<tr>\n",
       "     <td></td>    <th>Parameter</th> <th>Std. Err.</th> <th>T-stat</th>  <th>P-value</th>  <th>Lower CI</th>   <th>Upper CI</th> \n",
       "</tr>\n",
       "<tr>\n",
       "  <th>Mkt-RF</th>  <td>0.0061</td>    <td>0.0019</td>   <td>3.1229</td>  <td>0.0018</td>    <td>0.0023</td>     <td>0.0099</td>  \n",
       "</tr>\n",
       "<tr>\n",
       "  <th>SMB</th>     <td>0.0022</td>    <td>0.0012</td>   <td>1.7837</td>  <td>0.0745</td>    <td>-0.0002</td>    <td>0.0046</td>  \n",
       "</tr>\n",
       "<tr>\n",
       "  <th>HML</th>     <td>0.0030</td>    <td>0.0016</td>   <td>1.9047</td>  <td>0.0568</td>  <td>-8.807e-05</td>   <td>0.0062</td>  \n",
       "</tr>\n",
       "<tr>\n",
       "  <th>gdp_0</th>   <td>0.0002</td>    <td>0.0001</td>   <td>1.3668</td>  <td>0.1717</td>  <td>-6.779e-05</td>   <td>0.0004</td>  \n",
       "</tr>\n",
       "<tr>\n",
       "  <th>cpi_0</th>   <td>-0.0001</td>  <td>3.598e-05</td> <td>-2.9089</td> <td>0.0036</td>    <td>-0.0002</td>  <td>-3.415e-05</td>\n",
       "</tr>\n",
       "</table><br/><br/>Covariance estimator:<br/>KernelCovariance, Kernel: bartlett, Bandwidth: 9<br/>See full_summary for complete results<br/>id: 0x2ad5f5569d0"
      ],
      "text/plain": [
       "                      TradedFactorModel Estimation Summary                      \n",
       "================================================================================\n",
       "No. Test Portfolios:                 25   R-squared:                      0.9174\n",
       "No. Factors:                          5   J-statistic:                    83.636\n",
       "No. Observations:                   595   P-value                         0.0000\n",
       "Date:                  Sat, Mar 18 2023   Distribution:                 chi2(25)\n",
       "Time:                          17:53:21                                         \n",
       "Cov. Estimator:                  kernel                                         \n",
       "                                                                                \n",
       "                            Risk Premia Estimates                             \n",
       "==============================================================================\n",
       "            Parameter  Std. Err.     T-stat    P-value    Lower CI    Upper CI\n",
       "------------------------------------------------------------------------------\n",
       "Mkt-RF         0.0061     0.0019     3.1229     0.0018      0.0023      0.0099\n",
       "SMB            0.0022     0.0012     1.7837     0.0745     -0.0002      0.0046\n",
       "HML            0.0030     0.0016     1.9047     0.0568  -8.807e-05      0.0062\n",
       "gdp_0          0.0002     0.0001     1.3668     0.1717  -6.779e-05      0.0004\n",
       "cpi_0         -0.0001  3.598e-05    -2.9089     0.0036     -0.0002  -3.415e-05\n",
       "==============================================================================\n",
       "\n",
       "Covariance estimator:\n",
       "KernelCovariance, Kernel: bartlett, Bandwidth: 9\n",
       "See full_summary for complete results\n",
       "LinearFactorModelResults, id: 0x2ad5f5569d0"
      ]
     },
     "execution_count": 83,
     "metadata": {},
     "output_type": "execute_result"
    }
   ],
   "source": [
    "size_book_models_mom['ff3+macro']"
   ]
  },
  {
   "cell_type": "markdown",
   "id": "7009a69b-d7bb-41ee-9c0a-7974b40e14c7",
   "metadata": {},
   "source": [
    "Macro factors do not subsume SMB and HML; GDP remains insignificant while CPI is still highly significant."
   ]
  },
  {
   "cell_type": "markdown",
   "id": "35fd25aa-cf98-4e80-a9ea-31ec4ae4e0b1",
   "metadata": {
    "tags": []
   },
   "source": [
    "###### 4QoQ Model"
   ]
  },
  {
   "cell_type": "markdown",
   "id": "4c080008-85b6-4e94-bc94-05a5e829a736",
   "metadata": {
    "jp-MarkdownHeadingCollapsed": true,
    "tags": []
   },
   "source": [
    "##### Test Assets: 30 Industry Portfolios"
   ]
  },
  {
   "cell_type": "code",
   "execution_count": 90,
   "id": "ae2819fa-7da6-4b29-8dc4-4105c693204d",
   "metadata": {},
   "outputs": [],
   "source": [
    "industry_models_mom = factor_models(industry_assets_m, factors_m[['gdp_0', 'cpi_0', 'Mkt-RF']])\n",
    "industry__models_yoy = factor_models(industry_assets_m, factors_m[['gdp_1', 'cpi_1', 'Mkt-RF']])"
   ]
  },
  {
   "cell_type": "code",
   "execution_count": 91,
   "id": "e3353c90-7450-4f0d-8225-fecb5bd5ec68",
   "metadata": {},
   "outputs": [
    {
     "data": {
      "text/html": [
       "<table class=\"simpletable\">\n",
       "<caption>TradedFactorModel Estimation Summary</caption>\n",
       "<tr>\n",
       "  <th>No. Test Portfolios:</th>        <td>30</td>        <th>  R-squared:         </th>  <td>0.5589</td> \n",
       "</tr>\n",
       "<tr>\n",
       "  <th>No. Factors:</th>                 <td>3</td>        <th>  J-statistic:       </th>  <td>70.963</td> \n",
       "</tr>\n",
       "<tr>\n",
       "  <th>No. Observations:</th>           <td>595</td>       <th>  P-value            </th>  <td>0.0000</td> \n",
       "</tr>\n",
       "<tr>\n",
       "  <th>Date:</th>                <td>Sat, Mar 18 2023</td> <th>  Distribution:      </th> <td>chi2(30)</td>\n",
       "</tr>\n",
       "<tr>\n",
       "  <th>Time:</th>                    <td>18:02:57</td>     <th>                     </th>     <td></td>    \n",
       "</tr>\n",
       "<tr>\n",
       "  <th>Cov. Estimator:</th>           <td>kernel</td>      <th>                     </th>     <td></td>    \n",
       "</tr>\n",
       "<tr>\n",
       "  <th></th>                             <td></td>         <th>                     </th>     <td></td>    \n",
       "</tr>\n",
       "</table>\n",
       "<table class=\"simpletable\">\n",
       "<caption>Risk Premia Estimates</caption>\n",
       "<tr>\n",
       "     <td></td>    <th>Parameter</th> <th>Std. Err.</th> <th>T-stat</th>  <th>P-value</th>  <th>Lower CI</th>   <th>Upper CI</th> \n",
       "</tr>\n",
       "<tr>\n",
       "  <th>gdp_0</th>   <td>0.0002</td>    <td>0.0001</td>   <td>1.3788</td>  <td>0.1680</td>  <td>-6.584e-05</td>   <td>0.0004</td>  \n",
       "</tr>\n",
       "<tr>\n",
       "  <th>cpi_0</th>   <td>-0.0001</td>  <td>3.584e-05</td> <td>-2.9205</td> <td>0.0035</td>    <td>-0.0002</td>  <td>-3.443e-05</td>\n",
       "</tr>\n",
       "<tr>\n",
       "  <th>Mkt-RF</th>  <td>0.0061</td>    <td>0.0019</td>   <td>3.1184</td>  <td>0.0018</td>    <td>0.0023</td>     <td>0.0099</td>  \n",
       "</tr>\n",
       "</table><br/><br/>Covariance estimator:<br/>KernelCovariance, Kernel: bartlett, Bandwidth: 10<br/>See full_summary for complete results<br/>id: 0x2ad5e7b5580"
      ],
      "text/plain": [
       "                      TradedFactorModel Estimation Summary                      \n",
       "================================================================================\n",
       "No. Test Portfolios:                 30   R-squared:                      0.5589\n",
       "No. Factors:                          3   J-statistic:                    70.963\n",
       "No. Observations:                   595   P-value                         0.0000\n",
       "Date:                  Sat, Mar 18 2023   Distribution:                 chi2(30)\n",
       "Time:                          18:02:57                                         \n",
       "Cov. Estimator:                  kernel                                         \n",
       "                                                                                \n",
       "                            Risk Premia Estimates                             \n",
       "==============================================================================\n",
       "            Parameter  Std. Err.     T-stat    P-value    Lower CI    Upper CI\n",
       "------------------------------------------------------------------------------\n",
       "gdp_0          0.0002     0.0001     1.3788     0.1680  -6.584e-05      0.0004\n",
       "cpi_0         -0.0001  3.584e-05    -2.9205     0.0035     -0.0002  -3.443e-05\n",
       "Mkt-RF         0.0061     0.0019     3.1184     0.0018      0.0023      0.0099\n",
       "==============================================================================\n",
       "\n",
       "Covariance estimator:\n",
       "KernelCovariance, Kernel: bartlett, Bandwidth: 10\n",
       "See full_summary for complete results\n",
       "LinearFactorModelResults, id: 0x2ad5e7b5580"
      ]
     },
     "execution_count": 91,
     "metadata": {},
     "output_type": "execute_result"
    }
   ],
   "source": [
    "industry_models_mom['macro+mkt']"
   ]
  },
  {
   "cell_type": "markdown",
   "id": "de47f570-907f-466f-9b1a-621ece391a5b",
   "metadata": {
    "tags": []
   },
   "source": [
    "### Fama-MacBeth"
   ]
  },
  {
   "cell_type": "code",
   "execution_count": 74,
   "id": "2dae9adf-9fd3-422a-b437-3a955a349438",
   "metadata": {},
   "outputs": [],
   "source": [
    "def fama_macbeth(test_assets, factors):\n",
    "    '''\n",
    "    Function to perform Fama-MacBeth procedure.\n",
    "    '''\n",
    "    from scipy.stats import chi2\n",
    "    \n",
    "    # Time Series Regression\n",
    "    betas = []\n",
    "    \n",
    "    for portfolio in test_assets:\n",
    "        ts = sm.OLS(test_assets.loc[:,portfolio], sm.add_constant(factors)).fit()\n",
    "        betas.append(ts.params[1:])\n",
    "\n",
    "    betas = pd.DataFrame(betas)\n",
    "    betas.index = test_assets.columns\n",
    "    \n",
    "    # Cross Sectional Regressions\n",
    "    T = len(factors)\n",
    "    lambdas = []\n",
    "    alphas = []\n",
    "    \n",
    "    for t in range(T):\n",
    "        cs = sm.OLS(np.array(test_assets)[t].T, betas).fit()\n",
    "        lambdas.append(cs.params)\n",
    "        alphas.append(cs.resid)\n",
    "            \n",
    "    # Risk Premia significance (without controlling for autocorrelation)\n",
    "    lambdas_df = pd.DataFrame(lambdas)\n",
    "    \n",
    "    std_errors = lambdas_df.apply(lambda col: np.sqrt(((col - col.mean())**2).sum() / T**2))\n",
    "    t_stats = lambdas_df.mean() / std_errors\n",
    "    \n",
    "    premia = pd.merge(lambdas_df.mean().rename('Risk Premia'), t_stats.rename('t-stat'), left_index=True, right_index=True)\n",
    "    \n",
    "    # Alpha significance (without controlling for autocorrelation)\n",
    "    alphas_df = pd.DataFrame(alphas)\n",
    "    alpha_hat = alphas_df.mean()\n",
    "\n",
    "    cov_alpha = ((alphas_df - alpha_hat).T @ (alphas_df - alpha_hat)) / len(alphas_df)**2\n",
    "    \n",
    "    alpha_chi = alpha_hat.T @ np.linalg.inv(cov_alpha) @ alpha_hat\n",
    "    alpha_p_val = 1 - chi2.cdf(alpha_chi, df=len(alpha_hat)-len(premia))\n",
    "\n",
    "    alpha_hat_mean = abs(alpha_hat).mean()\n",
    "    alpha = pd.DataFrame({'Test Statistic': alpha_chi, 'p-value':alpha_p_val, 'Mean Absolute alpha':alpha_hat_mean}, index=['H0: alphas=0'])\n",
    "    \n",
    "    return (premia, alpha)"
   ]
  },
  {
   "cell_type": "code",
   "execution_count": 75,
   "id": "c3513858-ecc4-4a0c-b348-49e0b063d90b",
   "metadata": {},
   "outputs": [],
   "source": [
    "def multiple_models(start='1973', end='2022'):\n",
    "    '''\n",
    "    Function to run several pricing models.\n",
    "    Start and end allow for custom dates.\n",
    "    '''\n",
    "    \n",
    "    # Models\n",
    "    macro_model = fama_macbeth(size_book_assets_q.loc[start:end], factors_q[['gdp_4qoq', 'cpi_4qoq', 'Mkt-RF']].loc[start:end])\n",
    "    ff3 = fama_macbeth(size_book_assets_q.loc[start:end], ff3_q.loc[start:end])\n",
    "    ff5_mom = fama_macbeth(size_book_assets_q.loc[start:end], ff5_mom_q.loc[start:end])\n",
    "    \n",
    "    # Output\n",
    "    premia = pd.concat({'Macro Model':macro_model[0],'FF3':ff3[0], 'FF5 + MoM':ff5_mom[0]}) \n",
    "    premia.index.names = [\"Model\", \"Factors\"]\n",
    "    \n",
    "    alpha = pd.concat({'Macro Model':macro_model[1],'FF3':ff3[1], 'FF5 + MoM':ff5_mom[1]}, names=['Model', 'Hypothesis'])\n",
    "    alpha.index = alpha.index.swaplevel(0,1)\n",
    "    \n",
    "    return (premia, alpha)"
   ]
  },
  {
   "cell_type": "code",
   "execution_count": 76,
   "id": "24b9b783-8f68-4d5b-9703-c12119a346d3",
   "metadata": {},
   "outputs": [
    {
     "data": {
      "text/html": [
       "<div>\n",
       "<style scoped>\n",
       "    .dataframe tbody tr th:only-of-type {\n",
       "        vertical-align: middle;\n",
       "    }\n",
       "\n",
       "    .dataframe tbody tr th {\n",
       "        vertical-align: top;\n",
       "    }\n",
       "\n",
       "    .dataframe thead th {\n",
       "        text-align: right;\n",
       "    }\n",
       "</style>\n",
       "<table border=\"1\" class=\"dataframe\">\n",
       "  <thead>\n",
       "    <tr style=\"text-align: right;\">\n",
       "      <th></th>\n",
       "      <th></th>\n",
       "      <th>Risk Premia</th>\n",
       "      <th>t-stat</th>\n",
       "    </tr>\n",
       "    <tr>\n",
       "      <th>Model</th>\n",
       "      <th>Factors</th>\n",
       "      <th></th>\n",
       "      <th></th>\n",
       "    </tr>\n",
       "  </thead>\n",
       "  <tbody>\n",
       "    <tr>\n",
       "      <th rowspan=\"3\" valign=\"top\">Macro Model</th>\n",
       "      <th>gdp_4qoq</th>\n",
       "      <td>0.003206</td>\n",
       "      <td>1.548907</td>\n",
       "    </tr>\n",
       "    <tr>\n",
       "      <th>cpi_4qoq</th>\n",
       "      <td>-0.008500</td>\n",
       "      <td>-2.610649</td>\n",
       "    </tr>\n",
       "    <tr>\n",
       "      <th>Mkt-RF</th>\n",
       "      <td>0.020838</td>\n",
       "      <td>3.137645</td>\n",
       "    </tr>\n",
       "    <tr>\n",
       "      <th rowspan=\"3\" valign=\"top\">FF3</th>\n",
       "      <th>Mkt-RF</th>\n",
       "      <td>0.018907</td>\n",
       "      <td>2.958602</td>\n",
       "    </tr>\n",
       "    <tr>\n",
       "      <th>SMB</th>\n",
       "      <td>0.007564</td>\n",
       "      <td>1.898064</td>\n",
       "    </tr>\n",
       "    <tr>\n",
       "      <th>HML</th>\n",
       "      <td>0.011000</td>\n",
       "      <td>2.347356</td>\n",
       "    </tr>\n",
       "    <tr>\n",
       "      <th rowspan=\"6\" valign=\"top\">FF5 + MoM</th>\n",
       "      <th>Mkt-RF</th>\n",
       "      <td>0.019605</td>\n",
       "      <td>3.077580</td>\n",
       "    </tr>\n",
       "    <tr>\n",
       "      <th>SMB</th>\n",
       "      <td>0.009498</td>\n",
       "      <td>2.410665</td>\n",
       "    </tr>\n",
       "    <tr>\n",
       "      <th>HML</th>\n",
       "      <td>0.010194</td>\n",
       "      <td>2.192431</td>\n",
       "    </tr>\n",
       "    <tr>\n",
       "      <th>RMW</th>\n",
       "      <td>0.012871</td>\n",
       "      <td>2.297801</td>\n",
       "    </tr>\n",
       "    <tr>\n",
       "      <th>CMA</th>\n",
       "      <td>0.000906</td>\n",
       "      <td>0.192922</td>\n",
       "    </tr>\n",
       "    <tr>\n",
       "      <th>Mom</th>\n",
       "      <td>0.030342</td>\n",
       "      <td>2.494422</td>\n",
       "    </tr>\n",
       "  </tbody>\n",
       "</table>\n",
       "</div>"
      ],
      "text/plain": [
       "                      Risk Premia    t-stat\n",
       "Model       Factors                        \n",
       "Macro Model gdp_4qoq     0.003206  1.548907\n",
       "            cpi_4qoq    -0.008500 -2.610649\n",
       "            Mkt-RF       0.020838  3.137645\n",
       "FF3         Mkt-RF       0.018907  2.958602\n",
       "            SMB          0.007564  1.898064\n",
       "            HML          0.011000  2.347356\n",
       "FF5 + MoM   Mkt-RF       0.019605  3.077580\n",
       "            SMB          0.009498  2.410665\n",
       "            HML          0.010194  2.192431\n",
       "            RMW          0.012871  2.297801\n",
       "            CMA          0.000906  0.192922\n",
       "            Mom          0.030342  2.494422"
      ]
     },
     "metadata": {},
     "output_type": "display_data"
    },
    {
     "data": {
      "text/html": [
       "<div>\n",
       "<style scoped>\n",
       "    .dataframe tbody tr th:only-of-type {\n",
       "        vertical-align: middle;\n",
       "    }\n",
       "\n",
       "    .dataframe tbody tr th {\n",
       "        vertical-align: top;\n",
       "    }\n",
       "\n",
       "    .dataframe thead th {\n",
       "        text-align: right;\n",
       "    }\n",
       "</style>\n",
       "<table border=\"1\" class=\"dataframe\">\n",
       "  <thead>\n",
       "    <tr style=\"text-align: right;\">\n",
       "      <th></th>\n",
       "      <th></th>\n",
       "      <th>Test Statistic</th>\n",
       "      <th>p-value</th>\n",
       "      <th>Mean Absolute alpha</th>\n",
       "    </tr>\n",
       "    <tr>\n",
       "      <th>Hypothesis</th>\n",
       "      <th>Model</th>\n",
       "      <th></th>\n",
       "      <th></th>\n",
       "      <th></th>\n",
       "    </tr>\n",
       "  </thead>\n",
       "  <tbody>\n",
       "    <tr>\n",
       "      <th rowspan=\"3\" valign=\"top\">H0: alphas=0</th>\n",
       "      <th>Macro Model</th>\n",
       "      <td>59.828639</td>\n",
       "      <td>0.000024</td>\n",
       "      <td>0.002736</td>\n",
       "    </tr>\n",
       "    <tr>\n",
       "      <th>FF3</th>\n",
       "      <td>204.452267</td>\n",
       "      <td>0.000000</td>\n",
       "      <td>0.002918</td>\n",
       "    </tr>\n",
       "    <tr>\n",
       "      <th>FF5 + MoM</th>\n",
       "      <td>-284.239043</td>\n",
       "      <td>1.000000</td>\n",
       "      <td>0.002057</td>\n",
       "    </tr>\n",
       "  </tbody>\n",
       "</table>\n",
       "</div>"
      ],
      "text/plain": [
       "                          Test Statistic   p-value  Mean Absolute alpha\n",
       "Hypothesis   Model                                                     \n",
       "H0: alphas=0 Macro Model       59.828639  0.000024             0.002736\n",
       "             FF3              204.452267  0.000000             0.002918\n",
       "             FF5 + MoM       -284.239043  1.000000             0.002057"
      ]
     },
     "metadata": {},
     "output_type": "display_data"
    }
   ],
   "source": [
    "# Full-Sample (1973Q3 - 2022Q2)\n",
    "full_sample0 = multiple_models()[0]\n",
    "full_sample1 = multiple_models()[1]\n",
    "\n",
    "display(full_sample0)\n",
    "display(full_sample1)"
   ]
  },
  {
   "cell_type": "code",
   "execution_count": 77,
   "id": "f116d12a-1ff8-4b0c-a6b0-8ad7da1ea63b",
   "metadata": {},
   "outputs": [
    {
     "data": {
      "text/html": [
       "<div>\n",
       "<style scoped>\n",
       "    .dataframe tbody tr th:only-of-type {\n",
       "        vertical-align: middle;\n",
       "    }\n",
       "\n",
       "    .dataframe tbody tr th {\n",
       "        vertical-align: top;\n",
       "    }\n",
       "\n",
       "    .dataframe thead th {\n",
       "        text-align: right;\n",
       "    }\n",
       "</style>\n",
       "<table border=\"1\" class=\"dataframe\">\n",
       "  <thead>\n",
       "    <tr style=\"text-align: right;\">\n",
       "      <th></th>\n",
       "      <th></th>\n",
       "      <th>Risk Premia</th>\n",
       "      <th>t-stat</th>\n",
       "    </tr>\n",
       "    <tr>\n",
       "      <th>Model</th>\n",
       "      <th>Factors</th>\n",
       "      <th></th>\n",
       "      <th></th>\n",
       "    </tr>\n",
       "  </thead>\n",
       "  <tbody>\n",
       "    <tr>\n",
       "      <th rowspan=\"3\" valign=\"top\">Macro Model</th>\n",
       "      <th>gdp_4qoq</th>\n",
       "      <td>0.010423</td>\n",
       "      <td>3.976937</td>\n",
       "    </tr>\n",
       "    <tr>\n",
       "      <th>cpi_4qoq</th>\n",
       "      <td>-0.009193</td>\n",
       "      <td>-3.229644</td>\n",
       "    </tr>\n",
       "    <tr>\n",
       "      <th>Mkt-RF</th>\n",
       "      <td>0.022742</td>\n",
       "      <td>2.593065</td>\n",
       "    </tr>\n",
       "    <tr>\n",
       "      <th rowspan=\"3\" valign=\"top\">FF3</th>\n",
       "      <th>Mkt-RF</th>\n",
       "      <td>0.021559</td>\n",
       "      <td>2.481653</td>\n",
       "    </tr>\n",
       "    <tr>\n",
       "      <th>SMB</th>\n",
       "      <td>0.003977</td>\n",
       "      <td>0.697368</td>\n",
       "    </tr>\n",
       "    <tr>\n",
       "      <th>HML</th>\n",
       "      <td>0.014559</td>\n",
       "      <td>2.578230</td>\n",
       "    </tr>\n",
       "    <tr>\n",
       "      <th rowspan=\"6\" valign=\"top\">FF5 + MoM</th>\n",
       "      <th>Mkt-RF</th>\n",
       "      <td>0.021865</td>\n",
       "      <td>2.526267</td>\n",
       "    </tr>\n",
       "    <tr>\n",
       "      <th>SMB</th>\n",
       "      <td>0.005455</td>\n",
       "      <td>0.959350</td>\n",
       "    </tr>\n",
       "    <tr>\n",
       "      <th>HML</th>\n",
       "      <td>0.013430</td>\n",
       "      <td>2.387979</td>\n",
       "    </tr>\n",
       "    <tr>\n",
       "      <th>RMW</th>\n",
       "      <td>0.011122</td>\n",
       "      <td>2.117136</td>\n",
       "    </tr>\n",
       "    <tr>\n",
       "      <th>CMA</th>\n",
       "      <td>-0.005922</td>\n",
       "      <td>-0.957865</td>\n",
       "    </tr>\n",
       "    <tr>\n",
       "      <th>Mom</th>\n",
       "      <td>-0.017195</td>\n",
       "      <td>-1.589295</td>\n",
       "    </tr>\n",
       "  </tbody>\n",
       "</table>\n",
       "</div>"
      ],
      "text/plain": [
       "                      Risk Premia    t-stat\n",
       "Model       Factors                        \n",
       "Macro Model gdp_4qoq     0.010423  3.976937\n",
       "            cpi_4qoq    -0.009193 -3.229644\n",
       "            Mkt-RF       0.022742  2.593065\n",
       "FF3         Mkt-RF       0.021559  2.481653\n",
       "            SMB          0.003977  0.697368\n",
       "            HML          0.014559  2.578230\n",
       "FF5 + MoM   Mkt-RF       0.021865  2.526267\n",
       "            SMB          0.005455  0.959350\n",
       "            HML          0.013430  2.387979\n",
       "            RMW          0.011122  2.117136\n",
       "            CMA         -0.005922 -0.957865\n",
       "            Mom         -0.017195 -1.589295"
      ]
     },
     "metadata": {},
     "output_type": "display_data"
    },
    {
     "data": {
      "text/html": [
       "<div>\n",
       "<style scoped>\n",
       "    .dataframe tbody tr th:only-of-type {\n",
       "        vertical-align: middle;\n",
       "    }\n",
       "\n",
       "    .dataframe tbody tr th {\n",
       "        vertical-align: top;\n",
       "    }\n",
       "\n",
       "    .dataframe thead th {\n",
       "        text-align: right;\n",
       "    }\n",
       "</style>\n",
       "<table border=\"1\" class=\"dataframe\">\n",
       "  <thead>\n",
       "    <tr style=\"text-align: right;\">\n",
       "      <th></th>\n",
       "      <th></th>\n",
       "      <th>Test Statistic</th>\n",
       "      <th>p-value</th>\n",
       "      <th>Mean Absolute alpha</th>\n",
       "    </tr>\n",
       "    <tr>\n",
       "      <th>Hypothesis</th>\n",
       "      <th>Model</th>\n",
       "      <th></th>\n",
       "      <th></th>\n",
       "      <th></th>\n",
       "    </tr>\n",
       "  </thead>\n",
       "  <tbody>\n",
       "    <tr>\n",
       "      <th rowspan=\"3\" valign=\"top\">H0: alphas=0</th>\n",
       "      <th>Macro Model</th>\n",
       "      <td>173.407904</td>\n",
       "      <td>0.000000</td>\n",
       "      <td>0.003773</td>\n",
       "    </tr>\n",
       "    <tr>\n",
       "      <th>FF3</th>\n",
       "      <td>55.487784</td>\n",
       "      <td>0.000101</td>\n",
       "      <td>0.002219</td>\n",
       "    </tr>\n",
       "    <tr>\n",
       "      <th>FF5 + MoM</th>\n",
       "      <td>49.232997</td>\n",
       "      <td>0.000170</td>\n",
       "      <td>0.001786</td>\n",
       "    </tr>\n",
       "  </tbody>\n",
       "</table>\n",
       "</div>"
      ],
      "text/plain": [
       "                          Test Statistic   p-value  Mean Absolute alpha\n",
       "Hypothesis   Model                                                     \n",
       "H0: alphas=0 Macro Model      173.407904  0.000000             0.003773\n",
       "             FF3               55.487784  0.000101             0.002219\n",
       "             FF5 + MoM         49.232997  0.000170             0.001786"
      ]
     },
     "metadata": {},
     "output_type": "display_data"
    }
   ],
   "source": [
    "# Vassalou Sample ( - 1998Q4)\n",
    "pre0 = multiple_models(end='1998')[0]\n",
    "pre1 = multiple_models(end='1998')[1]\n",
    "\n",
    "display(pre0)\n",
    "display(pre1)"
   ]
  },
  {
   "cell_type": "code",
   "execution_count": 78,
   "id": "958d4446-e3bc-4847-8b21-51912caffbbc",
   "metadata": {},
   "outputs": [
    {
     "data": {
      "text/html": [
       "<div>\n",
       "<style scoped>\n",
       "    .dataframe tbody tr th:only-of-type {\n",
       "        vertical-align: middle;\n",
       "    }\n",
       "\n",
       "    .dataframe tbody tr th {\n",
       "        vertical-align: top;\n",
       "    }\n",
       "\n",
       "    .dataframe thead th {\n",
       "        text-align: right;\n",
       "    }\n",
       "</style>\n",
       "<table border=\"1\" class=\"dataframe\">\n",
       "  <thead>\n",
       "    <tr style=\"text-align: right;\">\n",
       "      <th></th>\n",
       "      <th></th>\n",
       "      <th>Risk Premia</th>\n",
       "      <th>t-stat</th>\n",
       "    </tr>\n",
       "    <tr>\n",
       "      <th>Model</th>\n",
       "      <th>Factors</th>\n",
       "      <th></th>\n",
       "      <th></th>\n",
       "    </tr>\n",
       "  </thead>\n",
       "  <tbody>\n",
       "    <tr>\n",
       "      <th rowspan=\"3\" valign=\"top\">Macro Model</th>\n",
       "      <th>gdp_4qoq</th>\n",
       "      <td>0.003332</td>\n",
       "      <td>1.110859</td>\n",
       "    </tr>\n",
       "    <tr>\n",
       "      <th>cpi_4qoq</th>\n",
       "      <td>0.001314</td>\n",
       "      <td>0.466648</td>\n",
       "    </tr>\n",
       "    <tr>\n",
       "      <th>Mkt-RF</th>\n",
       "      <td>0.019345</td>\n",
       "      <td>2.032859</td>\n",
       "    </tr>\n",
       "    <tr>\n",
       "      <th rowspan=\"3\" valign=\"top\">FF3</th>\n",
       "      <th>Mkt-RF</th>\n",
       "      <td>0.017113</td>\n",
       "      <td>1.822992</td>\n",
       "    </tr>\n",
       "    <tr>\n",
       "      <th>SMB</th>\n",
       "      <td>0.009338</td>\n",
       "      <td>1.724411</td>\n",
       "    </tr>\n",
       "    <tr>\n",
       "      <th>HML</th>\n",
       "      <td>0.007344</td>\n",
       "      <td>0.966730</td>\n",
       "    </tr>\n",
       "    <tr>\n",
       "      <th rowspan=\"6\" valign=\"top\">FF5 + MoM</th>\n",
       "      <th>Mkt-RF</th>\n",
       "      <td>0.020385</td>\n",
       "      <td>2.183998</td>\n",
       "    </tr>\n",
       "    <tr>\n",
       "      <th>SMB</th>\n",
       "      <td>0.008693</td>\n",
       "      <td>1.641231</td>\n",
       "    </tr>\n",
       "    <tr>\n",
       "      <th>HML</th>\n",
       "      <td>0.006981</td>\n",
       "      <td>0.931696</td>\n",
       "    </tr>\n",
       "    <tr>\n",
       "      <th>RMW</th>\n",
       "      <td>0.007695</td>\n",
       "      <td>0.911447</td>\n",
       "    </tr>\n",
       "    <tr>\n",
       "      <th>CMA</th>\n",
       "      <td>0.006165</td>\n",
       "      <td>0.933939</td>\n",
       "    </tr>\n",
       "    <tr>\n",
       "      <th>Mom</th>\n",
       "      <td>0.041546</td>\n",
       "      <td>2.862085</td>\n",
       "    </tr>\n",
       "  </tbody>\n",
       "</table>\n",
       "</div>"
      ],
      "text/plain": [
       "                      Risk Premia    t-stat\n",
       "Model       Factors                        \n",
       "Macro Model gdp_4qoq     0.003332  1.110859\n",
       "            cpi_4qoq     0.001314  0.466648\n",
       "            Mkt-RF       0.019345  2.032859\n",
       "FF3         Mkt-RF       0.017113  1.822992\n",
       "            SMB          0.009338  1.724411\n",
       "            HML          0.007344  0.966730\n",
       "FF5 + MoM   Mkt-RF       0.020385  2.183998\n",
       "            SMB          0.008693  1.641231\n",
       "            HML          0.006981  0.931696\n",
       "            RMW          0.007695  0.911447\n",
       "            CMA          0.006165  0.933939\n",
       "            Mom          0.041546  2.862085"
      ]
     },
     "metadata": {},
     "output_type": "display_data"
    },
    {
     "data": {
      "text/html": [
       "<div>\n",
       "<style scoped>\n",
       "    .dataframe tbody tr th:only-of-type {\n",
       "        vertical-align: middle;\n",
       "    }\n",
       "\n",
       "    .dataframe tbody tr th {\n",
       "        vertical-align: top;\n",
       "    }\n",
       "\n",
       "    .dataframe thead th {\n",
       "        text-align: right;\n",
       "    }\n",
       "</style>\n",
       "<table border=\"1\" class=\"dataframe\">\n",
       "  <thead>\n",
       "    <tr style=\"text-align: right;\">\n",
       "      <th></th>\n",
       "      <th></th>\n",
       "      <th>Test Statistic</th>\n",
       "      <th>p-value</th>\n",
       "      <th>Mean Absolute alpha</th>\n",
       "    </tr>\n",
       "    <tr>\n",
       "      <th>Hypothesis</th>\n",
       "      <th>Model</th>\n",
       "      <th></th>\n",
       "      <th></th>\n",
       "      <th></th>\n",
       "    </tr>\n",
       "  </thead>\n",
       "  <tbody>\n",
       "    <tr>\n",
       "      <th rowspan=\"3\" valign=\"top\">H0: alphas=0</th>\n",
       "      <th>Macro Model</th>\n",
       "      <td>85.313759</td>\n",
       "      <td>2.121909e-09</td>\n",
       "      <td>0.004348</td>\n",
       "    </tr>\n",
       "    <tr>\n",
       "      <th>FF3</th>\n",
       "      <td>99.475143</td>\n",
       "      <td>7.965739e-12</td>\n",
       "      <td>0.004339</td>\n",
       "    </tr>\n",
       "    <tr>\n",
       "      <th>FF5 + MoM</th>\n",
       "      <td>58.203384</td>\n",
       "      <td>7.419005e-06</td>\n",
       "      <td>0.002610</td>\n",
       "    </tr>\n",
       "  </tbody>\n",
       "</table>\n",
       "</div>"
      ],
      "text/plain": [
       "                          Test Statistic       p-value  Mean Absolute alpha\n",
       "Hypothesis   Model                                                         \n",
       "H0: alphas=0 Macro Model       85.313759  2.121909e-09             0.004348\n",
       "             FF3               99.475143  7.965739e-12             0.004339\n",
       "             FF5 + MoM         58.203384  7.419005e-06             0.002610"
      ]
     },
     "metadata": {},
     "output_type": "display_data"
    }
   ],
   "source": [
    "# Post-Vassalou Sample (1998Q4 - )\n",
    "post0 = multiple_models(start='1999')[0]\n",
    "post1 = multiple_models(start='1999')[1]\n",
    "\n",
    "display(post0)\n",
    "display(post1)"
   ]
  },
  {
   "cell_type": "code",
   "execution_count": 32,
   "id": "71c86f54-395a-4302-86e1-126362d1b2d1",
   "metadata": {},
   "outputs": [],
   "source": [
    "from texttable import Texttable\n",
    "import latextable"
   ]
  },
  {
   "cell_type": "code",
   "execution_count": 67,
   "id": "694b0ea0-8692-4b1d-a713-d2253ef744dd",
   "metadata": {},
   "outputs": [
    {
     "name": "stdout",
     "output_type": "stream",
     "text": [
      "\n",
      "-- Example 11: Multicolumn header with drop column --\n",
      "Latextable Output:\n",
      "\\begin{table}\n",
      "\t\\begin{center}\n",
      "\t\t\\begin{tabular}{llll}\n",
      "\t\t\t\\toprule\n",
      "\t\t\t\\multicolumn{1}{c}{Factors} & \\multicolumn{1}{c}{Full-Sample} & \\multicolumn{1}{c}{Pre-Publication} & \\multicolumn{1}{c}{Post-Publication} \\\\\n",
      "\t\t\t  & 1973Q3-2022Q4 & Pre 1998Q4 & Post 1998Q4 \\\\\n",
      "\t\t\t\\midrule\n",
      "\t\t\tGDP Factor & 0.003 & 0.010 & 0.003 \\\\\n",
      "\t\t\t  & 1.549 & 3.977 & 1.111 \\\\\n",
      "\t\t\tCPI Factor & -0.009 & -0.009 & 0.001 \\\\\n",
      "\t\t\t  & -2.611 & -3.230 & 0.467 \\\\\n",
      "\t\t\tGDP Factor & 0.021 & 0.023 & 0.019 \\\\\n",
      "\t\t\t  & 3.138 & 2.593 & 2.033 \\\\\n",
      "\t\t\t\\bottomrule\n",
      "\t\t\\end{tabular}\n",
      "\t\\end{center}\n",
      "\t\\caption{t-statistics in brackets}\n",
      "\\end{table}\n"
     ]
    }
   ],
   "source": [
    "rows = [\n",
    "        [\" \", \"1973Q3-2022Q4\", \"Pre 1998Q4\", \"Post 1998Q4\"],\n",
    "        [\"GDP Factor\", premia[0], premia[1], premia[2]],\n",
    "        [\" \", tstat[0], tstat[1], tstat[2]],\n",
    "        \n",
    "        [\"CPI Factor\", premia[3], premia[4], premia[5]],\n",
    "        [\" \", tstat[3], tstat[4], tstat[5]],\n",
    "    \n",
    "        [\"GDP Factor\", premia[6], premia[7], premia[8]],\n",
    "        [\" \", tstat[6], tstat[7], tstat[8]],\n",
    "       ]\n",
    "multicolumn_header = [(\"Factors\", 1), (\"Full-Sample\", 1), (\"Pre-Publication\", 1), (\"Post-Publication\", 1)]\n",
    "print('\\n-- Example 11: Multicolumn header with drop column --')\n",
    "print('Latextable Output:')\n",
    "print(latextable.draw_latex(rows, use_booktabs=True, multicolumn_header=multicolumn_header))"
   ]
  },
  {
   "cell_type": "markdown",
   "id": "09ea4b0c-4763-4987-816b-629ef4c81332",
   "metadata": {},
   "source": [
    "#### Full-Sample (testing code)"
   ]
  },
  {
   "cell_type": "code",
   "execution_count": 56,
   "id": "eae0ed18-3183-4e87-bb46-20119eefd29c",
   "metadata": {},
   "outputs": [],
   "source": [
    "beta = []\n",
    "for portfolio in size_book_assets_q:\n",
    "    ts = sm.OLS(size_book_assets_q.loc[:,portfolio], sm.add_constant(factors_q[['gdp_4qoq', 'cpi_4qoq', 'Mkt-RF']])).fit()\n",
    "    beta.append(ts.params[1:])\n",
    "\n",
    "beta = pd.DataFrame(beta)\n",
    "beta.index = size_book_assets_q.columns"
   ]
  },
  {
   "cell_type": "code",
   "execution_count": 57,
   "id": "f06f992c-dc5d-4892-b665-60359ba5e6e5",
   "metadata": {},
   "outputs": [],
   "source": [
    "lambdas = []\n",
    "alphas = []\n",
    "for t in range(0,size_book_assets_q.index.shape[0]):\n",
    "    cs = sm.OLS(np.array(size_book_assets_q)[t].T, beta).fit()\n",
    "    lambdas.append(cs.params)\n",
    "    alphas.append(cs.resid)"
   ]
  },
  {
   "cell_type": "code",
   "execution_count": 58,
   "id": "b49e79c6-b883-4826-a820-7bc6ce6a2110",
   "metadata": {},
   "outputs": [
    {
     "data": {
      "text/plain": [
       "gdp_4qoq    0.003206\n",
       "cpi_4qoq   -0.008500\n",
       "Mkt-RF      0.020838\n",
       "dtype: float64"
      ]
     },
     "execution_count": 58,
     "metadata": {},
     "output_type": "execute_result"
    }
   ],
   "source": [
    "lambdas_df = pd.DataFrame(lambdas)\n",
    "lambdas_df.mean()"
   ]
  },
  {
   "cell_type": "code",
   "execution_count": 62,
   "id": "19ca45dd-29e1-43f4-88f9-df43ba71b780",
   "metadata": {},
   "outputs": [],
   "source": [
    "se_gdp = np.sqrt(((lambdas_df['gdp_4qoq'] - lambdas_df.mean()['gdp_4qoq'])**2).sum() / len(lambdas_df)**2)\n",
    "se_cpi = np.sqrt(((lambdas_df['cpi_4qoq'] - lambdas_df.mean()['cpi_4qoq'])**2).sum() / len(lambdas_df)**2)"
   ]
  },
  {
   "cell_type": "code",
   "execution_count": 63,
   "id": "b5cf1a42-98d0-4d21-abbe-bd08bd004d2e",
   "metadata": {},
   "outputs": [
    {
     "name": "stdout",
     "output_type": "stream",
     "text": [
      "1.54891 -2.61065\n"
     ]
    }
   ],
   "source": [
    "# Fama-MacBeth t-stat without controlling for autocorrelation \n",
    "print(f'{lambdas_df.mean()[\"gdp_4qoq\"]/se_gdp:0.5f}', f'{lambdas_df.mean()[\"cpi_4qoq\"]/se_cpi:0.5f}')"
   ]
  },
  {
   "cell_type": "code",
   "execution_count": 96,
   "id": "2a2a8750-d410-4f54-ae37-ccfdf3923dc4",
   "metadata": {},
   "outputs": [],
   "source": [
    "# Joint test of alphas\n",
    "alphas_df = pd.DataFrame(alphas)\n",
    "alpha_hat = alphas_df.mean()"
   ]
  },
  {
   "cell_type": "code",
   "execution_count": 122,
   "id": "d254e726-104a-4cc4-b3b5-c86f53035744",
   "metadata": {},
   "outputs": [],
   "source": [
    "cov_alpha = ((alphas_df - alpha_hat).T @ (alphas_df - alpha_hat)) / len(alphas_df)**2"
   ]
  },
  {
   "cell_type": "code",
   "execution_count": 124,
   "id": "e51aa4b3-9a42-457d-8aff-ab04f1057b86",
   "metadata": {},
   "outputs": [
    {
     "data": {
      "text/plain": [
       "59.82863873966363"
      ]
     },
     "execution_count": 124,
     "metadata": {},
     "output_type": "execute_result"
    }
   ],
   "source": [
    "# Chi Squared Stat\n",
    "alpha_chi = alpha_hat.T @ np.linalg.inv(cov_alpha) @ alpha_hat\n",
    "alpha_chi"
   ]
  },
  {
   "cell_type": "code",
   "execution_count": 125,
   "id": "a837a57e-2883-404f-a5a8-ce77c87edf4a",
   "metadata": {},
   "outputs": [],
   "source": [
    "from scipy.stats import chi2"
   ]
  },
  {
   "cell_type": "code",
   "execution_count": 126,
   "id": "f6092cda-a4de-45b4-bcb9-41b5680a43a7",
   "metadata": {},
   "outputs": [
    {
     "data": {
      "text/plain": [
       "1.0"
      ]
     },
     "execution_count": 126,
     "metadata": {},
     "output_type": "execute_result"
    }
   ],
   "source": [
    "alpha_p_val = 1 - chi2(len(alphas_df)-1).cdf(alpha_chi)\n",
    "alpha_p_val"
   ]
  },
  {
   "cell_type": "markdown",
   "id": "67163bb9-5038-49a2-acce-2afcacdf50fd",
   "metadata": {
    "tags": []
   },
   "source": [
    "#### 5 year Rolling Window"
   ]
  },
  {
   "cell_type": "markdown",
   "id": "1bccf558-e343-48ec-9230-deea0b5bbc77",
   "metadata": {},
   "source": [
    "##### 1st Stage"
   ]
  },
  {
   "cell_type": "code",
   "execution_count": 30,
   "id": "0192a911-fc1f-4617-8e70-7da5e3b2601c",
   "metadata": {},
   "outputs": [],
   "source": [
    "from statsmodels.regression.rolling import RollingOLS"
   ]
  },
  {
   "cell_type": "code",
   "execution_count": 31,
   "id": "2f05df4f-861d-4408-82b3-f9f228f3f54c",
   "metadata": {},
   "outputs": [],
   "source": [
    "beta = {}\n",
    "for portfolio in size_book_assets:\n",
    "    ts = RollingOLS(size_book_assets.loc[size_book_assets.index,portfolio],factors.iloc[:,0:3], window=60).fit()\n",
    "    beta[portfolio] = ts.params[1:]"
   ]
  },
  {
   "cell_type": "code",
   "execution_count": 32,
   "id": "90d2bc26-5fac-4850-b245-295314639340",
   "metadata": {},
   "outputs": [],
   "source": [
    "betas_T = {}\n",
    "for t in range(60,len(size_book_assets)-60):\n",
    "    betas = []\n",
    "    for portfolio in size_book_assets.columns:\n",
    "        betas.append(beta[portfolio].iloc[t])\n",
    "    \n",
    "    betas_df = pd.DataFrame(np.array(betas), index=size_book_assets.columns, columns=['const', 'gdp_factor', 'cpi_factor'])\n",
    "    \n",
    "    betas_T[t] = betas_df"
   ]
  },
  {
   "cell_type": "markdown",
   "id": "bbbb8a20-9713-40a7-9512-b2f9ca969cbc",
   "metadata": {},
   "source": [
    "##### 2nd Stage"
   ]
  },
  {
   "cell_type": "code",
   "execution_count": 33,
   "id": "e645688d-79c8-4998-b8f6-c8572a2e2a64",
   "metadata": {},
   "outputs": [],
   "source": [
    "lambdas = []\n",
    "alphas = []\n",
    "for t in range(60,len(size_book_assets)-60):\n",
    "    cs = sm.OLS(np.array(size_book_assets)[t].T, betas_T[t]).fit()\n",
    "    lambdas.append(cs.params)\n",
    "    alphas.append(cs.resid)"
   ]
  },
  {
   "cell_type": "code",
   "execution_count": 34,
   "id": "966e6b48-b434-48be-98bd-df4333ccf1cd",
   "metadata": {},
   "outputs": [
    {
     "data": {
      "text/plain": [
       "const         0.901521\n",
       "gdp_factor    0.000045\n",
       "cpi_factor   -0.001267\n",
       "dtype: float64"
      ]
     },
     "execution_count": 34,
     "metadata": {},
     "output_type": "execute_result"
    }
   ],
   "source": [
    "pd.DataFrame(lambdas).mean()"
   ]
  },
  {
   "cell_type": "code",
   "execution_count": 401,
   "id": "b0c32a8b-1c39-44c9-9262-ab5b4865ecc5",
   "metadata": {},
   "outputs": [],
   "source": [
    "# pd.DataFrame(alphas).mean()"
   ]
  },
  {
   "cell_type": "markdown",
   "id": "c0f6ea02-bae0-4111-8ca9-61f7ff1bf8ba",
   "metadata": {
    "jp-MarkdownHeadingCollapsed": true,
    "tags": []
   },
   "source": [
    "### GMM?"
   ]
  },
  {
   "cell_type": "code",
   "execution_count": 108,
   "id": "0fa52a79-553e-499c-95cd-8aa360aff731",
   "metadata": {},
   "outputs": [],
   "source": [
    "gmm1 = GMM(size_book_assets_m, factors_m[['gdp_1', 'cpi_1', 'Mkt-RF']])\n",
    "gmm2 = GMM(size_book_assets_m, pd.concat([ff3, factors_m.iloc[:,2:4]], axis=1))"
   ]
  },
  {
   "cell_type": "code",
   "execution_count": 109,
   "id": "7b7defb0-3bb9-4a57-8c0f-f2a1aa64beb0",
   "metadata": {},
   "outputs": [
    {
     "name": "stdout",
     "output_type": "stream",
     "text": [
      "Iteration: 0, Objective: 284.35765759144397\n",
      "Iteration: 10, Objective: 166.61463063480804\n",
      "Iteration: 20, Objective: 112.43348892070674\n",
      "Iteration: 30, Objective: 97.67247415456143\n",
      "Iteration: 40, Objective: 86.1489110180111\n",
      "Iteration: 50, Objective: 75.52432964734759\n",
      "Iteration: 60, Objective: 58.25409123682409\n",
      "Iteration: 70, Objective: 46.065607160290355\n",
      "Iteration: 80, Objective: 36.95367315436503\n",
      "Iteration: 90, Objective: 29.34127159769115\n",
      "Iteration: 100, Objective: 28.105193696573053\n",
      "Iteration: 110, Objective: 28.095730997216172\n",
      "Iteration: 120, Objective: 28.095708105701718\n",
      "Warning: Desired error not necessarily achieved due to precision loss.\n",
      "         Current function value: 28.095708\n",
      "         Iterations: 125\n",
      "         Function evaluations: 12640\n",
      "         Gradient evaluations: 154\n",
      "Iteration: 0, Objective: 22.879137516286413\n",
      "Iteration: 10, Objective: 21.98751332196565\n",
      "Iteration: 20, Objective: 21.425959592263006\n",
      "Iteration: 30, Objective: 21.229546893065297\n",
      "Iteration: 40, Objective: 20.870641138567258\n",
      "Iteration: 50, Objective: 20.714669095145013\n",
      "Iteration: 60, Objective: 20.355118465186575\n",
      "Iteration: 70, Objective: 20.02743201385659\n",
      "Iteration: 80, Objective: 19.954488122644953\n",
      "Warning: Desired error not necessarily achieved due to precision loss.\n",
      "         Current function value: 19.939139\n",
      "         Iterations: 87\n",
      "         Function evaluations: 9687\n",
      "         Gradient evaluations: 118\n"
     ]
    }
   ],
   "source": [
    "gmm1_res = gmm1.fit(cov_type='kernel')"
   ]
  },
  {
   "cell_type": "code",
   "execution_count": 110,
   "id": "cef80fd1-7e3c-4d80-a078-26e015e147a6",
   "metadata": {},
   "outputs": [
    {
     "data": {
      "text/html": [
       "<table class=\"simpletable\">\n",
       "<caption>LinearFactorModelGMM Estimation Summary</caption>\n",
       "<tr>\n",
       "  <th>No. Test Portfolios:</th>        <td>25</td>        <th>  R-squared:         </th>  <td>0.7255</td> \n",
       "</tr>\n",
       "<tr>\n",
       "  <th>No. Factors:</th>                 <td>3</td>        <th>  J-statistic:       </th>  <td>19.939</td> \n",
       "</tr>\n",
       "<tr>\n",
       "  <th>No. Observations:</th>           <td>595</td>       <th>  P-value            </th>  <td>0.5868</td> \n",
       "</tr>\n",
       "<tr>\n",
       "  <th>Date:</th>                <td>Sat, Mar 18 2023</td> <th>  Distribution:      </th> <td>chi2(22)</td>\n",
       "</tr>\n",
       "<tr>\n",
       "  <th>Time:</th>                    <td>19:01:14</td>     <th>                     </th>     <td></td>    \n",
       "</tr>\n",
       "<tr>\n",
       "  <th>Cov. Estimator:</th>           <td>kernel</td>      <th>                     </th>     <td></td>    \n",
       "</tr>\n",
       "<tr>\n",
       "  <th></th>                             <td></td>         <th>                     </th>     <td></td>    \n",
       "</tr>\n",
       "</table>\n",
       "<table class=\"simpletable\">\n",
       "<caption>Risk Premia Estimates</caption>\n",
       "<tr>\n",
       "     <td></td>    <th>Parameter</th> <th>Std. Err.</th> <th>T-stat</th>  <th>P-value</th> <th>Lower CI</th> <th>Upper CI</th>\n",
       "</tr>\n",
       "<tr>\n",
       "  <th>gdp_1</th>   <td>0.0116</td>    <td>0.0030</td>   <td>3.9318</td>  <td>0.0001</td>   <td>0.0058</td>   <td>0.0174</td> \n",
       "</tr>\n",
       "<tr>\n",
       "  <th>cpi_1</th>   <td>-0.0054</td>   <td>0.0018</td>   <td>-2.9483</td> <td>0.0032</td>   <td>-0.0090</td>  <td>-0.0018</td>\n",
       "</tr>\n",
       "<tr>\n",
       "  <th>Mkt-RF</th>  <td>0.0061</td>    <td>0.0016</td>   <td>3.8491</td>  <td>0.0001</td>   <td>0.0030</td>   <td>0.0093</td> \n",
       "</tr>\n",
       "</table><br/><br/>Covariance estimator:<br/>KernelCovariance, Kernel: bartlett, Bandwidth: 8<br/>See full_summary for complete results<br/>id: 0x2ad5e940970"
      ],
      "text/plain": [
       "                    LinearFactorModelGMM Estimation Summary                     \n",
       "================================================================================\n",
       "No. Test Portfolios:                 25   R-squared:                      0.7255\n",
       "No. Factors:                          3   J-statistic:                    19.939\n",
       "No. Observations:                   595   P-value                         0.5868\n",
       "Date:                  Sat, Mar 18 2023   Distribution:                 chi2(22)\n",
       "Time:                          19:01:14                                         \n",
       "Cov. Estimator:                  kernel                                         \n",
       "                                                                                \n",
       "                            Risk Premia Estimates                             \n",
       "==============================================================================\n",
       "            Parameter  Std. Err.     T-stat    P-value    Lower CI    Upper CI\n",
       "------------------------------------------------------------------------------\n",
       "gdp_1          0.0116     0.0030     3.9318     0.0001      0.0058      0.0174\n",
       "cpi_1         -0.0054     0.0018    -2.9483     0.0032     -0.0090     -0.0018\n",
       "Mkt-RF         0.0061     0.0016     3.8491     0.0001      0.0030      0.0093\n",
       "==============================================================================\n",
       "\n",
       "Covariance estimator:\n",
       "KernelCovariance, Kernel: bartlett, Bandwidth: 8\n",
       "See full_summary for complete results\n",
       "GMMFactorModelResults, id: 0x2ad5e940970"
      ]
     },
     "execution_count": 110,
     "metadata": {},
     "output_type": "execute_result"
    }
   ],
   "source": [
    "gmm1_res"
   ]
  },
  {
   "cell_type": "code",
   "execution_count": 111,
   "id": "dbc9c56e-89fd-41ca-8152-1e3f2a4e92db",
   "metadata": {},
   "outputs": [
    {
     "name": "stdout",
     "output_type": "stream",
     "text": [
      "Iteration: 0, Objective: 693.6529504331223\n",
      "Iteration: 10, Objective: 466.8414783269898\n",
      "Iteration: 20, Objective: 277.11025800633297\n",
      "Iteration: 30, Objective: 209.83413277996218\n",
      "Iteration: 40, Objective: 183.55818588498303\n",
      "Iteration: 50, Objective: 168.51240381640116\n",
      "Iteration: 60, Objective: 155.00248253722515\n",
      "Iteration: 70, Objective: 148.39463774636258\n",
      "Iteration: 80, Objective: 145.0649766000757\n",
      "Iteration: 90, Objective: 141.22128544327597\n",
      "Iteration: 100, Objective: 111.90739013390687\n",
      "Iteration: 110, Objective: 75.40205730941659\n",
      "Iteration: 120, Objective: 67.65021920629324\n",
      "Iteration: 130, Objective: 59.31214131131045\n",
      "Iteration: 140, Objective: 47.728145522170216\n",
      "Iteration: 150, Objective: 32.64430781953283\n",
      "Iteration: 160, Objective: 29.769942953597855\n",
      "Iteration: 170, Objective: 27.562268459597835\n",
      "Iteration: 180, Objective: 26.912825746027607\n",
      "Iteration: 190, Objective: 26.671395920207274\n",
      "Iteration: 200, Objective: 26.591219803849853\n",
      "Iteration: 210, Objective: 26.553450687310356\n",
      "Iteration: 220, Objective: 26.550480890058566\n",
      "Warning: Desired error not necessarily achieved due to precision loss.\n",
      "         Current function value: 26.550433\n",
      "         Iterations: 227\n",
      "         Function evaluations: 37548\n",
      "         Gradient evaluations: 276\n",
      "Iteration: 0, Objective: 47.170567624967106\n",
      "Iteration: 10, Objective: 37.494572154273854\n",
      "Iteration: 20, Objective: 30.235908958400994\n",
      "Iteration: 30, Objective: 28.771333354408867\n",
      "Iteration: 40, Objective: 28.142224890915436\n",
      "Iteration: 50, Objective: 27.730713802046214\n",
      "Iteration: 60, Objective: 27.310988272339447\n",
      "Iteration: 70, Objective: 26.681678004772102\n",
      "Iteration: 80, Objective: 26.31055525379321\n",
      "Iteration: 90, Objective: 25.761040958338924\n",
      "Iteration: 100, Objective: 23.919642896481964\n",
      "Iteration: 110, Objective: 20.667164691496364\n",
      "Iteration: 120, Objective: 19.763684464967195\n",
      "Iteration: 130, Objective: 19.02363836018602\n",
      "Iteration: 140, Objective: 18.769368307783036\n",
      "Iteration: 150, Objective: 18.76922854756581\n",
      "Warning: Desired error not necessarily achieved due to precision loss.\n",
      "         Current function value: 18.769229\n",
      "         Iterations: 156\n",
      "         Function evaluations: 28844\n",
      "         Gradient evaluations: 212\n"
     ]
    }
   ],
   "source": [
    "gmm2_res = gmm2.fit(cov_type='kernel')"
   ]
  },
  {
   "cell_type": "code",
   "execution_count": 112,
   "id": "aa788bf8-2ee2-44a2-9f2f-0f0970487f26",
   "metadata": {},
   "outputs": [
    {
     "data": {
      "text/html": [
       "<table class=\"simpletable\">\n",
       "<caption>LinearFactorModelGMM Estimation Summary</caption>\n",
       "<tr>\n",
       "  <th>No. Test Portfolios:</th>        <td>25</td>        <th>  R-squared:         </th>  <td>0.9145</td> \n",
       "</tr>\n",
       "<tr>\n",
       "  <th>No. Factors:</th>                 <td>5</td>        <th>  J-statistic:       </th>  <td>18.769</td> \n",
       "</tr>\n",
       "<tr>\n",
       "  <th>No. Observations:</th>           <td>595</td>       <th>  P-value            </th>  <td>0.5369</td> \n",
       "</tr>\n",
       "<tr>\n",
       "  <th>Date:</th>                <td>Sat, Mar 18 2023</td> <th>  Distribution:      </th> <td>chi2(20)</td>\n",
       "</tr>\n",
       "<tr>\n",
       "  <th>Time:</th>                    <td>19:03:12</td>     <th>                     </th>     <td></td>    \n",
       "</tr>\n",
       "<tr>\n",
       "  <th>Cov. Estimator:</th>           <td>kernel</td>      <th>                     </th>     <td></td>    \n",
       "</tr>\n",
       "<tr>\n",
       "  <th></th>                             <td></td>         <th>                     </th>     <td></td>    \n",
       "</tr>\n",
       "</table>\n",
       "<table class=\"simpletable\">\n",
       "<caption>Risk Premia Estimates</caption>\n",
       "<tr>\n",
       "     <td></td>    <th>Parameter</th> <th>Std. Err.</th> <th>T-stat</th>  <th>P-value</th> <th>Lower CI</th> <th>Upper CI</th>\n",
       "</tr>\n",
       "<tr>\n",
       "  <th>Mkt-RF</th>  <td>0.0061</td>    <td>0.0016</td>   <td>3.8155</td>  <td>0.0001</td>   <td>0.0029</td>   <td>0.0092</td> \n",
       "</tr>\n",
       "<tr>\n",
       "  <th>SMB</th>     <td>0.0013</td>    <td>0.0011</td>   <td>1.1939</td>  <td>0.2325</td>   <td>-0.0008</td>  <td>0.0034</td> \n",
       "</tr>\n",
       "<tr>\n",
       "  <th>HML</th>     <td>0.0036</td>    <td>0.0013</td>   <td>2.8745</td>  <td>0.0040</td>   <td>0.0012</td>   <td>0.0061</td> \n",
       "</tr>\n",
       "<tr>\n",
       "  <th>gdp_1</th>   <td>0.0101</td>    <td>0.0027</td>   <td>3.7010</td>  <td>0.0002</td>   <td>0.0047</td>   <td>0.0154</td> \n",
       "</tr>\n",
       "<tr>\n",
       "  <th>cpi_1</th>   <td>-0.0048</td>   <td>0.0018</td>   <td>-2.5769</td> <td>0.0100</td>   <td>-0.0084</td>  <td>-0.0011</td>\n",
       "</tr>\n",
       "</table><br/><br/>Covariance estimator:<br/>KernelCovariance, Kernel: bartlett, Bandwidth: 8<br/>See full_summary for complete results<br/>id: 0x2ad5e940880"
      ],
      "text/plain": [
       "                    LinearFactorModelGMM Estimation Summary                     \n",
       "================================================================================\n",
       "No. Test Portfolios:                 25   R-squared:                      0.9145\n",
       "No. Factors:                          5   J-statistic:                    18.769\n",
       "No. Observations:                   595   P-value                         0.5369\n",
       "Date:                  Sat, Mar 18 2023   Distribution:                 chi2(20)\n",
       "Time:                          19:03:12                                         \n",
       "Cov. Estimator:                  kernel                                         \n",
       "                                                                                \n",
       "                            Risk Premia Estimates                             \n",
       "==============================================================================\n",
       "            Parameter  Std. Err.     T-stat    P-value    Lower CI    Upper CI\n",
       "------------------------------------------------------------------------------\n",
       "Mkt-RF         0.0061     0.0016     3.8155     0.0001      0.0029      0.0092\n",
       "SMB            0.0013     0.0011     1.1939     0.2325     -0.0008      0.0034\n",
       "HML            0.0036     0.0013     2.8745     0.0040      0.0012      0.0061\n",
       "gdp_1          0.0101     0.0027     3.7010     0.0002      0.0047      0.0154\n",
       "cpi_1         -0.0048     0.0018    -2.5769     0.0100     -0.0084     -0.0011\n",
       "==============================================================================\n",
       "\n",
       "Covariance estimator:\n",
       "KernelCovariance, Kernel: bartlett, Bandwidth: 8\n",
       "See full_summary for complete results\n",
       "GMMFactorModelResults, id: 0x2ad5e940880"
      ]
     },
     "execution_count": 112,
     "metadata": {},
     "output_type": "execute_result"
    }
   ],
   "source": [
    "gmm2_res"
   ]
  },
  {
   "cell_type": "code",
   "execution_count": 114,
   "id": "89aa5abd-f6a7-4e4a-8053-5fe676844b7d",
   "metadata": {},
   "outputs": [
    {
     "name": "stdout",
     "output_type": "stream",
     "text": [
      "Iteration: 0, Objective: 136.76574712681216\n",
      "Iteration: 10, Objective: 103.70303814648729\n",
      "Iteration: 20, Objective: 99.50976657515605\n",
      "Iteration: 30, Objective: 98.79269412370823\n",
      "Iteration: 40, Objective: 98.50661820482655\n",
      "Iteration: 50, Objective: 97.71832133250547\n",
      "Iteration: 60, Objective: 93.07160047668103\n",
      "Iteration: 70, Objective: 92.92568933040663\n",
      "Iteration: 80, Objective: 91.39316784072614\n",
      "Warning: Desired error not necessarily achieved due to precision loss.\n",
      "         Current function value: 90.692977\n",
      "         Iterations: 89\n",
      "         Function evaluations: 11327\n",
      "         Gradient evaluations: 138\n",
      "Iteration: 0, Objective: 89.59615228730786\n",
      "Iteration: 10, Objective: 88.79220643896886\n",
      "Iteration: 20, Objective: 88.63714983349956\n",
      "Iteration: 30, Objective: 88.62489954591607\n",
      "Iteration: 40, Objective: 88.61645832820784\n",
      "Iteration: 50, Objective: 88.59603848337271\n",
      "Iteration: 60, Objective: 88.46878876342907\n",
      "Iteration: 70, Objective: 88.46336095689942\n",
      "Iteration: 80, Objective: 88.39442744892398\n",
      "Iteration: 90, Objective: 88.37439370951921\n",
      "Warning: Desired error not necessarily achieved due to precision loss.\n",
      "         Current function value: 88.374394\n",
      "         Iterations: 93\n",
      "         Function evaluations: 9676\n",
      "         Gradient evaluations: 118\n"
     ]
    },
    {
     "data": {
      "text/html": [
       "<table class=\"simpletable\">\n",
       "<caption>LinearFactorModelGMM Estimation Summary</caption>\n",
       "<tr>\n",
       "  <th>No. Test Portfolios:</th>        <td>25</td>        <th>  R-squared:         </th>  <td>0.9163</td> \n",
       "</tr>\n",
       "<tr>\n",
       "  <th>No. Factors:</th>                 <td>3</td>        <th>  J-statistic:       </th>  <td>88.374</td> \n",
       "</tr>\n",
       "<tr>\n",
       "  <th>No. Observations:</th>           <td>595</td>       <th>  P-value            </th>  <td>0.0000</td> \n",
       "</tr>\n",
       "<tr>\n",
       "  <th>Date:</th>                <td>Sat, Mar 18 2023</td> <th>  Distribution:      </th> <td>chi2(22)</td>\n",
       "</tr>\n",
       "<tr>\n",
       "  <th>Time:</th>                    <td>19:04:29</td>     <th>                     </th>     <td></td>    \n",
       "</tr>\n",
       "<tr>\n",
       "  <th>Cov. Estimator:</th>           <td>robust</td>      <th>                     </th>     <td></td>    \n",
       "</tr>\n",
       "<tr>\n",
       "  <th></th>                             <td></td>         <th>                     </th>     <td></td>    \n",
       "</tr>\n",
       "</table>\n",
       "<table class=\"simpletable\">\n",
       "<caption>Risk Premia Estimates</caption>\n",
       "<tr>\n",
       "     <td></td>    <th>Parameter</th> <th>Std. Err.</th> <th>T-stat</th> <th>P-value</th> <th>Lower CI</th> <th>Upper CI</th>\n",
       "</tr>\n",
       "<tr>\n",
       "  <th>Mkt-RF</th>  <td>0.0083</td>    <td>0.0019</td>   <td>4.4517</td> <td>0.0000</td>   <td>0.0047</td>   <td>0.0120</td> \n",
       "</tr>\n",
       "<tr>\n",
       "  <th>SMB</th>     <td>0.0021</td>    <td>0.0012</td>   <td>1.6989</td> <td>0.0893</td>   <td>-0.0003</td>  <td>0.0044</td> \n",
       "</tr>\n",
       "<tr>\n",
       "  <th>HML</th>     <td>0.0042</td>    <td>0.0012</td>   <td>3.3979</td> <td>0.0007</td>   <td>0.0018</td>   <td>0.0066</td> \n",
       "</tr>\n",
       "</table><br/><br/>Covariance estimator:<br/>HeteroskedasticCovariance<br/>See full_summary for complete results<br/>id: 0x2ad5e94eb50"
      ],
      "text/plain": [
       "                    LinearFactorModelGMM Estimation Summary                     \n",
       "================================================================================\n",
       "No. Test Portfolios:                 25   R-squared:                      0.9163\n",
       "No. Factors:                          3   J-statistic:                    88.374\n",
       "No. Observations:                   595   P-value                         0.0000\n",
       "Date:                  Sat, Mar 18 2023   Distribution:                 chi2(22)\n",
       "Time:                          19:04:29                                         \n",
       "Cov. Estimator:                  robust                                         \n",
       "                                                                                \n",
       "                            Risk Premia Estimates                             \n",
       "==============================================================================\n",
       "            Parameter  Std. Err.     T-stat    P-value    Lower CI    Upper CI\n",
       "------------------------------------------------------------------------------\n",
       "Mkt-RF         0.0083     0.0019     4.4517     0.0000      0.0047      0.0120\n",
       "SMB            0.0021     0.0012     1.6989     0.0893     -0.0003      0.0044\n",
       "HML            0.0042     0.0012     3.3979     0.0007      0.0018      0.0066\n",
       "==============================================================================\n",
       "\n",
       "Covariance estimator:\n",
       "HeteroskedasticCovariance\n",
       "See full_summary for complete results\n",
       "GMMFactorModelResults, id: 0x2ad5e94eb50"
      ]
     },
     "execution_count": 114,
     "metadata": {},
     "output_type": "execute_result"
    }
   ],
   "source": [
    "gmm3 = GMM(size_book_assets_m, ff3)\n",
    "gmm3.fit()"
   ]
  },
  {
   "cell_type": "code",
   "execution_count": null,
   "id": "abf6dd4c-0a9f-4c5e-ac75-c34d7b1f38b2",
   "metadata": {},
   "outputs": [],
   "source": []
  }
 ],
 "metadata": {
  "kernelspec": {
   "display_name": "Python 3 (ipykernel)",
   "language": "python",
   "name": "python3"
  },
  "language_info": {
   "codemirror_mode": {
    "name": "ipython",
    "version": 3
   },
   "file_extension": ".py",
   "mimetype": "text/x-python",
   "name": "python",
   "nbconvert_exporter": "python",
   "pygments_lexer": "ipython3",
   "version": "3.9.12"
  }
 },
 "nbformat": 4,
 "nbformat_minor": 5
}
