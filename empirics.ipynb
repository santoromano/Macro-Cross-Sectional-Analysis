{
 "cells": [
  {
   "cell_type": "markdown",
   "id": "0fbd7fa7-318c-4f07-aeea-eec853164138",
   "metadata": {},
   "source": [
    "VERSION NOTES:\n",
    "- Fama-MacBeth Statistical Significance tests"
   ]
  },
  {
   "cell_type": "markdown",
   "id": "be133e63-3b5d-44e7-a160-8e2cd3907ed5",
   "metadata": {},
   "source": [
    "# Asset Pricing Tests"
   ]
  },
  {
   "cell_type": "code",
   "execution_count": 6,
   "id": "2ed51baf-2b0f-40e8-a223-846ca680168b",
   "metadata": {},
   "outputs": [],
   "source": [
    "import pandas as pd\n",
    "import numpy as np\n",
    "import statsmodels.api as sm\n",
    "from linearmodels.panel.model import FamaMacBeth\n",
    "from linearmodels.asset_pricing import TradedFactorModel"
   ]
  },
  {
   "cell_type": "markdown",
   "id": "35c8db4e-3b41-407a-9cd2-e625e336ed76",
   "metadata": {},
   "source": [
    "## Data"
   ]
  },
  {
   "cell_type": "code",
   "execution_count": 50,
   "id": "026655e4-2972-4461-a1fc-dde041af7266",
   "metadata": {},
   "outputs": [],
   "source": [
    "ff_data = pd.read_csv('ff_data.csv', index_col=0, parse_dates=True)\n",
    "monthly_factors = pd.read_csv('monthly_factors.csv', index_col=0, parse_dates=True)\n",
    "quarterly_factors = pd.read_csv('quarterly_factors.csv', index_col=0, parse_dates=True)"
   ]
  },
  {
   "cell_type": "code",
   "execution_count": 51,
   "id": "968c9584-6568-4ca3-ab54-5a4ecb1c10d0",
   "metadata": {},
   "outputs": [],
   "source": [
    "# Monthly\n",
    "# Test asset clean up\n",
    "ff_data = ff_data.loc[monthly_factors.index[0]:monthly_factors.index[-1]] / 100\n",
    "\n",
    "# Factor Models\n",
    "ff3 = ff_data.iloc[:,0:3]\n",
    "ff5 = ff_data.iloc[:,0:5]\n",
    "ff5_mom = pd.concat([ff5, ff_data.iloc[:,31]], axis=1)\n",
    "\n",
    "# Test Asset Portfolios\n",
    "size_book_assets_m = ff_data.iloc[:,6:31].apply(lambda x: x - ff_data['RF'])\n",
    "industry_assets_m = ff_data.iloc[:,32:].apply(lambda x: x - ff_data['RF'])\n",
    "\n",
    "# Macro Factors\n",
    "factors_m = pd.concat([monthly_factors, ff_data['Mkt-RF']], axis=1)"
   ]
  },
  {
   "cell_type": "code",
   "execution_count": 52,
   "id": "e628bfb3-3da7-4ccf-a697-b3bf17c21ca8",
   "metadata": {},
   "outputs": [],
   "source": [
    "# Quarterly\n",
    "def f(data, last_row=False):\n",
    "    '''\n",
    "    Computes the buy and hold for 3 month (1 quarter) return.\n",
    "    '''\n",
    "    df = ((1+data).cumprod(axis=0)-1)\n",
    "\n",
    "    return df.iloc[-1]\n",
    "\n",
    "ff_data_q = (ff_data).resample('Q').apply(f)\n",
    "\n",
    "# Factor Models\n",
    "ff3_q = ff_data_q.iloc[:,0:3]\n",
    "ff5_q = ff_data_q.iloc[:,0:5]\n",
    "ff5_mom_q = pd.concat([ff5_q, ff_data_q.iloc[:,31]], axis=1)\n",
    "\n",
    "# Test Asset Portfolios\n",
    "size_book_assets_q = ff_data_q.iloc[:,6:31].apply(lambda x: x - ff_data_q['RF'])\n",
    "industry_assets_q = ff_data_q.iloc[:,32:].apply(lambda x: x - ff_data_q['RF'])\n",
    "\n",
    "# Macro Factors\n",
    "factors_q = pd.concat([quarterly_factors, ff_data_q['Mkt-RF']], axis=1).dropna()"
   ]
  },
  {
   "cell_type": "markdown",
   "id": "6951cac9-6356-49e4-b288-7c2b3a1a9d73",
   "metadata": {},
   "source": [
    "## Analysis"
   ]
  },
  {
   "cell_type": "markdown",
   "id": "b77da4c2-09a3-4003-9cee-c9ca755a0027",
   "metadata": {},
   "source": [
    "Two sets of test assets will be used: \n",
    "1) 25 Size-Book Sorted Portfolios \n",
    "2) 30 Industry Portfolios\n",
    "\n",
    "Several factor models will be tested (on each set of test assets):\n",
    "1) Macro Factors\n",
    "    - how well do they price the cross-section?\n",
    "    - what are their risk premia if any?\n",
    "2) Macro Factors + Market Factor\n",
    "3) FF3\n",
    "    - Compare Macro Factors to FF3\n",
    "4) FF3 + Macro Factors\n",
    "    - Given the Macro Factors are SMB + HML needed?\n",
    "5) FF5\n",
    "6) FF5 + Momentum\n",
    "    - do the Macro Factors price better than the standard model?\n",
    "7) FF5 + Momentum + Macro Factors\n",
    "    - is the standard model subsumed by the Macro Factors?"
   ]
  },
  {
   "cell_type": "markdown",
   "id": "332af386-b651-41cc-a1d0-8f5bc2b247ce",
   "metadata": {
    "tags": []
   },
   "source": [
    "### Linear Factor Model/SDF Approach"
   ]
  },
  {
   "cell_type": "code",
   "execution_count": 61,
   "id": "636ca985-80df-4202-b790-b8bfd77250f7",
   "metadata": {},
   "outputs": [],
   "source": [
    "# Renames the factors to make subsequent code cleaner\n",
    "# _0 denotes MoM or QoQ, _1 denotes YoY or 4QoQ\n",
    "factors_m.columns = factors_m.columns.str.replace(\"mom\", \"0\")\n",
    "factors_m.columns = factors_m.columns.str.replace(\"yoy\", \"1\")\n",
    "\n",
    "factors_q.columns = factors_q.columns.str.replace(\"qoq\", \"0\")\n",
    "factors_q.columns = factors_q.columns.str.replace(\"4qoq\", \"1\")"
   ]
  },
  {
   "cell_type": "code",
   "execution_count": 69,
   "id": "62c143a0-5f65-4c2b-9149-a44ebaf2f75e",
   "metadata": {},
   "outputs": [],
   "source": [
    "def factor_models(test_assets, factors):\n",
    "    '''\n",
    "    Runs all factor models on the given set of test assets.\n",
    "    Stores the model instances in a dictionary.\n",
    "    '''\n",
    "    \n",
    "    model_results = {}\n",
    "    \n",
    "    # Macro Factors\n",
    "    model1 = TradedFactorModel(test_assets, factors.iloc[:,:2]).fit(cov_type='kernel')\n",
    "    model_results['macro'] = model1\n",
    "   \n",
    "    # Macro Factors + Market\n",
    "    model2 = TradedFactorModel(test_assets, factors.iloc[:,:]).fit(cov_type='kernel')\n",
    "    model_results['macro+mkt'] = model2\n",
    "   \n",
    "    # FF3\n",
    "    model3 = TradedFactorModel(test_assets, ff3).fit(cov_type='kernel')\n",
    "    model_results['ff3'] = model3\n",
    "    \n",
    "    # FF3 + Macro Factors\n",
    "    model4 = TradedFactorModel(test_assets, pd.concat([ff3, factors.iloc[:,:2]], axis=1)).fit(cov_type='kernel')\n",
    "    model_results['ff3+macro'] = model4\n",
    "    \n",
    "    # FF5 + Momentum\n",
    "    model5 = TradedFactorModel(test_assets, ff5_mom).fit(cov_type='kernel')\n",
    "    model_results['ff5+mom'] = model5\n",
    "     \n",
    "    # FF5 + Momentum + Macro Factors\n",
    "    model6 = TradedFactorModel(test_assets, pd.concat([ff5_mom, factors.iloc[:,:2]], axis=1)).fit(cov_type='kernel')\n",
    "    model_results['ff5+macro'] = model6\n",
    "    \n",
    "    return model_results"
   ]
  },
  {
   "cell_type": "markdown",
   "id": "5ee00230-0ba1-4a8d-95fb-c7cabb75a746",
   "metadata": {},
   "source": [
    "#### Monthly"
   ]
  },
  {
   "cell_type": "markdown",
   "id": "17ae64fc-df97-42db-a967-e18750d6aa64",
   "metadata": {
    "tags": []
   },
   "source": [
    "##### Test Assets: 25 Size-Book Value Sorted Portfolios"
   ]
  },
  {
   "cell_type": "code",
   "execution_count": 72,
   "id": "dbbccf05-686a-49a1-b6b5-20ee426075c2",
   "metadata": {},
   "outputs": [],
   "source": [
    "size_book_models_mom = factor_models(size_book_assets_m, factors_m[['gdp_0', 'cpi_0', 'Mkt-RF']])\n",
    "size_book_models_yoy = factor_models(size_book_assets_m, factors_m[['gdp_1', 'cpi_1', 'Mkt-RF']])"
   ]
  },
  {
   "cell_type": "code",
   "execution_count": 76,
   "id": "55f3b288-b95a-4c30-b357-0daa20c09f72",
   "metadata": {},
   "outputs": [],
   "source": [
    "# dir(size_book_models_mom['macro+mkt'])\n",
    "# size_book_models_mom['macro+mkt'].full_summary\n",
    "# size_book_models_mom['macro+mkt'].betas\n",
    "# size_book_models_mom['macro+mkt'].alphas"
   ]
  },
  {
   "cell_type": "markdown",
   "id": "e3988f9f-c579-4a81-a9f0-4da4586ae5a7",
   "metadata": {
    "jp-MarkdownHeadingCollapsed": true,
    "tags": []
   },
   "source": [
    "###### MoM Model"
   ]
  },
  {
   "cell_type": "code",
   "execution_count": 74,
   "id": "78f6f2b5-ce94-49be-aa82-194e5ccb88b7",
   "metadata": {},
   "outputs": [
    {
     "data": {
      "text/html": [
       "<table class=\"simpletable\">\n",
       "<caption>TradedFactorModel Estimation Summary</caption>\n",
       "<tr>\n",
       "  <th>No. Test Portfolios:</th>        <td>25</td>        <th>  R-squared:         </th>  <td>0.7276</td> \n",
       "</tr>\n",
       "<tr>\n",
       "  <th>No. Factors:</th>                 <td>3</td>        <th>  J-statistic:       </th>  <td>89.046</td> \n",
       "</tr>\n",
       "<tr>\n",
       "  <th>No. Observations:</th>           <td>595</td>       <th>  P-value            </th>  <td>0.0000</td> \n",
       "</tr>\n",
       "<tr>\n",
       "  <th>Date:</th>                <td>Sat, Mar 18 2023</td> <th>  Distribution:      </th> <td>chi2(25)</td>\n",
       "</tr>\n",
       "<tr>\n",
       "  <th>Time:</th>                    <td>17:53:21</td>     <th>                     </th>     <td></td>    \n",
       "</tr>\n",
       "<tr>\n",
       "  <th>Cov. Estimator:</th>           <td>kernel</td>      <th>                     </th>     <td></td>    \n",
       "</tr>\n",
       "<tr>\n",
       "  <th></th>                             <td></td>         <th>                     </th>     <td></td>    \n",
       "</tr>\n",
       "</table>\n",
       "<table class=\"simpletable\">\n",
       "<caption>Risk Premia Estimates</caption>\n",
       "<tr>\n",
       "     <td></td>    <th>Parameter</th> <th>Std. Err.</th> <th>T-stat</th>  <th>P-value</th>  <th>Lower CI</th>   <th>Upper CI</th> \n",
       "</tr>\n",
       "<tr>\n",
       "  <th>gdp_0</th>   <td>0.0002</td>    <td>0.0001</td>   <td>1.4004</td>  <td>0.1614</td>  <td>-6.241e-05</td>   <td>0.0004</td>  \n",
       "</tr>\n",
       "<tr>\n",
       "  <th>cpi_0</th>   <td>-0.0001</td>  <td>3.603e-05</td> <td>-2.9049</td> <td>0.0037</td>    <td>-0.0002</td>  <td>-3.405e-05</td>\n",
       "</tr>\n",
       "<tr>\n",
       "  <th>Mkt-RF</th>  <td>0.0061</td>    <td>0.0020</td>   <td>3.1136</td>  <td>0.0018</td>    <td>0.0023</td>     <td>0.0099</td>  \n",
       "</tr>\n",
       "</table><br/><br/>Covariance estimator:<br/>KernelCovariance, Kernel: bartlett, Bandwidth: 12<br/>See full_summary for complete results<br/>id: 0x2ad5f50c6d0"
      ],
      "text/plain": [
       "                      TradedFactorModel Estimation Summary                      \n",
       "================================================================================\n",
       "No. Test Portfolios:                 25   R-squared:                      0.7276\n",
       "No. Factors:                          3   J-statistic:                    89.046\n",
       "No. Observations:                   595   P-value                         0.0000\n",
       "Date:                  Sat, Mar 18 2023   Distribution:                 chi2(25)\n",
       "Time:                          17:53:21                                         \n",
       "Cov. Estimator:                  kernel                                         \n",
       "                                                                                \n",
       "                            Risk Premia Estimates                             \n",
       "==============================================================================\n",
       "            Parameter  Std. Err.     T-stat    P-value    Lower CI    Upper CI\n",
       "------------------------------------------------------------------------------\n",
       "gdp_0          0.0002     0.0001     1.4004     0.1614  -6.241e-05      0.0004\n",
       "cpi_0         -0.0001  3.603e-05    -2.9049     0.0037     -0.0002  -3.405e-05\n",
       "Mkt-RF         0.0061     0.0020     3.1136     0.0018      0.0023      0.0099\n",
       "==============================================================================\n",
       "\n",
       "Covariance estimator:\n",
       "KernelCovariance, Kernel: bartlett, Bandwidth: 12\n",
       "See full_summary for complete results\n",
       "LinearFactorModelResults, id: 0x2ad5f50c6d0"
      ]
     },
     "execution_count": 74,
     "metadata": {},
     "output_type": "execute_result"
    }
   ],
   "source": [
    "size_book_models_mom['macro+mkt']"
   ]
  },
  {
   "cell_type": "markdown",
   "id": "f2a6f0de-1fa2-4546-be48-c34e4fb18432",
   "metadata": {},
   "source": [
    "GDP's risk premia becomes insignificant (not a surprise from the factor creation stage).\n",
    "\n",
    "CPI's premia is highly significant, negative and very small."
   ]
  },
  {
   "cell_type": "code",
   "execution_count": 75,
   "id": "13e25212-0d69-4617-a135-d3e45ca7419a",
   "metadata": {},
   "outputs": [
    {
     "data": {
      "text/plain": [
       "J-statistic\n",
       "H0: All alphas are 0\n",
       "Statistic: 89.0458\n",
       "P-value: 0.0000\n",
       "Distributed: chi2(25)\n",
       "WaldTestStatistic, id: 0x2ad5f4aed00"
      ]
     },
     "execution_count": 75,
     "metadata": {},
     "output_type": "execute_result"
    }
   ],
   "source": [
    "size_book_models_mom['macro+mkt']._jstat"
   ]
  },
  {
   "cell_type": "code",
   "execution_count": 77,
   "id": "c4518e41-b659-4a3f-8382-d38228577a38",
   "metadata": {},
   "outputs": [
    {
     "data": {
      "text/plain": [
       "SMALL LoBM   -0.070035\n",
       "ME2 BM1      -0.026450\n",
       "ME3 BM1      -0.022094\n",
       "BIG LoBM     -0.002565\n",
       "ME4 BM1       0.000389\n",
       "ME5 BM4       0.002473\n",
       "ME5 BM2       0.011611\n",
       "ME1 BM2       0.012548\n",
       "ME4 BM2       0.012643\n",
       "ME1 BM3       0.015558\n",
       "ME5 BM3       0.015651\n",
       "ME2 BM2       0.015721\n",
       "BIG HiBM      0.017111\n",
       "ME4 BM3       0.018343\n",
       "ME3 BM3       0.019770\n",
       "ME3 BM2       0.023827\n",
       "ME2 BM3       0.024028\n",
       "ME4 BM4       0.024414\n",
       "ME3 BM4       0.032213\n",
       "ME4 BM5       0.033756\n",
       "ME2 BM4       0.036667\n",
       "ME2 BM5       0.039072\n",
       "ME1 BM4       0.044953\n",
       "ME3 BM5       0.049590\n",
       "SMALL HiBM    0.053801\n",
       "Name: alpha, dtype: float64"
      ]
     },
     "execution_count": 77,
     "metadata": {},
     "output_type": "execute_result"
    }
   ],
   "source": [
    "12*size_book_models_mom['macro+mkt'].alphas.sort_values()"
   ]
  },
  {
   "cell_type": "markdown",
   "id": "c94cb8f1-77e8-4452-9a66-51ceb71b342d",
   "metadata": {},
   "source": [
    "Reject null that alphas are 0 for the Macro + Mkt Model; the model does not price the portfolios.\n",
    "\n",
    "The J-statistic itself is the lowest amoung all the models (even FF5+Momentum+Macro). The biggest pricing errors are in the more extreme portfolios (particularly the \"SMALL\" portfolios)."
   ]
  },
  {
   "cell_type": "code",
   "execution_count": 80,
   "id": "deeeac47-da98-45f1-97cd-2ee1587dca19",
   "metadata": {},
   "outputs": [
    {
     "data": {
      "text/plain": [
       "J-statistic\n",
       "H0: All alphas are 0\n",
       "Statistic: 91.4080\n",
       "P-value: 0.0000\n",
       "Distributed: chi2(25)\n",
       "WaldTestStatistic, id: 0x2ad5f556880"
      ]
     },
     "execution_count": 80,
     "metadata": {},
     "output_type": "execute_result"
    }
   ],
   "source": [
    "size_book_models_mom['ff5+mom']._jstat"
   ]
  },
  {
   "cell_type": "code",
   "execution_count": 82,
   "id": "89eeb82c-bc3b-4204-84d4-1801fdfda5e1",
   "metadata": {},
   "outputs": [
    {
     "data": {
      "text/plain": [
       "J-statistic\n",
       "H0: All alphas are 0\n",
       "Statistic: 80.5827\n",
       "P-value: 0.0000\n",
       "Distributed: chi2(25)\n",
       "WaldTestStatistic, id: 0x2ad5f57d340"
      ]
     },
     "execution_count": 82,
     "metadata": {},
     "output_type": "execute_result"
    }
   ],
   "source": [
    "size_book_models_mom['ff5+macro']._jstat"
   ]
  },
  {
   "cell_type": "markdown",
   "id": "cb511dee-4cc7-413e-9d72-eed37d2bcf87",
   "metadata": {},
   "source": [
    "Adding macro to FF5 + Momentum enhances pricing (marginally)."
   ]
  },
  {
   "cell_type": "code",
   "execution_count": 83,
   "id": "859e30e7-c38a-4bd7-84f5-c848ce0a1929",
   "metadata": {},
   "outputs": [
    {
     "data": {
      "text/html": [
       "<table class=\"simpletable\">\n",
       "<caption>TradedFactorModel Estimation Summary</caption>\n",
       "<tr>\n",
       "  <th>No. Test Portfolios:</th>        <td>25</td>        <th>  R-squared:         </th>  <td>0.9174</td> \n",
       "</tr>\n",
       "<tr>\n",
       "  <th>No. Factors:</th>                 <td>5</td>        <th>  J-statistic:       </th>  <td>83.636</td> \n",
       "</tr>\n",
       "<tr>\n",
       "  <th>No. Observations:</th>           <td>595</td>       <th>  P-value            </th>  <td>0.0000</td> \n",
       "</tr>\n",
       "<tr>\n",
       "  <th>Date:</th>                <td>Sat, Mar 18 2023</td> <th>  Distribution:      </th> <td>chi2(25)</td>\n",
       "</tr>\n",
       "<tr>\n",
       "  <th>Time:</th>                    <td>17:53:21</td>     <th>                     </th>     <td></td>    \n",
       "</tr>\n",
       "<tr>\n",
       "  <th>Cov. Estimator:</th>           <td>kernel</td>      <th>                     </th>     <td></td>    \n",
       "</tr>\n",
       "<tr>\n",
       "  <th></th>                             <td></td>         <th>                     </th>     <td></td>    \n",
       "</tr>\n",
       "</table>\n",
       "<table class=\"simpletable\">\n",
       "<caption>Risk Premia Estimates</caption>\n",
       "<tr>\n",
       "     <td></td>    <th>Parameter</th> <th>Std. Err.</th> <th>T-stat</th>  <th>P-value</th>  <th>Lower CI</th>   <th>Upper CI</th> \n",
       "</tr>\n",
       "<tr>\n",
       "  <th>Mkt-RF</th>  <td>0.0061</td>    <td>0.0019</td>   <td>3.1229</td>  <td>0.0018</td>    <td>0.0023</td>     <td>0.0099</td>  \n",
       "</tr>\n",
       "<tr>\n",
       "  <th>SMB</th>     <td>0.0022</td>    <td>0.0012</td>   <td>1.7837</td>  <td>0.0745</td>    <td>-0.0002</td>    <td>0.0046</td>  \n",
       "</tr>\n",
       "<tr>\n",
       "  <th>HML</th>     <td>0.0030</td>    <td>0.0016</td>   <td>1.9047</td>  <td>0.0568</td>  <td>-8.807e-05</td>   <td>0.0062</td>  \n",
       "</tr>\n",
       "<tr>\n",
       "  <th>gdp_0</th>   <td>0.0002</td>    <td>0.0001</td>   <td>1.3668</td>  <td>0.1717</td>  <td>-6.779e-05</td>   <td>0.0004</td>  \n",
       "</tr>\n",
       "<tr>\n",
       "  <th>cpi_0</th>   <td>-0.0001</td>  <td>3.598e-05</td> <td>-2.9089</td> <td>0.0036</td>    <td>-0.0002</td>  <td>-3.415e-05</td>\n",
       "</tr>\n",
       "</table><br/><br/>Covariance estimator:<br/>KernelCovariance, Kernel: bartlett, Bandwidth: 9<br/>See full_summary for complete results<br/>id: 0x2ad5f5569d0"
      ],
      "text/plain": [
       "                      TradedFactorModel Estimation Summary                      \n",
       "================================================================================\n",
       "No. Test Portfolios:                 25   R-squared:                      0.9174\n",
       "No. Factors:                          5   J-statistic:                    83.636\n",
       "No. Observations:                   595   P-value                         0.0000\n",
       "Date:                  Sat, Mar 18 2023   Distribution:                 chi2(25)\n",
       "Time:                          17:53:21                                         \n",
       "Cov. Estimator:                  kernel                                         \n",
       "                                                                                \n",
       "                            Risk Premia Estimates                             \n",
       "==============================================================================\n",
       "            Parameter  Std. Err.     T-stat    P-value    Lower CI    Upper CI\n",
       "------------------------------------------------------------------------------\n",
       "Mkt-RF         0.0061     0.0019     3.1229     0.0018      0.0023      0.0099\n",
       "SMB            0.0022     0.0012     1.7837     0.0745     -0.0002      0.0046\n",
       "HML            0.0030     0.0016     1.9047     0.0568  -8.807e-05      0.0062\n",
       "gdp_0          0.0002     0.0001     1.3668     0.1717  -6.779e-05      0.0004\n",
       "cpi_0         -0.0001  3.598e-05    -2.9089     0.0036     -0.0002  -3.415e-05\n",
       "==============================================================================\n",
       "\n",
       "Covariance estimator:\n",
       "KernelCovariance, Kernel: bartlett, Bandwidth: 9\n",
       "See full_summary for complete results\n",
       "LinearFactorModelResults, id: 0x2ad5f5569d0"
      ]
     },
     "execution_count": 83,
     "metadata": {},
     "output_type": "execute_result"
    }
   ],
   "source": [
    "size_book_models_mom['ff3+macro']"
   ]
  },
  {
   "cell_type": "markdown",
   "id": "754d77cc-8be0-4818-b93f-4aeb5cda1d46",
   "metadata": {},
   "source": [
    "Macro factors do not subsume SMB and HML; GDP remains insignificant while CPI is still highly significant."
   ]
  },
  {
   "cell_type": "markdown",
   "id": "30d99668-7b38-482a-9d52-85f3c1fce1f5",
   "metadata": {},
   "source": [
    "###### YoY Model"
   ]
  },
  {
   "cell_type": "code",
   "execution_count": 92,
   "id": "cc9de01f-e41d-42f3-a696-b9c31c83dffb",
   "metadata": {},
   "outputs": [
    {
     "data": {
      "text/html": [
       "<table class=\"simpletable\">\n",
       "<caption>TradedFactorModel Estimation Summary</caption>\n",
       "<tr>\n",
       "  <th>No. Test Portfolios:</th>        <td>25</td>        <th>  R-squared:         </th>  <td>0.7263</td> \n",
       "</tr>\n",
       "<tr>\n",
       "  <th>No. Factors:</th>                 <td>3</td>        <th>  J-statistic:       </th>  <td>87.233</td> \n",
       "</tr>\n",
       "<tr>\n",
       "  <th>No. Observations:</th>           <td>595</td>       <th>  P-value            </th>  <td>0.0000</td> \n",
       "</tr>\n",
       "<tr>\n",
       "  <th>Date:</th>                <td>Sat, Mar 18 2023</td> <th>  Distribution:      </th> <td>chi2(25)</td>\n",
       "</tr>\n",
       "<tr>\n",
       "  <th>Time:</th>                    <td>17:53:21</td>     <th>                     </th>     <td></td>    \n",
       "</tr>\n",
       "<tr>\n",
       "  <th>Cov. Estimator:</th>           <td>kernel</td>      <th>                     </th>     <td></td>    \n",
       "</tr>\n",
       "<tr>\n",
       "  <th></th>                             <td></td>         <th>                     </th>     <td></td>    \n",
       "</tr>\n",
       "</table>\n",
       "<table class=\"simpletable\">\n",
       "<caption>Risk Premia Estimates</caption>\n",
       "<tr>\n",
       "     <td></td>    <th>Parameter</th> <th>Std. Err.</th> <th>T-stat</th>  <th>P-value</th> <th>Lower CI</th>   <th>Upper CI</th> \n",
       "</tr>\n",
       "<tr>\n",
       "  <th>gdp_1</th>   <td>0.0004</td>    <td>0.0002</td>   <td>1.9826</td>  <td>0.0474</td>  <td>4.684e-06</td>   <td>0.0008</td>  \n",
       "</tr>\n",
       "<tr>\n",
       "  <th>cpi_1</th>   <td>-0.0005</td>   <td>0.0002</td>   <td>-2.4412</td> <td>0.0146</td>   <td>-0.0009</td>  <td>-9.523e-05</td>\n",
       "</tr>\n",
       "<tr>\n",
       "  <th>Mkt-RF</th>  <td>0.0061</td>    <td>0.0019</td>   <td>3.1261</td>  <td>0.0018</td>   <td>0.0023</td>     <td>0.0099</td>  \n",
       "</tr>\n",
       "</table><br/><br/>Covariance estimator:<br/>KernelCovariance, Kernel: bartlett, Bandwidth: 7<br/>See full_summary for complete results<br/>id: 0x2ad5f5fb760"
      ],
      "text/plain": [
       "                      TradedFactorModel Estimation Summary                      \n",
       "================================================================================\n",
       "No. Test Portfolios:                 25   R-squared:                      0.7263\n",
       "No. Factors:                          3   J-statistic:                    87.233\n",
       "No. Observations:                   595   P-value                         0.0000\n",
       "Date:                  Sat, Mar 18 2023   Distribution:                 chi2(25)\n",
       "Time:                          17:53:21                                         \n",
       "Cov. Estimator:                  kernel                                         \n",
       "                                                                                \n",
       "                            Risk Premia Estimates                             \n",
       "==============================================================================\n",
       "            Parameter  Std. Err.     T-stat    P-value    Lower CI    Upper CI\n",
       "------------------------------------------------------------------------------\n",
       "gdp_1          0.0004     0.0002     1.9826     0.0474   4.684e-06      0.0008\n",
       "cpi_1         -0.0005     0.0002    -2.4412     0.0146     -0.0009  -9.523e-05\n",
       "Mkt-RF         0.0061     0.0019     3.1261     0.0018      0.0023      0.0099\n",
       "==============================================================================\n",
       "\n",
       "Covariance estimator:\n",
       "KernelCovariance, Kernel: bartlett, Bandwidth: 7\n",
       "See full_summary for complete results\n",
       "LinearFactorModelResults, id: 0x2ad5f5fb760"
      ]
     },
     "execution_count": 92,
     "metadata": {},
     "output_type": "execute_result"
    }
   ],
   "source": [
    "size_book_models_yoy['macro+mkt']"
   ]
  },
  {
   "cell_type": "markdown",
   "id": "4c080008-85b6-4e94-bc94-05a5e829a736",
   "metadata": {
    "jp-MarkdownHeadingCollapsed": true,
    "tags": []
   },
   "source": [
    "##### Test Assets: 30 Industry Portfolios"
   ]
  },
  {
   "cell_type": "code",
   "execution_count": 90,
   "id": "ae2819fa-7da6-4b29-8dc4-4105c693204d",
   "metadata": {},
   "outputs": [],
   "source": [
    "industry_models_mom = factor_models(industry_assets_m, factors_m[['gdp_0', 'cpi_0', 'Mkt-RF']])\n",
    "industry__models_yoy = factor_models(industry_assets_m, factors_m[['gdp_1', 'cpi_1', 'Mkt-RF']])"
   ]
  },
  {
   "cell_type": "code",
   "execution_count": 91,
   "id": "e3353c90-7450-4f0d-8225-fecb5bd5ec68",
   "metadata": {},
   "outputs": [
    {
     "data": {
      "text/html": [
       "<table class=\"simpletable\">\n",
       "<caption>TradedFactorModel Estimation Summary</caption>\n",
       "<tr>\n",
       "  <th>No. Test Portfolios:</th>        <td>30</td>        <th>  R-squared:         </th>  <td>0.5589</td> \n",
       "</tr>\n",
       "<tr>\n",
       "  <th>No. Factors:</th>                 <td>3</td>        <th>  J-statistic:       </th>  <td>70.963</td> \n",
       "</tr>\n",
       "<tr>\n",
       "  <th>No. Observations:</th>           <td>595</td>       <th>  P-value            </th>  <td>0.0000</td> \n",
       "</tr>\n",
       "<tr>\n",
       "  <th>Date:</th>                <td>Sat, Mar 18 2023</td> <th>  Distribution:      </th> <td>chi2(30)</td>\n",
       "</tr>\n",
       "<tr>\n",
       "  <th>Time:</th>                    <td>18:02:57</td>     <th>                     </th>     <td></td>    \n",
       "</tr>\n",
       "<tr>\n",
       "  <th>Cov. Estimator:</th>           <td>kernel</td>      <th>                     </th>     <td></td>    \n",
       "</tr>\n",
       "<tr>\n",
       "  <th></th>                             <td></td>         <th>                     </th>     <td></td>    \n",
       "</tr>\n",
       "</table>\n",
       "<table class=\"simpletable\">\n",
       "<caption>Risk Premia Estimates</caption>\n",
       "<tr>\n",
       "     <td></td>    <th>Parameter</th> <th>Std. Err.</th> <th>T-stat</th>  <th>P-value</th>  <th>Lower CI</th>   <th>Upper CI</th> \n",
       "</tr>\n",
       "<tr>\n",
       "  <th>gdp_0</th>   <td>0.0002</td>    <td>0.0001</td>   <td>1.3788</td>  <td>0.1680</td>  <td>-6.584e-05</td>   <td>0.0004</td>  \n",
       "</tr>\n",
       "<tr>\n",
       "  <th>cpi_0</th>   <td>-0.0001</td>  <td>3.584e-05</td> <td>-2.9205</td> <td>0.0035</td>    <td>-0.0002</td>  <td>-3.443e-05</td>\n",
       "</tr>\n",
       "<tr>\n",
       "  <th>Mkt-RF</th>  <td>0.0061</td>    <td>0.0019</td>   <td>3.1184</td>  <td>0.0018</td>    <td>0.0023</td>     <td>0.0099</td>  \n",
       "</tr>\n",
       "</table><br/><br/>Covariance estimator:<br/>KernelCovariance, Kernel: bartlett, Bandwidth: 10<br/>See full_summary for complete results<br/>id: 0x2ad5e7b5580"
      ],
      "text/plain": [
       "                      TradedFactorModel Estimation Summary                      \n",
       "================================================================================\n",
       "No. Test Portfolios:                 30   R-squared:                      0.5589\n",
       "No. Factors:                          3   J-statistic:                    70.963\n",
       "No. Observations:                   595   P-value                         0.0000\n",
       "Date:                  Sat, Mar 18 2023   Distribution:                 chi2(30)\n",
       "Time:                          18:02:57                                         \n",
       "Cov. Estimator:                  kernel                                         \n",
       "                                                                                \n",
       "                            Risk Premia Estimates                             \n",
       "==============================================================================\n",
       "            Parameter  Std. Err.     T-stat    P-value    Lower CI    Upper CI\n",
       "------------------------------------------------------------------------------\n",
       "gdp_0          0.0002     0.0001     1.3788     0.1680  -6.584e-05      0.0004\n",
       "cpi_0         -0.0001  3.584e-05    -2.9205     0.0035     -0.0002  -3.443e-05\n",
       "Mkt-RF         0.0061     0.0019     3.1184     0.0018      0.0023      0.0099\n",
       "==============================================================================\n",
       "\n",
       "Covariance estimator:\n",
       "KernelCovariance, Kernel: bartlett, Bandwidth: 10\n",
       "See full_summary for complete results\n",
       "LinearFactorModelResults, id: 0x2ad5e7b5580"
      ]
     },
     "execution_count": 91,
     "metadata": {},
     "output_type": "execute_result"
    }
   ],
   "source": [
    "industry_models_mom['macro+mkt']"
   ]
  },
  {
   "cell_type": "markdown",
   "id": "de47f570-907f-466f-9b1a-621ece391a5b",
   "metadata": {
    "jp-MarkdownHeadingCollapsed": true,
    "tags": []
   },
   "source": [
    "### Fama-MacBeth"
   ]
  },
  {
   "cell_type": "markdown",
   "id": "09ea4b0c-4763-4987-816b-629ef4c81332",
   "metadata": {},
   "source": [
    "#### Full-Sample"
   ]
  },
  {
   "cell_type": "markdown",
   "id": "15f8bd80-6de2-452e-a468-9c7357f097af",
   "metadata": {},
   "source": [
    "##### 1st Stage"
   ]
  },
  {
   "cell_type": "code",
   "execution_count": 14,
   "id": "eae0ed18-3183-4e87-bb46-20119eefd29c",
   "metadata": {},
   "outputs": [],
   "source": [
    "beta = []\n",
    "for portfolio in size_book_assets:\n",
    "    ts = sm.OLS(size_book_assets.loc[size_book_assets.index,portfolio],factors.iloc[:,0:3]).fit()\n",
    "    beta.append(ts.params[1:])\n",
    "\n",
    "beta = pd.DataFrame(beta)\n",
    "beta.index = size_book_assets.columns"
   ]
  },
  {
   "cell_type": "markdown",
   "id": "cfdb9c71-3088-4fef-b35c-04062bc2d297",
   "metadata": {},
   "source": [
    "##### 2nd Stage"
   ]
  },
  {
   "cell_type": "code",
   "execution_count": 16,
   "id": "f06f992c-dc5d-4892-b665-60359ba5e6e5",
   "metadata": {},
   "outputs": [],
   "source": [
    "lambdas = []\n",
    "alphas = []\n",
    "for t in range(0,size_book_assets.index.shape[0]):\n",
    "    cs = sm.OLS(np.array(size_book_assets)[t].T, beta).fit()\n",
    "    lambdas.append(cs.params)\n",
    "    alphas.append(cs.resid)"
   ]
  },
  {
   "cell_type": "code",
   "execution_count": 17,
   "id": "b49e79c6-b883-4826-a820-7bc6ce6a2110",
   "metadata": {},
   "outputs": [
    {
     "data": {
      "text/plain": [
       "gdp_factor    0.019831\n",
       "cpi_factor   -0.005323\n",
       "dtype: float64"
      ]
     },
     "execution_count": 17,
     "metadata": {},
     "output_type": "execute_result"
    }
   ],
   "source": [
    "lambdas_df = pd.DataFrame(lambdas)\n",
    "lambdas_df.mean()"
   ]
  },
  {
   "cell_type": "code",
   "execution_count": 44,
   "id": "19ca45dd-29e1-43f4-88f9-df43ba71b780",
   "metadata": {},
   "outputs": [],
   "source": [
    "se_gdp = ((lambdas_df['gdp_factor'] - lambdas_df.mean()['gdp_factor'])**2).sum() / len(lambdas_df)\n",
    "se_cpi = ((lambdas_df['cpi_factor'] - lambdas_df.mean()['cpi_factor'])**2).sum() / len(lambdas_df)"
   ]
  },
  {
   "cell_type": "code",
   "execution_count": 45,
   "id": "b5cf1a42-98d0-4d21-abbe-bd08bd004d2e",
   "metadata": {},
   "outputs": [
    {
     "name": "stdout",
     "output_type": "stream",
     "text": [
      "0.21410 -4.84238\n"
     ]
    }
   ],
   "source": [
    "# Fama-MacBeth t-stat without controlling for autocorrelation \n",
    "print(f'{lambdas_df.mean()[\"gdp_factor\"]/se_gdp:0.5f}', f'{lambdas_df.mean()[\"cpi_factor\"]/se_cpi:0.5f}')"
   ]
  },
  {
   "cell_type": "code",
   "execution_count": 20,
   "id": "2a2a8750-d410-4f54-ae37-ccfdf3923dc4",
   "metadata": {},
   "outputs": [],
   "source": [
    "# Joint test of alphas\n",
    "alphas_df = pd.DataFrame(alphas)\n",
    "alpha_hat = alphas_df.mean()"
   ]
  },
  {
   "cell_type": "code",
   "execution_count": 58,
   "id": "d254e726-104a-4cc4-b3b5-c86f53035744",
   "metadata": {},
   "outputs": [],
   "source": [
    "cov_alpha = ((alphas_df - alpha_hat).T @ (alphas_df - alpha_hat)) / len(alphas_df)**2"
   ]
  },
  {
   "cell_type": "code",
   "execution_count": 62,
   "id": "e51aa4b3-9a42-457d-8aff-ab04f1057b86",
   "metadata": {},
   "outputs": [
    {
     "data": {
      "text/plain": [
       "166.35894853628417"
      ]
     },
     "execution_count": 62,
     "metadata": {},
     "output_type": "execute_result"
    }
   ],
   "source": [
    "# Chi Squared Stat\n",
    "alpha_chi = alpha_hat.T @ np.linalg.inv(cov_alpha) @ alpha_hat\n",
    "alpha_chi"
   ]
  },
  {
   "cell_type": "code",
   "execution_count": 63,
   "id": "a837a57e-2883-404f-a5a8-ce77c87edf4a",
   "metadata": {},
   "outputs": [],
   "source": [
    "from scipy.stats import chi2"
   ]
  },
  {
   "cell_type": "code",
   "execution_count": 64,
   "id": "f6092cda-a4de-45b4-bcb9-41b5680a43a7",
   "metadata": {},
   "outputs": [
    {
     "data": {
      "text/plain": [
       "1.0"
      ]
     },
     "execution_count": 64,
     "metadata": {},
     "output_type": "execute_result"
    }
   ],
   "source": [
    "alpha_p_val = 1 - chi2(len(alphas_df)-1).cdf(alpha_chi)\n",
    "alpha_p_val"
   ]
  },
  {
   "cell_type": "markdown",
   "id": "67163bb9-5038-49a2-acce-2afcacdf50fd",
   "metadata": {
    "tags": []
   },
   "source": [
    "#### 5 year Rolling Window"
   ]
  },
  {
   "cell_type": "markdown",
   "id": "1bccf558-e343-48ec-9230-deea0b5bbc77",
   "metadata": {},
   "source": [
    "##### 1st Stage"
   ]
  },
  {
   "cell_type": "code",
   "execution_count": 30,
   "id": "0192a911-fc1f-4617-8e70-7da5e3b2601c",
   "metadata": {},
   "outputs": [],
   "source": [
    "from statsmodels.regression.rolling import RollingOLS"
   ]
  },
  {
   "cell_type": "code",
   "execution_count": 31,
   "id": "2f05df4f-861d-4408-82b3-f9f228f3f54c",
   "metadata": {},
   "outputs": [],
   "source": [
    "beta = {}\n",
    "for portfolio in size_book_assets:\n",
    "    ts = RollingOLS(size_book_assets.loc[size_book_assets.index,portfolio],factors.iloc[:,0:3], window=60).fit()\n",
    "    beta[portfolio] = ts.params[1:]"
   ]
  },
  {
   "cell_type": "code",
   "execution_count": 32,
   "id": "90d2bc26-5fac-4850-b245-295314639340",
   "metadata": {},
   "outputs": [],
   "source": [
    "betas_T = {}\n",
    "for t in range(60,len(size_book_assets)-60):\n",
    "    betas = []\n",
    "    for portfolio in size_book_assets.columns:\n",
    "        betas.append(beta[portfolio].iloc[t])\n",
    "    \n",
    "    betas_df = pd.DataFrame(np.array(betas), index=size_book_assets.columns, columns=['const', 'gdp_factor', 'cpi_factor'])\n",
    "    \n",
    "    betas_T[t] = betas_df"
   ]
  },
  {
   "cell_type": "markdown",
   "id": "bbbb8a20-9713-40a7-9512-b2f9ca969cbc",
   "metadata": {},
   "source": [
    "##### 2nd Stage"
   ]
  },
  {
   "cell_type": "code",
   "execution_count": 33,
   "id": "e645688d-79c8-4998-b8f6-c8572a2e2a64",
   "metadata": {},
   "outputs": [],
   "source": [
    "lambdas = []\n",
    "alphas = []\n",
    "for t in range(60,len(size_book_assets)-60):\n",
    "    cs = sm.OLS(np.array(size_book_assets)[t].T, betas_T[t]).fit()\n",
    "    lambdas.append(cs.params)\n",
    "    alphas.append(cs.resid)"
   ]
  },
  {
   "cell_type": "code",
   "execution_count": 34,
   "id": "966e6b48-b434-48be-98bd-df4333ccf1cd",
   "metadata": {},
   "outputs": [
    {
     "data": {
      "text/plain": [
       "const         0.901521\n",
       "gdp_factor    0.000045\n",
       "cpi_factor   -0.001267\n",
       "dtype: float64"
      ]
     },
     "execution_count": 34,
     "metadata": {},
     "output_type": "execute_result"
    }
   ],
   "source": [
    "pd.DataFrame(lambdas).mean()"
   ]
  },
  {
   "cell_type": "code",
   "execution_count": 401,
   "id": "b0c32a8b-1c39-44c9-9262-ab5b4865ecc5",
   "metadata": {},
   "outputs": [],
   "source": [
    "# pd.DataFrame(alphas).mean()"
   ]
  },
  {
   "cell_type": "markdown",
   "id": "c0f6ea02-bae0-4111-8ca9-61f7ff1bf8ba",
   "metadata": {},
   "source": [
    "### GMM?"
   ]
  },
  {
   "cell_type": "code",
   "execution_count": null,
   "id": "0fa52a79-553e-499c-95cd-8aa360aff731",
   "metadata": {},
   "outputs": [],
   "source": []
  }
 ],
 "metadata": {
  "kernelspec": {
   "display_name": "Python 3 (ipykernel)",
   "language": "python",
   "name": "python3"
  },
  "language_info": {
   "codemirror_mode": {
    "name": "ipython",
    "version": 3
   },
   "file_extension": ".py",
   "mimetype": "text/x-python",
   "name": "python",
   "nbconvert_exporter": "python",
   "pygments_lexer": "ipython3",
   "version": "3.9.12"
  }
 },
 "nbformat": 4,
 "nbformat_minor": 5
}
