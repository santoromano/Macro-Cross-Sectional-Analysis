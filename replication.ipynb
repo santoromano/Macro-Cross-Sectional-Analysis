{
 "cells": [
  {
   "cell_type": "markdown",
   "id": "d70ad51d-52ef-4bf1-a949-3fcfbde94ae0",
   "metadata": {},
   "source": [
    "# Replication of Chen, Roll & Ross (1986)"
   ]
  },
  {
   "cell_type": "code",
   "execution_count": null,
   "id": "ad8d1fc9-53d0-4054-8c60-d7e6484f4a23",
   "metadata": {},
   "outputs": [],
   "source": []
  },
  {
   "cell_type": "code",
   "execution_count": null,
   "id": "3725682d-e94e-483d-a08e-4877d5a9e674",
   "metadata": {},
   "outputs": [],
   "source": []
  },
  {
   "cell_type": "code",
   "execution_count": null,
   "id": "2a618d93-8829-4e47-847e-0fcda4eddaeb",
   "metadata": {},
   "outputs": [],
   "source": []
  }
 ],
 "metadata": {
  "kernelspec": {
   "display_name": "Python 3 (ipykernel)",
   "language": "python",
   "name": "python3"
  },
  "language_info": {
   "codemirror_mode": {
    "name": "ipython",
    "version": 3
   },
   "file_extension": ".py",
   "mimetype": "text/x-python",
   "name": "python",
   "nbconvert_exporter": "python",
   "pygments_lexer": "ipython3",
   "version": "3.9.12"
  }
 },
 "nbformat": 4,
 "nbformat_minor": 5
}
