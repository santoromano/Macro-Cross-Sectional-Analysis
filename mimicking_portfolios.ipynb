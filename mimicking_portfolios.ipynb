{
 "cells": [
  {
   "cell_type": "markdown",
   "id": "3a081367-cc3e-42ef-9627-b62c64894e3f",
   "metadata": {},
   "source": [
    "# Creation of GDP and CPI Mimicking portfolios"
   ]
  },
  {
   "cell_type": "markdown",
   "id": "eabec195-8d98-4d2f-aa53-6e95c5a3a42d",
   "metadata": {},
   "source": [
    "## Data Prep"
   ]
  },
  {
   "cell_type": "code",
   "execution_count": 1,
   "id": "5e9f3596-3ad3-4fa6-92e0-0df69faa2e34",
   "metadata": {},
   "outputs": [],
   "source": [
    "import pandas as pd\n",
    "import numpy as np\n",
    "import statsmodels.api as sm"
   ]
  },
  {
   "cell_type": "code",
   "execution_count": 2,
   "id": "6781bacc-7333-4caa-8708-865a0701ec26",
   "metadata": {},
   "outputs": [],
   "source": [
    "data = pd.read_csv('merged_data.csv', index_col=0)"
   ]
  },
  {
   "cell_type": "code",
   "execution_count": 3,
   "id": "e0946670-b4be-4462-b0e9-3102cf204d14",
   "metadata": {},
   "outputs": [],
   "source": [
    "data['def'] = np.log(data['corp_bond_return']/data['corp_bond_return'].shift(1)) - data['20y_return']\n",
    "data['term'] = data['30y_return'] - data['rf']"
   ]
  },
  {
   "cell_type": "code",
   "execution_count": 4,
   "id": "ca873162-55dd-44f9-9c40-fb9af082cd11",
   "metadata": {},
   "outputs": [],
   "source": [
    "data['defy'] = (data['BAA'] - data['AAA'])/100\n",
    "data['termy'] = (data['10 year'] - data['1 year'])/100"
   ]
  },
  {
   "cell_type": "code",
   "execution_count": 26,
   "id": "5cbe0c79-fa21-481b-b359-f0359b324c3a",
   "metadata": {},
   "outputs": [],
   "source": [
    "# Predictors\n",
    "predictors = data[['SL', 'SM', 'SH', 'BL', 'HM', 'BH',\n",
    "                                   'def', 'term', 'defy', 'termy', 'rf']].copy().dropna()\n",
    "portfolios = ['SL', 'SM', 'SH', 'BL', 'HM', 'BH']\n",
    "for portfolio in portfolios:\n",
    "    predictors[portfolio] = predictors[portfolio]/100 - predictors['rf'] "
   ]
  },
  {
   "cell_type": "code",
   "execution_count": 27,
   "id": "d3d2aa23-a329-4824-9ea6-a1464b887c62",
   "metadata": {},
   "outputs": [
    {
     "data": {
      "text/html": [
       "<div>\n",
       "<style scoped>\n",
       "    .dataframe tbody tr th:only-of-type {\n",
       "        vertical-align: middle;\n",
       "    }\n",
       "\n",
       "    .dataframe tbody tr th {\n",
       "        vertical-align: top;\n",
       "    }\n",
       "\n",
       "    .dataframe thead th {\n",
       "        text-align: right;\n",
       "    }\n",
       "</style>\n",
       "<table border=\"1\" class=\"dataframe\">\n",
       "  <thead>\n",
       "    <tr style=\"text-align: right;\">\n",
       "      <th></th>\n",
       "      <th>SL</th>\n",
       "      <th>SM</th>\n",
       "      <th>SH</th>\n",
       "      <th>BL</th>\n",
       "      <th>HM</th>\n",
       "      <th>BH</th>\n",
       "      <th>def</th>\n",
       "      <th>term</th>\n",
       "      <th>defy</th>\n",
       "      <th>termy</th>\n",
       "      <th>rf</th>\n",
       "    </tr>\n",
       "  </thead>\n",
       "  <tbody>\n",
       "    <tr>\n",
       "      <th>1973-04-30</th>\n",
       "      <td>-0.116366</td>\n",
       "      <td>-0.059144</td>\n",
       "      <td>-0.054957</td>\n",
       "      <td>-0.065703</td>\n",
       "      <td>-0.030393</td>\n",
       "      <td>-0.018819</td>\n",
       "      <td>-0.003262</td>\n",
       "      <td>-0.001740</td>\n",
       "      <td>0.0083</td>\n",
       "      <td>-0.0010</td>\n",
       "      <td>0.005002</td>\n",
       "    </tr>\n",
       "    <tr>\n",
       "      <th>1973-05-31</th>\n",
       "      <td>-0.111271</td>\n",
       "      <td>-0.077172</td>\n",
       "      <td>-0.078682</td>\n",
       "      <td>-0.013939</td>\n",
       "      <td>-0.025844</td>\n",
       "      <td>-0.038340</td>\n",
       "      <td>0.008574</td>\n",
       "      <td>-0.013672</td>\n",
       "      <td>0.0077</td>\n",
       "      <td>-0.0023</td>\n",
       "      <td>0.005098</td>\n",
       "    </tr>\n",
       "    <tr>\n",
       "      <th>1973-06-30</th>\n",
       "      <td>-0.056169</td>\n",
       "      <td>-0.034510</td>\n",
       "      <td>-0.032328</td>\n",
       "      <td>-0.014313</td>\n",
       "      <td>-0.008784</td>\n",
       "      <td>-0.014188</td>\n",
       "      <td>0.000121</td>\n",
       "      <td>-0.007495</td>\n",
       "      <td>0.0076</td>\n",
       "      <td>-0.0080</td>\n",
       "      <td>0.005379</td>\n",
       "    </tr>\n",
       "    <tr>\n",
       "      <th>1973-07-31</th>\n",
       "      <td>0.176029</td>\n",
       "      <td>0.095916</td>\n",
       "      <td>0.084404</td>\n",
       "      <td>0.057668</td>\n",
       "      <td>0.016414</td>\n",
       "      <td>0.043144</td>\n",
       "      <td>0.041822</td>\n",
       "      <td>-0.048362</td>\n",
       "      <td>0.0079</td>\n",
       "      <td>-0.0144</td>\n",
       "      <td>0.006540</td>\n",
       "    </tr>\n",
       "    <tr>\n",
       "      <th>1973-08-31</th>\n",
       "      <td>-0.045824</td>\n",
       "      <td>-0.059812</td>\n",
       "      <td>-0.047233</td>\n",
       "      <td>-0.039251</td>\n",
       "      <td>-0.036736</td>\n",
       "      <td>-0.013048</td>\n",
       "      <td>-0.032932</td>\n",
       "      <td>0.026077</td>\n",
       "      <td>0.0085</td>\n",
       "      <td>-0.0122</td>\n",
       "      <td>0.006855</td>\n",
       "    </tr>\n",
       "    <tr>\n",
       "      <th>...</th>\n",
       "      <td>...</td>\n",
       "      <td>...</td>\n",
       "      <td>...</td>\n",
       "      <td>...</td>\n",
       "      <td>...</td>\n",
       "      <td>...</td>\n",
       "      <td>...</td>\n",
       "      <td>...</td>\n",
       "      <td>...</td>\n",
       "      <td>...</td>\n",
       "      <td>...</td>\n",
       "    </tr>\n",
       "    <tr>\n",
       "      <th>2022-08-31</th>\n",
       "      <td>0.001011</td>\n",
       "      <td>-0.024650</td>\n",
       "      <td>-0.024405</td>\n",
       "      <td>-0.049074</td>\n",
       "      <td>-0.022420</td>\n",
       "      <td>-0.017718</td>\n",
       "      <td>0.000711</td>\n",
       "      <td>-0.055391</td>\n",
       "      <td>0.0108</td>\n",
       "      <td>-0.0035</td>\n",
       "      <td>0.001901</td>\n",
       "    </tr>\n",
       "    <tr>\n",
       "      <th>2022-09-30</th>\n",
       "      <td>-0.095166</td>\n",
       "      <td>-0.102378</td>\n",
       "      <td>-0.099396</td>\n",
       "      <td>-0.093165</td>\n",
       "      <td>-0.092168</td>\n",
       "      <td>-0.087833</td>\n",
       "      <td>-0.030357</td>\n",
       "      <td>-0.087084</td>\n",
       "      <td>0.0110</td>\n",
       "      <td>-0.0022</td>\n",
       "      <td>0.001929</td>\n",
       "    </tr>\n",
       "    <tr>\n",
       "      <th>2022-10-31</th>\n",
       "      <td>0.070206</td>\n",
       "      <td>0.101226</td>\n",
       "      <td>0.136357</td>\n",
       "      <td>0.052402</td>\n",
       "      <td>0.105318</td>\n",
       "      <td>0.147344</td>\n",
       "      <td>0.014156</td>\n",
       "      <td>-0.067951</td>\n",
       "      <td>0.0116</td>\n",
       "      <td>-0.0056</td>\n",
       "      <td>0.002327</td>\n",
       "    </tr>\n",
       "    <tr>\n",
       "      <th>2022-11-30</th>\n",
       "      <td>-0.007285</td>\n",
       "      <td>0.027681</td>\n",
       "      <td>0.023308</td>\n",
       "      <td>0.048466</td>\n",
       "      <td>0.051688</td>\n",
       "      <td>0.045547</td>\n",
       "      <td>0.017402</td>\n",
       "      <td>0.075075</td>\n",
       "      <td>0.0117</td>\n",
       "      <td>-0.0106</td>\n",
       "      <td>0.002856</td>\n",
       "    </tr>\n",
       "    <tr>\n",
       "      <th>2022-12-31</th>\n",
       "      <td>-0.062242</td>\n",
       "      <td>-0.071203</td>\n",
       "      <td>-0.058108</td>\n",
       "      <td>-0.075099</td>\n",
       "      <td>-0.043184</td>\n",
       "      <td>-0.052810</td>\n",
       "      <td>0.016112</td>\n",
       "      <td>-0.039332</td>\n",
       "      <td>0.0116</td>\n",
       "      <td>-0.0085</td>\n",
       "      <td>0.003379</td>\n",
       "    </tr>\n",
       "  </tbody>\n",
       "</table>\n",
       "<p>597 rows × 11 columns</p>\n",
       "</div>"
      ],
      "text/plain": [
       "                  SL        SM        SH        BL        HM        BH  \\\n",
       "1973-04-30 -0.116366 -0.059144 -0.054957 -0.065703 -0.030393 -0.018819   \n",
       "1973-05-31 -0.111271 -0.077172 -0.078682 -0.013939 -0.025844 -0.038340   \n",
       "1973-06-30 -0.056169 -0.034510 -0.032328 -0.014313 -0.008784 -0.014188   \n",
       "1973-07-31  0.176029  0.095916  0.084404  0.057668  0.016414  0.043144   \n",
       "1973-08-31 -0.045824 -0.059812 -0.047233 -0.039251 -0.036736 -0.013048   \n",
       "...              ...       ...       ...       ...       ...       ...   \n",
       "2022-08-31  0.001011 -0.024650 -0.024405 -0.049074 -0.022420 -0.017718   \n",
       "2022-09-30 -0.095166 -0.102378 -0.099396 -0.093165 -0.092168 -0.087833   \n",
       "2022-10-31  0.070206  0.101226  0.136357  0.052402  0.105318  0.147344   \n",
       "2022-11-30 -0.007285  0.027681  0.023308  0.048466  0.051688  0.045547   \n",
       "2022-12-31 -0.062242 -0.071203 -0.058108 -0.075099 -0.043184 -0.052810   \n",
       "\n",
       "                 def      term    defy   termy        rf  \n",
       "1973-04-30 -0.003262 -0.001740  0.0083 -0.0010  0.005002  \n",
       "1973-05-31  0.008574 -0.013672  0.0077 -0.0023  0.005098  \n",
       "1973-06-30  0.000121 -0.007495  0.0076 -0.0080  0.005379  \n",
       "1973-07-31  0.041822 -0.048362  0.0079 -0.0144  0.006540  \n",
       "1973-08-31 -0.032932  0.026077  0.0085 -0.0122  0.006855  \n",
       "...              ...       ...     ...     ...       ...  \n",
       "2022-08-31  0.000711 -0.055391  0.0108 -0.0035  0.001901  \n",
       "2022-09-30 -0.030357 -0.087084  0.0110 -0.0022  0.001929  \n",
       "2022-10-31  0.014156 -0.067951  0.0116 -0.0056  0.002327  \n",
       "2022-11-30  0.017402  0.075075  0.0117 -0.0106  0.002856  \n",
       "2022-12-31  0.016112 -0.039332  0.0116 -0.0085  0.003379  \n",
       "\n",
       "[597 rows x 11 columns]"
      ]
     },
     "execution_count": 27,
     "metadata": {},
     "output_type": "execute_result"
    }
   ],
   "source": [
    "predictors"
   ]
  },
  {
   "cell_type": "code",
   "execution_count": 38,
   "id": "d062d7cc-3c9e-4358-999b-0fb4ebdcc9db",
   "metadata": {},
   "outputs": [],
   "source": [
    "# GDP & CPI\n",
    "gdp = data['BBKMGDP'].rename('gdp').to_frame().iloc[:-3]\n",
    "cpi = data['CPIAUCSL'].rename('cpi').to_frame().iloc[:-3]\n",
    "\n",
    "# Transformations \n",
    "gdp['gdp_mom'] = gdp['gdp'] / 100\n",
    "gdp['level'] = (1 + gdp['gdp_mom']).cumprod()\n",
    "gdp['gdp_yoy'] = np.log(gdp['level'] / gdp['level'].shift(12)) # 4 quarter change = 12 month change\n",
    "\n",
    "cpi['cpi_mom'] = np.log(cpi['cpi'] / cpi['cpi'].shift(1))\n",
    "cpi['cpi_yoy'] = np.log(cpi['cpi'] / cpi['cpi'].shift(12))\n",
    "\n",
    "cpi = cpi.shift(1)"
   ]
  },
  {
   "cell_type": "markdown",
   "id": "f266857c-e9e0-4e1f-aa0b-e526cb3075c8",
   "metadata": {},
   "source": [
    "## Can the base assets predict future GDP & CPI?\n",
    "\n",
    "Vassalou (2003) use a bootstrap procedure to see if the base assets are jointly significant in predicted GDP above and beyond the control variables.\n",
    "\n",
    "Specifically the bootstrap procedure is as follows:\n",
    "\n",
    "1) The regression is estimated: \n",
    "\n",
    "<font size=3>\n",
    "$\n",
    "\\%\\Delta GDP_{t,t+12} = a + cB_{t-1,t} + kZ_{t-2,t-1} + e_{t,t+12}\n",
    "$\n",
    "</font>\n",
    "\n",
    "Where B is a vector of returns on the 8 base assets, and Z is a vector of control variables.    \n",
    "\n",
    "2) Draw a random sample (with replacement) of the explanatory variables and estimated residuals\n",
    "\n",
    "3) Compute a GDP growth rate forcast assuming c=0\n",
    "\n",
    "<font size=3>\n",
    "$\n",
    "\\%\\Delta \\hat{GDP}_{t,t+12} = \\hat{a} + \\hat{k}Z_{t-2,t-1} + \\hat{e}_{t,t+12}\n",
    "$\n",
    "</font>\n",
    "\n",
    "4) Regress the null GDP growth rate from (3) on the bootstrapped sample of explanatory variables; compute the Wald Statistic\n",
    "\n",
    "6) This is repeated 10,000 times. The actual Wald Statistic is compared against the bootstrapped distribution, and the emprical p-value is computed. "
   ]
  },
  {
   "cell_type": "markdown",
   "id": "068547b6-8bed-42f3-8df5-5cc7ea96026a",
   "metadata": {},
   "source": [
    "### GDP Bootstrap"
   ]
  },
  {
   "cell_type": "code",
   "execution_count": 133,
   "id": "aa1e53e7-1911-4ada-9419-0328a602173c",
   "metadata": {},
   "outputs": [],
   "source": [
    "# Data\n",
    "controls = sm.add_constant(predictors.iloc[:,-3:].shift(2).dropna())\n",
    "constant = controls.iloc[:,0]\n",
    "assets = predictors.iloc[1:,0:6].shift(1).dropna()\n",
    "y = gdp['gdp_yoy'].loc['1973-04':].iloc[2:]"
   ]
  },
  {
   "cell_type": "markdown",
   "id": "a7dec955-84fe-4b0d-a850-a933802708cb",
   "metadata": {},
   "source": [
    "#### Only base assets"
   ]
  },
  {
   "cell_type": "code",
   "execution_count": 134,
   "id": "c61318c5-fae6-4f8a-b3b4-94881f0f4d91",
   "metadata": {},
   "outputs": [
    {
     "name": "stdout",
     "output_type": "stream",
     "text": [
      "P-value= 0.39646 Wald Stat=  6.244\n"
     ]
    }
   ],
   "source": [
    "# Initial Model\n",
    "model1 = sm.OLS(y, pd.concat([constant, assets], axis=1)).fit(cov_type='HAC', cov_kwds={'maxlags':3})\n",
    "\n",
    "coeffs1_0 = [x + '=0' for x in assets]\n",
    "wald_stat1 = model1.wald_test(','.join(coeffs1_0), scalar=True, use_f=False).statistic\n",
    "p1 = model1.wald_test(','.join(coeffs1_0), scalar=True, use_f=False).pvalue\n",
    "print('P-value=', f'{p1:0.5f}', 'Wald Stat= ', f'{wald_stat1:0.3f}')"
   ]
  },
  {
   "cell_type": "code",
   "execution_count": 137,
   "id": "4d8c6fb6-4b3f-4943-a66d-2dc5790a39d9",
   "metadata": {},
   "outputs": [],
   "source": [
    "sample_df1 = pd.concat([y, constant, assets], axis=1)\n",
    "n = len(sample_df1)"
   ]
  },
  {
   "cell_type": "code",
   "execution_count": 138,
   "id": "1eb19124-9c18-46d1-899d-e24f498cbf06",
   "metadata": {},
   "outputs": [],
   "source": [
    "# Bootstrap\n",
    "boot1_wald = []\n",
    "n_boots = 10000\n",
    "\n",
    "for _ in range(n_boots):\n",
    "    boot_df = sample_df1.sample(n=n, replace=True)\n",
    "    \n",
    "    boot_model = sm.OLS(boot_df['gdp_yoy'], boot_df.iloc[:,1:]).fit(cov_type='HAC', cov_kwds={'maxlags':3})\n",
    "    \n",
    "    coeffs_0 = [x + '=0' for x in boot_df.iloc[:,-6:]]\n",
    "    boot1_wald.append(boot_model.wald_test(','.join(coeffs_0), scalar=True, use_f=False).statistic)\n",
    "\n",
    "boot1_wald = np.array(boot1_wald)"
   ]
  },
  {
   "cell_type": "code",
   "execution_count": 141,
   "id": "72c35f9a-4d5d-4440-a096-4b3612a5051a",
   "metadata": {},
   "outputs": [
    {
     "name": "stdout",
     "output_type": "stream",
     "text": [
      " 0.98520\n"
     ]
    }
   ],
   "source": [
    "empirical_p1 = np.sum(boot1_wald >= wald_stat1)/len(boot1_wald)\n",
    "print(f'{empirical_p1: 0.5f}')"
   ]
  },
  {
   "cell_type": "markdown",
   "id": "0a25d306-4af1-4a6f-9b24-c59066681d46",
   "metadata": {
    "tags": []
   },
   "source": [
    "#### Base assets + Controls"
   ]
  },
  {
   "cell_type": "code",
   "execution_count": 142,
   "id": "f902e3ff-9753-4e59-af59-6791c61f54be",
   "metadata": {},
   "outputs": [
    {
     "name": "stdout",
     "output_type": "stream",
     "text": [
      "P-value= 0.36288 Wald Stat=  6.566\n"
     ]
    }
   ],
   "source": [
    "# Initial Model\n",
    "model2 = sm.OLS(y, pd.concat([controls, assets], axis=1)).fit(cov_type='HAC', cov_kwds={'maxlags':3})\n",
    "\n",
    "coeffs2_0 = [x + '=0' for x in assets]\n",
    "wald_stat2 = model2.wald_test(','.join(coeffs2_0), scalar=True, use_f=False).statistic\n",
    "p2 = model2.wald_test(','.join(coeffs2_0), scalar=True, use_f=False).pvalue\n",
    "print('P-value=', f'{p2:0.5f}', 'Wald Stat= ', f'{wald_stat2:0.3f}')"
   ]
  },
  {
   "cell_type": "code",
   "execution_count": 143,
   "id": "dcdd81e4-e64d-4c63-a194-92754b58c691",
   "metadata": {},
   "outputs": [],
   "source": [
    "sample_df2 = pd.concat([y, controls, assets], axis=1)\n",
    "n = len(sample_df2)"
   ]
  },
  {
   "cell_type": "code",
   "execution_count": null,
   "id": "afcef376-cb05-401c-87a5-b43dad61283b",
   "metadata": {},
   "outputs": [],
   "source": [
    "# Bootstrap\n",
    "boot2_wald = []\n",
    "n_boots = 10000\n",
    "\n",
    "for _ in range(n_boots):\n",
    "    boot_df = sample_df2.sample(n=n, replace=True)\n",
    "    \n",
    "    boot_model = sm.OLS(boot_df['gdp_yoy'], boot_df.iloc[:,1:]).fit(cov_type='HAC', cov_kwds={'maxlags':3})\n",
    "    \n",
    "    coeffs_0 = [x + '=0' for x in boot_df.iloc[:,-6:]]\n",
    "    boot2_wald.append(boot_model.wald_test(','.join(coeffs_0), scalar=True, use_f=False).statistic)\n",
    "\n",
    "boot2_wald = np.array(boot2_wald)"
   ]
  },
  {
   "cell_type": "code",
   "execution_count": null,
   "id": "8c9a4ad6-e01f-4bf0-9f3e-5a6781367c0d",
   "metadata": {},
   "outputs": [],
   "source": [
    "empirical_p2 = np.sum(boot2_wald >= wald_stat2)/len(boot2_wald)\n",
    "print(f'{empirical_p2: 0.5f}')"
   ]
  },
  {
   "cell_type": "markdown",
   "id": "6e9caa73-ee4c-4a34-8a1a-a40fe7f734d4",
   "metadata": {},
   "source": [
    "### GDP\n",
    "Since this is an expectation of monthly GDP, instead of \"news related to future GDP growth\", this factor would be more related to innovations in expectations of future GDP growth. "
   ]
  },
  {
   "cell_type": "code",
   "execution_count": 15,
   "id": "2f7bafa1-81dd-4328-8c9d-e57d80c31ece",
   "metadata": {},
   "outputs": [
    {
     "data": {
      "text/html": [
       "<table class=\"simpletable\">\n",
       "<caption>OLS Regression Results</caption>\n",
       "<tr>\n",
       "  <th>Dep. Variable:</th>         <td>gdp_yoy</td>     <th>  R-squared:         </th> <td>   0.266</td>\n",
       "</tr>\n",
       "<tr>\n",
       "  <th>Model:</th>                   <td>OLS</td>       <th>  Adj. R-squared:    </th> <td>   0.262</td>\n",
       "</tr>\n",
       "<tr>\n",
       "  <th>Method:</th>             <td>Least Squares</td>  <th>  F-statistic:       </th> <td>   18.45</td>\n",
       "</tr>\n",
       "<tr>\n",
       "  <th>Date:</th>             <td>Wed, 15 Mar 2023</td> <th>  Prob (F-statistic):</th> <td>1.87e-11</td>\n",
       "</tr>\n",
       "<tr>\n",
       "  <th>Time:</th>                 <td>09:49:10</td>     <th>  Log-Likelihood:    </th> <td> -118.14</td>\n",
       "</tr>\n",
       "<tr>\n",
       "  <th>No. Observations:</th>      <td>   595</td>      <th>  AIC:               </th> <td>   244.3</td>\n",
       "</tr>\n",
       "<tr>\n",
       "  <th>Df Residuals:</th>          <td>   591</td>      <th>  BIC:               </th> <td>   261.8</td>\n",
       "</tr>\n",
       "<tr>\n",
       "  <th>Df Model:</th>              <td>     3</td>      <th>                     </th>     <td> </td>   \n",
       "</tr>\n",
       "<tr>\n",
       "  <th>Covariance Type:</th>         <td>HAC</td>       <th>                     </th>     <td> </td>   \n",
       "</tr>\n",
       "</table>\n",
       "<table class=\"simpletable\">\n",
       "<tr>\n",
       "    <td></td>       <th>coef</th>     <th>std err</th>      <th>z</th>      <th>P>|z|</th>  <th>[0.025</th>    <th>0.975]</th>  \n",
       "</tr>\n",
       "<tr>\n",
       "  <th>const</th> <td>    0.3823</td> <td>    0.076</td> <td>    5.011</td> <td> 0.000</td> <td>    0.233</td> <td>    0.532</td>\n",
       "</tr>\n",
       "<tr>\n",
       "  <th>defy</th>  <td>  -39.8441</td> <td>    5.437</td> <td>   -7.328</td> <td> 0.000</td> <td>  -50.500</td> <td>  -29.188</td>\n",
       "</tr>\n",
       "<tr>\n",
       "  <th>termy</th> <td>   10.8405</td> <td>    3.176</td> <td>    3.413</td> <td> 0.001</td> <td>    4.615</td> <td>   17.066</td>\n",
       "</tr>\n",
       "<tr>\n",
       "  <th>rf</th>    <td>   56.5017</td> <td>   15.131</td> <td>    3.734</td> <td> 0.000</td> <td>   26.846</td> <td>   86.158</td>\n",
       "</tr>\n",
       "</table>\n",
       "<table class=\"simpletable\">\n",
       "<tr>\n",
       "  <th>Omnibus:</th>       <td>318.535</td> <th>  Durbin-Watson:     </th> <td>   0.181</td>\n",
       "</tr>\n",
       "<tr>\n",
       "  <th>Prob(Omnibus):</th> <td> 0.000</td>  <th>  Jarque-Bera (JB):  </th> <td>3526.510</td>\n",
       "</tr>\n",
       "<tr>\n",
       "  <th>Skew:</th>          <td>-2.124</td>  <th>  Prob(JB):          </th> <td>    0.00</td>\n",
       "</tr>\n",
       "<tr>\n",
       "  <th>Kurtosis:</th>      <td>14.145</td>  <th>  Cond. No.          </th> <td>    467.</td>\n",
       "</tr>\n",
       "</table><br/><br/>Notes:<br/>[1] Standard Errors are heteroscedasticity and autocorrelation robust (HAC) using 3 lags and without small sample correction"
      ],
      "text/plain": [
       "<class 'statsmodels.iolib.summary.Summary'>\n",
       "\"\"\"\n",
       "                            OLS Regression Results                            \n",
       "==============================================================================\n",
       "Dep. Variable:                gdp_yoy   R-squared:                       0.266\n",
       "Model:                            OLS   Adj. R-squared:                  0.262\n",
       "Method:                 Least Squares   F-statistic:                     18.45\n",
       "Date:                Wed, 15 Mar 2023   Prob (F-statistic):           1.87e-11\n",
       "Time:                        09:49:10   Log-Likelihood:                -118.14\n",
       "No. Observations:                 595   AIC:                             244.3\n",
       "Df Residuals:                     591   BIC:                             261.8\n",
       "Df Model:                           3                                         \n",
       "Covariance Type:                  HAC                                         \n",
       "==============================================================================\n",
       "                 coef    std err          z      P>|z|      [0.025      0.975]\n",
       "------------------------------------------------------------------------------\n",
       "const          0.3823      0.076      5.011      0.000       0.233       0.532\n",
       "defy         -39.8441      5.437     -7.328      0.000     -50.500     -29.188\n",
       "termy         10.8405      3.176      3.413      0.001       4.615      17.066\n",
       "rf            56.5017     15.131      3.734      0.000      26.846      86.158\n",
       "==============================================================================\n",
       "Omnibus:                      318.535   Durbin-Watson:                   0.181\n",
       "Prob(Omnibus):                  0.000   Jarque-Bera (JB):             3526.510\n",
       "Skew:                          -2.124   Prob(JB):                         0.00\n",
       "Kurtosis:                      14.145   Cond. No.                         467.\n",
       "==============================================================================\n",
       "\n",
       "Notes:\n",
       "[1] Standard Errors are heteroscedasticity and autocorrelation robust (HAC) using 3 lags and without small sample correction\n",
       "\"\"\""
      ]
     },
     "execution_count": 15,
     "metadata": {},
     "output_type": "execute_result"
    }
   ],
   "source": [
    "# Model with test asset betas equal to 0\n",
    "control_model = sm.OLS(gdp['gdp_yoy'].loc['1973-04':].iloc[2:], \n",
    "                      sm.add_constant(predictors.iloc[:,-3:].shift(2).dropna())) \\\n",
    "                       .fit(cov_type='HAC', cov_kwds={'maxlags':3})\n",
    "control_model.summary()"
   ]
  },
  {
   "cell_type": "code",
   "execution_count": 23,
   "id": "0608a530-ff6d-422d-957b-8ab4b2d83ef5",
   "metadata": {},
   "outputs": [
    {
     "data": {
      "text/plain": [
       "<class 'statsmodels.stats.contrast.ContrastResults'>\n",
       "<Wald test (chi2): statistic=55.35752618897715, p-value=5.7601962441040665e-12, df_denom=3>"
      ]
     },
     "execution_count": 23,
     "metadata": {},
     "output_type": "execute_result"
    }
   ],
   "source": [
    "# Wald Test for joint significance\n",
    "coeffs_0 = [x + '=0' for x in predictors.iloc[:,-3:].shift(2).dropna()]\n",
    "control_model.wald_test(','.join(coeffs_0), scalar=True, use_f=False)"
   ]
  },
  {
   "cell_type": "markdown",
   "id": "15f6f956-1cd5-4e5f-8ab5-15db08534e3a",
   "metadata": {},
   "source": [
    "### CPI"
   ]
  },
  {
   "cell_type": "code",
   "execution_count": 139,
   "id": "a45a7f4e-cc73-40a1-bddd-64db27a8df12",
   "metadata": {},
   "outputs": [
    {
     "data": {
      "text/html": [
       "<table class=\"simpletable\">\n",
       "<caption>OLS Regression Results</caption>\n",
       "<tr>\n",
       "  <th>Dep. Variable:</th>         <td>cpi_yoy</td>     <th>  R-squared:         </th> <td>   0.495</td>\n",
       "</tr>\n",
       "<tr>\n",
       "  <th>Model:</th>                   <td>OLS</td>       <th>  Adj. R-squared:    </th> <td>   0.493</td>\n",
       "</tr>\n",
       "<tr>\n",
       "  <th>Method:</th>             <td>Least Squares</td>  <th>  F-statistic:       </th> <td>   50.68</td>\n",
       "</tr>\n",
       "<tr>\n",
       "  <th>Date:</th>             <td>Tue, 14 Mar 2023</td> <th>  Prob (F-statistic):</th> <td>3.62e-29</td>\n",
       "</tr>\n",
       "<tr>\n",
       "  <th>Time:</th>                 <td>19:39:58</td>     <th>  Log-Likelihood:    </th> <td>  1475.2</td>\n",
       "</tr>\n",
       "<tr>\n",
       "  <th>No. Observations:</th>      <td>   596</td>      <th>  AIC:               </th> <td>  -2942.</td>\n",
       "</tr>\n",
       "<tr>\n",
       "  <th>Df Residuals:</th>          <td>   592</td>      <th>  BIC:               </th> <td>  -2925.</td>\n",
       "</tr>\n",
       "<tr>\n",
       "  <th>Df Model:</th>              <td>     3</td>      <th>                     </th>     <td> </td>   \n",
       "</tr>\n",
       "<tr>\n",
       "  <th>Covariance Type:</th>         <td>HAC</td>       <th>                     </th>     <td> </td>   \n",
       "</tr>\n",
       "</table>\n",
       "<table class=\"simpletable\">\n",
       "<tr>\n",
       "    <td></td>       <th>coef</th>     <th>std err</th>      <th>z</th>      <th>P>|z|</th>  <th>[0.025</th>    <th>0.975]</th>  \n",
       "</tr>\n",
       "<tr>\n",
       "  <th>const</th> <td>    0.0216</td> <td>    0.006</td> <td>    3.913</td> <td> 0.000</td> <td>    0.011</td> <td>    0.032</td>\n",
       "</tr>\n",
       "<tr>\n",
       "  <th>defy</th>  <td>    0.6931</td> <td>    0.462</td> <td>    1.501</td> <td> 0.133</td> <td>   -0.212</td> <td>    1.598</td>\n",
       "</tr>\n",
       "<tr>\n",
       "  <th>termy</th> <td>   -0.6553</td> <td>    0.171</td> <td>   -3.827</td> <td> 0.000</td> <td>   -0.991</td> <td>   -0.320</td>\n",
       "</tr>\n",
       "<tr>\n",
       "  <th>rf</th>    <td>    4.8097</td> <td>    0.723</td> <td>    6.653</td> <td> 0.000</td> <td>    3.393</td> <td>    6.227</td>\n",
       "</tr>\n",
       "</table>\n",
       "<table class=\"simpletable\">\n",
       "<tr>\n",
       "  <th>Omnibus:</th>       <td>66.357</td> <th>  Durbin-Watson:     </th> <td>   0.081</td>\n",
       "</tr>\n",
       "<tr>\n",
       "  <th>Prob(Omnibus):</th> <td> 0.000</td> <th>  Jarque-Bera (JB):  </th> <td>  87.405</td>\n",
       "</tr>\n",
       "<tr>\n",
       "  <th>Skew:</th>          <td> 0.854</td> <th>  Prob(JB):          </th> <td>1.05e-19</td>\n",
       "</tr>\n",
       "<tr>\n",
       "  <th>Kurtosis:</th>      <td> 3.775</td> <th>  Cond. No.          </th> <td>    466.</td>\n",
       "</tr>\n",
       "</table><br/><br/>Notes:<br/>[1] Standard Errors are heteroscedasticity and autocorrelation robust (HAC) using 3 lags and without small sample correction"
      ],
      "text/plain": [
       "<class 'statsmodels.iolib.summary.Summary'>\n",
       "\"\"\"\n",
       "                            OLS Regression Results                            \n",
       "==============================================================================\n",
       "Dep. Variable:                cpi_yoy   R-squared:                       0.495\n",
       "Model:                            OLS   Adj. R-squared:                  0.493\n",
       "Method:                 Least Squares   F-statistic:                     50.68\n",
       "Date:                Tue, 14 Mar 2023   Prob (F-statistic):           3.62e-29\n",
       "Time:                        19:39:58   Log-Likelihood:                 1475.2\n",
       "No. Observations:                 596   AIC:                            -2942.\n",
       "Df Residuals:                     592   BIC:                            -2925.\n",
       "Df Model:                           3                                         \n",
       "Covariance Type:                  HAC                                         \n",
       "==============================================================================\n",
       "                 coef    std err          z      P>|z|      [0.025      0.975]\n",
       "------------------------------------------------------------------------------\n",
       "const          0.0216      0.006      3.913      0.000       0.011       0.032\n",
       "defy           0.6931      0.462      1.501      0.133      -0.212       1.598\n",
       "termy         -0.6553      0.171     -3.827      0.000      -0.991      -0.320\n",
       "rf             4.8097      0.723      6.653      0.000       3.393       6.227\n",
       "==============================================================================\n",
       "Omnibus:                       66.357   Durbin-Watson:                   0.081\n",
       "Prob(Omnibus):                  0.000   Jarque-Bera (JB):               87.405\n",
       "Skew:                           0.854   Prob(JB):                     1.05e-19\n",
       "Kurtosis:                       3.775   Cond. No.                         466.\n",
       "==============================================================================\n",
       "\n",
       "Notes:\n",
       "[1] Standard Errors are heteroscedasticity and autocorrelation robust (HAC) using 3 lags and without small sample correction\n",
       "\"\"\""
      ]
     },
     "execution_count": 139,
     "metadata": {},
     "output_type": "execute_result"
    }
   ],
   "source": [
    "# Model with test asset betas equal to 0\n",
    "control_model = sm.OLS(cpi['cpi_yoy'].loc['1973-04':].iloc[1:], \n",
    "                      sm.add_constant(predictors.iloc[:,-3:].shift(1).dropna())) \\\n",
    "                       .fit(cov_type='HAC', cov_kwds={'maxlags':3})\n",
    "control_model.summary()"
   ]
  },
  {
   "cell_type": "markdown",
   "id": "8f256a0b-ef52-4204-99f2-c28d35a17992",
   "metadata": {},
   "source": [
    "### Systems Estimation"
   ]
  },
  {
   "cell_type": "code",
   "execution_count": 186,
   "id": "f420b673-83f4-4f2c-8611-1f320774da52",
   "metadata": {},
   "outputs": [],
   "source": [
    "from linearmodels.system.model import SUR"
   ]
  },
  {
   "cell_type": "code",
   "execution_count": 164,
   "id": "4a56e6e7-2ec3-4248-8d65-85e9848e313e",
   "metadata": {},
   "outputs": [],
   "source": [
    "# GDP and CPI Stacked\n",
    "y = pd.merge(cpi['cpi_yoy'], gdp['gdp_yoy'], left_index=True, right_index=True).loc['1973-04':].iloc[1:]\n",
    "X = sm.add_constant(predictors.iloc[:,-3:].shift(1).dropna())"
   ]
  },
  {
   "cell_type": "code",
   "execution_count": 181,
   "id": "e9210891-2656-441d-be91-5fc2ee2110b8",
   "metadata": {},
   "outputs": [],
   "source": [
    "model = SUR.multivariate_ls(y, X).fit(cov_type='kernel', kernel='bartlett',bandwidth=3)"
   ]
  },
  {
   "cell_type": "code",
   "execution_count": 182,
   "id": "1f4e62d9-10dd-40f0-ab7e-785db3e7a0bc",
   "metadata": {},
   "outputs": [
    {
     "name": "stdout",
     "output_type": "stream",
     "text": [
      "                           System OLS Estimation Summary                           \n",
      "===================================================================================\n",
      "Estimator:                        OLS   Overall R-squared:                   0.2818\n",
      "No. Equations.:                     2   McElroy's R-squared:                 0.4092\n",
      "No. Observations:                 596   Judge's (OLS) R-squared:             0.2818\n",
      "Date:                Tue, Mar 14 2023   Berndt's R-squared:                  0.6385\n",
      "Time:                        20:18:30   Dhrymes's R-squared:                 0.2818\n",
      "                                        Cov. Estimator:                      kernel\n",
      "                                        Num. Constraints:                      None\n",
      "                Equation: cpi_yoy, Dependent Variable: cpi_yoy                \n",
      "==============================================================================\n",
      "            Parameter  Std. Err.     T-stat    P-value    Lower CI    Upper CI\n",
      "------------------------------------------------------------------------------\n",
      "const          0.0216     0.0055     3.9126     0.0001      0.0108      0.0325\n",
      "defy           0.6931     0.4619     1.5006     0.1335     -0.2122      1.5984\n",
      "termy         -0.6553     0.1712    -3.8268     0.0001     -0.9909     -0.3197\n",
      "rf             4.8097     0.7229     6.6530     0.0000      3.3928      6.2267\n",
      "                Equation: gdp_yoy, Dependent Variable: gdp_yoy                \n",
      "==============================================================================\n",
      "            Parameter  Std. Err.     T-stat    P-value    Lower CI    Upper CI\n",
      "------------------------------------------------------------------------------\n",
      "const          0.4084     0.0737     5.5447     0.0000      0.2640      0.5528\n",
      "defy          -41.334     5.7695    -7.1642     0.0000     -52.642     -30.026\n",
      "termy          9.8014     3.1347     3.1267     0.0018      3.6575      15.945\n",
      "rf             57.357     15.342     3.7385     0.0002      27.287      87.428\n",
      "==============================================================================\n",
      "\n",
      "Covariance Estimator:\n",
      "Kernel (HAC) Covariance (Debiased: False, GLS: False, Kernel: bartlett)\n"
     ]
    }
   ],
   "source": [
    "print(model)"
   ]
  },
  {
   "cell_type": "code",
   "execution_count": null,
   "id": "255d5232-0f36-4e94-b3fe-f266725b390e",
   "metadata": {},
   "outputs": [],
   "source": []
  }
 ],
 "metadata": {
  "kernelspec": {
   "display_name": "Python 3 (ipykernel)",
   "language": "python",
   "name": "python3"
  },
  "language_info": {
   "codemirror_mode": {
    "name": "ipython",
    "version": 3
   },
   "file_extension": ".py",
   "mimetype": "text/x-python",
   "name": "python",
   "nbconvert_exporter": "python",
   "pygments_lexer": "ipython3",
   "version": "3.9.12"
  }
 },
 "nbformat": 4,
 "nbformat_minor": 5
}
